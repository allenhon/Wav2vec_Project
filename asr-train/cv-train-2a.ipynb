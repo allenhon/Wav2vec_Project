{
 "cells": [
  {
   "cell_type": "code",
   "execution_count": 1,
   "metadata": {},
   "outputs": [],
   "source": [
    "import os\n",
    "os.environ[\"PYTORCH_ENABLE_MPS_FALLBACK\"]=\"1\" "
   ]
  },
  {
   "cell_type": "code",
   "execution_count": 2,
   "metadata": {},
   "outputs": [
    {
     "name": "stderr",
     "output_type": "stream",
     "text": [
      "/Users/allen/Documents/Wav2vec_Project/.venv/lib/python3.9/site-packages/urllib3/__init__.py:35: NotOpenSSLWarning: urllib3 v2 only supports OpenSSL 1.1.1+, currently the 'ssl' module is compiled with 'LibreSSL 2.8.3'. See: https://github.com/urllib3/urllib3/issues/3020\n",
      "  warnings.warn(\n",
      "/Users/allen/Documents/Wav2vec_Project/.venv/lib/python3.9/site-packages/tqdm/auto.py:21: TqdmWarning: IProgress not found. Please update jupyter and ipywidgets. See https://ipywidgets.readthedocs.io/en/stable/user_install.html\n",
      "  from .autonotebook import tqdm as notebook_tqdm\n"
     ]
    }
   ],
   "source": [
    "from datasets import load_dataset\n",
    "\n",
    "metadata_file = \"/Users/allen/Documents/Wav2vec_Project/asr/common_voice/cv-valid-train-downsampled.csv\"\n",
    "dataset = load_dataset(\"audiofolder\", data_dir=\"/Users/allen/Documents/Wav2vec_Project/asr/common_voice/wav-files/\", drop_metadata=False)"
   ]
  },
  {
   "cell_type": "code",
   "execution_count": 3,
   "metadata": {},
   "outputs": [],
   "source": [
    "import pandas as pd \n",
    "metadata= pd.read_csv(metadata_file)\n",
    "metadata['filename'] = metadata['filename'].str.replace(\n",
    "    'cv-valid-train/', ''\n",
    ").str.replace(\n",
    "    '.mp3', '.wav'\n",
    ")"
   ]
  },
  {
   "cell_type": "code",
   "execution_count": 4,
   "metadata": {},
   "outputs": [
    {
     "name": "stdout",
     "output_type": "stream",
     "text": [
      "              filename                                               text  \\\n",
      "0    sample-182715.wav  the fine manufacturing company was a bookkeepe...   \n",
      "1    sample-114956.wav  the mixture took on a reddish color almost the...   \n",
      "2    sample-139880.wav                                enough said the boy   \n",
      "3    sample-034538.wav  then he sat in the sunfilled doorway smoking t...   \n",
      "4    sample-142907.wav  i've just guaranteed the bank sufficient funds...   \n",
      "..                 ...                                                ...   \n",
      "191  sample-042142.wav                                    you have no car   \n",
      "192  sample-110037.wav  they looked for the fallen mass but found nothing   \n",
      "193  sample-101888.wav     his way isn't the same as mine nor mine as his   \n",
      "194  sample-135316.wav                             he wasn't an alchemist   \n",
      "195  sample-034446.wav                              now look what you did   \n",
      "\n",
      "     up_votes  down_votes       age gender   accent  duration  \n",
      "0           2           0       NaN    NaN      NaN       NaN  \n",
      "1           1           0  fourties   male  england       NaN  \n",
      "2           1           0       NaN    NaN      NaN       NaN  \n",
      "3           2           1       NaN    NaN      NaN       NaN  \n",
      "4           1           0       NaN    NaN      NaN       NaN  \n",
      "..        ...         ...       ...    ...      ...       ...  \n",
      "191         2           0     teens   male       us       NaN  \n",
      "192         5           3       NaN    NaN      NaN       NaN  \n",
      "193         2           0       NaN    NaN      NaN       NaN  \n",
      "194        11           0       NaN    NaN      NaN       NaN  \n",
      "195         2           0       NaN    NaN      NaN       NaN  \n",
      "\n",
      "[196 rows x 8 columns]\n"
     ]
    }
   ],
   "source": [
    "print (metadata)"
   ]
  },
  {
   "cell_type": "code",
   "execution_count": 5,
   "metadata": {},
   "outputs": [],
   "source": [
    "def match_transcription(example):\n",
    "    # Extract just the filename from the audio path\n",
    "    audio_filename = example[\"audio\"][\"path\"].split(\"/\")[-1]\n",
    "    \n",
    "    # Find the matching transcription in the metadata\n",
    "    text_row = metadata[metadata[\"filename\"] == audio_filename]\n",
    "    print (audio_filename,text_row)\n",
    "    # Return the transcription if found, else return None\n",
    "    return {\"text\": text_row[\"text\"].iloc[0] if not text_row.empty else None,\"filepath\": example[\"audio\"][\"path\"] if not text_row.empty else None}\n",
    "dataset = dataset.map(match_transcription)"
   ]
  },
  {
   "cell_type": "code",
   "execution_count": 6,
   "metadata": {},
   "outputs": [],
   "source": [
    "# print (dataset['train']['audio'])"
   ]
  },
  {
   "cell_type": "code",
   "execution_count": 7,
   "metadata": {},
   "outputs": [
    {
     "name": "stdout",
     "output_type": "stream",
     "text": [
      "{'train': ['audio', 'text', 'filepath']}\n"
     ]
    }
   ],
   "source": [
    "print(dataset.column_names)"
   ]
  },
  {
   "cell_type": "code",
   "execution_count": 8,
   "metadata": {},
   "outputs": [
    {
     "name": "stdout",
     "output_type": "stream",
     "text": [
      "0    sample-182715.wav\n",
      "1    sample-114956.wav\n",
      "2    sample-139880.wav\n",
      "3    sample-034538.wav\n",
      "4    sample-142907.wav\n",
      "Name: filename, dtype: object\n"
     ]
    }
   ],
   "source": [
    "print(metadata[\"filename\"].head())  # Print the first few filenames"
   ]
  },
  {
   "cell_type": "code",
   "execution_count": 9,
   "metadata": {},
   "outputs": [
    {
     "name": "stdout",
     "output_type": "stream",
     "text": [
      "['the visual acuity is astonishing', 'how strange africa is thought the boy', 'until then he had considered the omens to be things of this world', 'i had seen all that it would presently bring me', 'my tax dollars pay for those public school proms']\n"
     ]
    }
   ],
   "source": [
    "print (dataset['train']['text'][:5])"
   ]
  },
  {
   "cell_type": "code",
   "execution_count": 10,
   "metadata": {},
   "outputs": [],
   "source": [
    "from datasets import Audio\n",
    "\n",
    "dataset = dataset.cast_column(\"audio\", Audio(sampling_rate=16_000)) ## resample to 16kHz for Wav2Vec2 for processing later. Wav2Vec2 only accepts 16kHz\n",
    "\n",
    "def preprocess(batch):\n",
    "    batch[\"input_values\"] = batch[\"audio\"][\"array\"]\n",
    "    batch[\"input_length\"] = len(batch[\"input_values\"])\n",
    "    return batch\n",
    "\n",
    "dataset = dataset.map(preprocess, remove_columns=[\"audio\"])"
   ]
  },
  {
   "cell_type": "markdown",
   "metadata": {},
   "source": [
    "For preprocessing, feature extraction, and tokenizing I used Wav2Vec2Processor."
   ]
  },
  {
   "cell_type": "code",
   "execution_count": 11,
   "metadata": {},
   "outputs": [
    {
     "name": "stderr",
     "output_type": "stream",
     "text": [
      "/Users/allen/Documents/Wav2vec_Project/.venv/lib/python3.9/site-packages/urllib3/__init__.py:35: NotOpenSSLWarning: urllib3 v2 only supports OpenSSL 1.1.1+, currently the 'ssl' module is compiled with 'LibreSSL 2.8.3'. See: https://github.com/urllib3/urllib3/issues/3020\n",
      "  warnings.warn(\n",
      "Some weights of Wav2Vec2ForCTC were not initialized from the model checkpoint at facebook/wav2vec2-large-960h and are newly initialized: ['wav2vec2.masked_spec_embed']\n",
      "You should probably TRAIN this model on a down-stream task to be able to use it for predictions and inference.\n"
     ]
    }
   ],
   "source": [
    "from transformers import Wav2Vec2Processor, Wav2Vec2ForCTC\n",
    "\n",
    "processor = Wav2Vec2Processor.from_pretrained(\"facebook/wav2vec2-large-960h\")\n",
    "model = Wav2Vec2ForCTC.from_pretrained(\"facebook/wav2vec2-large-960h\")"
   ]
  },
  {
   "cell_type": "markdown",
   "metadata": {},
   "source": [
    "Use the built in feature_extractor in Wav2Vec2Processor to ensure audio is sampled correctly."
   ]
  },
  {
   "cell_type": "code",
   "execution_count": 12,
   "metadata": {},
   "outputs": [
    {
     "name": "stdout",
     "output_type": "stream",
     "text": [
      "Wav2Vec2CTCTokenizer(name_or_path='facebook/wav2vec2-large-960h', vocab_size=32, model_max_length=1000000000000000019884624838656, is_fast=False, padding_side='right', truncation_side='right', special_tokens={'bos_token': '<s>', 'eos_token': '</s>', 'unk_token': '<unk>', 'pad_token': '<pad>'}, clean_up_tokenization_spaces=False, added_tokens_decoder={\n",
      "\t0: AddedToken(\"<pad>\", rstrip=True, lstrip=True, single_word=False, normalized=False, special=False),\n",
      "\t1: AddedToken(\"<s>\", rstrip=True, lstrip=True, single_word=False, normalized=False, special=False),\n",
      "\t2: AddedToken(\"</s>\", rstrip=True, lstrip=True, single_word=False, normalized=False, special=False),\n",
      "\t3: AddedToken(\"<unk>\", rstrip=True, lstrip=True, single_word=False, normalized=False, special=False),\n",
      "}\n",
      ")\n"
     ]
    }
   ],
   "source": [
    "## For the tokenizer, we can see that it is a character-level tokenizer with a vocab size of 32\n",
    "\n",
    "print (processor.tokenizer)"
   ]
  },
  {
   "cell_type": "code",
   "execution_count": 13,
   "metadata": {},
   "outputs": [],
   "source": [
    "import torch\n",
    "def prepare_dataset(batch):\n",
    "    # Process the audio input\n",
    "    audio = processor.feature_extractor(\n",
    "        batch[\"input_values\"], \n",
    "        sampling_rate=16_000,\n",
    "        return_attention_mask=False  \n",
    "    )\n",
    "    batch[\"input_values\"] = audio.input_values[0]\n",
    "\n",
    "    # Process the text target\n",
    "    with processor.as_target_processor():\n",
    "        text = processor.tokenizer(\n",
    "            batch[\"text\"], \n",
    "            return_attention_mask=False, \n",
    "            truncation=True \n",
    "        )\n",
    "        batch[\"labels\"] = text.input_ids\n",
    "\n",
    "    return batch\n",
    "\n",
    "dataset = dataset.map(prepare_dataset)"
   ]
  },
  {
   "cell_type": "markdown",
   "metadata": {},
   "source": [
    "Split the Dataset into a 70/30 Train-Test split."
   ]
  },
  {
   "cell_type": "code",
   "execution_count": 14,
   "metadata": {},
   "outputs": [],
   "source": [
    "train_test_split = dataset['train'].train_test_split(test_size=0.3)\n",
    "train_dataset = train_test_split['train']\n",
    "test_dataset = train_test_split['test']"
   ]
  },
  {
   "cell_type": "code",
   "execution_count": 15,
   "metadata": {},
   "outputs": [
    {
     "name": "stdout",
     "output_type": "stream",
     "text": [
      "Dataset({\n",
      "    features: ['text', 'filepath', 'input_values', 'input_length', 'labels'],\n",
      "    num_rows: 137\n",
      "}) Dataset({\n",
      "    features: ['text', 'filepath', 'input_values', 'input_length', 'labels'],\n",
      "    num_rows: 59\n",
      "})\n"
     ]
    }
   ],
   "source": [
    "print (train_dataset,test_dataset)"
   ]
  },
  {
   "cell_type": "code",
   "execution_count": 16,
   "metadata": {},
   "outputs": [
    {
     "name": "stdout",
     "output_type": "stream",
     "text": [
      "['it was seen early in the morning rushing over eastward', 'they said nothing else', 'i have a lunch date', \"i'm never more aware of a room's acoustics than when i'm trying to enjoy a snack i have no intention of sharing\", 'how strange africa is thought the boy', 'the simum blew that day as it had never blown before', 'he had suddenly remembered that in tarifa there was an old woman who interpreted dreams', 'the old man wore a breastplate of gold and he knew about my past', \"because we're the people and we're tough\", 'he disappeared into the tent', 'the drawer was stuck closed', 'my tax dollars pay for those public school proms', \"he thought of the merchant's daughter and was sure that she had probably married\", 'then he realized that he had been distracted for a few moments looking at the sword', 'the thought was so dreadful to him that he forgot about the heat and went forward', 'the boy continued to listen to his heart as they crossed the desert', \"but then they wouldn't be a part of your future the seer had said\", 'it had a diameter of about thirty yards', 'there was hardly any movement from the pit', 'nobody knows where she got it', 'in a way so am i he said', \"that's some hat you got on there\", 'all things are one the boy thought', 'they looked for the fallen mass but found nothing', 'even then he hardly understood what this meant', 'the caravan would be very lucky to reach the oasis', 'sit down and let me treat you to something said the boy', 'beat it out and get hold of some guys', 'everyone when they are young knows what their destiny is', 'the camel drivers exchanged information about windstorms and told stories about the desert', 'all ways led to the same destination', 'it may be the gases of the firing that caused the martians inconvenience', 'i was never so tired in my life', \"i don't know how to turn them into reality\", 'and then he perceived it very slowly', \"i'd like to join but nobody asked me\", 'he picked up the two stones and put them back in his pouch', \"it'd be too late\", 'your husband must have been in a great hurry', \"i just don't trust anyone who says they've never had hamburger helper\", 'he did find it soon after dawn and not far from the sand pits', 'the secret is here in the present', 'it was only when i got this close to it that the strangeness of it was at all evident to me', 'how to avoid a massive dieoff of the colony', 'should i understand the emerald tablet the boy asked', \"but he certainly didn't desire that an army invade the oasis\", 'some of those who saw its flight say it travelled with a hissing sound', 'the path through the forest was unlit and scary', 'because you will never again be able to keep it quiet', 'would you like a stamp', 'the only things that concerned the sheep were food and water', \"the time must have been somewhere around six o'clock\", 'i have had the same dream twice he said', 'something inside the cylinder was unscrewing the top', 'we were all made by the same hand and we have the same soul', \"i will be meeting my brother's daughter to take the ferry to vashon for a few days\", 'all they ever do really is look for food and water', 'it was such a gradual movement that he found it only by noticing the dots', \"then what's a big political boss like shiela daniels doing in town\", 'when he saw henderson in his garden he called over the fence and made himself understood', \"but i'm going to egypt the boy said\", 'but he granted the travelers three days', 'and he knew that egypt was in africa', 'so that those who have the responsibility for understanding can understand he said', 'but i found it difficult to get to work because of the investigations', 'had our instruments permitted it we might have been able to see the trouble way back when', \"but they don't count\", 'scattered groups of people were hurrying from the direction of woking', 'it seemed to him that it fell to earth about one hundred miles east of here', 'the stranger placed his sword in its scabbard and the boy relaxed', 'i need it to get to the pyramids he said', \"i'm interested only in the present\", 'his girlfriend always has cold feet in the morning', 'the heather was on fire and you could see a thin blue smoke rising up slowly', \"he wasn't an alchemist\", 'besides that there was a heap of bicycles', 'just for the first year', 'and the names of the people involved were very difficult to pronounce', 'he disappeared into the tent', 'but the boy was too frightened to listen to words of wisdom', 'love is the force that transforms and improves the soul of the world', 'and stop threatening that boy', 'of course the two were unable to do anything', \"the boy noticed that the man's clothing was strange\", 'rest well tonight as if you were a warrior preparing for combat', 'i locked eyes with a fish in the tank', 'can i get a woot woot', 'he paused for a moment to see if the woman knew what the egyptian pyramids were', 'that night there was another jetting out of gas from the distant planet', 'that night there was another jetting out of gas from the distant planet', 'will you give me your blessing asked the boy', \"i'm going to live a normal life and have a home\", 'when you play cards the first time you are almost sure to win', 'come in and see me in my office tomorrow', \"the englishman's eyes lit up\", 'there are rumors of tribal wars he told them', 'i need some time to think', 'i myself heard nothing of that', 'night fell and an assortment of fighting men and merchants entered and exited the tent', \"it spread through the planet's atmosphere and obscured its more familiar features\", 'he carried two dead hawks over his shoulder', 'she went looking for you with uncle greg', 'the boy began again to read his book but he was no longer able to concentrate', 'first i gotta tell her what news to get', \"i'll be right there\", 'they formed heaps that are visible a mile and a half away', 'it had a diameter of about thirty yards', 'the visual acuity is astonishing', \"they're not worth much the englishman answered\", 'and they attacked an empty tent', \"don't you know that girl's very sick\", 'no doubt the impact had caused a flash of fire', \"only it'll be a lot easier with you\", \"maybe they're like me\", 'back into the excavation', \"i'm a desert woman and i'm proud of that\", 'then he sat in the sunfilled doorway smoking the hookah', 'the fine manufacturing company was a bookkeeper for fourteen years', 'but the tradition also says that we should believe the messages of the desert', 'and one or two persons were returning', 'do you have anything to eat', 'what a reception they got', 'the boy was also saddened his friend was in pursuit of his destiny', 'men have never understood the words of the wise', 'you knew the whole story', 'he wanted to say so to the alchemist but he was afraid of the man', 'he wanted your money he said', \"now the moon's out\", \"so it's better to listen to what it has to say\", 'air was either entering or escaping at the rim with a thin sizzling sound', 'mecca is a lot farther away than the pyramids', \"i've just guaranteed the bank sufficient funds to meet their needs\", \"i guess i've seen everything now\", \"you're looking for witch doctors he spoke some verses from the koran and moved on\", 'among these people were a couple of cyclists a gardener i employed sometimes and a girl carrying a baby', 'enough said the boy', 'this is unfair']\n",
      "['/Users/allen/Documents/Wav2vec_Project/asr/common_voice/wav-files/train/sample-015919.wav', '/Users/allen/Documents/Wav2vec_Project/asr/common_voice/wav-files/train/sample-042289.wav', '/Users/allen/Documents/Wav2vec_Project/asr/common_voice/wav-files/train/sample-112401.wav', '/Users/allen/Documents/Wav2vec_Project/asr/common_voice/wav-files/train/sample-036461.wav', '/Users/allen/Documents/Wav2vec_Project/asr/common_voice/wav-files/train/sample-001550.wav', '/Users/allen/Documents/Wav2vec_Project/asr/common_voice/wav-files/train/sample-120970.wav', '/Users/allen/Documents/Wav2vec_Project/asr/common_voice/wav-files/train/sample-149509.wav', '/Users/allen/Documents/Wav2vec_Project/asr/common_voice/wav-files/train/sample-043994.wav', '/Users/allen/Documents/Wav2vec_Project/asr/common_voice/wav-files/train/sample-031221.wav', '/Users/allen/Documents/Wav2vec_Project/asr/common_voice/wav-files/train/sample-028097.wav', '/Users/allen/Documents/Wav2vec_Project/asr/common_voice/wav-files/train/sample-016653.wav', '/Users/allen/Documents/Wav2vec_Project/asr/common_voice/wav-files/train/sample-003800.wav', '/Users/allen/Documents/Wav2vec_Project/asr/common_voice/wav-files/train/sample-158755.wav', '/Users/allen/Documents/Wav2vec_Project/asr/common_voice/wav-files/train/sample-148835.wav', '/Users/allen/Documents/Wav2vec_Project/asr/common_voice/wav-files/train/sample-112834.wav', '/Users/allen/Documents/Wav2vec_Project/asr/common_voice/wav-files/train/sample-188416.wav', '/Users/allen/Documents/Wav2vec_Project/asr/common_voice/wav-files/train/sample-157601.wav', '/Users/allen/Documents/Wav2vec_Project/asr/common_voice/wav-files/train/sample-080336.wav', '/Users/allen/Documents/Wav2vec_Project/asr/common_voice/wav-files/train/sample-052431.wav', '/Users/allen/Documents/Wav2vec_Project/asr/common_voice/wav-files/train/sample-149354.wav', '/Users/allen/Documents/Wav2vec_Project/asr/common_voice/wav-files/train/sample-073571.wav', '/Users/allen/Documents/Wav2vec_Project/asr/common_voice/wav-files/train/sample-110835.wav', '/Users/allen/Documents/Wav2vec_Project/asr/common_voice/wav-files/train/sample-128509.wav', '/Users/allen/Documents/Wav2vec_Project/asr/common_voice/wav-files/train/sample-110037.wav', '/Users/allen/Documents/Wav2vec_Project/asr/common_voice/wav-files/train/sample-153468.wav', '/Users/allen/Documents/Wav2vec_Project/asr/common_voice/wav-files/train/sample-039722.wav', '/Users/allen/Documents/Wav2vec_Project/asr/common_voice/wav-files/train/sample-014670.wav', '/Users/allen/Documents/Wav2vec_Project/asr/common_voice/wav-files/train/sample-046948.wav', '/Users/allen/Documents/Wav2vec_Project/asr/common_voice/wav-files/train/sample-189898.wav', '/Users/allen/Documents/Wav2vec_Project/asr/common_voice/wav-files/train/sample-056341.wav', '/Users/allen/Documents/Wav2vec_Project/asr/common_voice/wav-files/train/sample-161748.wav', '/Users/allen/Documents/Wav2vec_Project/asr/common_voice/wav-files/train/sample-178890.wav', '/Users/allen/Documents/Wav2vec_Project/asr/common_voice/wav-files/train/sample-094424.wav', '/Users/allen/Documents/Wav2vec_Project/asr/common_voice/wav-files/train/sample-171376.wav', '/Users/allen/Documents/Wav2vec_Project/asr/common_voice/wav-files/train/sample-016897.wav', '/Users/allen/Documents/Wav2vec_Project/asr/common_voice/wav-files/train/sample-132709.wav', '/Users/allen/Documents/Wav2vec_Project/asr/common_voice/wav-files/train/sample-080130.wav', '/Users/allen/Documents/Wav2vec_Project/asr/common_voice/wav-files/train/sample-007832.wav', '/Users/allen/Documents/Wav2vec_Project/asr/common_voice/wav-files/train/sample-158347.wav', '/Users/allen/Documents/Wav2vec_Project/asr/common_voice/wav-files/train/sample-095713.wav', '/Users/allen/Documents/Wav2vec_Project/asr/common_voice/wav-files/train/sample-103087.wav', '/Users/allen/Documents/Wav2vec_Project/asr/common_voice/wav-files/train/sample-101529.wav', '/Users/allen/Documents/Wav2vec_Project/asr/common_voice/wav-files/train/sample-174283.wav', '/Users/allen/Documents/Wav2vec_Project/asr/common_voice/wav-files/train/sample-019081.wav', '/Users/allen/Documents/Wav2vec_Project/asr/common_voice/wav-files/train/sample-018901.wav', '/Users/allen/Documents/Wav2vec_Project/asr/common_voice/wav-files/train/sample-107910.wav', '/Users/allen/Documents/Wav2vec_Project/asr/common_voice/wav-files/train/sample-085307.wav', '/Users/allen/Documents/Wav2vec_Project/asr/common_voice/wav-files/train/sample-126179.wav', '/Users/allen/Documents/Wav2vec_Project/asr/common_voice/wav-files/train/sample-032425.wav', '/Users/allen/Documents/Wav2vec_Project/asr/common_voice/wav-files/train/sample-193241.wav', '/Users/allen/Documents/Wav2vec_Project/asr/common_voice/wav-files/train/sample-159478.wav', '/Users/allen/Documents/Wav2vec_Project/asr/common_voice/wav-files/train/sample-170022.wav', '/Users/allen/Documents/Wav2vec_Project/asr/common_voice/wav-files/train/sample-170311.wav', '/Users/allen/Documents/Wav2vec_Project/asr/common_voice/wav-files/train/sample-186764.wav', '/Users/allen/Documents/Wav2vec_Project/asr/common_voice/wav-files/train/sample-186634.wav', '/Users/allen/Documents/Wav2vec_Project/asr/common_voice/wav-files/train/sample-013656.wav', '/Users/allen/Documents/Wav2vec_Project/asr/common_voice/wav-files/train/sample-055268.wav', '/Users/allen/Documents/Wav2vec_Project/asr/common_voice/wav-files/train/sample-149067.wav', '/Users/allen/Documents/Wav2vec_Project/asr/common_voice/wav-files/train/sample-006526.wav', '/Users/allen/Documents/Wav2vec_Project/asr/common_voice/wav-files/train/sample-129584.wav', '/Users/allen/Documents/Wav2vec_Project/asr/common_voice/wav-files/train/sample-159635.wav', '/Users/allen/Documents/Wav2vec_Project/asr/common_voice/wav-files/train/sample-165342.wav', '/Users/allen/Documents/Wav2vec_Project/asr/common_voice/wav-files/train/sample-135331.wav', '/Users/allen/Documents/Wav2vec_Project/asr/common_voice/wav-files/train/sample-130801.wav', '/Users/allen/Documents/Wav2vec_Project/asr/common_voice/wav-files/train/sample-150247.wav', '/Users/allen/Documents/Wav2vec_Project/asr/common_voice/wav-files/train/sample-051530.wav', '/Users/allen/Documents/Wav2vec_Project/asr/common_voice/wav-files/train/sample-112948.wav', '/Users/allen/Documents/Wav2vec_Project/asr/common_voice/wav-files/train/sample-056548.wav', '/Users/allen/Documents/Wav2vec_Project/asr/common_voice/wav-files/train/sample-085303.wav', '/Users/allen/Documents/Wav2vec_Project/asr/common_voice/wav-files/train/sample-142056.wav', '/Users/allen/Documents/Wav2vec_Project/asr/common_voice/wav-files/train/sample-106418.wav', '/Users/allen/Documents/Wav2vec_Project/asr/common_voice/wav-files/train/sample-144924.wav', '/Users/allen/Documents/Wav2vec_Project/asr/common_voice/wav-files/train/sample-102298.wav', '/Users/allen/Documents/Wav2vec_Project/asr/common_voice/wav-files/train/sample-072734.wav', '/Users/allen/Documents/Wav2vec_Project/asr/common_voice/wav-files/train/sample-135316.wav', '/Users/allen/Documents/Wav2vec_Project/asr/common_voice/wav-files/train/sample-128735.wav', '/Users/allen/Documents/Wav2vec_Project/asr/common_voice/wav-files/train/sample-121053.wav', '/Users/allen/Documents/Wav2vec_Project/asr/common_voice/wav-files/train/sample-116974.wav', '/Users/allen/Documents/Wav2vec_Project/asr/common_voice/wav-files/train/sample-009473.wav', '/Users/allen/Documents/Wav2vec_Project/asr/common_voice/wav-files/train/sample-010748.wav', '/Users/allen/Documents/Wav2vec_Project/asr/common_voice/wav-files/train/sample-048753.wav', '/Users/allen/Documents/Wav2vec_Project/asr/common_voice/wav-files/train/sample-054567.wav', '/Users/allen/Documents/Wav2vec_Project/asr/common_voice/wav-files/train/sample-109163.wav', '/Users/allen/Documents/Wav2vec_Project/asr/common_voice/wav-files/train/sample-180967.wav', '/Users/allen/Documents/Wav2vec_Project/asr/common_voice/wav-files/train/sample-031597.wav', '/Users/allen/Documents/Wav2vec_Project/asr/common_voice/wav-files/train/sample-021054.wav', '/Users/allen/Documents/Wav2vec_Project/asr/common_voice/wav-files/train/sample-007722.wav', '/Users/allen/Documents/Wav2vec_Project/asr/common_voice/wav-files/train/sample-022898.wav', '/Users/allen/Documents/Wav2vec_Project/asr/common_voice/wav-files/train/sample-132090.wav', '/Users/allen/Documents/Wav2vec_Project/asr/common_voice/wav-files/train/sample-183133.wav', '/Users/allen/Documents/Wav2vec_Project/asr/common_voice/wav-files/train/sample-063819.wav', '/Users/allen/Documents/Wav2vec_Project/asr/common_voice/wav-files/train/sample-191678.wav', '/Users/allen/Documents/Wav2vec_Project/asr/common_voice/wav-files/train/sample-122198.wav', '/Users/allen/Documents/Wav2vec_Project/asr/common_voice/wav-files/train/sample-097992.wav', '/Users/allen/Documents/Wav2vec_Project/asr/common_voice/wav-files/train/sample-151928.wav', '/Users/allen/Documents/Wav2vec_Project/asr/common_voice/wav-files/train/sample-175889.wav', '/Users/allen/Documents/Wav2vec_Project/asr/common_voice/wav-files/train/sample-167069.wav', '/Users/allen/Documents/Wav2vec_Project/asr/common_voice/wav-files/train/sample-060571.wav', '/Users/allen/Documents/Wav2vec_Project/asr/common_voice/wav-files/train/sample-187625.wav', '/Users/allen/Documents/Wav2vec_Project/asr/common_voice/wav-files/train/sample-040858.wav', '/Users/allen/Documents/Wav2vec_Project/asr/common_voice/wav-files/train/sample-020238.wav', '/Users/allen/Documents/Wav2vec_Project/asr/common_voice/wav-files/train/sample-029766.wav', '/Users/allen/Documents/Wav2vec_Project/asr/common_voice/wav-files/train/sample-106253.wav', '/Users/allen/Documents/Wav2vec_Project/asr/common_voice/wav-files/train/sample-041518.wav', '/Users/allen/Documents/Wav2vec_Project/asr/common_voice/wav-files/train/sample-184475.wav', '/Users/allen/Documents/Wav2vec_Project/asr/common_voice/wav-files/train/sample-097700.wav', '/Users/allen/Documents/Wav2vec_Project/asr/common_voice/wav-files/train/sample-024612.wav', '/Users/allen/Documents/Wav2vec_Project/asr/common_voice/wav-files/train/sample-001344.wav', '/Users/allen/Documents/Wav2vec_Project/asr/common_voice/wav-files/train/sample-018801.wav', '/Users/allen/Documents/Wav2vec_Project/asr/common_voice/wav-files/train/sample-193257.wav', '/Users/allen/Documents/Wav2vec_Project/asr/common_voice/wav-files/train/sample-015996.wav', '/Users/allen/Documents/Wav2vec_Project/asr/common_voice/wav-files/train/sample-177315.wav', '/Users/allen/Documents/Wav2vec_Project/asr/common_voice/wav-files/train/sample-075580.wav', '/Users/allen/Documents/Wav2vec_Project/asr/common_voice/wav-files/train/sample-004380.wav', '/Users/allen/Documents/Wav2vec_Project/asr/common_voice/wav-files/train/sample-177660.wav', '/Users/allen/Documents/Wav2vec_Project/asr/common_voice/wav-files/train/sample-123277.wav', '/Users/allen/Documents/Wav2vec_Project/asr/common_voice/wav-files/train/sample-034538.wav', '/Users/allen/Documents/Wav2vec_Project/asr/common_voice/wav-files/train/sample-182715.wav', '/Users/allen/Documents/Wav2vec_Project/asr/common_voice/wav-files/train/sample-059670.wav', '/Users/allen/Documents/Wav2vec_Project/asr/common_voice/wav-files/train/sample-072206.wav', '/Users/allen/Documents/Wav2vec_Project/asr/common_voice/wav-files/train/sample-044753.wav', '/Users/allen/Documents/Wav2vec_Project/asr/common_voice/wav-files/train/sample-065499.wav', '/Users/allen/Documents/Wav2vec_Project/asr/common_voice/wav-files/train/sample-190024.wav', '/Users/allen/Documents/Wav2vec_Project/asr/common_voice/wav-files/train/sample-110080.wav', '/Users/allen/Documents/Wav2vec_Project/asr/common_voice/wav-files/train/sample-045931.wav', '/Users/allen/Documents/Wav2vec_Project/asr/common_voice/wav-files/train/sample-099706.wav', '/Users/allen/Documents/Wav2vec_Project/asr/common_voice/wav-files/train/sample-129747.wav', '/Users/allen/Documents/Wav2vec_Project/asr/common_voice/wav-files/train/sample-157461.wav', '/Users/allen/Documents/Wav2vec_Project/asr/common_voice/wav-files/train/sample-055949.wav', '/Users/allen/Documents/Wav2vec_Project/asr/common_voice/wav-files/train/sample-096781.wav', '/Users/allen/Documents/Wav2vec_Project/asr/common_voice/wav-files/train/sample-032375.wav', '/Users/allen/Documents/Wav2vec_Project/asr/common_voice/wav-files/train/sample-142907.wav', '/Users/allen/Documents/Wav2vec_Project/asr/common_voice/wav-files/train/sample-103614.wav', '/Users/allen/Documents/Wav2vec_Project/asr/common_voice/wav-files/train/sample-031409.wav', '/Users/allen/Documents/Wav2vec_Project/asr/common_voice/wav-files/train/sample-186785.wav', '/Users/allen/Documents/Wav2vec_Project/asr/common_voice/wav-files/train/sample-139880.wav', '/Users/allen/Documents/Wav2vec_Project/asr/common_voice/wav-files/train/sample-135076.wav']\n"
     ]
    },
    {
     "data": {
      "text/plain": [
       "Audio(sampling_rate='/Users/allen/Documents/Wav2vec_Project/asr/common_voice/wav-files/train/sample-015919.wav', mono=True, decode=True, id=None)"
      ]
     },
     "execution_count": 16,
     "metadata": {},
     "output_type": "execute_result"
    }
   ],
   "source": [
    "print (train_dataset['text'])\n",
    "print (train_dataset['filepath'])\n",
    "\n",
    "Audio(train_dataset['filepath'][0])"
   ]
  },
  {
   "cell_type": "code",
   "execution_count": 17,
   "metadata": {},
   "outputs": [],
   "source": [
    "from torch.nn.utils.rnn import pad_sequence\n",
    "\n",
    "# Set the device to CPU\n",
    "device = torch.device(\"cpu\")\n",
    "\n",
    "# Move the model and inputs to CPU\n",
    "model.to(device)\n",
    "# processor.to(device)\n",
    "\n",
    "class CustomDataCollatorCTCWithPadding:\n",
    "    def __init__(self, processor):\n",
    "        self.processor = processor\n",
    "\n",
    "    def __call__(self, features):\n",
    "        input_features = [torch.tensor(feature[\"input_values\"]) for feature in features]\n",
    "        label_features = [torch.tensor(feature[\"labels\"]) for feature in features]\n",
    "\n",
    "        input_features_padded = pad_sequence(input_features, batch_first=True, padding_value=self.processor.feature_extractor.padding_value)\n",
    "        labels_padded = pad_sequence(label_features, batch_first=True, padding_value=-100)\n",
    "        attention_masks = torch.zeros_like(input_features_padded).masked_fill(input_features_padded != self.processor.feature_extractor.padding_value, 1)\n",
    "\n",
    "        return {\n",
    "            \"input_values\": input_features_padded,\n",
    "            \"labels\": labels_padded,\n",
    "            \"attention_mask\": attention_masks\n",
    "        }\n",
    "\n",
    "data_collator = CustomDataCollatorCTCWithPadding(processor=processor)"
   ]
  },
  {
   "cell_type": "code",
   "execution_count": 18,
   "metadata": {},
   "outputs": [],
   "source": [
    "import jiwer\n",
    "import numpy as np\n",
    "\n",
    "def compute_metrics(pred):\n",
    "    pred_logits = pred.predictions\n",
    "    pred_ids = np.argmax(pred_logits, axis=-1)\n",
    "\n",
    "    pred.label_ids[pred.label_ids == -100] = processor.tokenizer.pad_token_id\n",
    "\n",
    "    pred_str = processor.batch_decode(pred_ids)\n",
    "    # we do not want to group tokens when computing the metrics\n",
    "    label_str = processor.batch_decode(pred.label_ids, group_tokens=False)\n",
    "    pred_str = [s.lower() for s in pred_str]\n",
    "    label_str = [s.lower() for s in label_str]\n",
    "\n",
    "    wer = jiwer.wer(label_str, pred_str)\n",
    "\n",
    "    return {\"wer\": wer}"
   ]
  },
  {
   "cell_type": "markdown",
   "metadata": {},
   "source": [
    "Here some hyperparameters and initialized. per_device_train_batch_size and per_device_eval_batch_size were set to 8 to avoid out of memory issues. For fine tuning, I've set the number of epochs to be 1 for a start. Higher number of epochs may lead to overfitting and there are some papers that show transfer learning on the wav2vec2 models are performant enough on a small number of epochs.\n",
    "\n",
    "By default the Optimizer used for fine tuning is AdamW. The learning rate of 2e-5 is just initialized."
   ]
  },
  {
   "cell_type": "code",
   "execution_count": 19,
   "metadata": {},
   "outputs": [
    {
     "name": "stderr",
     "output_type": "stream",
     "text": [
      "/Users/allen/Documents/Wav2vec_Project/.venv/lib/python3.9/site-packages/transformers/training_args.py:1575: FutureWarning: `evaluation_strategy` is deprecated and will be removed in version 4.46 of 🤗 Transformers. Use `eval_strategy` instead\n",
      "  warnings.warn(\n"
     ]
    }
   ],
   "source": [
    "from transformers import TrainingArguments\n",
    "\n",
    "training_args = TrainingArguments(\n",
    "    output_dir=\"./results\",\n",
    "    evaluation_strategy=\"epoch\",\n",
    "    save_strategy=\"epoch\",\n",
    "    logging_dir=\"./logs\",\n",
    "    logging_strategy=\"steps\",\n",
    "    per_device_train_batch_size=6, ## CHANGE\n",
    "    per_device_eval_batch_size=6, ## CHANGE\n",
    "    num_train_epochs=1, ## CHANGE!\n",
    "    save_total_limit=10,\n",
    "    bf16=True,  # Use bf16 instead of fp16 as I am on macOS\n",
    "    gradient_accumulation_steps=1, ## CHANGE TO 2 after debug\n",
    "    eval_accumulation_steps=1,\n",
    "    learning_rate=2e-5,\n",
    "    warmup_steps=2,\n",
    "    weight_decay=0.01,\n",
    "    logging_steps=2,\n",
    "    logging_first_step=True,\n",
    "    eval_steps=2,\n",
    "    save_steps=2,\n",
    "    push_to_hub=False,\n",
    "    remove_unused_columns=False,\n",
    ")"
   ]
  },
  {
   "cell_type": "code",
   "execution_count": 20,
   "metadata": {},
   "outputs": [
    {
     "name": "stderr",
     "output_type": "stream",
     "text": [
      "/var/folders/p8/j65kmwm10d3d5lgjzjydyntm0000gn/T/ipykernel_87842/1212053796.py:3: FutureWarning: `tokenizer` is deprecated and will be removed in version 5.0.0 for `Trainer.__init__`. Use `processing_class` instead.\n",
      "  trainer = Trainer(\n",
      "  0%|          | 0/23 [00:00<?, ?it/s]/Users/allen/Documents/Wav2vec_Project/.venv/lib/python3.9/site-packages/torch/nn/functional.py:2687: UserWarning: The operator 'aten::_ctc_loss' is not currently supported on the MPS backend and will fall back to run on the CPU. This may have performance implications. (Triggered internally at /Users/runner/work/pytorch/pytorch/pytorch/aten/src/ATen/mps/MPSFallback.mm:13.)\n",
      "  return torch.ctc_loss(\n",
      "  4%|▍         | 1/23 [00:03<01:14,  3.37s/it]"
     ]
    },
    {
     "name": "stdout",
     "output_type": "stream",
     "text": [
      "{'loss': 7291.3867, 'grad_norm': 62636.87109375, 'learning_rate': 1e-05, 'epoch': 0.04}\n"
     ]
    },
    {
     "name": "stderr",
     "output_type": "stream",
     "text": [
      "  9%|▊         | 2/23 [00:04<00:48,  2.32s/it]"
     ]
    },
    {
     "name": "stdout",
     "output_type": "stream",
     "text": [
      "{'loss': 8108.3213, 'grad_norm': 81509.9765625, 'learning_rate': 2e-05, 'epoch': 0.09}\n"
     ]
    },
    {
     "name": "stderr",
     "output_type": "stream",
     "text": [
      " 17%|█▋        | 4/23 [02:11<15:55, 50.30s/it]"
     ]
    },
    {
     "name": "stdout",
     "output_type": "stream",
     "text": [
      "{'loss': 6958.627, 'grad_norm': 63618.50390625, 'learning_rate': 1.8095238095238097e-05, 'epoch': 0.17}\n"
     ]
    },
    {
     "name": "stderr",
     "output_type": "stream",
     "text": [
      " 26%|██▌       | 6/23 [06:15<26:17, 92.81s/it]"
     ]
    },
    {
     "name": "stdout",
     "output_type": "stream",
     "text": [
      "{'loss': 5562.75, 'grad_norm': 48723.1484375, 'learning_rate': 1.6190476190476193e-05, 'epoch': 0.26}\n"
     ]
    },
    {
     "name": "stderr",
     "output_type": "stream",
     "text": [
      " 35%|███▍      | 8/23 [07:32<16:35, 66.39s/it]"
     ]
    },
    {
     "name": "stdout",
     "output_type": "stream",
     "text": [
      "{'loss': 4579.9844, 'grad_norm': 177417.046875, 'learning_rate': 1.4285714285714287e-05, 'epoch': 0.35}\n"
     ]
    },
    {
     "name": "stderr",
     "output_type": "stream",
     "text": [
      " 43%|████▎     | 10/23 [07:48<07:47, 35.93s/it]"
     ]
    },
    {
     "name": "stdout",
     "output_type": "stream",
     "text": [
      "{'loss': 4768.7788, 'grad_norm': 24588.365234375, 'learning_rate': 1.2380952380952383e-05, 'epoch': 0.43}\n"
     ]
    },
    {
     "name": "stderr",
     "output_type": "stream",
     "text": [
      " 52%|█████▏    | 12/23 [07:53<03:23, 18.48s/it]"
     ]
    },
    {
     "name": "stdout",
     "output_type": "stream",
     "text": [
      "{'loss': 4004.3003, 'grad_norm': 29964.53515625, 'learning_rate': 1.0476190476190477e-05, 'epoch': 0.52}\n"
     ]
    },
    {
     "name": "stderr",
     "output_type": "stream",
     "text": [
      " 61%|██████    | 14/23 [07:58<01:32, 10.30s/it]"
     ]
    },
    {
     "name": "stdout",
     "output_type": "stream",
     "text": [
      "{'loss': 3912.6665, 'grad_norm': 27204.298828125, 'learning_rate': 8.571428571428571e-06, 'epoch': 0.61}\n"
     ]
    },
    {
     "name": "stderr",
     "output_type": "stream",
     "text": [
      " 70%|██████▉   | 16/23 [08:01<00:41,  5.91s/it]"
     ]
    },
    {
     "name": "stdout",
     "output_type": "stream",
     "text": [
      "{'loss': 3410.3765, 'grad_norm': 17638.900390625, 'learning_rate': 6.666666666666667e-06, 'epoch': 0.7}\n"
     ]
    },
    {
     "name": "stderr",
     "output_type": "stream",
     "text": [
      " 78%|███████▊  | 18/23 [08:21<00:43,  8.63s/it]"
     ]
    },
    {
     "name": "stdout",
     "output_type": "stream",
     "text": [
      "{'loss': 3400.6748, 'grad_norm': 23198.873046875, 'learning_rate': 4.761904761904762e-06, 'epoch': 0.78}\n"
     ]
    },
    {
     "name": "stderr",
     "output_type": "stream",
     "text": [
      " 87%|████████▋ | 20/23 [09:28<01:04, 21.66s/it]"
     ]
    },
    {
     "name": "stdout",
     "output_type": "stream",
     "text": [
      "{'loss': 2981.8965, 'grad_norm': 16376.21875, 'learning_rate': 2.8571428571428573e-06, 'epoch': 0.87}\n"
     ]
    },
    {
     "name": "stderr",
     "output_type": "stream",
     "text": [
      " 96%|█████████▌| 22/23 [09:38<00:13, 13.07s/it]"
     ]
    },
    {
     "name": "stdout",
     "output_type": "stream",
     "text": [
      "{'loss': 2785.1995, 'grad_norm': 22790.966796875, 'learning_rate': 9.523809523809525e-07, 'epoch': 0.96}\n"
     ]
    },
    {
     "name": "stderr",
     "output_type": "stream",
     "text": [
      "100%|██████████| 23/23 [09:39<00:00,  9.61s/it]\n",
      "100%|██████████| 23/23 [09:50<00:00,  9.61s/it]"
     ]
    },
    {
     "name": "stdout",
     "output_type": "stream",
     "text": [
      "{'eval_loss': 2605.66455078125, 'eval_wer': 1.022181146025878, 'eval_runtime': 6.272, 'eval_samples_per_second': 9.407, 'eval_steps_per_second': 1.594, 'epoch': 1.0}\n"
     ]
    },
    {
     "name": "stderr",
     "output_type": "stream",
     "text": [
      "100%|██████████| 23/23 [09:54<00:00, 25.84s/it]"
     ]
    },
    {
     "name": "stdout",
     "output_type": "stream",
     "text": [
      "{'train_runtime': 594.2525, 'train_samples_per_second': 0.231, 'train_steps_per_second': 0.039, 'train_loss': 4455.565174932065, 'epoch': 1.0}\n"
     ]
    },
    {
     "name": "stderr",
     "output_type": "stream",
     "text": [
      "\n"
     ]
    },
    {
     "data": {
      "text/plain": [
       "TrainOutput(global_step=23, training_loss=4455.565174932065, metrics={'train_runtime': 594.2525, 'train_samples_per_second': 0.231, 'train_steps_per_second': 0.039, 'total_flos': 2.9725646674673664e+16, 'train_loss': 4455.565174932065, 'epoch': 1.0})"
      ]
     },
     "execution_count": 20,
     "metadata": {},
     "output_type": "execute_result"
    }
   ],
   "source": [
    "from transformers import Trainer\n",
    "\n",
    "trainer = Trainer(\n",
    "    model=model,\n",
    "    data_collator=data_collator,\n",
    "    args=training_args,\n",
    "    train_dataset=train_dataset,\n",
    "    eval_dataset=test_dataset,\n",
    "    tokenizer=processor.feature_extractor,\n",
    "    compute_metrics=compute_metrics\n",
    ")\n",
    "\n",
    "trainer.train()"
   ]
  },
  {
   "cell_type": "code",
   "execution_count": 21,
   "metadata": {},
   "outputs": [
    {
     "name": "stderr",
     "output_type": "stream",
     "text": [
      "100%|██████████| 10/10 [00:05<00:00,  1.82it/s]\n"
     ]
    }
   ],
   "source": [
    "metrics = trainer.evaluate()"
   ]
  },
  {
   "cell_type": "code",
   "execution_count": 22,
   "metadata": {},
   "outputs": [
    {
     "name": "stdout",
     "output_type": "stream",
     "text": [
      "{'eval_loss': 2605.66455078125, 'eval_wer': 1.022181146025878, 'eval_runtime': 6.3597, 'eval_samples_per_second': 9.277, 'eval_steps_per_second': 1.572, 'epoch': 1.0}\n"
     ]
    }
   ],
   "source": [
    "print (metrics)"
   ]
  },
  {
   "cell_type": "code",
   "execution_count": 23,
   "metadata": {},
   "outputs": [],
   "source": [
    "# Save the model and tokenizer\n",
    "model.save_pretrained(\"./wav2vec2-large-960h-cv\")\n"
   ]
  },
  {
   "cell_type": "code",
   "execution_count": 24,
   "metadata": {},
   "outputs": [],
   "source": [
    "## Manually Test the Model\n",
    "# Load the model and processor (tokenizer) from the saved directory\n",
    "from transformers import AutoModelForCTC\n",
    "# test_model = Wav2Vec2ForCTC.from_pretrained(\"./wav2vec2-large-960h-cv\")\n",
    "test_model = AutoModelForCTC.from_pretrained(\"./wav2vec2-large-960h-cv\")\n",
    "test_processor = Wav2Vec2Processor.from_pretrained(\"facebook/wav2vec2-large-960h\")"
   ]
  },
  {
   "cell_type": "code",
   "execution_count": 25,
   "metadata": {},
   "outputs": [
    {
     "name": "stdout",
     "output_type": "stream",
     "text": [
      "Logits shape: torch.Size([1, 330, 32])\n",
      "Logits values: tensor([[[ 3.8464, -3.5594, -3.4247,  ..., -0.7347,  0.7827, -1.0839],\n",
      "         [ 3.8590, -3.4986, -3.3704,  ..., -0.6966,  0.8107, -1.0360],\n",
      "         [ 3.8950, -3.5256, -3.3949,  ..., -0.7071,  0.8282, -1.0113],\n",
      "         ...,\n",
      "         [ 3.9588, -3.4443, -3.2749,  ..., -0.6581,  1.1112, -0.9410],\n",
      "         [ 4.1101, -3.8070, -3.6753,  ..., -0.5754,  0.9002, -0.8745],\n",
      "         [ 4.1162, -3.8726, -3.7633,  ..., -0.5353,  0.8232, -0.7655]]])\n",
      "Fine Tuned Transcription:  ZHEN WHAT'Z A BIG POLLIT'CAL BOSS LIKE SHEELA DAN'EL'S DOIN IN TOWN\n"
     ]
    },
    {
     "data": {
      "text/html": [
       "\n",
       "                <audio  controls=\"controls\" >\n",
       "                    <source src=\"data:audio/x-wav;base64,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\" type=\"audio/x-wav\" />\n",
       "                    Your browser does not support the audio element.\n",
       "                </audio>\n",
       "              "
      ],
      "text/plain": [
       "<IPython.lib.display.Audio object>"
      ]
     },
     "execution_count": 25,
     "metadata": {},
     "output_type": "execute_result"
    }
   ],
   "source": [
    "from pydub import AudioSegment\n",
    "from IPython.display import Audio  # Import the audio player\n",
    "# device = \"mps\" if torch.backends.mps.is_available() else \"cpu\"\n",
    "model.to(\"cpu\")\n",
    "def resample_audio(input_audio_path, target_sample_rate=16000):\n",
    "    # Load the audio file\n",
    "    audio = AudioSegment.from_wav(input_audio_path)\n",
    "    \n",
    "    # Resample the audio to the target sample rate\n",
    "    audio_resampled = audio.set_frame_rate(target_sample_rate)\n",
    "    \n",
    "    # Convert the resampled audio to a numpy array\n",
    "    audio_array = np.array(audio_resampled.get_array_of_samples())\n",
    "    \n",
    "    return audio_array, audio_resampled.frame_rate\n",
    "\n",
    "# Example: Path to your audio file\n",
    "test_audio_path = \"/Users/allen/Documents/Wav2vec_Project/asr/common_voice/wav-files/train/sample-006526.wav\"\n",
    "\n",
    "# Resample the audio to 16kHz\n",
    "test_audio_array, sample_rate = resample_audio(test_audio_path)\n",
    "\n",
    "# Preprocess the audio using the fine tuned Wav2Vec2 processor\n",
    "test_inputs = test_processor(test_audio_array, sampling_rate=sample_rate, return_tensors=\"pt\", padding=True)\n",
    "test_inputs = {key: value.to(torch.float32) for key, value in test_inputs.items()}\n",
    "# print (test_inputs)\n",
    "# Get the model’s predictions\n",
    "test_model.eval()\n",
    "with torch.no_grad():\n",
    "    logits = test_model(input_values=test_inputs[\"input_values\"]).logits\n",
    "    # for debugging\n",
    "    print(\"Logits shape:\", logits.shape)\n",
    "    print(\"Logits values:\", logits)\n",
    "\n",
    "# Decode the predictions into text\n",
    "pred_ids = torch.argmax(logits, dim=-1)\n",
    "test_transcription = test_processor.batch_decode(pred_ids)\n",
    "\n",
    "print(\"Fine Tuned Transcription: \", test_transcription[0])\n",
    "\n",
    "Audio(test_audio_path)"
   ]
  },
  {
   "cell_type": "code",
   "execution_count": 26,
   "metadata": {},
   "outputs": [],
   "source": [
    "log_history = trainer.state.log_history\n",
    "metrics_df = pd.DataFrame(log_history)"
   ]
  },
  {
   "cell_type": "code",
   "execution_count": 27,
   "metadata": {},
   "outputs": [
    {
     "name": "stdout",
     "output_type": "stream",
     "text": [
      "         loss      grad_norm  learning_rate     epoch  step    eval_loss  \\\n",
      "0   7291.3867   62636.871094   1.000000e-05  0.043478     1          NaN   \n",
      "1   8108.3213   81509.976562   2.000000e-05  0.086957     2          NaN   \n",
      "2   6958.6270   63618.503906   1.809524e-05  0.173913     4          NaN   \n",
      "3   5562.7500   48723.148438   1.619048e-05  0.260870     6          NaN   \n",
      "4   4579.9844  177417.046875   1.428571e-05  0.347826     8          NaN   \n",
      "5   4768.7788   24588.365234   1.238095e-05  0.434783    10          NaN   \n",
      "6   4004.3003   29964.535156   1.047619e-05  0.521739    12          NaN   \n",
      "7   3912.6665   27204.298828   8.571429e-06  0.608696    14          NaN   \n",
      "8   3410.3765   17638.900391   6.666667e-06  0.695652    16          NaN   \n",
      "9   3400.6748   23198.873047   4.761905e-06  0.782609    18          NaN   \n",
      "10  2981.8965   16376.218750   2.857143e-06  0.869565    20          NaN   \n",
      "11  2785.1995   22790.966797   9.523810e-07  0.956522    22          NaN   \n",
      "12        NaN            NaN            NaN  1.000000    23  2605.664551   \n",
      "13        NaN            NaN            NaN  1.000000    23          NaN   \n",
      "14        NaN            NaN            NaN  1.000000    23  2605.664551   \n",
      "\n",
      "    eval_wer  eval_runtime  eval_samples_per_second  eval_steps_per_second  \\\n",
      "0        NaN           NaN                      NaN                    NaN   \n",
      "1        NaN           NaN                      NaN                    NaN   \n",
      "2        NaN           NaN                      NaN                    NaN   \n",
      "3        NaN           NaN                      NaN                    NaN   \n",
      "4        NaN           NaN                      NaN                    NaN   \n",
      "5        NaN           NaN                      NaN                    NaN   \n",
      "6        NaN           NaN                      NaN                    NaN   \n",
      "7        NaN           NaN                      NaN                    NaN   \n",
      "8        NaN           NaN                      NaN                    NaN   \n",
      "9        NaN           NaN                      NaN                    NaN   \n",
      "10       NaN           NaN                      NaN                    NaN   \n",
      "11       NaN           NaN                      NaN                    NaN   \n",
      "12  1.022181        6.2720                    9.407                  1.594   \n",
      "13       NaN           NaN                      NaN                    NaN   \n",
      "14  1.022181        6.3597                    9.277                  1.572   \n",
      "\n",
      "    train_runtime  train_samples_per_second  train_steps_per_second  \\\n",
      "0             NaN                       NaN                     NaN   \n",
      "1             NaN                       NaN                     NaN   \n",
      "2             NaN                       NaN                     NaN   \n",
      "3             NaN                       NaN                     NaN   \n",
      "4             NaN                       NaN                     NaN   \n",
      "5             NaN                       NaN                     NaN   \n",
      "6             NaN                       NaN                     NaN   \n",
      "7             NaN                       NaN                     NaN   \n",
      "8             NaN                       NaN                     NaN   \n",
      "9             NaN                       NaN                     NaN   \n",
      "10            NaN                       NaN                     NaN   \n",
      "11            NaN                       NaN                     NaN   \n",
      "12            NaN                       NaN                     NaN   \n",
      "13       594.2525                     0.231                   0.039   \n",
      "14            NaN                       NaN                     NaN   \n",
      "\n",
      "      total_flos   train_loss  \n",
      "0            NaN          NaN  \n",
      "1            NaN          NaN  \n",
      "2            NaN          NaN  \n",
      "3            NaN          NaN  \n",
      "4            NaN          NaN  \n",
      "5            NaN          NaN  \n",
      "6            NaN          NaN  \n",
      "7            NaN          NaN  \n",
      "8            NaN          NaN  \n",
      "9            NaN          NaN  \n",
      "10           NaN          NaN  \n",
      "11           NaN          NaN  \n",
      "12           NaN          NaN  \n",
      "13  2.972565e+16  4455.565175  \n",
      "14           NaN          NaN  \n"
     ]
    }
   ],
   "source": [
    "print (metrics_df)"
   ]
  },
  {
   "cell_type": "markdown",
   "metadata": {},
   "source": [
    "Plot the loss over the Epochs, from the metrics_df, I have yet to debug why the eval_wer is not logging as expected."
   ]
  },
  {
   "cell_type": "code",
   "execution_count": 28,
   "metadata": {},
   "outputs": [
    {
     "data": {
      "image/png": "[encoded data removed]",
      "text/plain": [
       "<Figure size 800x500 with 1 Axes>"
      ]
     },
     "metadata": {},
     "output_type": "display_data"
    }
   ],
   "source": [
    "import matplotlib.pyplot as plt\n",
    "\n",
    "# Assuming metricsdf already exists and has 'epoch' and 'eval_loss' columns\n",
    "\n",
    "# Plot eval_loss over epochs\n",
    "plt.figure(figsize=(8, 5))\n",
    "plt.plot(metrics_df[\"epoch\"], metrics_df[\"loss\"], marker=\"o\", linestyle=\"-\", color=\"b\")\n",
    "plt.title(\"Loss over Steps\", fontsize=14)\n",
    "plt.xlabel(\"Steps\", fontsize=12)\n",
    "plt.ylabel(\"Loss\", fontsize=12)\n",
    "plt.grid(True, linestyle=\"--\", alpha=0.7)\n",
    "plt.show()"
   ]
  },
  {
   "cell_type": "code",
   "execution_count": 29,
   "metadata": {},
   "outputs": [
    {
     "data": {
      "image/png": "[encoded data removed]",
      "text/plain": [
       "<Figure size 800x500 with 1 Axes>"
      ]
     },
     "metadata": {},
     "output_type": "display_data"
    }
   ],
   "source": [
    "plt.figure(figsize=(8, 5))\n",
    "plt.plot(metrics_df[\"epoch\"], metrics_df[\"eval_wer\"], marker=\"o\", linestyle=\"-\", color=\"b\")\n",
    "plt.title(\"Eval_WER over Steps\", fontsize=14)\n",
    "plt.xlabel(\"Steps\", fontsize=12)\n",
    "plt.ylabel(\"Eval_WER\", fontsize=12)\n",
    "plt.grid(True, linestyle=\"--\", alpha=0.7)\n",
    "plt.show()"
   ]
  },
  {
   "cell_type": "markdown",
   "metadata": {},
   "source": [
    "I trained a few versions of the model with different hyperparameters, the best so far is saved under /Users/allen/Documents/Wav2vec_Project/asr-train/wav2vec2-large-960h-cv-backup"
   ]
  },
  {
   "cell_type": "markdown",
   "metadata": {},
   "source": [
    "Compare with cv-valid-test"
   ]
  },
  {
   "cell_type": "code",
   "execution_count": null,
   "metadata": {},
   "outputs": [
    {
     "name": "stderr",
     "output_type": "stream",
     "text": [
      "Processing MP3 files:   0%|          | 0/400 [00:00<?, ?it/s]Python(90240) MallocStackLogging: can't turn off malloc stack logging because it was not enabled.\n",
      "Python(90241) MallocStackLogging: can't turn off malloc stack logging because it was not enabled.\n",
      "Processing MP3 files:   0%|          | 1/400 [00:00<05:26,  1.22it/s]"
     ]
    },
    {
     "name": "stdout",
     "output_type": "stream",
     "text": [
      "score: 0.15384615384615385\n"
     ]
    },
    {
     "name": "stderr",
     "output_type": "stream",
     "text": [
      "Python(90242) MallocStackLogging: can't turn off malloc stack logging because it was not enabled.\n",
      "Python(90243) MallocStackLogging: can't turn off malloc stack logging because it was not enabled.\n",
      "Processing MP3 files:   0%|          | 2/400 [00:01<03:30,  1.89it/s]"
     ]
    },
    {
     "name": "stdout",
     "output_type": "stream",
     "text": [
      "score: 0.125\n"
     ]
    },
    {
     "name": "stderr",
     "output_type": "stream",
     "text": [
      "Python(90244) MallocStackLogging: can't turn off malloc stack logging because it was not enabled.\n",
      "Python(90245) MallocStackLogging: can't turn off malloc stack logging because it was not enabled.\n",
      "Processing MP3 files:   1%|          | 3/400 [00:01<03:26,  1.92it/s]"
     ]
    },
    {
     "name": "stdout",
     "output_type": "stream",
     "text": [
      "score: 0.07692307692307693\n"
     ]
    },
    {
     "name": "stderr",
     "output_type": "stream",
     "text": [
      "Python(90246) MallocStackLogging: can't turn off malloc stack logging because it was not enabled.\n",
      "Python(90247) MallocStackLogging: can't turn off malloc stack logging because it was not enabled.\n",
      "Processing MP3 files:   1%|          | 4/400 [00:01<02:50,  2.33it/s]"
     ]
    },
    {
     "name": "stdout",
     "output_type": "stream",
     "text": [
      "score: 0.0\n"
     ]
    },
    {
     "name": "stderr",
     "output_type": "stream",
     "text": [
      "Python(90248) MallocStackLogging: can't turn off malloc stack logging because it was not enabled.\n",
      "Python(90249) MallocStackLogging: can't turn off malloc stack logging because it was not enabled.\n",
      "Processing MP3 files:   1%|▏         | 5/400 [00:02<02:41,  2.45it/s]"
     ]
    },
    {
     "name": "stdout",
     "output_type": "stream",
     "text": [
      "score: 0.5\n"
     ]
    },
    {
     "name": "stderr",
     "output_type": "stream",
     "text": [
      "Python(90250) MallocStackLogging: can't turn off malloc stack logging because it was not enabled.\n",
      "Python(90251) MallocStackLogging: can't turn off malloc stack logging because it was not enabled.\n",
      "Processing MP3 files:   2%|▏         | 6/400 [00:02<02:20,  2.81it/s]"
     ]
    },
    {
     "name": "stdout",
     "output_type": "stream",
     "text": [
      "score: 0.5\n"
     ]
    },
    {
     "name": "stderr",
     "output_type": "stream",
     "text": [
      "Python(90252) MallocStackLogging: can't turn off malloc stack logging because it was not enabled.\n",
      "Python(90253) MallocStackLogging: can't turn off malloc stack logging because it was not enabled.\n",
      "Processing MP3 files:   2%|▏         | 7/400 [00:02<02:19,  2.82it/s]"
     ]
    },
    {
     "name": "stdout",
     "output_type": "stream",
     "text": [
      "score: 0.1\n"
     ]
    },
    {
     "name": "stderr",
     "output_type": "stream",
     "text": [
      "Python(90254) MallocStackLogging: can't turn off malloc stack logging because it was not enabled.\n",
      "Python(90255) MallocStackLogging: can't turn off malloc stack logging because it was not enabled.\n",
      "Processing MP3 files:   2%|▏         | 8/400 [00:03<02:08,  3.06it/s]"
     ]
    },
    {
     "name": "stdout",
     "output_type": "stream",
     "text": [
      "score: 0.0\n"
     ]
    },
    {
     "name": "stderr",
     "output_type": "stream",
     "text": [
      "Python(90256) MallocStackLogging: can't turn off malloc stack logging because it was not enabled.\n",
      "Python(90257) MallocStackLogging: can't turn off malloc stack logging because it was not enabled.\n",
      "Processing MP3 files:   2%|▏         | 9/400 [00:03<02:01,  3.21it/s]"
     ]
    },
    {
     "name": "stdout",
     "output_type": "stream",
     "text": [
      "score: 1.0\n"
     ]
    },
    {
     "name": "stderr",
     "output_type": "stream",
     "text": [
      "Python(90258) MallocStackLogging: can't turn off malloc stack logging because it was not enabled.\n",
      "Python(90259) MallocStackLogging: can't turn off malloc stack logging because it was not enabled.\n",
      "Processing MP3 files:   2%|▎         | 10/400 [00:03<01:57,  3.31it/s]"
     ]
    },
    {
     "name": "stdout",
     "output_type": "stream",
     "text": [
      "score: 0.2\n"
     ]
    },
    {
     "name": "stderr",
     "output_type": "stream",
     "text": [
      "Python(90260) MallocStackLogging: can't turn off malloc stack logging because it was not enabled.\n",
      "Python(90261) MallocStackLogging: can't turn off malloc stack logging because it was not enabled.\n",
      "Processing MP3 files:   3%|▎         | 11/400 [00:04<02:00,  3.23it/s]"
     ]
    },
    {
     "name": "stdout",
     "output_type": "stream",
     "text": [
      "score: 0.5714285714285714\n"
     ]
    },
    {
     "name": "stderr",
     "output_type": "stream",
     "text": [
      "Python(90262) MallocStackLogging: can't turn off malloc stack logging because it was not enabled.\n",
      "Python(90263) MallocStackLogging: can't turn off malloc stack logging because it was not enabled.\n",
      "Processing MP3 files:   3%|▎         | 12/400 [00:04<02:09,  3.00it/s]"
     ]
    },
    {
     "name": "stdout",
     "output_type": "stream",
     "text": [
      "score: 0.0\n"
     ]
    },
    {
     "name": "stderr",
     "output_type": "stream",
     "text": [
      "Python(90264) MallocStackLogging: can't turn off malloc stack logging because it was not enabled.\n",
      "Python(90265) MallocStackLogging: can't turn off malloc stack logging because it was not enabled.\n",
      "Processing MP3 files:   3%|▎         | 13/400 [00:04<02:05,  3.09it/s]"
     ]
    },
    {
     "name": "stdout",
     "output_type": "stream",
     "text": [
      "score: 0.0\n"
     ]
    },
    {
     "name": "stderr",
     "output_type": "stream",
     "text": [
      "Python(90266) MallocStackLogging: can't turn off malloc stack logging because it was not enabled.\n",
      "Python(90267) MallocStackLogging: can't turn off malloc stack logging because it was not enabled.\n",
      "Processing MP3 files:   4%|▎         | 14/400 [00:05<02:16,  2.82it/s]"
     ]
    },
    {
     "name": "stdout",
     "output_type": "stream",
     "text": [
      "score: 0.2857142857142857\n"
     ]
    },
    {
     "name": "stderr",
     "output_type": "stream",
     "text": [
      "Python(90268) MallocStackLogging: can't turn off malloc stack logging because it was not enabled.\n",
      "Python(90269) MallocStackLogging: can't turn off malloc stack logging because it was not enabled.\n",
      "Processing MP3 files:   4%|▍         | 15/400 [00:05<02:17,  2.80it/s]"
     ]
    },
    {
     "name": "stdout",
     "output_type": "stream",
     "text": [
      "score: 0.5714285714285714\n"
     ]
    },
    {
     "name": "stderr",
     "output_type": "stream",
     "text": [
      "Python(90270) MallocStackLogging: can't turn off malloc stack logging because it was not enabled.\n",
      "Python(90271) MallocStackLogging: can't turn off malloc stack logging because it was not enabled.\n",
      "Processing MP3 files:   4%|▍         | 16/400 [00:05<02:10,  2.94it/s]"
     ]
    },
    {
     "name": "stdout",
     "output_type": "stream",
     "text": [
      "score: 0.3333333333333333\n"
     ]
    },
    {
     "name": "stderr",
     "output_type": "stream",
     "text": [
      "Python(90272) MallocStackLogging: can't turn off malloc stack logging because it was not enabled.\n",
      "Python(90273) MallocStackLogging: can't turn off malloc stack logging because it was not enabled.\n",
      "Processing MP3 files:   4%|▍         | 17/400 [00:06<02:06,  3.03it/s]"
     ]
    },
    {
     "name": "stdout",
     "output_type": "stream",
     "text": [
      "score: 0.2\n"
     ]
    },
    {
     "name": "stderr",
     "output_type": "stream",
     "text": [
      "Python(90274) MallocStackLogging: can't turn off malloc stack logging because it was not enabled.\n",
      "Python(90275) MallocStackLogging: can't turn off malloc stack logging because it was not enabled.\n",
      "Processing MP3 files:   4%|▍         | 18/400 [00:06<02:15,  2.82it/s]"
     ]
    },
    {
     "name": "stdout",
     "output_type": "stream",
     "text": [
      "score: 0.0\n"
     ]
    },
    {
     "name": "stderr",
     "output_type": "stream",
     "text": [
      "Python(90276) MallocStackLogging: can't turn off malloc stack logging because it was not enabled.\n",
      "Python(90277) MallocStackLogging: can't turn off malloc stack logging because it was not enabled.\n",
      "Processing MP3 files:   5%|▍         | 19/400 [00:07<02:29,  2.56it/s]"
     ]
    },
    {
     "name": "stdout",
     "output_type": "stream",
     "text": [
      "score: 0.5833333333333334\n"
     ]
    },
    {
     "name": "stderr",
     "output_type": "stream",
     "text": [
      "Python(90278) MallocStackLogging: can't turn off malloc stack logging because it was not enabled.\n",
      "Python(90279) MallocStackLogging: can't turn off malloc stack logging because it was not enabled.\n",
      "Processing MP3 files:   5%|▌         | 20/400 [00:07<02:14,  2.82it/s]"
     ]
    },
    {
     "name": "stdout",
     "output_type": "stream",
     "text": [
      "score: 0.25\n"
     ]
    },
    {
     "name": "stderr",
     "output_type": "stream",
     "text": [
      "Python(90280) MallocStackLogging: can't turn off malloc stack logging because it was not enabled.\n",
      "Python(90281) MallocStackLogging: can't turn off malloc stack logging because it was not enabled.\n",
      "Processing MP3 files:   5%|▌         | 21/400 [00:07<02:05,  3.02it/s]"
     ]
    },
    {
     "name": "stdout",
     "output_type": "stream",
     "text": [
      "score: 0.5\n"
     ]
    },
    {
     "name": "stderr",
     "output_type": "stream",
     "text": [
      "Python(90282) MallocStackLogging: can't turn off malloc stack logging because it was not enabled.\n",
      "Python(90283) MallocStackLogging: can't turn off malloc stack logging because it was not enabled.\n",
      "Processing MP3 files:   6%|▌         | 22/400 [00:07<02:12,  2.85it/s]"
     ]
    },
    {
     "name": "stdout",
     "output_type": "stream",
     "text": [
      "score: 0.18181818181818182\n"
     ]
    },
    {
     "name": "stderr",
     "output_type": "stream",
     "text": [
      "Python(90284) MallocStackLogging: can't turn off malloc stack logging because it was not enabled.\n",
      "Python(90285) MallocStackLogging: can't turn off malloc stack logging because it was not enabled.\n",
      "Processing MP3 files:   6%|▌         | 23/400 [00:08<02:09,  2.92it/s]"
     ]
    },
    {
     "name": "stdout",
     "output_type": "stream",
     "text": [
      "score: 0.0\n"
     ]
    },
    {
     "name": "stderr",
     "output_type": "stream",
     "text": [
      "Python(90286) MallocStackLogging: can't turn off malloc stack logging because it was not enabled.\n",
      "Python(90287) MallocStackLogging: can't turn off malloc stack logging because it was not enabled.\n",
      "Processing MP3 files:   6%|▌         | 24/400 [00:08<02:04,  3.03it/s]"
     ]
    },
    {
     "name": "stdout",
     "output_type": "stream",
     "text": [
      "score: 0.0\n"
     ]
    },
    {
     "name": "stderr",
     "output_type": "stream",
     "text": [
      "Python(90288) MallocStackLogging: can't turn off malloc stack logging because it was not enabled.\n",
      "Python(90289) MallocStackLogging: can't turn off malloc stack logging because it was not enabled.\n",
      "Processing MP3 files:   6%|▋         | 25/400 [00:08<01:59,  3.13it/s]"
     ]
    },
    {
     "name": "stdout",
     "output_type": "stream",
     "text": [
      "score: 0.0\n"
     ]
    },
    {
     "name": "stderr",
     "output_type": "stream",
     "text": [
      "Python(90290) MallocStackLogging: can't turn off malloc stack logging because it was not enabled.\n",
      "Python(90291) MallocStackLogging: can't turn off malloc stack logging because it was not enabled.\n",
      "Processing MP3 files:   6%|▋         | 26/400 [00:09<01:58,  3.14it/s]"
     ]
    },
    {
     "name": "stdout",
     "output_type": "stream",
     "text": [
      "score: 0.9166666666666666\n"
     ]
    },
    {
     "name": "stderr",
     "output_type": "stream",
     "text": [
      "Python(90292) MallocStackLogging: can't turn off malloc stack logging because it was not enabled.\n",
      "Python(90293) MallocStackLogging: can't turn off malloc stack logging because it was not enabled.\n",
      "Processing MP3 files:   7%|▋         | 27/400 [00:09<02:11,  2.84it/s]"
     ]
    },
    {
     "name": "stdout",
     "output_type": "stream",
     "text": [
      "score: 0.18181818181818182\n"
     ]
    },
    {
     "name": "stderr",
     "output_type": "stream",
     "text": [
      "Python(90294) MallocStackLogging: can't turn off malloc stack logging because it was not enabled.\n",
      "Python(90295) MallocStackLogging: can't turn off malloc stack logging because it was not enabled.\n",
      "Processing MP3 files:   7%|▋         | 28/400 [00:10<02:13,  2.78it/s]"
     ]
    },
    {
     "name": "stdout",
     "output_type": "stream",
     "text": [
      "score: 0.14285714285714285\n"
     ]
    },
    {
     "name": "stderr",
     "output_type": "stream",
     "text": [
      "Python(90296) MallocStackLogging: can't turn off malloc stack logging because it was not enabled.\n",
      "Python(90297) MallocStackLogging: can't turn off malloc stack logging because it was not enabled.\n",
      "Processing MP3 files:   7%|▋         | 29/400 [00:10<02:28,  2.49it/s]"
     ]
    },
    {
     "name": "stdout",
     "output_type": "stream",
     "text": [
      "score: 0.2777777777777778\n"
     ]
    },
    {
     "name": "stderr",
     "output_type": "stream",
     "text": [
      "Python(90298) MallocStackLogging: can't turn off malloc stack logging because it was not enabled.\n",
      "Python(90299) MallocStackLogging: can't turn off malloc stack logging because it was not enabled.\n",
      "Processing MP3 files:   8%|▊         | 30/400 [00:10<02:24,  2.56it/s]"
     ]
    },
    {
     "name": "stdout",
     "output_type": "stream",
     "text": [
      "score: 0.8571428571428571\n"
     ]
    },
    {
     "name": "stderr",
     "output_type": "stream",
     "text": [
      "Python(90300) MallocStackLogging: can't turn off malloc stack logging because it was not enabled.\n",
      "Python(90301) MallocStackLogging: can't turn off malloc stack logging because it was not enabled.\n",
      "Processing MP3 files:   8%|▊         | 31/400 [00:11<02:17,  2.68it/s]"
     ]
    },
    {
     "name": "stdout",
     "output_type": "stream",
     "text": [
      "score: 0.6\n"
     ]
    },
    {
     "name": "stderr",
     "output_type": "stream",
     "text": [
      "Python(90302) MallocStackLogging: can't turn off malloc stack logging because it was not enabled.\n",
      "Python(90303) MallocStackLogging: can't turn off malloc stack logging because it was not enabled.\n",
      "Processing MP3 files:   8%|▊         | 32/400 [00:11<02:17,  2.68it/s]"
     ]
    },
    {
     "name": "stdout",
     "output_type": "stream",
     "text": [
      "score: 0.08333333333333333\n"
     ]
    },
    {
     "name": "stderr",
     "output_type": "stream",
     "text": [
      "Python(90304) MallocStackLogging: can't turn off malloc stack logging because it was not enabled.\n",
      "Python(90305) MallocStackLogging: can't turn off malloc stack logging because it was not enabled.\n",
      "Processing MP3 files:   8%|▊         | 33/400 [00:11<02:12,  2.76it/s]"
     ]
    },
    {
     "name": "stdout",
     "output_type": "stream",
     "text": [
      "score: 0.23076923076923078\n"
     ]
    },
    {
     "name": "stderr",
     "output_type": "stream",
     "text": [
      "Python(90306) MallocStackLogging: can't turn off malloc stack logging because it was not enabled.\n",
      "Python(90307) MallocStackLogging: can't turn off malloc stack logging because it was not enabled.\n",
      "Processing MP3 files:   8%|▊         | 34/400 [00:12<02:05,  2.92it/s]"
     ]
    },
    {
     "name": "stdout",
     "output_type": "stream",
     "text": [
      "score: 0.16666666666666666\n"
     ]
    },
    {
     "name": "stderr",
     "output_type": "stream",
     "text": [
      "Python(90308) MallocStackLogging: can't turn off malloc stack logging because it was not enabled.\n",
      "Python(90309) MallocStackLogging: can't turn off malloc stack logging because it was not enabled.\n",
      "Processing MP3 files:   9%|▉         | 35/400 [00:12<01:59,  3.06it/s]"
     ]
    },
    {
     "name": "stdout",
     "output_type": "stream",
     "text": [
      "score: 0.14285714285714285\n"
     ]
    },
    {
     "name": "stderr",
     "output_type": "stream",
     "text": [
      "Python(90310) MallocStackLogging: can't turn off malloc stack logging because it was not enabled.\n",
      "Python(90311) MallocStackLogging: can't turn off malloc stack logging because it was not enabled.\n",
      "Processing MP3 files:   9%|▉         | 36/400 [00:12<02:05,  2.89it/s]"
     ]
    },
    {
     "name": "stdout",
     "output_type": "stream",
     "text": [
      "score: 0.07142857142857142\n"
     ]
    },
    {
     "name": "stderr",
     "output_type": "stream",
     "text": [
      "Python(90312) MallocStackLogging: can't turn off malloc stack logging because it was not enabled.\n",
      "Python(90313) MallocStackLogging: can't turn off malloc stack logging because it was not enabled.\n",
      "Processing MP3 files:   9%|▉         | 37/400 [00:13<02:02,  2.97it/s]"
     ]
    },
    {
     "name": "stdout",
     "output_type": "stream",
     "text": [
      "score: 0.8333333333333334\n"
     ]
    },
    {
     "name": "stderr",
     "output_type": "stream",
     "text": [
      "Python(90314) MallocStackLogging: can't turn off malloc stack logging because it was not enabled.\n",
      "Python(90315) MallocStackLogging: can't turn off malloc stack logging because it was not enabled.\n",
      "Processing MP3 files:  10%|▉         | 38/400 [00:13<02:10,  2.78it/s]"
     ]
    },
    {
     "name": "stdout",
     "output_type": "stream",
     "text": [
      "score: 0.2857142857142857\n"
     ]
    },
    {
     "name": "stderr",
     "output_type": "stream",
     "text": [
      "Python(90316) MallocStackLogging: can't turn off malloc stack logging because it was not enabled.\n",
      "Python(90317) MallocStackLogging: can't turn off malloc stack logging because it was not enabled.\n",
      "Processing MP3 files:  10%|▉         | 39/400 [00:13<02:03,  2.92it/s]"
     ]
    },
    {
     "name": "stdout",
     "output_type": "stream",
     "text": [
      "score: 0.375\n"
     ]
    },
    {
     "name": "stderr",
     "output_type": "stream",
     "text": [
      "Python(90318) MallocStackLogging: can't turn off malloc stack logging because it was not enabled.\n",
      "Python(90319) MallocStackLogging: can't turn off malloc stack logging because it was not enabled.\n",
      "Processing MP3 files:  10%|█         | 40/400 [00:14<02:00,  2.99it/s]"
     ]
    },
    {
     "name": "stdout",
     "output_type": "stream",
     "text": [
      "score: 0.2\n"
     ]
    },
    {
     "name": "stderr",
     "output_type": "stream",
     "text": [
      "Python(90320) MallocStackLogging: can't turn off malloc stack logging because it was not enabled.\n",
      "Python(90321) MallocStackLogging: can't turn off malloc stack logging because it was not enabled.\n",
      "Processing MP3 files:  10%|█         | 41/400 [00:14<02:01,  2.96it/s]"
     ]
    },
    {
     "name": "stdout",
     "output_type": "stream",
     "text": [
      "score: 0.2\n"
     ]
    },
    {
     "name": "stderr",
     "output_type": "stream",
     "text": [
      "Python(90322) MallocStackLogging: can't turn off malloc stack logging because it was not enabled.\n",
      "Python(90323) MallocStackLogging: can't turn off malloc stack logging because it was not enabled.\n",
      "Processing MP3 files:  10%|█         | 42/400 [00:14<01:53,  3.16it/s]"
     ]
    },
    {
     "name": "stdout",
     "output_type": "stream",
     "text": [
      "score: 0.42857142857142855\n"
     ]
    },
    {
     "name": "stderr",
     "output_type": "stream",
     "text": [
      "Python(90324) MallocStackLogging: can't turn off malloc stack logging because it was not enabled.\n",
      "Python(90325) MallocStackLogging: can't turn off malloc stack logging because it was not enabled.\n",
      "Processing MP3 files:  11%|█         | 43/400 [00:15<01:56,  3.06it/s]"
     ]
    },
    {
     "name": "stdout",
     "output_type": "stream",
     "text": [
      "score: 0.3333333333333333\n"
     ]
    },
    {
     "name": "stderr",
     "output_type": "stream",
     "text": [
      "Python(90326) MallocStackLogging: can't turn off malloc stack logging because it was not enabled.\n",
      "Python(90327) MallocStackLogging: can't turn off malloc stack logging because it was not enabled.\n",
      "Processing MP3 files:  11%|█         | 44/400 [00:15<01:49,  3.24it/s]"
     ]
    },
    {
     "name": "stdout",
     "output_type": "stream",
     "text": [
      "score: 0.5\n"
     ]
    },
    {
     "name": "stderr",
     "output_type": "stream",
     "text": [
      "Python(90328) MallocStackLogging: can't turn off malloc stack logging because it was not enabled.\n",
      "Python(90329) MallocStackLogging: can't turn off malloc stack logging because it was not enabled.\n",
      "Processing MP3 files:  11%|█▏        | 45/400 [00:15<02:05,  2.82it/s]"
     ]
    },
    {
     "name": "stdout",
     "output_type": "stream",
     "text": [
      "score: 0.3333333333333333\n"
     ]
    },
    {
     "name": "stderr",
     "output_type": "stream",
     "text": [
      "Python(90331) MallocStackLogging: can't turn off malloc stack logging because it was not enabled.\n",
      "Python(90332) MallocStackLogging: can't turn off malloc stack logging because it was not enabled.\n",
      "Processing MP3 files:  12%|█▏        | 46/400 [00:16<02:02,  2.89it/s]"
     ]
    },
    {
     "name": "stdout",
     "output_type": "stream",
     "text": [
      "score: 0.09090909090909091\n"
     ]
    },
    {
     "name": "stderr",
     "output_type": "stream",
     "text": [
      "Python(90333) MallocStackLogging: can't turn off malloc stack logging because it was not enabled.\n",
      "Python(90334) MallocStackLogging: can't turn off malloc stack logging because it was not enabled.\n",
      "Processing MP3 files:  12%|█▏        | 47/400 [00:16<02:29,  2.37it/s]"
     ]
    },
    {
     "name": "stdout",
     "output_type": "stream",
     "text": [
      "score: 0.13333333333333333\n"
     ]
    },
    {
     "name": "stderr",
     "output_type": "stream",
     "text": [
      "Python(90335) MallocStackLogging: can't turn off malloc stack logging because it was not enabled.\n",
      "Python(90336) MallocStackLogging: can't turn off malloc stack logging because it was not enabled.\n",
      "Processing MP3 files:  12%|█▏        | 48/400 [00:17<02:31,  2.33it/s]"
     ]
    },
    {
     "name": "stdout",
     "output_type": "stream",
     "text": [
      "score: 0.26666666666666666\n"
     ]
    },
    {
     "name": "stderr",
     "output_type": "stream",
     "text": [
      "Python(90337) MallocStackLogging: can't turn off malloc stack logging because it was not enabled.\n",
      "Python(90338) MallocStackLogging: can't turn off malloc stack logging because it was not enabled.\n",
      "Processing MP3 files:  12%|█▏        | 49/400 [00:17<02:21,  2.49it/s]"
     ]
    },
    {
     "name": "stdout",
     "output_type": "stream",
     "text": [
      "score: 0.15384615384615385\n"
     ]
    },
    {
     "name": "stderr",
     "output_type": "stream",
     "text": [
      "Python(90339) MallocStackLogging: can't turn off malloc stack logging because it was not enabled.\n",
      "Python(90340) MallocStackLogging: can't turn off malloc stack logging because it was not enabled.\n",
      "Processing MP3 files:  12%|█▎        | 50/400 [00:17<02:07,  2.74it/s]"
     ]
    },
    {
     "name": "stdout",
     "output_type": "stream",
     "text": [
      "score: 0.5\n"
     ]
    },
    {
     "name": "stderr",
     "output_type": "stream",
     "text": [
      "Python(90341) MallocStackLogging: can't turn off malloc stack logging because it was not enabled.\n",
      "Python(90342) MallocStackLogging: can't turn off malloc stack logging because it was not enabled.\n",
      "Processing MP3 files:  13%|█▎        | 51/400 [00:18<02:00,  2.90it/s]"
     ]
    },
    {
     "name": "stdout",
     "output_type": "stream",
     "text": [
      "score: 0.07692307692307693\n"
     ]
    },
    {
     "name": "stderr",
     "output_type": "stream",
     "text": [
      "Python(90343) MallocStackLogging: can't turn off malloc stack logging because it was not enabled.\n",
      "Python(90344) MallocStackLogging: can't turn off malloc stack logging because it was not enabled.\n",
      "Processing MP3 files:  13%|█▎        | 52/400 [00:18<01:50,  3.15it/s]"
     ]
    },
    {
     "name": "stdout",
     "output_type": "stream",
     "text": [
      "score: 0.75\n"
     ]
    },
    {
     "name": "stderr",
     "output_type": "stream",
     "text": [
      "Python(90345) MallocStackLogging: can't turn off malloc stack logging because it was not enabled.\n",
      "Python(90346) MallocStackLogging: can't turn off malloc stack logging because it was not enabled.\n",
      "Processing MP3 files:  13%|█▎        | 53/400 [00:18<01:51,  3.12it/s]"
     ]
    },
    {
     "name": "stdout",
     "output_type": "stream",
     "text": [
      "score: 0.25\n"
     ]
    },
    {
     "name": "stderr",
     "output_type": "stream",
     "text": [
      "Python(90347) MallocStackLogging: can't turn off malloc stack logging because it was not enabled.\n",
      "Python(90348) MallocStackLogging: can't turn off malloc stack logging because it was not enabled.\n",
      "Processing MP3 files:  14%|█▎        | 54/400 [00:19<01:44,  3.30it/s]"
     ]
    },
    {
     "name": "stdout",
     "output_type": "stream",
     "text": [
      "score: 1.0\n"
     ]
    },
    {
     "name": "stderr",
     "output_type": "stream",
     "text": [
      "Python(90349) MallocStackLogging: can't turn off malloc stack logging because it was not enabled.\n",
      "Python(90350) MallocStackLogging: can't turn off malloc stack logging because it was not enabled.\n",
      "Processing MP3 files:  14%|█▍        | 55/400 [00:19<01:50,  3.13it/s]"
     ]
    },
    {
     "name": "stdout",
     "output_type": "stream",
     "text": [
      "score: 0.08333333333333333\n"
     ]
    },
    {
     "name": "stderr",
     "output_type": "stream",
     "text": [
      "Python(90351) MallocStackLogging: can't turn off malloc stack logging because it was not enabled.\n",
      "Python(90352) MallocStackLogging: can't turn off malloc stack logging because it was not enabled.\n",
      "Processing MP3 files:  14%|█▍        | 56/400 [00:19<01:53,  3.03it/s]"
     ]
    },
    {
     "name": "stdout",
     "output_type": "stream",
     "text": [
      "score: 0.07142857142857142\n"
     ]
    },
    {
     "name": "stderr",
     "output_type": "stream",
     "text": [
      "Python(90353) MallocStackLogging: can't turn off malloc stack logging because it was not enabled.\n",
      "Python(90354) MallocStackLogging: can't turn off malloc stack logging because it was not enabled.\n",
      "Processing MP3 files:  14%|█▍        | 57/400 [00:20<01:54,  3.01it/s]"
     ]
    },
    {
     "name": "stdout",
     "output_type": "stream",
     "text": [
      "score: 0.08333333333333333\n"
     ]
    },
    {
     "name": "stderr",
     "output_type": "stream",
     "text": [
      "Python(90355) MallocStackLogging: can't turn off malloc stack logging because it was not enabled.\n",
      "Python(90356) MallocStackLogging: can't turn off malloc stack logging because it was not enabled.\n",
      "Processing MP3 files:  14%|█▍        | 58/400 [00:20<01:44,  3.26it/s]"
     ]
    },
    {
     "name": "stdout",
     "output_type": "stream",
     "text": [
      "score: 1.0\n"
     ]
    },
    {
     "name": "stderr",
     "output_type": "stream",
     "text": [
      "Python(90357) MallocStackLogging: can't turn off malloc stack logging because it was not enabled.\n",
      "Python(90358) MallocStackLogging: can't turn off malloc stack logging because it was not enabled.\n",
      "Processing MP3 files:  15%|█▍        | 59/400 [00:20<01:54,  2.98it/s]"
     ]
    },
    {
     "name": "stdout",
     "output_type": "stream",
     "text": [
      "score: 0.0\n"
     ]
    },
    {
     "name": "stderr",
     "output_type": "stream",
     "text": [
      "Python(90359) MallocStackLogging: can't turn off malloc stack logging because it was not enabled.\n",
      "Python(90360) MallocStackLogging: can't turn off malloc stack logging because it was not enabled.\n",
      "Processing MP3 files:  15%|█▌        | 60/400 [00:21<01:47,  3.18it/s]"
     ]
    },
    {
     "name": "stdout",
     "output_type": "stream",
     "text": [
      "score: 0.25\n"
     ]
    },
    {
     "name": "stderr",
     "output_type": "stream",
     "text": [
      "Python(90361) MallocStackLogging: can't turn off malloc stack logging because it was not enabled.\n",
      "Python(90362) MallocStackLogging: can't turn off malloc stack logging because it was not enabled.\n",
      "Processing MP3 files:  15%|█▌        | 61/400 [00:21<01:45,  3.20it/s]"
     ]
    },
    {
     "name": "stdout",
     "output_type": "stream",
     "text": [
      "score: 0.25\n"
     ]
    },
    {
     "name": "stderr",
     "output_type": "stream",
     "text": [
      "Python(90363) MallocStackLogging: can't turn off malloc stack logging because it was not enabled.\n",
      "Python(90364) MallocStackLogging: can't turn off malloc stack logging because it was not enabled.\n",
      "Processing MP3 files:  16%|█▌        | 62/400 [00:21<01:50,  3.05it/s]"
     ]
    },
    {
     "name": "stdout",
     "output_type": "stream",
     "text": [
      "score: 0.7142857142857143\n"
     ]
    },
    {
     "name": "stderr",
     "output_type": "stream",
     "text": [
      "Python(90365) MallocStackLogging: can't turn off malloc stack logging because it was not enabled.\n",
      "Python(90366) MallocStackLogging: can't turn off malloc stack logging because it was not enabled.\n",
      "Processing MP3 files:  16%|█▌        | 63/400 [00:21<01:45,  3.20it/s]"
     ]
    },
    {
     "name": "stdout",
     "output_type": "stream",
     "text": [
      "score: 0.25\n"
     ]
    },
    {
     "name": "stderr",
     "output_type": "stream",
     "text": [
      "Python(90367) MallocStackLogging: can't turn off malloc stack logging because it was not enabled.\n",
      "Python(90368) MallocStackLogging: can't turn off malloc stack logging because it was not enabled.\n",
      "Processing MP3 files:  16%|█▌        | 64/400 [00:22<01:45,  3.17it/s]"
     ]
    },
    {
     "name": "stdout",
     "output_type": "stream",
     "text": [
      "score: 0.09090909090909091\n"
     ]
    },
    {
     "name": "stderr",
     "output_type": "stream",
     "text": [
      "Python(90369) MallocStackLogging: can't turn off malloc stack logging because it was not enabled.\n",
      "Python(90370) MallocStackLogging: can't turn off malloc stack logging because it was not enabled.\n",
      "Processing MP3 files:  16%|█▋        | 65/400 [00:22<01:41,  3.30it/s]"
     ]
    },
    {
     "name": "stdout",
     "output_type": "stream",
     "text": [
      "score: 0.16666666666666666\n"
     ]
    },
    {
     "name": "stderr",
     "output_type": "stream",
     "text": [
      "Python(90371) MallocStackLogging: can't turn off malloc stack logging because it was not enabled.\n",
      "Python(90372) MallocStackLogging: can't turn off malloc stack logging because it was not enabled.\n",
      "Processing MP3 files:  16%|█▋        | 66/400 [00:22<01:44,  3.20it/s]"
     ]
    },
    {
     "name": "stdout",
     "output_type": "stream",
     "text": [
      "score: 0.3076923076923077\n"
     ]
    },
    {
     "name": "stderr",
     "output_type": "stream",
     "text": [
      "Python(90373) MallocStackLogging: can't turn off malloc stack logging because it was not enabled.\n",
      "Python(90374) MallocStackLogging: can't turn off malloc stack logging because it was not enabled.\n",
      "Processing MP3 files:  17%|█▋        | 67/400 [00:23<01:44,  3.18it/s]"
     ]
    },
    {
     "name": "stdout",
     "output_type": "stream",
     "text": [
      "score: 0.0\n"
     ]
    },
    {
     "name": "stderr",
     "output_type": "stream",
     "text": [
      "Python(90375) MallocStackLogging: can't turn off malloc stack logging because it was not enabled.\n",
      "Python(90376) MallocStackLogging: can't turn off malloc stack logging because it was not enabled.\n",
      "Processing MP3 files:  17%|█▋        | 68/400 [00:23<01:52,  2.96it/s]"
     ]
    },
    {
     "name": "stdout",
     "output_type": "stream",
     "text": [
      "score: 0.26666666666666666\n"
     ]
    },
    {
     "name": "stderr",
     "output_type": "stream",
     "text": [
      "Python(90377) MallocStackLogging: can't turn off malloc stack logging because it was not enabled.\n",
      "Python(90378) MallocStackLogging: can't turn off malloc stack logging because it was not enabled.\n",
      "Processing MP3 files:  17%|█▋        | 69/400 [00:23<01:52,  2.93it/s]"
     ]
    },
    {
     "name": "stdout",
     "output_type": "stream",
     "text": [
      "score: 0.3\n"
     ]
    },
    {
     "name": "stderr",
     "output_type": "stream",
     "text": [
      "Python(90379) MallocStackLogging: can't turn off malloc stack logging because it was not enabled.\n",
      "Python(90380) MallocStackLogging: can't turn off malloc stack logging because it was not enabled.\n",
      "Processing MP3 files:  18%|█▊        | 70/400 [00:24<01:58,  2.78it/s]"
     ]
    },
    {
     "name": "stdout",
     "output_type": "stream",
     "text": [
      "score: 0.15384615384615385\n"
     ]
    },
    {
     "name": "stderr",
     "output_type": "stream",
     "text": [
      "Python(90381) MallocStackLogging: can't turn off malloc stack logging because it was not enabled.\n",
      "Python(90382) MallocStackLogging: can't turn off malloc stack logging because it was not enabled.\n",
      "Processing MP3 files:  18%|█▊        | 71/400 [00:24<01:52,  2.93it/s]"
     ]
    },
    {
     "name": "stdout",
     "output_type": "stream",
     "text": [
      "score: 0.14285714285714285\n"
     ]
    },
    {
     "name": "stderr",
     "output_type": "stream",
     "text": [
      "Python(90384) MallocStackLogging: can't turn off malloc stack logging because it was not enabled.\n",
      "Python(90385) MallocStackLogging: can't turn off malloc stack logging because it was not enabled.\n",
      "Processing MP3 files:  18%|█▊        | 72/400 [00:24<01:47,  3.05it/s]"
     ]
    },
    {
     "name": "stdout",
     "output_type": "stream",
     "text": [
      "score: 1.0\n"
     ]
    },
    {
     "name": "stderr",
     "output_type": "stream",
     "text": [
      "Python(90386) MallocStackLogging: can't turn off malloc stack logging because it was not enabled.\n",
      "Python(90387) MallocStackLogging: can't turn off malloc stack logging because it was not enabled.\n",
      "Processing MP3 files:  18%|█▊        | 73/400 [00:25<01:47,  3.04it/s]"
     ]
    },
    {
     "name": "stdout",
     "output_type": "stream",
     "text": [
      "score: 0.09090909090909091\n"
     ]
    },
    {
     "name": "stderr",
     "output_type": "stream",
     "text": [
      "Python(90388) MallocStackLogging: can't turn off malloc stack logging because it was not enabled.\n",
      "Python(90389) MallocStackLogging: can't turn off malloc stack logging because it was not enabled.\n",
      "Processing MP3 files:  18%|█▊        | 74/400 [00:25<01:44,  3.13it/s]"
     ]
    },
    {
     "name": "stdout",
     "output_type": "stream",
     "text": [
      "score: 0.5714285714285714\n"
     ]
    },
    {
     "name": "stderr",
     "output_type": "stream",
     "text": [
      "Python(90390) MallocStackLogging: can't turn off malloc stack logging because it was not enabled.\n",
      "Python(90392) MallocStackLogging: can't turn off malloc stack logging because it was not enabled.\n",
      "Processing MP3 files:  19%|█▉        | 75/400 [00:26<02:12,  2.45it/s]"
     ]
    },
    {
     "name": "stdout",
     "output_type": "stream",
     "text": [
      "score: 0.5714285714285714\n"
     ]
    },
    {
     "name": "stderr",
     "output_type": "stream",
     "text": [
      "Python(90393) MallocStackLogging: can't turn off malloc stack logging because it was not enabled.\n",
      "Python(90394) MallocStackLogging: can't turn off malloc stack logging because it was not enabled.\n",
      "Processing MP3 files:  19%|█▉        | 76/400 [00:26<02:12,  2.45it/s]"
     ]
    },
    {
     "name": "stdout",
     "output_type": "stream",
     "text": [
      "score: 0.0\n"
     ]
    },
    {
     "name": "stderr",
     "output_type": "stream",
     "text": [
      "Python(90395) MallocStackLogging: can't turn off malloc stack logging because it was not enabled.\n",
      "Python(90396) MallocStackLogging: can't turn off malloc stack logging because it was not enabled.\n",
      "Processing MP3 files:  19%|█▉        | 77/400 [00:26<02:07,  2.54it/s]"
     ]
    },
    {
     "name": "stdout",
     "output_type": "stream",
     "text": [
      "score: 0.058823529411764705\n"
     ]
    },
    {
     "name": "stderr",
     "output_type": "stream",
     "text": [
      "Python(90397) MallocStackLogging: can't turn off malloc stack logging because it was not enabled.\n",
      "Python(90398) MallocStackLogging: can't turn off malloc stack logging because it was not enabled.\n",
      "Processing MP3 files:  20%|█▉        | 78/400 [00:27<02:13,  2.42it/s]"
     ]
    },
    {
     "name": "stdout",
     "output_type": "stream",
     "text": [
      "score: 0.7142857142857143\n"
     ]
    },
    {
     "name": "stderr",
     "output_type": "stream",
     "text": [
      "Python(90399) MallocStackLogging: can't turn off malloc stack logging because it was not enabled.\n",
      "Python(90400) MallocStackLogging: can't turn off malloc stack logging because it was not enabled.\n",
      "Processing MP3 files:  20%|█▉        | 79/400 [00:27<02:03,  2.59it/s]"
     ]
    },
    {
     "name": "stdout",
     "output_type": "stream",
     "text": [
      "score: 0.8333333333333334\n"
     ]
    },
    {
     "name": "stderr",
     "output_type": "stream",
     "text": [
      "Python(90401) MallocStackLogging: can't turn off malloc stack logging because it was not enabled.\n",
      "Python(90402) MallocStackLogging: can't turn off malloc stack logging because it was not enabled.\n",
      "Processing MP3 files:  20%|██        | 80/400 [00:28<02:13,  2.39it/s]"
     ]
    },
    {
     "name": "stdout",
     "output_type": "stream",
     "text": [
      "score: 0.2\n"
     ]
    },
    {
     "name": "stderr",
     "output_type": "stream",
     "text": [
      "Python(90404) MallocStackLogging: can't turn off malloc stack logging because it was not enabled.\n",
      "Python(90405) MallocStackLogging: can't turn off malloc stack logging because it was not enabled.\n",
      "Processing MP3 files:  20%|██        | 81/400 [00:28<02:02,  2.60it/s]"
     ]
    },
    {
     "name": "stdout",
     "output_type": "stream",
     "text": [
      "score: 0.0\n"
     ]
    },
    {
     "name": "stderr",
     "output_type": "stream",
     "text": [
      "Python(90406) MallocStackLogging: can't turn off malloc stack logging because it was not enabled.\n",
      "Python(90407) MallocStackLogging: can't turn off malloc stack logging because it was not enabled.\n",
      "Processing MP3 files:  20%|██        | 82/400 [00:28<01:54,  2.79it/s]"
     ]
    },
    {
     "name": "stdout",
     "output_type": "stream",
     "text": [
      "score: 0.0\n"
     ]
    },
    {
     "name": "stderr",
     "output_type": "stream",
     "text": [
      "Python(90408) MallocStackLogging: can't turn off malloc stack logging because it was not enabled.\n",
      "Python(90409) MallocStackLogging: can't turn off malloc stack logging because it was not enabled.\n",
      "Processing MP3 files:  21%|██        | 83/400 [00:29<01:50,  2.87it/s]"
     ]
    },
    {
     "name": "stdout",
     "output_type": "stream",
     "text": [
      "score: 0.0\n"
     ]
    },
    {
     "name": "stderr",
     "output_type": "stream",
     "text": [
      "Python(90410) MallocStackLogging: can't turn off malloc stack logging because it was not enabled.\n",
      "Python(90411) MallocStackLogging: can't turn off malloc stack logging because it was not enabled.\n",
      "Processing MP3 files:  21%|██        | 84/400 [00:29<01:42,  3.09it/s]"
     ]
    },
    {
     "name": "stdout",
     "output_type": "stream",
     "text": [
      "score: 0.0\n"
     ]
    },
    {
     "name": "stderr",
     "output_type": "stream",
     "text": [
      "Python(90412) MallocStackLogging: can't turn off malloc stack logging because it was not enabled.\n",
      "Python(90415) MallocStackLogging: can't turn off malloc stack logging because it was not enabled.\n",
      "Processing MP3 files:  21%|██▏       | 85/400 [00:29<01:35,  3.30it/s]"
     ]
    },
    {
     "name": "stdout",
     "output_type": "stream",
     "text": [
      "score: 0.25\n"
     ]
    },
    {
     "name": "stderr",
     "output_type": "stream",
     "text": [
      "Python(90416) MallocStackLogging: can't turn off malloc stack logging because it was not enabled.\n",
      "Python(90417) MallocStackLogging: can't turn off malloc stack logging because it was not enabled.\n",
      "Processing MP3 files:  22%|██▏       | 86/400 [00:30<01:44,  3.01it/s]"
     ]
    },
    {
     "name": "stdout",
     "output_type": "stream",
     "text": [
      "score: 0.0625\n"
     ]
    },
    {
     "name": "stderr",
     "output_type": "stream",
     "text": [
      "Python(90418) MallocStackLogging: can't turn off malloc stack logging because it was not enabled.\n",
      "Python(90419) MallocStackLogging: can't turn off malloc stack logging because it was not enabled.\n",
      "Processing MP3 files:  22%|██▏       | 87/400 [00:30<01:53,  2.76it/s]"
     ]
    },
    {
     "name": "stdout",
     "output_type": "stream",
     "text": [
      "score: 0.3076923076923077\n"
     ]
    },
    {
     "name": "stderr",
     "output_type": "stream",
     "text": [
      "Python(90420) MallocStackLogging: can't turn off malloc stack logging because it was not enabled.\n",
      "Python(90421) MallocStackLogging: can't turn off malloc stack logging because it was not enabled.\n",
      "Processing MP3 files:  22%|██▏       | 88/400 [00:30<01:54,  2.72it/s]"
     ]
    },
    {
     "name": "stdout",
     "output_type": "stream",
     "text": [
      "score: 0.2\n"
     ]
    },
    {
     "name": "stderr",
     "output_type": "stream",
     "text": [
      "Python(90424) MallocStackLogging: can't turn off malloc stack logging because it was not enabled.\n",
      "Python(90425) MallocStackLogging: can't turn off malloc stack logging because it was not enabled.\n",
      "Processing MP3 files:  22%|██▏       | 89/400 [00:31<01:52,  2.76it/s]"
     ]
    },
    {
     "name": "stdout",
     "output_type": "stream",
     "text": [
      "score: 0.15384615384615385\n"
     ]
    },
    {
     "name": "stderr",
     "output_type": "stream",
     "text": [
      "Python(90427) MallocStackLogging: can't turn off malloc stack logging because it was not enabled.\n",
      "Python(90428) MallocStackLogging: can't turn off malloc stack logging because it was not enabled.\n",
      "Processing MP3 files:  22%|██▎       | 90/400 [00:31<01:52,  2.76it/s]"
     ]
    },
    {
     "name": "stdout",
     "output_type": "stream",
     "text": [
      "score: 0.14285714285714285\n"
     ]
    },
    {
     "name": "stderr",
     "output_type": "stream",
     "text": [
      "Python(90429) MallocStackLogging: can't turn off malloc stack logging because it was not enabled.\n",
      "Python(90430) MallocStackLogging: can't turn off malloc stack logging because it was not enabled.\n",
      "Processing MP3 files:  23%|██▎       | 91/400 [00:32<01:54,  2.69it/s]"
     ]
    },
    {
     "name": "stdout",
     "output_type": "stream",
     "text": [
      "score: 0.26666666666666666\n"
     ]
    },
    {
     "name": "stderr",
     "output_type": "stream",
     "text": [
      "Python(90432) MallocStackLogging: can't turn off malloc stack logging because it was not enabled.\n",
      "Python(90433) MallocStackLogging: can't turn off malloc stack logging because it was not enabled.\n",
      "Processing MP3 files:  23%|██▎       | 92/400 [00:32<01:47,  2.85it/s]"
     ]
    },
    {
     "name": "stdout",
     "output_type": "stream",
     "text": [
      "score: 0.25\n"
     ]
    },
    {
     "name": "stderr",
     "output_type": "stream",
     "text": [
      "Python(90434) MallocStackLogging: can't turn off malloc stack logging because it was not enabled.\n",
      "Python(90435) MallocStackLogging: can't turn off malloc stack logging because it was not enabled.\n",
      "Processing MP3 files:  23%|██▎       | 93/400 [00:32<01:39,  3.09it/s]"
     ]
    },
    {
     "name": "stdout",
     "output_type": "stream",
     "text": [
      "score: 0.0\n"
     ]
    },
    {
     "name": "stderr",
     "output_type": "stream",
     "text": [
      "Python(90436) MallocStackLogging: can't turn off malloc stack logging because it was not enabled.\n",
      "Python(90437) MallocStackLogging: can't turn off malloc stack logging because it was not enabled.\n",
      "Processing MP3 files:  24%|██▎       | 94/400 [00:32<01:37,  3.14it/s]"
     ]
    },
    {
     "name": "stdout",
     "output_type": "stream",
     "text": [
      "score: 0.5714285714285714\n"
     ]
    },
    {
     "name": "stderr",
     "output_type": "stream",
     "text": [
      "Python(90438) MallocStackLogging: can't turn off malloc stack logging because it was not enabled.\n",
      "Python(90439) MallocStackLogging: can't turn off malloc stack logging because it was not enabled.\n",
      "Processing MP3 files:  24%|██▍       | 95/400 [00:33<01:36,  3.15it/s]"
     ]
    },
    {
     "name": "stdout",
     "output_type": "stream",
     "text": [
      "score: 0.18181818181818182\n"
     ]
    },
    {
     "name": "stderr",
     "output_type": "stream",
     "text": [
      "Python(90440) MallocStackLogging: can't turn off malloc stack logging because it was not enabled.\n",
      "Python(90441) MallocStackLogging: can't turn off malloc stack logging because it was not enabled.\n",
      "Processing MP3 files:  24%|██▍       | 96/400 [00:33<01:41,  3.00it/s]"
     ]
    },
    {
     "name": "stdout",
     "output_type": "stream",
     "text": [
      "score: 0.1875\n"
     ]
    },
    {
     "name": "stderr",
     "output_type": "stream",
     "text": [
      "Python(90442) MallocStackLogging: can't turn off malloc stack logging because it was not enabled.\n",
      "Python(90443) MallocStackLogging: can't turn off malloc stack logging because it was not enabled.\n",
      "Processing MP3 files:  24%|██▍       | 97/400 [00:33<01:42,  2.96it/s]"
     ]
    },
    {
     "name": "stdout",
     "output_type": "stream",
     "text": [
      "score: 0.23076923076923078\n"
     ]
    },
    {
     "name": "stderr",
     "output_type": "stream",
     "text": [
      "Python(90444) MallocStackLogging: can't turn off malloc stack logging because it was not enabled.\n",
      "Python(90445) MallocStackLogging: can't turn off malloc stack logging because it was not enabled.\n",
      "Processing MP3 files:  24%|██▍       | 98/400 [00:34<01:41,  2.98it/s]"
     ]
    },
    {
     "name": "stdout",
     "output_type": "stream",
     "text": [
      "score: 0.09090909090909091\n"
     ]
    },
    {
     "name": "stderr",
     "output_type": "stream",
     "text": [
      "Python(90446) MallocStackLogging: can't turn off malloc stack logging because it was not enabled.\n",
      "Python(90447) MallocStackLogging: can't turn off malloc stack logging because it was not enabled.\n",
      "Processing MP3 files:  25%|██▍       | 99/400 [00:34<01:32,  3.26it/s]"
     ]
    },
    {
     "name": "stdout",
     "output_type": "stream",
     "text": [
      "score: 0.0\n"
     ]
    },
    {
     "name": "stderr",
     "output_type": "stream",
     "text": [
      "Python(90448) MallocStackLogging: can't turn off malloc stack logging because it was not enabled.\n",
      "Python(90449) MallocStackLogging: can't turn off malloc stack logging because it was not enabled.\n",
      "Processing MP3 files:  25%|██▌       | 100/400 [00:34<01:35,  3.13it/s]"
     ]
    },
    {
     "name": "stdout",
     "output_type": "stream",
     "text": [
      "score: 0.1111111111111111\n"
     ]
    },
    {
     "name": "stderr",
     "output_type": "stream",
     "text": [
      "Python(90450) MallocStackLogging: can't turn off malloc stack logging because it was not enabled.\n",
      "Python(90451) MallocStackLogging: can't turn off malloc stack logging because it was not enabled.\n",
      "Processing MP3 files:  25%|██▌       | 101/400 [00:35<01:36,  3.10it/s]"
     ]
    },
    {
     "name": "stdout",
     "output_type": "stream",
     "text": [
      "score: 0.21428571428571427\n"
     ]
    },
    {
     "name": "stderr",
     "output_type": "stream",
     "text": [
      "Python(90452) MallocStackLogging: can't turn off malloc stack logging because it was not enabled.\n",
      "Python(90453) MallocStackLogging: can't turn off malloc stack logging because it was not enabled.\n",
      "Processing MP3 files:  26%|██▌       | 102/400 [00:35<01:32,  3.23it/s]"
     ]
    },
    {
     "name": "stdout",
     "output_type": "stream",
     "text": [
      "score: 0.5\n"
     ]
    },
    {
     "name": "stderr",
     "output_type": "stream",
     "text": [
      "Python(90454) MallocStackLogging: can't turn off malloc stack logging because it was not enabled.\n",
      "Python(90455) MallocStackLogging: can't turn off malloc stack logging because it was not enabled.\n",
      "Processing MP3 files:  26%|██▌       | 103/400 [00:35<01:31,  3.24it/s]"
     ]
    },
    {
     "name": "stdout",
     "output_type": "stream",
     "text": [
      "score: 0.5555555555555556\n"
     ]
    },
    {
     "name": "stderr",
     "output_type": "stream",
     "text": [
      "Python(90456) MallocStackLogging: can't turn off malloc stack logging because it was not enabled.\n",
      "Python(90457) MallocStackLogging: can't turn off malloc stack logging because it was not enabled.\n",
      "Processing MP3 files:  26%|██▌       | 104/400 [00:36<01:26,  3.42it/s]"
     ]
    },
    {
     "name": "stdout",
     "output_type": "stream",
     "text": [
      "score: 0.2\n"
     ]
    },
    {
     "name": "stderr",
     "output_type": "stream",
     "text": [
      "Python(90458) MallocStackLogging: can't turn off malloc stack logging because it was not enabled.\n",
      "Python(90459) MallocStackLogging: can't turn off malloc stack logging because it was not enabled.\n",
      "Processing MP3 files:  26%|██▋       | 105/400 [00:36<01:23,  3.53it/s]"
     ]
    },
    {
     "name": "stdout",
     "output_type": "stream",
     "text": [
      "score: 0.25\n"
     ]
    },
    {
     "name": "stderr",
     "output_type": "stream",
     "text": [
      "Python(90460) MallocStackLogging: can't turn off malloc stack logging because it was not enabled.\n",
      "Python(90461) MallocStackLogging: can't turn off malloc stack logging because it was not enabled.\n",
      "Processing MP3 files:  26%|██▋       | 106/400 [00:36<01:25,  3.42it/s]"
     ]
    },
    {
     "name": "stdout",
     "output_type": "stream",
     "text": [
      "score: 0.23076923076923078\n"
     ]
    },
    {
     "name": "stderr",
     "output_type": "stream",
     "text": [
      "Python(90462) MallocStackLogging: can't turn off malloc stack logging because it was not enabled.\n",
      "Python(90463) MallocStackLogging: can't turn off malloc stack logging because it was not enabled.\n",
      "Processing MP3 files:  27%|██▋       | 107/400 [00:37<01:36,  3.05it/s]"
     ]
    },
    {
     "name": "stdout",
     "output_type": "stream",
     "text": [
      "score: 0.0625\n"
     ]
    },
    {
     "name": "stderr",
     "output_type": "stream",
     "text": [
      "Python(90464) MallocStackLogging: can't turn off malloc stack logging because it was not enabled.\n",
      "Python(90465) MallocStackLogging: can't turn off malloc stack logging because it was not enabled.\n",
      "Processing MP3 files:  27%|██▋       | 108/400 [00:37<01:59,  2.44it/s]"
     ]
    },
    {
     "name": "stdout",
     "output_type": "stream",
     "text": [
      "score: 0.14285714285714285\n"
     ]
    },
    {
     "name": "stderr",
     "output_type": "stream",
     "text": [
      "Python(90466) MallocStackLogging: can't turn off malloc stack logging because it was not enabled.\n",
      "Python(90467) MallocStackLogging: can't turn off malloc stack logging because it was not enabled.\n",
      "Processing MP3 files:  27%|██▋       | 109/400 [00:37<01:56,  2.50it/s]"
     ]
    },
    {
     "name": "stdout",
     "output_type": "stream",
     "text": [
      "score: 0.3\n"
     ]
    },
    {
     "name": "stderr",
     "output_type": "stream",
     "text": [
      "Python(90468) MallocStackLogging: can't turn off malloc stack logging because it was not enabled.\n",
      "Python(90469) MallocStackLogging: can't turn off malloc stack logging because it was not enabled.\n",
      "Processing MP3 files:  28%|██▊       | 110/400 [00:38<01:45,  2.74it/s]"
     ]
    },
    {
     "name": "stdout",
     "output_type": "stream",
     "text": [
      "score: 0.14285714285714285\n"
     ]
    },
    {
     "name": "stderr",
     "output_type": "stream",
     "text": [
      "Python(90470) MallocStackLogging: can't turn off malloc stack logging because it was not enabled.\n",
      "Python(90471) MallocStackLogging: can't turn off malloc stack logging because it was not enabled.\n",
      "Processing MP3 files:  28%|██▊       | 111/400 [00:38<01:42,  2.81it/s]"
     ]
    },
    {
     "name": "stdout",
     "output_type": "stream",
     "text": [
      "score: 0.14285714285714285\n"
     ]
    },
    {
     "name": "stderr",
     "output_type": "stream",
     "text": [
      "Python(90474) MallocStackLogging: can't turn off malloc stack logging because it was not enabled.\n",
      "Python(90475) MallocStackLogging: can't turn off malloc stack logging because it was not enabled.\n",
      "Processing MP3 files:  28%|██▊       | 112/400 [00:38<01:36,  2.98it/s]"
     ]
    },
    {
     "name": "stdout",
     "output_type": "stream",
     "text": [
      "score: 0.08333333333333333\n"
     ]
    },
    {
     "name": "stderr",
     "output_type": "stream",
     "text": [
      "Python(90476) MallocStackLogging: can't turn off malloc stack logging because it was not enabled.\n",
      "Python(90477) MallocStackLogging: can't turn off malloc stack logging because it was not enabled.\n",
      "Processing MP3 files:  28%|██▊       | 113/400 [00:39<01:25,  3.34it/s]"
     ]
    },
    {
     "name": "stdout",
     "output_type": "stream",
     "text": [
      "score: 0.0\n"
     ]
    },
    {
     "name": "stderr",
     "output_type": "stream",
     "text": [
      "Python(90478) MallocStackLogging: can't turn off malloc stack logging because it was not enabled.\n",
      "Python(90479) MallocStackLogging: can't turn off malloc stack logging because it was not enabled.\n",
      "Processing MP3 files:  28%|██▊       | 114/400 [00:39<01:24,  3.39it/s]"
     ]
    },
    {
     "name": "stdout",
     "output_type": "stream",
     "text": [
      "score: 0.8888888888888888\n"
     ]
    },
    {
     "name": "stderr",
     "output_type": "stream",
     "text": [
      "Python(90480) MallocStackLogging: can't turn off malloc stack logging because it was not enabled.\n",
      "Python(90481) MallocStackLogging: can't turn off malloc stack logging because it was not enabled.\n",
      "Processing MP3 files:  29%|██▉       | 115/400 [00:39<01:29,  3.19it/s]"
     ]
    },
    {
     "name": "stdout",
     "output_type": "stream",
     "text": [
      "score: 0.4\n"
     ]
    },
    {
     "name": "stderr",
     "output_type": "stream",
     "text": [
      "Python(90482) MallocStackLogging: can't turn off malloc stack logging because it was not enabled.\n",
      "Python(90483) MallocStackLogging: can't turn off malloc stack logging because it was not enabled.\n",
      "Processing MP3 files:  29%|██▉       | 116/400 [00:40<01:30,  3.13it/s]"
     ]
    },
    {
     "name": "stdout",
     "output_type": "stream",
     "text": [
      "score: 0.0\n"
     ]
    },
    {
     "name": "stderr",
     "output_type": "stream",
     "text": [
      "Python(90484) MallocStackLogging: can't turn off malloc stack logging because it was not enabled.\n",
      "Python(90485) MallocStackLogging: can't turn off malloc stack logging because it was not enabled.\n",
      "Processing MP3 files:  29%|██▉       | 117/400 [00:40<01:28,  3.20it/s]"
     ]
    },
    {
     "name": "stdout",
     "output_type": "stream",
     "text": [
      "score: 0.2857142857142857\n"
     ]
    },
    {
     "name": "stderr",
     "output_type": "stream",
     "text": [
      "Python(90486) MallocStackLogging: can't turn off malloc stack logging because it was not enabled.\n",
      "Python(90487) MallocStackLogging: can't turn off malloc stack logging because it was not enabled.\n",
      "Processing MP3 files:  30%|██▉       | 118/400 [00:40<01:25,  3.30it/s]"
     ]
    },
    {
     "name": "stdout",
     "output_type": "stream",
     "text": [
      "score: 1.0\n"
     ]
    },
    {
     "name": "stderr",
     "output_type": "stream",
     "text": [
      "Python(90488) MallocStackLogging: can't turn off malloc stack logging because it was not enabled.\n",
      "Python(90489) MallocStackLogging: can't turn off malloc stack logging because it was not enabled.\n",
      "Processing MP3 files:  30%|██▉       | 119/400 [00:40<01:21,  3.45it/s]"
     ]
    },
    {
     "name": "stdout",
     "output_type": "stream",
     "text": [
      "score: 0.2\n"
     ]
    },
    {
     "name": "stderr",
     "output_type": "stream",
     "text": [
      "Python(90490) MallocStackLogging: can't turn off malloc stack logging because it was not enabled.\n",
      "Python(90491) MallocStackLogging: can't turn off malloc stack logging because it was not enabled.\n",
      "Processing MP3 files:  30%|███       | 120/400 [00:41<01:33,  3.00it/s]"
     ]
    },
    {
     "name": "stdout",
     "output_type": "stream",
     "text": [
      "score: 0.0\n"
     ]
    },
    {
     "name": "stderr",
     "output_type": "stream",
     "text": [
      "Python(90492) MallocStackLogging: can't turn off malloc stack logging because it was not enabled.\n",
      "Python(90493) MallocStackLogging: can't turn off malloc stack logging because it was not enabled.\n",
      "Processing MP3 files:  30%|███       | 121/400 [00:41<01:29,  3.11it/s]"
     ]
    },
    {
     "name": "stdout",
     "output_type": "stream",
     "text": [
      "score: 0.16666666666666666\n"
     ]
    },
    {
     "name": "stderr",
     "output_type": "stream",
     "text": [
      "Python(90494) MallocStackLogging: can't turn off malloc stack logging because it was not enabled.\n",
      "Python(90495) MallocStackLogging: can't turn off malloc stack logging because it was not enabled.\n",
      "Processing MP3 files:  30%|███       | 122/400 [00:41<01:30,  3.07it/s]"
     ]
    },
    {
     "name": "stdout",
     "output_type": "stream",
     "text": [
      "score: 0.16666666666666666\n"
     ]
    },
    {
     "name": "stderr",
     "output_type": "stream",
     "text": [
      "Python(90496) MallocStackLogging: can't turn off malloc stack logging because it was not enabled.\n",
      "Python(90497) MallocStackLogging: can't turn off malloc stack logging because it was not enabled.\n",
      "Processing MP3 files:  31%|███       | 123/400 [00:42<01:26,  3.19it/s]"
     ]
    },
    {
     "name": "stdout",
     "output_type": "stream",
     "text": [
      "score: 0.625\n"
     ]
    },
    {
     "name": "stderr",
     "output_type": "stream",
     "text": [
      "Python(90498) MallocStackLogging: can't turn off malloc stack logging because it was not enabled.\n",
      "Python(90499) MallocStackLogging: can't turn off malloc stack logging because it was not enabled.\n",
      "Processing MP3 files:  31%|███       | 124/400 [00:42<01:22,  3.34it/s]"
     ]
    },
    {
     "name": "stdout",
     "output_type": "stream",
     "text": [
      "score: 0.16666666666666666\n"
     ]
    },
    {
     "name": "stderr",
     "output_type": "stream",
     "text": [
      "Python(90500) MallocStackLogging: can't turn off malloc stack logging because it was not enabled.\n",
      "Python(90501) MallocStackLogging: can't turn off malloc stack logging because it was not enabled.\n",
      "Processing MP3 files:  31%|███▏      | 125/400 [00:43<02:30,  1.83it/s]"
     ]
    },
    {
     "name": "stdout",
     "output_type": "stream",
     "text": [
      "score: 0.3125\n"
     ]
    },
    {
     "name": "stderr",
     "output_type": "stream",
     "text": [
      "Python(90502) MallocStackLogging: can't turn off malloc stack logging because it was not enabled.\n",
      "Python(90503) MallocStackLogging: can't turn off malloc stack logging because it was not enabled.\n",
      "Processing MP3 files:  32%|███▏      | 126/400 [00:43<02:08,  2.13it/s]"
     ]
    },
    {
     "name": "stdout",
     "output_type": "stream",
     "text": [
      "score: 0.8571428571428571\n"
     ]
    },
    {
     "name": "stderr",
     "output_type": "stream",
     "text": [
      "Python(90504) MallocStackLogging: can't turn off malloc stack logging because it was not enabled.\n",
      "Python(90505) MallocStackLogging: can't turn off malloc stack logging because it was not enabled.\n",
      "Processing MP3 files:  32%|███▏      | 127/400 [00:44<02:08,  2.13it/s]"
     ]
    },
    {
     "name": "stdout",
     "output_type": "stream",
     "text": [
      "score: 0.0\n"
     ]
    },
    {
     "name": "stderr",
     "output_type": "stream",
     "text": [
      "Python(90506) MallocStackLogging: can't turn off malloc stack logging because it was not enabled.\n",
      "Python(90507) MallocStackLogging: can't turn off malloc stack logging because it was not enabled.\n",
      "Processing MP3 files:  32%|███▏      | 128/400 [00:44<01:50,  2.45it/s]"
     ]
    },
    {
     "name": "stdout",
     "output_type": "stream",
     "text": [
      "score: 0.16666666666666666\n"
     ]
    },
    {
     "name": "stderr",
     "output_type": "stream",
     "text": [
      "Python(90508) MallocStackLogging: can't turn off malloc stack logging because it was not enabled.\n",
      "Python(90509) MallocStackLogging: can't turn off malloc stack logging because it was not enabled.\n",
      "Processing MP3 files:  32%|███▏      | 129/400 [00:45<01:54,  2.36it/s]"
     ]
    },
    {
     "name": "stdout",
     "output_type": "stream",
     "text": [
      "score: 0.0\n"
     ]
    },
    {
     "name": "stderr",
     "output_type": "stream",
     "text": [
      "Python(90510) MallocStackLogging: can't turn off malloc stack logging because it was not enabled.\n",
      "Python(90511) MallocStackLogging: can't turn off malloc stack logging because it was not enabled.\n",
      "Processing MP3 files:  32%|███▎      | 130/400 [00:45<01:50,  2.45it/s]"
     ]
    },
    {
     "name": "stdout",
     "output_type": "stream",
     "text": [
      "score: 0.6\n"
     ]
    },
    {
     "name": "stderr",
     "output_type": "stream",
     "text": [
      "Python(90512) MallocStackLogging: can't turn off malloc stack logging because it was not enabled.\n",
      "Python(90513) MallocStackLogging: can't turn off malloc stack logging because it was not enabled.\n",
      "Processing MP3 files:  33%|███▎      | 131/400 [00:45<01:41,  2.65it/s]"
     ]
    },
    {
     "name": "stdout",
     "output_type": "stream",
     "text": [
      "score: 0.0\n"
     ]
    },
    {
     "name": "stderr",
     "output_type": "stream",
     "text": [
      "Python(90514) MallocStackLogging: can't turn off malloc stack logging because it was not enabled.\n",
      "Python(90515) MallocStackLogging: can't turn off malloc stack logging because it was not enabled.\n",
      "Processing MP3 files:  33%|███▎      | 132/400 [00:46<01:30,  2.95it/s]"
     ]
    },
    {
     "name": "stdout",
     "output_type": "stream",
     "text": [
      "score: 1.0\n"
     ]
    },
    {
     "name": "stderr",
     "output_type": "stream",
     "text": [
      "Python(90516) MallocStackLogging: can't turn off malloc stack logging because it was not enabled.\n",
      "Python(90517) MallocStackLogging: can't turn off malloc stack logging because it was not enabled.\n",
      "Processing MP3 files:  33%|███▎      | 133/400 [00:46<01:32,  2.89it/s]"
     ]
    },
    {
     "name": "stdout",
     "output_type": "stream",
     "text": [
      "score: 0.2\n"
     ]
    },
    {
     "name": "stderr",
     "output_type": "stream",
     "text": [
      "Python(90518) MallocStackLogging: can't turn off malloc stack logging because it was not enabled.\n",
      "Python(90519) MallocStackLogging: can't turn off malloc stack logging because it was not enabled.\n",
      "Processing MP3 files:  34%|███▎      | 134/400 [00:46<01:33,  2.84it/s]"
     ]
    },
    {
     "name": "stdout",
     "output_type": "stream",
     "text": [
      "score: 0.5454545454545454\n"
     ]
    },
    {
     "name": "stderr",
     "output_type": "stream",
     "text": [
      "Python(90520) MallocStackLogging: can't turn off malloc stack logging because it was not enabled.\n",
      "Python(90521) MallocStackLogging: can't turn off malloc stack logging because it was not enabled.\n",
      "Processing MP3 files:  34%|███▍      | 135/400 [00:47<02:02,  2.16it/s]"
     ]
    },
    {
     "name": "stdout",
     "output_type": "stream",
     "text": [
      "score: 0.7857142857142857\n"
     ]
    },
    {
     "name": "stderr",
     "output_type": "stream",
     "text": [
      "Python(90522) MallocStackLogging: can't turn off malloc stack logging because it was not enabled.\n",
      "Python(90523) MallocStackLogging: can't turn off malloc stack logging because it was not enabled.\n",
      "Processing MP3 files:  34%|███▍      | 136/400 [00:47<01:51,  2.37it/s]"
     ]
    },
    {
     "name": "stdout",
     "output_type": "stream",
     "text": [
      "score: 0.4\n"
     ]
    },
    {
     "name": "stderr",
     "output_type": "stream",
     "text": [
      "Python(90524) MallocStackLogging: can't turn off malloc stack logging because it was not enabled.\n",
      "Python(90525) MallocStackLogging: can't turn off malloc stack logging because it was not enabled.\n",
      "Processing MP3 files:  34%|███▍      | 137/400 [00:48<01:43,  2.53it/s]"
     ]
    },
    {
     "name": "stdout",
     "output_type": "stream",
     "text": [
      "score: 0.625\n"
     ]
    },
    {
     "name": "stderr",
     "output_type": "stream",
     "text": [
      "Python(90526) MallocStackLogging: can't turn off malloc stack logging because it was not enabled.\n",
      "Python(90527) MallocStackLogging: can't turn off malloc stack logging because it was not enabled.\n",
      "Processing MP3 files:  34%|███▍      | 138/400 [00:48<01:39,  2.62it/s]"
     ]
    },
    {
     "name": "stdout",
     "output_type": "stream",
     "text": [
      "score: 0.35294117647058826\n"
     ]
    },
    {
     "name": "stderr",
     "output_type": "stream",
     "text": [
      "Python(90528) MallocStackLogging: can't turn off malloc stack logging because it was not enabled.\n",
      "Python(90529) MallocStackLogging: can't turn off malloc stack logging because it was not enabled.\n",
      "Processing MP3 files:  35%|███▍      | 139/400 [00:48<01:31,  2.86it/s]"
     ]
    },
    {
     "name": "stdout",
     "output_type": "stream",
     "text": [
      "score: 0.1111111111111111\n"
     ]
    },
    {
     "name": "stderr",
     "output_type": "stream",
     "text": [
      "Python(90530) MallocStackLogging: can't turn off malloc stack logging because it was not enabled.\n",
      "Python(90531) MallocStackLogging: can't turn off malloc stack logging because it was not enabled.\n",
      "Processing MP3 files:  35%|███▌      | 140/400 [00:49<01:23,  3.11it/s]"
     ]
    },
    {
     "name": "stdout",
     "output_type": "stream",
     "text": [
      "score: 0.8\n"
     ]
    },
    {
     "name": "stderr",
     "output_type": "stream",
     "text": [
      "Python(90532) MallocStackLogging: can't turn off malloc stack logging because it was not enabled.\n",
      "Python(90533) MallocStackLogging: can't turn off malloc stack logging because it was not enabled.\n",
      "Processing MP3 files:  35%|███▌      | 141/400 [00:49<01:23,  3.10it/s]"
     ]
    },
    {
     "name": "stdout",
     "output_type": "stream",
     "text": [
      "score: 0.0\n"
     ]
    },
    {
     "name": "stderr",
     "output_type": "stream",
     "text": [
      "Python(90534) MallocStackLogging: can't turn off malloc stack logging because it was not enabled.\n",
      "Python(90535) MallocStackLogging: can't turn off malloc stack logging because it was not enabled.\n",
      "Processing MP3 files:  36%|███▌      | 142/400 [00:49<01:26,  3.00it/s]"
     ]
    },
    {
     "name": "stdout",
     "output_type": "stream",
     "text": [
      "score: 0.0\n"
     ]
    },
    {
     "name": "stderr",
     "output_type": "stream",
     "text": [
      "Python(90536) MallocStackLogging: can't turn off malloc stack logging because it was not enabled.\n",
      "Python(90537) MallocStackLogging: can't turn off malloc stack logging because it was not enabled.\n",
      "Processing MP3 files:  36%|███▌      | 143/400 [00:50<01:24,  3.03it/s]"
     ]
    },
    {
     "name": "stdout",
     "output_type": "stream",
     "text": [
      "score: 0.9230769230769231\n"
     ]
    },
    {
     "name": "stderr",
     "output_type": "stream",
     "text": [
      "Python(90538) MallocStackLogging: can't turn off malloc stack logging because it was not enabled.\n",
      "Python(90539) MallocStackLogging: can't turn off malloc stack logging because it was not enabled.\n",
      "Processing MP3 files:  36%|███▌      | 144/400 [00:50<01:20,  3.19it/s]"
     ]
    },
    {
     "name": "stdout",
     "output_type": "stream",
     "text": [
      "score: 0.6\n"
     ]
    },
    {
     "name": "stderr",
     "output_type": "stream",
     "text": [
      "Python(90540) MallocStackLogging: can't turn off malloc stack logging because it was not enabled.\n",
      "Python(90541) MallocStackLogging: can't turn off malloc stack logging because it was not enabled.\n",
      "Processing MP3 files:  36%|███▋      | 145/400 [00:50<01:22,  3.08it/s]"
     ]
    },
    {
     "name": "stdout",
     "output_type": "stream",
     "text": [
      "score: 0.4166666666666667\n"
     ]
    },
    {
     "name": "stderr",
     "output_type": "stream",
     "text": [
      "Python(90542) MallocStackLogging: can't turn off malloc stack logging because it was not enabled.\n",
      "Python(90543) MallocStackLogging: can't turn off malloc stack logging because it was not enabled.\n",
      "Processing MP3 files:  36%|███▋      | 146/400 [00:51<01:24,  3.01it/s]"
     ]
    },
    {
     "name": "stdout",
     "output_type": "stream",
     "text": [
      "score: 0.2727272727272727\n"
     ]
    },
    {
     "name": "stderr",
     "output_type": "stream",
     "text": [
      "Python(90544) MallocStackLogging: can't turn off malloc stack logging because it was not enabled.\n",
      "Python(90545) MallocStackLogging: can't turn off malloc stack logging because it was not enabled.\n",
      "Processing MP3 files:  37%|███▋      | 147/400 [00:51<01:18,  3.24it/s]"
     ]
    },
    {
     "name": "stdout",
     "output_type": "stream",
     "text": [
      "score: 0.0\n"
     ]
    },
    {
     "name": "stderr",
     "output_type": "stream",
     "text": [
      "Python(90546) MallocStackLogging: can't turn off malloc stack logging because it was not enabled.\n",
      "Python(90547) MallocStackLogging: can't turn off malloc stack logging because it was not enabled.\n",
      "Processing MP3 files:  37%|███▋      | 148/400 [00:51<01:20,  3.12it/s]"
     ]
    },
    {
     "name": "stdout",
     "output_type": "stream",
     "text": [
      "score: 0.1111111111111111\n"
     ]
    },
    {
     "name": "stderr",
     "output_type": "stream",
     "text": [
      "Python(90548) MallocStackLogging: can't turn off malloc stack logging because it was not enabled.\n",
      "Python(90549) MallocStackLogging: can't turn off malloc stack logging because it was not enabled.\n",
      "Processing MP3 files:  37%|███▋      | 149/400 [00:51<01:18,  3.20it/s]"
     ]
    },
    {
     "name": "stdout",
     "output_type": "stream",
     "text": [
      "score: 0.4444444444444444\n"
     ]
    },
    {
     "name": "stderr",
     "output_type": "stream",
     "text": [
      "Python(90550) MallocStackLogging: can't turn off malloc stack logging because it was not enabled.\n",
      "Python(90551) MallocStackLogging: can't turn off malloc stack logging because it was not enabled.\n",
      "Processing MP3 files:  38%|███▊      | 150/400 [00:52<01:15,  3.31it/s]"
     ]
    },
    {
     "name": "stdout",
     "output_type": "stream",
     "text": [
      "score: 0.3333333333333333\n"
     ]
    },
    {
     "name": "stderr",
     "output_type": "stream",
     "text": [
      "Python(90552) MallocStackLogging: can't turn off malloc stack logging because it was not enabled.\n",
      "Python(90553) MallocStackLogging: can't turn off malloc stack logging because it was not enabled.\n",
      "Processing MP3 files:  38%|███▊      | 151/400 [00:52<01:32,  2.71it/s]"
     ]
    },
    {
     "name": "stdout",
     "output_type": "stream",
     "text": [
      "score: 0.2\n"
     ]
    },
    {
     "name": "stderr",
     "output_type": "stream",
     "text": [
      "Python(90554) MallocStackLogging: can't turn off malloc stack logging because it was not enabled.\n",
      "Python(90555) MallocStackLogging: can't turn off malloc stack logging because it was not enabled.\n",
      "Processing MP3 files:  38%|███▊      | 152/400 [00:53<01:27,  2.83it/s]"
     ]
    },
    {
     "name": "stdout",
     "output_type": "stream",
     "text": [
      "score: 0.75\n"
     ]
    },
    {
     "name": "stderr",
     "output_type": "stream",
     "text": [
      "Python(90556) MallocStackLogging: can't turn off malloc stack logging because it was not enabled.\n",
      "Python(90558) MallocStackLogging: can't turn off malloc stack logging because it was not enabled.\n",
      "Processing MP3 files:  38%|███▊      | 153/400 [00:53<01:23,  2.96it/s]"
     ]
    },
    {
     "name": "stdout",
     "output_type": "stream",
     "text": [
      "score: 0.75\n"
     ]
    },
    {
     "name": "stderr",
     "output_type": "stream",
     "text": [
      "Python(90559) MallocStackLogging: can't turn off malloc stack logging because it was not enabled.\n",
      "Python(90560) MallocStackLogging: can't turn off malloc stack logging because it was not enabled.\n",
      "Processing MP3 files:  38%|███▊      | 154/400 [00:53<01:29,  2.73it/s]"
     ]
    },
    {
     "name": "stdout",
     "output_type": "stream",
     "text": [
      "score: 0.0\n"
     ]
    },
    {
     "name": "stderr",
     "output_type": "stream",
     "text": [
      "Python(90561) MallocStackLogging: can't turn off malloc stack logging because it was not enabled.\n",
      "Python(90562) MallocStackLogging: can't turn off malloc stack logging because it was not enabled.\n",
      "Processing MP3 files:  39%|███▉      | 155/400 [00:54<01:27,  2.80it/s]"
     ]
    },
    {
     "name": "stdout",
     "output_type": "stream",
     "text": [
      "score: 0.09090909090909091\n"
     ]
    },
    {
     "name": "stderr",
     "output_type": "stream",
     "text": [
      "Python(90563) MallocStackLogging: can't turn off malloc stack logging because it was not enabled.\n",
      "Python(90564) MallocStackLogging: can't turn off malloc stack logging because it was not enabled.\n",
      "Processing MP3 files:  39%|███▉      | 156/400 [00:54<01:26,  2.83it/s]"
     ]
    },
    {
     "name": "stdout",
     "output_type": "stream",
     "text": [
      "score: 0.0\n"
     ]
    },
    {
     "name": "stderr",
     "output_type": "stream",
     "text": [
      "Python(90565) MallocStackLogging: can't turn off malloc stack logging because it was not enabled.\n",
      "Python(90566) MallocStackLogging: can't turn off malloc stack logging because it was not enabled.\n",
      "Processing MP3 files:  39%|███▉      | 157/400 [00:54<01:16,  3.18it/s]"
     ]
    },
    {
     "name": "stdout",
     "output_type": "stream",
     "text": [
      "score: 1.0\n"
     ]
    },
    {
     "name": "stderr",
     "output_type": "stream",
     "text": [
      "Python(90567) MallocStackLogging: can't turn off malloc stack logging because it was not enabled.\n",
      "Python(90569) MallocStackLogging: can't turn off malloc stack logging because it was not enabled.\n",
      "Processing MP3 files:  40%|███▉      | 158/400 [00:55<01:29,  2.72it/s]"
     ]
    },
    {
     "name": "stdout",
     "output_type": "stream",
     "text": [
      "score: 0.1875\n"
     ]
    },
    {
     "name": "stderr",
     "output_type": "stream",
     "text": [
      "Python(90570) MallocStackLogging: can't turn off malloc stack logging because it was not enabled.\n",
      "Python(90571) MallocStackLogging: can't turn off malloc stack logging because it was not enabled.\n",
      "Processing MP3 files:  40%|███▉      | 159/400 [00:55<01:29,  2.69it/s]"
     ]
    },
    {
     "name": "stdout",
     "output_type": "stream",
     "text": [
      "score: 0.23076923076923078\n"
     ]
    },
    {
     "name": "stderr",
     "output_type": "stream",
     "text": [
      "Python(90572) MallocStackLogging: can't turn off malloc stack logging because it was not enabled.\n",
      "Python(90573) MallocStackLogging: can't turn off malloc stack logging because it was not enabled.\n",
      "Processing MP3 files:  40%|████      | 160/400 [00:55<01:25,  2.80it/s]"
     ]
    },
    {
     "name": "stdout",
     "output_type": "stream",
     "text": [
      "score: 0.125\n"
     ]
    },
    {
     "name": "stderr",
     "output_type": "stream",
     "text": [
      "Python(90575) MallocStackLogging: can't turn off malloc stack logging because it was not enabled.\n",
      "Python(90577) MallocStackLogging: can't turn off malloc stack logging because it was not enabled.\n",
      "Processing MP3 files:  40%|████      | 161/400 [00:56<01:24,  2.83it/s]"
     ]
    },
    {
     "name": "stdout",
     "output_type": "stream",
     "text": [
      "score: 0.4444444444444444\n"
     ]
    },
    {
     "name": "stderr",
     "output_type": "stream",
     "text": [
      "Python(90578) MallocStackLogging: can't turn off malloc stack logging because it was not enabled.\n",
      "Python(90579) MallocStackLogging: can't turn off malloc stack logging because it was not enabled.\n",
      "Processing MP3 files:  40%|████      | 162/400 [00:56<01:32,  2.56it/s]"
     ]
    },
    {
     "name": "stdout",
     "output_type": "stream",
     "text": [
      "score: 0.0\n"
     ]
    },
    {
     "name": "stderr",
     "output_type": "stream",
     "text": [
      "Python(90580) MallocStackLogging: can't turn off malloc stack logging because it was not enabled.\n",
      "Python(90581) MallocStackLogging: can't turn off malloc stack logging because it was not enabled.\n",
      "Processing MP3 files:  41%|████      | 163/400 [00:57<01:28,  2.66it/s]"
     ]
    },
    {
     "name": "stdout",
     "output_type": "stream",
     "text": [
      "score: 0.16666666666666666\n"
     ]
    },
    {
     "name": "stderr",
     "output_type": "stream",
     "text": [
      "Python(90583) MallocStackLogging: can't turn off malloc stack logging because it was not enabled.\n",
      "Python(90584) MallocStackLogging: can't turn off malloc stack logging because it was not enabled.\n",
      "Processing MP3 files:  41%|████      | 164/400 [00:57<01:33,  2.52it/s]"
     ]
    },
    {
     "name": "stdout",
     "output_type": "stream",
     "text": [
      "score: 0.1875\n"
     ]
    },
    {
     "name": "stderr",
     "output_type": "stream",
     "text": [
      "Python(90585) MallocStackLogging: can't turn off malloc stack logging because it was not enabled.\n",
      "Python(90586) MallocStackLogging: can't turn off malloc stack logging because it was not enabled.\n",
      "Processing MP3 files:  41%|████▏     | 165/400 [00:57<01:28,  2.66it/s]"
     ]
    },
    {
     "name": "stdout",
     "output_type": "stream",
     "text": [
      "score: 0.0\n"
     ]
    },
    {
     "name": "stderr",
     "output_type": "stream",
     "text": [
      "Python(90587) MallocStackLogging: can't turn off malloc stack logging because it was not enabled.\n",
      "Python(90588) MallocStackLogging: can't turn off malloc stack logging because it was not enabled.\n",
      "Processing MP3 files:  42%|████▏     | 166/400 [00:58<01:27,  2.68it/s]"
     ]
    },
    {
     "name": "stdout",
     "output_type": "stream",
     "text": [
      "score: 0.06666666666666667\n"
     ]
    },
    {
     "name": "stderr",
     "output_type": "stream",
     "text": [
      "Python(90589) MallocStackLogging: can't turn off malloc stack logging because it was not enabled.\n",
      "Python(90590) MallocStackLogging: can't turn off malloc stack logging because it was not enabled.\n",
      "Processing MP3 files:  42%|████▏     | 167/400 [00:58<01:18,  2.95it/s]"
     ]
    },
    {
     "name": "stdout",
     "output_type": "stream",
     "text": [
      "score: 1.0\n"
     ]
    },
    {
     "name": "stderr",
     "output_type": "stream",
     "text": [
      "Python(90591) MallocStackLogging: can't turn off malloc stack logging because it was not enabled.\n",
      "Python(90592) MallocStackLogging: can't turn off malloc stack logging because it was not enabled.\n",
      "Processing MP3 files:  42%|████▏     | 168/400 [00:58<01:17,  2.98it/s]"
     ]
    },
    {
     "name": "stdout",
     "output_type": "stream",
     "text": [
      "score: 0.1\n"
     ]
    },
    {
     "name": "stderr",
     "output_type": "stream",
     "text": [
      "Python(90593) MallocStackLogging: can't turn off malloc stack logging because it was not enabled.\n",
      "Python(90594) MallocStackLogging: can't turn off malloc stack logging because it was not enabled.\n",
      "Processing MP3 files:  42%|████▏     | 169/400 [00:59<01:12,  3.18it/s]"
     ]
    },
    {
     "name": "stdout",
     "output_type": "stream",
     "text": [
      "score: 0.0\n"
     ]
    },
    {
     "name": "stderr",
     "output_type": "stream",
     "text": [
      "Python(90595) MallocStackLogging: can't turn off malloc stack logging because it was not enabled.\n",
      "Python(90596) MallocStackLogging: can't turn off malloc stack logging because it was not enabled.\n",
      "Processing MP3 files:  42%|████▎     | 170/400 [00:59<01:10,  3.27it/s]"
     ]
    },
    {
     "name": "stdout",
     "output_type": "stream",
     "text": [
      "score: 0.25\n"
     ]
    },
    {
     "name": "stderr",
     "output_type": "stream",
     "text": [
      "Python(90597) MallocStackLogging: can't turn off malloc stack logging because it was not enabled.\n",
      "Python(90598) MallocStackLogging: can't turn off malloc stack logging because it was not enabled.\n",
      "Processing MP3 files:  43%|████▎     | 171/400 [00:59<01:13,  3.13it/s]"
     ]
    },
    {
     "name": "stdout",
     "output_type": "stream",
     "text": [
      "score: 0.7777777777777778\n"
     ]
    },
    {
     "name": "stderr",
     "output_type": "stream",
     "text": [
      "Python(90599) MallocStackLogging: can't turn off malloc stack logging because it was not enabled.\n",
      "Python(90600) MallocStackLogging: can't turn off malloc stack logging because it was not enabled.\n",
      "Processing MP3 files:  43%|████▎     | 172/400 [00:59<01:08,  3.33it/s]"
     ]
    },
    {
     "name": "stdout",
     "output_type": "stream",
     "text": [
      "score: 0.3333333333333333\n"
     ]
    },
    {
     "name": "stderr",
     "output_type": "stream",
     "text": [
      "Python(90601) MallocStackLogging: can't turn off malloc stack logging because it was not enabled.\n",
      "Python(90602) MallocStackLogging: can't turn off malloc stack logging because it was not enabled.\n",
      "Processing MP3 files:  43%|████▎     | 173/400 [01:00<01:08,  3.33it/s]"
     ]
    },
    {
     "name": "stdout",
     "output_type": "stream",
     "text": [
      "score: 0.46153846153846156\n"
     ]
    },
    {
     "name": "stderr",
     "output_type": "stream",
     "text": [
      "Python(90603) MallocStackLogging: can't turn off malloc stack logging because it was not enabled.\n",
      "Python(90604) MallocStackLogging: can't turn off malloc stack logging because it was not enabled.\n",
      "Processing MP3 files:  44%|████▎     | 174/400 [01:00<01:06,  3.41it/s]"
     ]
    },
    {
     "name": "stdout",
     "output_type": "stream",
     "text": [
      "score: 0.6666666666666666\n"
     ]
    },
    {
     "name": "stderr",
     "output_type": "stream",
     "text": [
      "Python(90606) MallocStackLogging: can't turn off malloc stack logging because it was not enabled.\n",
      "Python(90609) MallocStackLogging: can't turn off malloc stack logging because it was not enabled.\n",
      "Processing MP3 files:  44%|████▍     | 175/400 [01:00<01:06,  3.36it/s]"
     ]
    },
    {
     "name": "stdout",
     "output_type": "stream",
     "text": [
      "score: 0.16666666666666666\n"
     ]
    },
    {
     "name": "stderr",
     "output_type": "stream",
     "text": [
      "Python(90611) MallocStackLogging: can't turn off malloc stack logging because it was not enabled.\n",
      "Python(90612) MallocStackLogging: can't turn off malloc stack logging because it was not enabled.\n",
      "Processing MP3 files:  44%|████▍     | 176/400 [01:01<01:13,  3.03it/s]"
     ]
    },
    {
     "name": "stdout",
     "output_type": "stream",
     "text": [
      "score: 0.2857142857142857\n"
     ]
    },
    {
     "name": "stderr",
     "output_type": "stream",
     "text": [
      "Python(90613) MallocStackLogging: can't turn off malloc stack logging because it was not enabled.\n",
      "Python(90614) MallocStackLogging: can't turn off malloc stack logging because it was not enabled.\n",
      "Processing MP3 files:  44%|████▍     | 177/400 [01:01<01:15,  2.95it/s]"
     ]
    },
    {
     "name": "stdout",
     "output_type": "stream",
     "text": [
      "score: 0.3076923076923077\n"
     ]
    },
    {
     "name": "stderr",
     "output_type": "stream",
     "text": [
      "Python(90615) MallocStackLogging: can't turn off malloc stack logging because it was not enabled.\n",
      "Python(90616) MallocStackLogging: can't turn off malloc stack logging because it was not enabled.\n",
      "Processing MP3 files:  44%|████▍     | 178/400 [01:01<01:11,  3.09it/s]"
     ]
    },
    {
     "name": "stdout",
     "output_type": "stream",
     "text": [
      "score: 0.0\n"
     ]
    },
    {
     "name": "stderr",
     "output_type": "stream",
     "text": [
      "Python(90617) MallocStackLogging: can't turn off malloc stack logging because it was not enabled.\n",
      "Python(90618) MallocStackLogging: can't turn off malloc stack logging because it was not enabled.\n",
      "Processing MP3 files:  45%|████▍     | 179/400 [01:02<01:21,  2.72it/s]"
     ]
    },
    {
     "name": "stdout",
     "output_type": "stream",
     "text": [
      "score: 0.06666666666666667\n"
     ]
    },
    {
     "name": "stderr",
     "output_type": "stream",
     "text": [
      "Python(90619) MallocStackLogging: can't turn off malloc stack logging because it was not enabled.\n",
      "Python(90620) MallocStackLogging: can't turn off malloc stack logging because it was not enabled.\n",
      "Processing MP3 files:  45%|████▌     | 180/400 [01:02<01:18,  2.82it/s]"
     ]
    },
    {
     "name": "stdout",
     "output_type": "stream",
     "text": [
      "score: 0.15384615384615385\n"
     ]
    },
    {
     "name": "stderr",
     "output_type": "stream",
     "text": [
      "Python(90621) MallocStackLogging: can't turn off malloc stack logging because it was not enabled.\n",
      "Python(90622) MallocStackLogging: can't turn off malloc stack logging because it was not enabled.\n",
      "Processing MP3 files:  45%|████▌     | 181/400 [01:02<01:12,  3.02it/s]"
     ]
    },
    {
     "name": "stdout",
     "output_type": "stream",
     "text": [
      "score: 0.25\n"
     ]
    },
    {
     "name": "stderr",
     "output_type": "stream",
     "text": [
      "Python(90623) MallocStackLogging: can't turn off malloc stack logging because it was not enabled.\n",
      "Python(90624) MallocStackLogging: can't turn off malloc stack logging because it was not enabled.\n",
      "Processing MP3 files:  46%|████▌     | 182/400 [01:03<01:13,  2.96it/s]"
     ]
    },
    {
     "name": "stdout",
     "output_type": "stream",
     "text": [
      "score: 0.21428571428571427\n"
     ]
    },
    {
     "name": "stderr",
     "output_type": "stream",
     "text": [
      "Python(90625) MallocStackLogging: can't turn off malloc stack logging because it was not enabled.\n",
      "Python(90626) MallocStackLogging: can't turn off malloc stack logging because it was not enabled.\n",
      "Processing MP3 files:  46%|████▌     | 183/400 [01:03<01:19,  2.74it/s]"
     ]
    },
    {
     "name": "stdout",
     "output_type": "stream",
     "text": [
      "score: 0.36363636363636365\n"
     ]
    },
    {
     "name": "stderr",
     "output_type": "stream",
     "text": [
      "Python(90627) MallocStackLogging: can't turn off malloc stack logging because it was not enabled.\n",
      "Python(90628) MallocStackLogging: can't turn off malloc stack logging because it was not enabled.\n",
      "Processing MP3 files:  46%|████▌     | 184/400 [01:04<01:18,  2.75it/s]"
     ]
    },
    {
     "name": "stdout",
     "output_type": "stream",
     "text": [
      "score: 0.4\n"
     ]
    },
    {
     "name": "stderr",
     "output_type": "stream",
     "text": [
      "Python(90629) MallocStackLogging: can't turn off malloc stack logging because it was not enabled.\n",
      "Python(90630) MallocStackLogging: can't turn off malloc stack logging because it was not enabled.\n",
      "Processing MP3 files:  46%|████▋     | 185/400 [01:04<01:15,  2.83it/s]"
     ]
    },
    {
     "name": "stdout",
     "output_type": "stream",
     "text": [
      "score: 0.23076923076923078\n"
     ]
    },
    {
     "name": "stderr",
     "output_type": "stream",
     "text": [
      "Python(90631) MallocStackLogging: can't turn off malloc stack logging because it was not enabled.\n",
      "Python(90632) MallocStackLogging: can't turn off malloc stack logging because it was not enabled.\n",
      "Processing MP3 files:  46%|████▋     | 186/400 [01:04<01:16,  2.81it/s]"
     ]
    },
    {
     "name": "stdout",
     "output_type": "stream",
     "text": [
      "score: 0.3333333333333333\n"
     ]
    },
    {
     "name": "stderr",
     "output_type": "stream",
     "text": [
      "Python(90633) MallocStackLogging: can't turn off malloc stack logging because it was not enabled.\n",
      "Python(90634) MallocStackLogging: can't turn off malloc stack logging because it was not enabled.\n",
      "Processing MP3 files:  47%|████▋     | 187/400 [01:05<01:16,  2.77it/s]"
     ]
    },
    {
     "name": "stdout",
     "output_type": "stream",
     "text": [
      "score: 0.06666666666666667\n"
     ]
    },
    {
     "name": "stderr",
     "output_type": "stream",
     "text": [
      "Python(90635) MallocStackLogging: can't turn off malloc stack logging because it was not enabled.\n",
      "Python(90636) MallocStackLogging: can't turn off malloc stack logging because it was not enabled.\n",
      "Processing MP3 files:  47%|████▋     | 188/400 [01:05<01:16,  2.76it/s]"
     ]
    },
    {
     "name": "stdout",
     "output_type": "stream",
     "text": [
      "score: 0.21428571428571427\n"
     ]
    },
    {
     "name": "stderr",
     "output_type": "stream",
     "text": [
      "Python(90639) MallocStackLogging: can't turn off malloc stack logging because it was not enabled.\n",
      "Python(90640) MallocStackLogging: can't turn off malloc stack logging because it was not enabled.\n",
      "Processing MP3 files:  47%|████▋     | 189/400 [01:05<01:10,  2.99it/s]"
     ]
    },
    {
     "name": "stdout",
     "output_type": "stream",
     "text": [
      "score: 0.25\n"
     ]
    },
    {
     "name": "stderr",
     "output_type": "stream",
     "text": [
      "Python(90641) MallocStackLogging: can't turn off malloc stack logging because it was not enabled.\n",
      "Python(90642) MallocStackLogging: can't turn off malloc stack logging because it was not enabled.\n",
      "Processing MP3 files:  48%|████▊     | 190/400 [01:06<01:06,  3.17it/s]"
     ]
    },
    {
     "name": "stdout",
     "output_type": "stream",
     "text": [
      "score: 0.4\n"
     ]
    },
    {
     "name": "stderr",
     "output_type": "stream",
     "text": [
      "Python(90643) MallocStackLogging: can't turn off malloc stack logging because it was not enabled.\n",
      "Python(90644) MallocStackLogging: can't turn off malloc stack logging because it was not enabled.\n",
      "Processing MP3 files:  48%|████▊     | 191/400 [01:06<01:13,  2.85it/s]"
     ]
    },
    {
     "name": "stdout",
     "output_type": "stream",
     "text": [
      "score: 0.1875\n"
     ]
    },
    {
     "name": "stderr",
     "output_type": "stream",
     "text": [
      "Python(90645) MallocStackLogging: can't turn off malloc stack logging because it was not enabled.\n",
      "Python(90646) MallocStackLogging: can't turn off malloc stack logging because it was not enabled.\n",
      "Processing MP3 files:  48%|████▊     | 192/400 [01:06<01:08,  3.04it/s]"
     ]
    },
    {
     "name": "stdout",
     "output_type": "stream",
     "text": [
      "score: 0.2\n"
     ]
    },
    {
     "name": "stderr",
     "output_type": "stream",
     "text": [
      "Python(90648) MallocStackLogging: can't turn off malloc stack logging because it was not enabled.\n",
      "Python(90649) MallocStackLogging: can't turn off malloc stack logging because it was not enabled.\n",
      "Processing MP3 files:  48%|████▊     | 193/400 [01:07<01:20,  2.56it/s]"
     ]
    },
    {
     "name": "stdout",
     "output_type": "stream",
     "text": [
      "score: 0.375\n"
     ]
    },
    {
     "name": "stderr",
     "output_type": "stream",
     "text": [
      "Python(90650) MallocStackLogging: can't turn off malloc stack logging because it was not enabled.\n",
      "Python(90651) MallocStackLogging: can't turn off malloc stack logging because it was not enabled.\n",
      "Processing MP3 files:  48%|████▊     | 194/400 [01:07<01:16,  2.69it/s]"
     ]
    },
    {
     "name": "stdout",
     "output_type": "stream",
     "text": [
      "score: 0.25\n"
     ]
    },
    {
     "name": "stderr",
     "output_type": "stream",
     "text": [
      "Python(90652) MallocStackLogging: can't turn off malloc stack logging because it was not enabled.\n",
      "Python(90653) MallocStackLogging: can't turn off malloc stack logging because it was not enabled.\n",
      "Processing MP3 files:  49%|████▉     | 195/400 [01:08<01:17,  2.65it/s]"
     ]
    },
    {
     "name": "stdout",
     "output_type": "stream",
     "text": [
      "score: 0.25\n"
     ]
    },
    {
     "name": "stderr",
     "output_type": "stream",
     "text": [
      "Python(90654) MallocStackLogging: can't turn off malloc stack logging because it was not enabled.\n",
      "Python(90655) MallocStackLogging: can't turn off malloc stack logging because it was not enabled.\n",
      "Processing MP3 files:  49%|████▉     | 196/400 [01:08<01:11,  2.84it/s]"
     ]
    },
    {
     "name": "stdout",
     "output_type": "stream",
     "text": [
      "score: 0.25\n"
     ]
    },
    {
     "name": "stderr",
     "output_type": "stream",
     "text": [
      "Python(90656) MallocStackLogging: can't turn off malloc stack logging because it was not enabled.\n",
      "Python(90657) MallocStackLogging: can't turn off malloc stack logging because it was not enabled.\n",
      "Processing MP3 files:  49%|████▉     | 197/400 [01:08<01:07,  3.01it/s]"
     ]
    },
    {
     "name": "stdout",
     "output_type": "stream",
     "text": [
      "score: 0.2857142857142857\n"
     ]
    },
    {
     "name": "stderr",
     "output_type": "stream",
     "text": [
      "Python(90658) MallocStackLogging: can't turn off malloc stack logging because it was not enabled.\n",
      "Python(90659) MallocStackLogging: can't turn off malloc stack logging because it was not enabled.\n",
      "Processing MP3 files:  50%|████▉     | 198/400 [01:08<01:05,  3.06it/s]"
     ]
    },
    {
     "name": "stdout",
     "output_type": "stream",
     "text": [
      "score: 0.16666666666666666\n"
     ]
    },
    {
     "name": "stderr",
     "output_type": "stream",
     "text": [
      "Python(90661) MallocStackLogging: can't turn off malloc stack logging because it was not enabled.\n",
      "Python(90662) MallocStackLogging: can't turn off malloc stack logging because it was not enabled.\n",
      "Processing MP3 files:  50%|████▉     | 199/400 [01:09<01:14,  2.70it/s]"
     ]
    },
    {
     "name": "stdout",
     "output_type": "stream",
     "text": [
      "score: 0.5\n"
     ]
    },
    {
     "name": "stderr",
     "output_type": "stream",
     "text": [
      "Python(90663) MallocStackLogging: can't turn off malloc stack logging because it was not enabled.\n",
      "Python(90664) MallocStackLogging: can't turn off malloc stack logging because it was not enabled.\n",
      "Processing MP3 files:  50%|█████     | 200/400 [01:09<01:07,  2.98it/s]"
     ]
    },
    {
     "name": "stdout",
     "output_type": "stream",
     "text": [
      "score: 0.2\n"
     ]
    },
    {
     "name": "stderr",
     "output_type": "stream",
     "text": [
      "Python(90665) MallocStackLogging: can't turn off malloc stack logging because it was not enabled.\n",
      "Python(90666) MallocStackLogging: can't turn off malloc stack logging because it was not enabled.\n",
      "Processing MP3 files:  50%|█████     | 201/400 [01:10<01:11,  2.77it/s]"
     ]
    },
    {
     "name": "stdout",
     "output_type": "stream",
     "text": [
      "score: 0.0\n"
     ]
    },
    {
     "name": "stderr",
     "output_type": "stream",
     "text": [
      "Python(90667) MallocStackLogging: can't turn off malloc stack logging because it was not enabled.\n",
      "Python(90668) MallocStackLogging: can't turn off malloc stack logging because it was not enabled.\n",
      "Processing MP3 files:  50%|█████     | 202/400 [01:10<01:14,  2.67it/s]"
     ]
    },
    {
     "name": "stdout",
     "output_type": "stream",
     "text": [
      "score: 0.5\n"
     ]
    },
    {
     "name": "stderr",
     "output_type": "stream",
     "text": [
      "Python(90669) MallocStackLogging: can't turn off malloc stack logging because it was not enabled.\n",
      "Python(90670) MallocStackLogging: can't turn off malloc stack logging because it was not enabled.\n",
      "Processing MP3 files:  51%|█████     | 203/400 [01:10<01:16,  2.58it/s]"
     ]
    },
    {
     "name": "stdout",
     "output_type": "stream",
     "text": [
      "score: 0.5\n"
     ]
    },
    {
     "name": "stderr",
     "output_type": "stream",
     "text": [
      "Python(90671) MallocStackLogging: can't turn off malloc stack logging because it was not enabled.\n",
      "Python(90672) MallocStackLogging: can't turn off malloc stack logging because it was not enabled.\n",
      "Processing MP3 files:  51%|█████     | 204/400 [01:11<01:10,  2.79it/s]"
     ]
    },
    {
     "name": "stdout",
     "output_type": "stream",
     "text": [
      "score: 0.0\n"
     ]
    },
    {
     "name": "stderr",
     "output_type": "stream",
     "text": [
      "Python(90673) MallocStackLogging: can't turn off malloc stack logging because it was not enabled.\n",
      "Python(90674) MallocStackLogging: can't turn off malloc stack logging because it was not enabled.\n",
      "Processing MP3 files:  51%|█████▏    | 205/400 [01:11<01:09,  2.81it/s]"
     ]
    },
    {
     "name": "stdout",
     "output_type": "stream",
     "text": [
      "score: 0.09090909090909091\n"
     ]
    },
    {
     "name": "stderr",
     "output_type": "stream",
     "text": [
      "Python(90675) MallocStackLogging: can't turn off malloc stack logging because it was not enabled.\n",
      "Python(90676) MallocStackLogging: can't turn off malloc stack logging because it was not enabled.\n",
      "Processing MP3 files:  52%|█████▏    | 206/400 [01:11<01:03,  3.07it/s]"
     ]
    },
    {
     "name": "stdout",
     "output_type": "stream",
     "text": [
      "score: 0.2\n"
     ]
    },
    {
     "name": "stderr",
     "output_type": "stream",
     "text": [
      "Python(90677) MallocStackLogging: can't turn off malloc stack logging because it was not enabled.\n",
      "Python(90678) MallocStackLogging: can't turn off malloc stack logging because it was not enabled.\n",
      "Processing MP3 files:  52%|█████▏    | 207/400 [01:12<01:02,  3.10it/s]"
     ]
    },
    {
     "name": "stdout",
     "output_type": "stream",
     "text": [
      "score: 0.1111111111111111\n"
     ]
    },
    {
     "name": "stderr",
     "output_type": "stream",
     "text": [
      "Python(90679) MallocStackLogging: can't turn off malloc stack logging because it was not enabled.\n",
      "Python(90680) MallocStackLogging: can't turn off malloc stack logging because it was not enabled.\n",
      "Processing MP3 files:  52%|█████▏    | 208/400 [01:12<01:04,  2.97it/s]"
     ]
    },
    {
     "name": "stdout",
     "output_type": "stream",
     "text": [
      "score: 0.7\n"
     ]
    },
    {
     "name": "stderr",
     "output_type": "stream",
     "text": [
      "Python(90681) MallocStackLogging: can't turn off malloc stack logging because it was not enabled.\n",
      "Python(90682) MallocStackLogging: can't turn off malloc stack logging because it was not enabled.\n",
      "Processing MP3 files:  52%|█████▏    | 209/400 [01:12<01:01,  3.09it/s]"
     ]
    },
    {
     "name": "stdout",
     "output_type": "stream",
     "text": [
      "score: 0.25\n"
     ]
    },
    {
     "name": "stderr",
     "output_type": "stream",
     "text": [
      "Python(90683) MallocStackLogging: can't turn off malloc stack logging because it was not enabled.\n",
      "Python(90684) MallocStackLogging: can't turn off malloc stack logging because it was not enabled.\n",
      "Processing MP3 files:  52%|█████▎    | 210/400 [01:13<01:05,  2.90it/s]"
     ]
    },
    {
     "name": "stdout",
     "output_type": "stream",
     "text": [
      "score: 0.3333333333333333\n"
     ]
    },
    {
     "name": "stderr",
     "output_type": "stream",
     "text": [
      "Python(90685) MallocStackLogging: can't turn off malloc stack logging because it was not enabled.\n",
      "Python(90686) MallocStackLogging: can't turn off malloc stack logging because it was not enabled.\n",
      "Processing MP3 files:  53%|█████▎    | 211/400 [01:13<01:01,  3.06it/s]"
     ]
    },
    {
     "name": "stdout",
     "output_type": "stream",
     "text": [
      "score: 0.6666666666666666\n"
     ]
    },
    {
     "name": "stderr",
     "output_type": "stream",
     "text": [
      "Python(90687) MallocStackLogging: can't turn off malloc stack logging because it was not enabled.\n",
      "Python(90688) MallocStackLogging: can't turn off malloc stack logging because it was not enabled.\n",
      "Processing MP3 files:  53%|█████▎    | 212/400 [01:13<00:58,  3.23it/s]"
     ]
    },
    {
     "name": "stdout",
     "output_type": "stream",
     "text": [
      "score: 0.3333333333333333\n"
     ]
    },
    {
     "name": "stderr",
     "output_type": "stream",
     "text": [
      "Python(90689) MallocStackLogging: can't turn off malloc stack logging because it was not enabled.\n",
      "Python(90690) MallocStackLogging: can't turn off malloc stack logging because it was not enabled.\n",
      "Processing MP3 files:  53%|█████▎    | 213/400 [01:13<00:56,  3.31it/s]"
     ]
    },
    {
     "name": "stdout",
     "output_type": "stream",
     "text": [
      "score: 0.16666666666666666\n"
     ]
    },
    {
     "name": "stderr",
     "output_type": "stream",
     "text": [
      "Python(90691) MallocStackLogging: can't turn off malloc stack logging because it was not enabled.\n",
      "Python(90692) MallocStackLogging: can't turn off malloc stack logging because it was not enabled.\n",
      "Processing MP3 files:  54%|█████▎    | 214/400 [01:14<00:57,  3.21it/s]"
     ]
    },
    {
     "name": "stdout",
     "output_type": "stream",
     "text": [
      "score: 0.2\n"
     ]
    },
    {
     "name": "stderr",
     "output_type": "stream",
     "text": [
      "Python(90693) MallocStackLogging: can't turn off malloc stack logging because it was not enabled.\n",
      "Python(90694) MallocStackLogging: can't turn off malloc stack logging because it was not enabled.\n",
      "Processing MP3 files:  54%|█████▍    | 215/400 [01:14<01:02,  2.96it/s]"
     ]
    },
    {
     "name": "stdout",
     "output_type": "stream",
     "text": [
      "score: 0.0\n"
     ]
    },
    {
     "name": "stderr",
     "output_type": "stream",
     "text": [
      "Python(90695) MallocStackLogging: can't turn off malloc stack logging because it was not enabled.\n",
      "Python(90696) MallocStackLogging: can't turn off malloc stack logging because it was not enabled.\n",
      "Processing MP3 files:  54%|█████▍    | 216/400 [01:15<01:02,  2.95it/s]"
     ]
    },
    {
     "name": "stdout",
     "output_type": "stream",
     "text": [
      "score: 0.1\n"
     ]
    },
    {
     "name": "stderr",
     "output_type": "stream",
     "text": [
      "Python(90697) MallocStackLogging: can't turn off malloc stack logging because it was not enabled.\n",
      "Python(90698) MallocStackLogging: can't turn off malloc stack logging because it was not enabled.\n",
      "Processing MP3 files:  54%|█████▍    | 217/400 [01:15<01:02,  2.91it/s]"
     ]
    },
    {
     "name": "stdout",
     "output_type": "stream",
     "text": [
      "score: 0.5\n"
     ]
    },
    {
     "name": "stderr",
     "output_type": "stream",
     "text": [
      "Python(90699) MallocStackLogging: can't turn off malloc stack logging because it was not enabled.\n",
      "Python(90700) MallocStackLogging: can't turn off malloc stack logging because it was not enabled.\n",
      "Processing MP3 files:  55%|█████▍    | 218/400 [01:15<00:59,  3.05it/s]"
     ]
    },
    {
     "name": "stdout",
     "output_type": "stream",
     "text": [
      "score: 0.18181818181818182\n"
     ]
    },
    {
     "name": "stderr",
     "output_type": "stream",
     "text": [
      "Python(90701) MallocStackLogging: can't turn off malloc stack logging because it was not enabled.\n",
      "Python(90702) MallocStackLogging: can't turn off malloc stack logging because it was not enabled.\n",
      "Processing MP3 files:  55%|█████▍    | 219/400 [01:16<01:02,  2.92it/s]"
     ]
    },
    {
     "name": "stdout",
     "output_type": "stream",
     "text": [
      "score: 0.25\n"
     ]
    },
    {
     "name": "stderr",
     "output_type": "stream",
     "text": [
      "Python(90703) MallocStackLogging: can't turn off malloc stack logging because it was not enabled.\n",
      "Python(90704) MallocStackLogging: can't turn off malloc stack logging because it was not enabled.\n",
      "Processing MP3 files:  55%|█████▌    | 220/400 [01:16<01:01,  2.93it/s]"
     ]
    },
    {
     "name": "stdout",
     "output_type": "stream",
     "text": [
      "score: 0.09090909090909091\n"
     ]
    },
    {
     "name": "stderr",
     "output_type": "stream",
     "text": [
      "Python(90705) MallocStackLogging: can't turn off malloc stack logging because it was not enabled.\n",
      "Python(90706) MallocStackLogging: can't turn off malloc stack logging because it was not enabled.\n",
      "Processing MP3 files:  55%|█████▌    | 221/400 [01:16<01:03,  2.82it/s]"
     ]
    },
    {
     "name": "stdout",
     "output_type": "stream",
     "text": [
      "score: 0.75\n"
     ]
    },
    {
     "name": "stderr",
     "output_type": "stream",
     "text": [
      "Python(90707) MallocStackLogging: can't turn off malloc stack logging because it was not enabled.\n",
      "Python(90708) MallocStackLogging: can't turn off malloc stack logging because it was not enabled.\n",
      "Processing MP3 files:  56%|█████▌    | 222/400 [01:17<01:00,  2.94it/s]"
     ]
    },
    {
     "name": "stdout",
     "output_type": "stream",
     "text": [
      "score: 0.5714285714285714\n"
     ]
    },
    {
     "name": "stderr",
     "output_type": "stream",
     "text": [
      "Python(90709) MallocStackLogging: can't turn off malloc stack logging because it was not enabled.\n",
      "Python(90710) MallocStackLogging: can't turn off malloc stack logging because it was not enabled.\n",
      "Processing MP3 files:  56%|█████▌    | 223/400 [01:17<01:01,  2.87it/s]"
     ]
    },
    {
     "name": "stdout",
     "output_type": "stream",
     "text": [
      "score: 0.4\n"
     ]
    },
    {
     "name": "stderr",
     "output_type": "stream",
     "text": [
      "Python(90711) MallocStackLogging: can't turn off malloc stack logging because it was not enabled.\n",
      "Python(90712) MallocStackLogging: can't turn off malloc stack logging because it was not enabled.\n",
      "Processing MP3 files:  56%|█████▌    | 224/400 [01:17<00:57,  3.04it/s]"
     ]
    },
    {
     "name": "stdout",
     "output_type": "stream",
     "text": [
      "score: 0.2\n"
     ]
    },
    {
     "name": "stderr",
     "output_type": "stream",
     "text": [
      "Python(90713) MallocStackLogging: can't turn off malloc stack logging because it was not enabled.\n",
      "Python(90714) MallocStackLogging: can't turn off malloc stack logging because it was not enabled.\n",
      "Processing MP3 files:  56%|█████▋    | 225/400 [01:18<01:00,  2.91it/s]"
     ]
    },
    {
     "name": "stdout",
     "output_type": "stream",
     "text": [
      "score: 0.2857142857142857\n"
     ]
    },
    {
     "name": "stderr",
     "output_type": "stream",
     "text": [
      "Python(90715) MallocStackLogging: can't turn off malloc stack logging because it was not enabled.\n",
      "Python(90716) MallocStackLogging: can't turn off malloc stack logging because it was not enabled.\n",
      "Processing MP3 files:  56%|█████▋    | 226/400 [01:18<00:57,  3.05it/s]"
     ]
    },
    {
     "name": "stdout",
     "output_type": "stream",
     "text": [
      "score: 0.2222222222222222\n"
     ]
    },
    {
     "name": "stderr",
     "output_type": "stream",
     "text": [
      "Python(90717) MallocStackLogging: can't turn off malloc stack logging because it was not enabled.\n",
      "Python(90718) MallocStackLogging: can't turn off malloc stack logging because it was not enabled.\n",
      "Processing MP3 files:  57%|█████▋    | 227/400 [01:18<00:56,  3.04it/s]"
     ]
    },
    {
     "name": "stdout",
     "output_type": "stream",
     "text": [
      "score: 0.3333333333333333\n"
     ]
    },
    {
     "name": "stderr",
     "output_type": "stream",
     "text": [
      "Python(90719) MallocStackLogging: can't turn off malloc stack logging because it was not enabled.\n",
      "Python(90720) MallocStackLogging: can't turn off malloc stack logging because it was not enabled.\n",
      "Processing MP3 files:  57%|█████▋    | 228/400 [01:19<00:53,  3.20it/s]"
     ]
    },
    {
     "name": "stdout",
     "output_type": "stream",
     "text": [
      "score: 0.2222222222222222\n"
     ]
    },
    {
     "name": "stderr",
     "output_type": "stream",
     "text": [
      "Python(90721) MallocStackLogging: can't turn off malloc stack logging because it was not enabled.\n",
      "Python(90722) MallocStackLogging: can't turn off malloc stack logging because it was not enabled.\n",
      "Processing MP3 files:  57%|█████▋    | 229/400 [01:19<00:57,  3.00it/s]"
     ]
    },
    {
     "name": "stdout",
     "output_type": "stream",
     "text": [
      "score: 0.16666666666666666\n"
     ]
    },
    {
     "name": "stderr",
     "output_type": "stream",
     "text": [
      "Python(90723) MallocStackLogging: can't turn off malloc stack logging because it was not enabled.\n",
      "Python(90724) MallocStackLogging: can't turn off malloc stack logging because it was not enabled.\n",
      "Processing MP3 files:  57%|█████▊    | 230/400 [01:19<00:55,  3.05it/s]"
     ]
    },
    {
     "name": "stdout",
     "output_type": "stream",
     "text": [
      "score: 0.125\n"
     ]
    },
    {
     "name": "stderr",
     "output_type": "stream",
     "text": [
      "Python(90725) MallocStackLogging: can't turn off malloc stack logging because it was not enabled.\n",
      "Python(90726) MallocStackLogging: can't turn off malloc stack logging because it was not enabled.\n",
      "Processing MP3 files:  58%|█████▊    | 231/400 [01:20<00:55,  3.06it/s]"
     ]
    },
    {
     "name": "stdout",
     "output_type": "stream",
     "text": [
      "score: 0.23076923076923078\n"
     ]
    },
    {
     "name": "stderr",
     "output_type": "stream",
     "text": [
      "Python(90727) MallocStackLogging: can't turn off malloc stack logging because it was not enabled.\n",
      "Python(90728) MallocStackLogging: can't turn off malloc stack logging because it was not enabled.\n",
      "Processing MP3 files:  58%|█████▊    | 232/400 [01:20<00:52,  3.23it/s]"
     ]
    },
    {
     "name": "stdout",
     "output_type": "stream",
     "text": [
      "score: 0.125\n"
     ]
    },
    {
     "name": "stderr",
     "output_type": "stream",
     "text": [
      "Python(90729) MallocStackLogging: can't turn off malloc stack logging because it was not enabled.\n",
      "Python(90730) MallocStackLogging: can't turn off malloc stack logging because it was not enabled.\n",
      "Processing MP3 files:  58%|█████▊    | 233/400 [01:20<00:52,  3.18it/s]"
     ]
    },
    {
     "name": "stdout",
     "output_type": "stream",
     "text": [
      "score: 0.1111111111111111\n"
     ]
    },
    {
     "name": "stderr",
     "output_type": "stream",
     "text": [
      "Python(90731) MallocStackLogging: can't turn off malloc stack logging because it was not enabled.\n",
      "Python(90732) MallocStackLogging: can't turn off malloc stack logging because it was not enabled.\n",
      "Processing MP3 files:  58%|█████▊    | 234/400 [01:21<00:58,  2.85it/s]"
     ]
    },
    {
     "name": "stdout",
     "output_type": "stream",
     "text": [
      "score: 0.2\n"
     ]
    },
    {
     "name": "stderr",
     "output_type": "stream",
     "text": [
      "Python(90733) MallocStackLogging: can't turn off malloc stack logging because it was not enabled.\n",
      "Python(90734) MallocStackLogging: can't turn off malloc stack logging because it was not enabled.\n",
      "Processing MP3 files:  59%|█████▉    | 235/400 [01:21<00:58,  2.84it/s]"
     ]
    },
    {
     "name": "stdout",
     "output_type": "stream",
     "text": [
      "score: 0.3333333333333333\n"
     ]
    },
    {
     "name": "stderr",
     "output_type": "stream",
     "text": [
      "Python(90735) MallocStackLogging: can't turn off malloc stack logging because it was not enabled.\n",
      "Python(90736) MallocStackLogging: can't turn off malloc stack logging because it was not enabled.\n",
      "Processing MP3 files:  59%|█████▉    | 236/400 [01:21<00:52,  3.14it/s]"
     ]
    },
    {
     "name": "stdout",
     "output_type": "stream",
     "text": [
      "score: 0.75\n"
     ]
    },
    {
     "name": "stderr",
     "output_type": "stream",
     "text": [
      "Python(90737) MallocStackLogging: can't turn off malloc stack logging because it was not enabled.\n",
      "Python(90738) MallocStackLogging: can't turn off malloc stack logging because it was not enabled.\n",
      "Processing MP3 files:  59%|█████▉    | 237/400 [01:22<00:52,  3.10it/s]"
     ]
    },
    {
     "name": "stdout",
     "output_type": "stream",
     "text": [
      "score: 0.09090909090909091\n"
     ]
    },
    {
     "name": "stderr",
     "output_type": "stream",
     "text": [
      "Python(90739) MallocStackLogging: can't turn off malloc stack logging because it was not enabled.\n",
      "Python(90740) MallocStackLogging: can't turn off malloc stack logging because it was not enabled.\n",
      "Processing MP3 files:  60%|█████▉    | 238/400 [01:22<00:56,  2.88it/s]"
     ]
    },
    {
     "name": "stdout",
     "output_type": "stream",
     "text": [
      "score: 0.3125\n"
     ]
    },
    {
     "name": "stderr",
     "output_type": "stream",
     "text": [
      "Python(90741) MallocStackLogging: can't turn off malloc stack logging because it was not enabled.\n",
      "Python(90742) MallocStackLogging: can't turn off malloc stack logging because it was not enabled.\n",
      "Processing MP3 files:  60%|█████▉    | 239/400 [01:22<00:56,  2.84it/s]"
     ]
    },
    {
     "name": "stdout",
     "output_type": "stream",
     "text": [
      "score: 0.2\n"
     ]
    },
    {
     "name": "stderr",
     "output_type": "stream",
     "text": [
      "Python(90743) MallocStackLogging: can't turn off malloc stack logging because it was not enabled.\n",
      "Python(90744) MallocStackLogging: can't turn off malloc stack logging because it was not enabled.\n",
      "Processing MP3 files:  60%|██████    | 240/400 [01:23<00:52,  3.05it/s]"
     ]
    },
    {
     "name": "stdout",
     "output_type": "stream",
     "text": [
      "score: 0.0\n"
     ]
    },
    {
     "name": "stderr",
     "output_type": "stream",
     "text": [
      "Python(90745) MallocStackLogging: can't turn off malloc stack logging because it was not enabled.\n",
      "Python(90746) MallocStackLogging: can't turn off malloc stack logging because it was not enabled.\n",
      "Processing MP3 files:  60%|██████    | 241/400 [01:23<00:52,  3.04it/s]"
     ]
    },
    {
     "name": "stdout",
     "output_type": "stream",
     "text": [
      "score: 0.0\n"
     ]
    },
    {
     "name": "stderr",
     "output_type": "stream",
     "text": [
      "Python(90747) MallocStackLogging: can't turn off malloc stack logging because it was not enabled.\n",
      "Python(90748) MallocStackLogging: can't turn off malloc stack logging because it was not enabled.\n",
      "Processing MP3 files:  60%|██████    | 242/400 [01:23<00:50,  3.11it/s]"
     ]
    },
    {
     "name": "stdout",
     "output_type": "stream",
     "text": [
      "score: 0.08333333333333333\n"
     ]
    },
    {
     "name": "stderr",
     "output_type": "stream",
     "text": [
      "Python(90749) MallocStackLogging: can't turn off malloc stack logging because it was not enabled.\n",
      "Python(90750) MallocStackLogging: can't turn off malloc stack logging because it was not enabled.\n",
      "Processing MP3 files:  61%|██████    | 243/400 [01:23<00:49,  3.20it/s]"
     ]
    },
    {
     "name": "stdout",
     "output_type": "stream",
     "text": [
      "score: 0.14285714285714285\n"
     ]
    },
    {
     "name": "stderr",
     "output_type": "stream",
     "text": [
      "Python(90751) MallocStackLogging: can't turn off malloc stack logging because it was not enabled.\n",
      "Python(90752) MallocStackLogging: can't turn off malloc stack logging because it was not enabled.\n",
      "Processing MP3 files:  61%|██████    | 244/400 [01:24<00:50,  3.10it/s]"
     ]
    },
    {
     "name": "stdout",
     "output_type": "stream",
     "text": [
      "score: 0.1\n"
     ]
    },
    {
     "name": "stderr",
     "output_type": "stream",
     "text": [
      "Python(90753) MallocStackLogging: can't turn off malloc stack logging because it was not enabled.\n",
      "Python(90754) MallocStackLogging: can't turn off malloc stack logging because it was not enabled.\n",
      "Processing MP3 files:  61%|██████▏   | 245/400 [01:24<00:46,  3.32it/s]"
     ]
    },
    {
     "name": "stdout",
     "output_type": "stream",
     "text": [
      "score: 0.5\n"
     ]
    },
    {
     "name": "stderr",
     "output_type": "stream",
     "text": [
      "Python(90755) MallocStackLogging: can't turn off malloc stack logging because it was not enabled.\n",
      "Python(90756) MallocStackLogging: can't turn off malloc stack logging because it was not enabled.\n",
      "Processing MP3 files:  62%|██████▏   | 246/400 [01:24<00:49,  3.14it/s]"
     ]
    },
    {
     "name": "stdout",
     "output_type": "stream",
     "text": [
      "score: 0.21428571428571427\n"
     ]
    },
    {
     "name": "stderr",
     "output_type": "stream",
     "text": [
      "Python(90757) MallocStackLogging: can't turn off malloc stack logging because it was not enabled.\n",
      "Python(90758) MallocStackLogging: can't turn off malloc stack logging because it was not enabled.\n",
      "Processing MP3 files:  62%|██████▏   | 247/400 [01:25<00:52,  2.92it/s]"
     ]
    },
    {
     "name": "stdout",
     "output_type": "stream",
     "text": [
      "score: 0.0\n"
     ]
    },
    {
     "name": "stderr",
     "output_type": "stream",
     "text": [
      "Python(90759) MallocStackLogging: can't turn off malloc stack logging because it was not enabled.\n",
      "Python(90760) MallocStackLogging: can't turn off malloc stack logging because it was not enabled.\n",
      "Processing MP3 files:  62%|██████▏   | 248/400 [01:26<01:30,  1.67it/s]"
     ]
    },
    {
     "name": "stdout",
     "output_type": "stream",
     "text": [
      "score: 0.0\n"
     ]
    },
    {
     "name": "stderr",
     "output_type": "stream",
     "text": [
      "Python(90761) MallocStackLogging: can't turn off malloc stack logging because it was not enabled.\n",
      "Python(90762) MallocStackLogging: can't turn off malloc stack logging because it was not enabled.\n",
      "Processing MP3 files:  62%|██████▏   | 249/400 [01:26<01:16,  1.98it/s]"
     ]
    },
    {
     "name": "stdout",
     "output_type": "stream",
     "text": [
      "score: 0.0\n"
     ]
    },
    {
     "name": "stderr",
     "output_type": "stream",
     "text": [
      "Python(90763) MallocStackLogging: can't turn off malloc stack logging because it was not enabled.\n",
      "Python(90764) MallocStackLogging: can't turn off malloc stack logging because it was not enabled.\n",
      "Processing MP3 files:  62%|██████▎   | 250/400 [01:27<01:06,  2.24it/s]"
     ]
    },
    {
     "name": "stdout",
     "output_type": "stream",
     "text": [
      "score: 0.25\n"
     ]
    },
    {
     "name": "stderr",
     "output_type": "stream",
     "text": [
      "Python(90765) MallocStackLogging: can't turn off malloc stack logging because it was not enabled.\n",
      "Python(90766) MallocStackLogging: can't turn off malloc stack logging because it was not enabled.\n",
      "Processing MP3 files:  63%|██████▎   | 251/400 [01:27<01:08,  2.19it/s]"
     ]
    },
    {
     "name": "stdout",
     "output_type": "stream",
     "text": [
      "score: 0.6428571428571429\n"
     ]
    },
    {
     "name": "stderr",
     "output_type": "stream",
     "text": [
      "Python(90767) MallocStackLogging: can't turn off malloc stack logging because it was not enabled.\n",
      "Python(90768) MallocStackLogging: can't turn off malloc stack logging because it was not enabled.\n",
      "Processing MP3 files:  63%|██████▎   | 252/400 [01:27<01:01,  2.40it/s]"
     ]
    },
    {
     "name": "stdout",
     "output_type": "stream",
     "text": [
      "score: 0.0\n"
     ]
    },
    {
     "name": "stderr",
     "output_type": "stream",
     "text": [
      "Python(90769) MallocStackLogging: can't turn off malloc stack logging because it was not enabled.\n",
      "Python(90770) MallocStackLogging: can't turn off malloc stack logging because it was not enabled.\n",
      "Processing MP3 files:  63%|██████▎   | 253/400 [01:28<00:58,  2.53it/s]"
     ]
    },
    {
     "name": "stdout",
     "output_type": "stream",
     "text": [
      "score: 0.18181818181818182\n"
     ]
    },
    {
     "name": "stderr",
     "output_type": "stream",
     "text": [
      "Python(90771) MallocStackLogging: can't turn off malloc stack logging because it was not enabled.\n",
      "Python(90772) MallocStackLogging: can't turn off malloc stack logging because it was not enabled.\n",
      "Processing MP3 files:  64%|██████▎   | 254/400 [01:28<00:55,  2.65it/s]"
     ]
    },
    {
     "name": "stdout",
     "output_type": "stream",
     "text": [
      "score: 0.375\n"
     ]
    },
    {
     "name": "stderr",
     "output_type": "stream",
     "text": [
      "Python(90773) MallocStackLogging: can't turn off malloc stack logging because it was not enabled.\n",
      "Python(90774) MallocStackLogging: can't turn off malloc stack logging because it was not enabled.\n",
      "Processing MP3 files:  64%|██████▍   | 255/400 [01:29<00:54,  2.66it/s]"
     ]
    },
    {
     "name": "stdout",
     "output_type": "stream",
     "text": [
      "score: 0.09090909090909091\n"
     ]
    },
    {
     "name": "stderr",
     "output_type": "stream",
     "text": [
      "Python(90775) MallocStackLogging: can't turn off malloc stack logging because it was not enabled.\n",
      "Python(90776) MallocStackLogging: can't turn off malloc stack logging because it was not enabled.\n",
      "Processing MP3 files:  64%|██████▍   | 256/400 [01:29<00:53,  2.71it/s]"
     ]
    },
    {
     "name": "stdout",
     "output_type": "stream",
     "text": [
      "score: 0.1\n"
     ]
    },
    {
     "name": "stderr",
     "output_type": "stream",
     "text": [
      "Python(90777) MallocStackLogging: can't turn off malloc stack logging because it was not enabled.\n",
      "Python(90778) MallocStackLogging: can't turn off malloc stack logging because it was not enabled.\n",
      "Processing MP3 files:  64%|██████▍   | 257/400 [01:29<00:55,  2.58it/s]"
     ]
    },
    {
     "name": "stdout",
     "output_type": "stream",
     "text": [
      "score: 0.058823529411764705\n"
     ]
    },
    {
     "name": "stderr",
     "output_type": "stream",
     "text": [
      "Python(90779) MallocStackLogging: can't turn off malloc stack logging because it was not enabled.\n",
      "Python(90780) MallocStackLogging: can't turn off malloc stack logging because it was not enabled.\n",
      "Processing MP3 files:  64%|██████▍   | 258/400 [01:30<00:50,  2.80it/s]"
     ]
    },
    {
     "name": "stdout",
     "output_type": "stream",
     "text": [
      "score: 0.5\n"
     ]
    },
    {
     "name": "stderr",
     "output_type": "stream",
     "text": [
      "Python(90781) MallocStackLogging: can't turn off malloc stack logging because it was not enabled.\n",
      "Python(90782) MallocStackLogging: can't turn off malloc stack logging because it was not enabled.\n",
      "Processing MP3 files:  65%|██████▍   | 259/400 [01:30<00:52,  2.67it/s]"
     ]
    },
    {
     "name": "stdout",
     "output_type": "stream",
     "text": [
      "score: 0.36363636363636365\n"
     ]
    },
    {
     "name": "stderr",
     "output_type": "stream",
     "text": [
      "Python(90783) MallocStackLogging: can't turn off malloc stack logging because it was not enabled.\n",
      "Python(90784) MallocStackLogging: can't turn off malloc stack logging because it was not enabled.\n",
      "Processing MP3 files:  65%|██████▌   | 260/400 [01:30<00:49,  2.82it/s]"
     ]
    },
    {
     "name": "stdout",
     "output_type": "stream",
     "text": [
      "score: 0.125\n"
     ]
    },
    {
     "name": "stderr",
     "output_type": "stream",
     "text": [
      "Python(90785) MallocStackLogging: can't turn off malloc stack logging because it was not enabled.\n",
      "Python(90786) MallocStackLogging: can't turn off malloc stack logging because it was not enabled.\n",
      "Processing MP3 files:  65%|██████▌   | 261/400 [01:31<00:47,  2.95it/s]"
     ]
    },
    {
     "name": "stdout",
     "output_type": "stream",
     "text": [
      "score: 0.75\n"
     ]
    },
    {
     "name": "stderr",
     "output_type": "stream",
     "text": [
      "Python(90787) MallocStackLogging: can't turn off malloc stack logging because it was not enabled.\n",
      "Python(90788) MallocStackLogging: can't turn off malloc stack logging because it was not enabled.\n",
      "Processing MP3 files:  66%|██████▌   | 262/400 [01:31<00:43,  3.19it/s]"
     ]
    },
    {
     "name": "stdout",
     "output_type": "stream",
     "text": [
      "score: 0.5\n"
     ]
    },
    {
     "name": "stderr",
     "output_type": "stream",
     "text": [
      "Python(90789) MallocStackLogging: can't turn off malloc stack logging because it was not enabled.\n",
      "Python(90790) MallocStackLogging: can't turn off malloc stack logging because it was not enabled.\n",
      "Processing MP3 files:  66%|██████▌   | 263/400 [01:31<00:41,  3.30it/s]"
     ]
    },
    {
     "name": "stdout",
     "output_type": "stream",
     "text": [
      "score: 0.0\n"
     ]
    },
    {
     "name": "stderr",
     "output_type": "stream",
     "text": [
      "Python(90791) MallocStackLogging: can't turn off malloc stack logging because it was not enabled.\n",
      "Python(90792) MallocStackLogging: can't turn off malloc stack logging because it was not enabled.\n",
      "Processing MP3 files:  66%|██████▌   | 264/400 [01:31<00:42,  3.18it/s]"
     ]
    },
    {
     "name": "stdout",
     "output_type": "stream",
     "text": [
      "score: 0.36363636363636365\n"
     ]
    },
    {
     "name": "stderr",
     "output_type": "stream",
     "text": [
      "Python(90793) MallocStackLogging: can't turn off malloc stack logging because it was not enabled.\n",
      "Python(90794) MallocStackLogging: can't turn off malloc stack logging because it was not enabled.\n",
      "Processing MP3 files:  66%|██████▋   | 265/400 [01:32<00:42,  3.17it/s]"
     ]
    },
    {
     "name": "stdout",
     "output_type": "stream",
     "text": [
      "score: 0.2857142857142857\n"
     ]
    },
    {
     "name": "stderr",
     "output_type": "stream",
     "text": [
      "Python(90795) MallocStackLogging: can't turn off malloc stack logging because it was not enabled.\n",
      "Python(90796) MallocStackLogging: can't turn off malloc stack logging because it was not enabled.\n",
      "Processing MP3 files:  66%|██████▋   | 266/400 [01:32<00:46,  2.86it/s]"
     ]
    },
    {
     "name": "stdout",
     "output_type": "stream",
     "text": [
      "score: 0.07692307692307693\n"
     ]
    },
    {
     "name": "stderr",
     "output_type": "stream",
     "text": [
      "Python(90797) MallocStackLogging: can't turn off malloc stack logging because it was not enabled.\n",
      "Python(90798) MallocStackLogging: can't turn off malloc stack logging because it was not enabled.\n",
      "Processing MP3 files:  67%|██████▋   | 267/400 [01:33<00:46,  2.88it/s]"
     ]
    },
    {
     "name": "stdout",
     "output_type": "stream",
     "text": [
      "score: 0.2857142857142857\n"
     ]
    },
    {
     "name": "stderr",
     "output_type": "stream",
     "text": [
      "Python(90799) MallocStackLogging: can't turn off malloc stack logging because it was not enabled.\n",
      "Python(90800) MallocStackLogging: can't turn off malloc stack logging because it was not enabled.\n",
      "Processing MP3 files:  67%|██████▋   | 268/400 [01:33<00:47,  2.75it/s]"
     ]
    },
    {
     "name": "stdout",
     "output_type": "stream",
     "text": [
      "score: 0.2222222222222222\n"
     ]
    },
    {
     "name": "stderr",
     "output_type": "stream",
     "text": [
      "Python(90801) MallocStackLogging: can't turn off malloc stack logging because it was not enabled.\n",
      "Python(90802) MallocStackLogging: can't turn off malloc stack logging because it was not enabled.\n",
      "Processing MP3 files:  67%|██████▋   | 269/400 [01:33<00:45,  2.86it/s]"
     ]
    },
    {
     "name": "stdout",
     "output_type": "stream",
     "text": [
      "score: 0.42857142857142855\n"
     ]
    },
    {
     "name": "stderr",
     "output_type": "stream",
     "text": [
      "Python(90803) MallocStackLogging: can't turn off malloc stack logging because it was not enabled.\n",
      "Python(90804) MallocStackLogging: can't turn off malloc stack logging because it was not enabled.\n",
      "Processing MP3 files:  68%|██████▊   | 270/400 [01:34<00:44,  2.90it/s]"
     ]
    },
    {
     "name": "stdout",
     "output_type": "stream",
     "text": [
      "score: 0.0\n"
     ]
    },
    {
     "name": "stderr",
     "output_type": "stream",
     "text": [
      "Python(90805) MallocStackLogging: can't turn off malloc stack logging because it was not enabled.\n",
      "Python(90806) MallocStackLogging: can't turn off malloc stack logging because it was not enabled.\n",
      "Processing MP3 files:  68%|██████▊   | 271/400 [01:34<00:43,  3.00it/s]"
     ]
    },
    {
     "name": "stdout",
     "output_type": "stream",
     "text": [
      "score: 0.6666666666666666\n"
     ]
    },
    {
     "name": "stderr",
     "output_type": "stream",
     "text": [
      "Python(90807) MallocStackLogging: can't turn off malloc stack logging because it was not enabled.\n",
      "Python(90808) MallocStackLogging: can't turn off malloc stack logging because it was not enabled.\n",
      "Processing MP3 files:  68%|██████▊   | 272/400 [01:34<00:43,  2.93it/s]"
     ]
    },
    {
     "name": "stdout",
     "output_type": "stream",
     "text": [
      "score: 0.3333333333333333\n"
     ]
    },
    {
     "name": "stderr",
     "output_type": "stream",
     "text": [
      "Python(90809) MallocStackLogging: can't turn off malloc stack logging because it was not enabled.\n",
      "Python(90810) MallocStackLogging: can't turn off malloc stack logging because it was not enabled.\n",
      "Processing MP3 files:  68%|██████▊   | 273/400 [01:35<00:43,  2.90it/s]"
     ]
    },
    {
     "name": "stdout",
     "output_type": "stream",
     "text": [
      "score: 0.2\n"
     ]
    },
    {
     "name": "stderr",
     "output_type": "stream",
     "text": [
      "Python(90811) MallocStackLogging: can't turn off malloc stack logging because it was not enabled.\n",
      "Python(90812) MallocStackLogging: can't turn off malloc stack logging because it was not enabled.\n",
      "Processing MP3 files:  68%|██████▊   | 274/400 [01:35<00:42,  2.96it/s]"
     ]
    },
    {
     "name": "stdout",
     "output_type": "stream",
     "text": [
      "score: 0.5\n"
     ]
    },
    {
     "name": "stderr",
     "output_type": "stream",
     "text": [
      "Python(90813) MallocStackLogging: can't turn off malloc stack logging because it was not enabled.\n",
      "Python(90814) MallocStackLogging: can't turn off malloc stack logging because it was not enabled.\n",
      "Processing MP3 files:  69%|██████▉   | 275/400 [01:35<00:42,  2.97it/s]"
     ]
    },
    {
     "name": "stdout",
     "output_type": "stream",
     "text": [
      "score: 0.5555555555555556\n"
     ]
    },
    {
     "name": "stderr",
     "output_type": "stream",
     "text": [
      "Python(90815) MallocStackLogging: can't turn off malloc stack logging because it was not enabled.\n",
      "Python(90816) MallocStackLogging: can't turn off malloc stack logging because it was not enabled.\n",
      "Processing MP3 files:  69%|██████▉   | 276/400 [01:36<00:42,  2.89it/s]"
     ]
    },
    {
     "name": "stdout",
     "output_type": "stream",
     "text": [
      "score: 0.16666666666666666\n"
     ]
    },
    {
     "name": "stderr",
     "output_type": "stream",
     "text": [
      "Python(90817) MallocStackLogging: can't turn off malloc stack logging because it was not enabled.\n",
      "Python(90818) MallocStackLogging: can't turn off malloc stack logging because it was not enabled.\n",
      "Processing MP3 files:  69%|██████▉   | 277/400 [01:36<00:41,  2.98it/s]"
     ]
    },
    {
     "name": "stdout",
     "output_type": "stream",
     "text": [
      "score: 0.2\n"
     ]
    },
    {
     "name": "stderr",
     "output_type": "stream",
     "text": [
      "Python(90819) MallocStackLogging: can't turn off malloc stack logging because it was not enabled.\n",
      "Python(90820) MallocStackLogging: can't turn off malloc stack logging because it was not enabled.\n",
      "Processing MP3 files:  70%|██████▉   | 278/400 [01:37<00:48,  2.49it/s]"
     ]
    },
    {
     "name": "stdout",
     "output_type": "stream",
     "text": [
      "score: 0.125\n"
     ]
    },
    {
     "name": "stderr",
     "output_type": "stream",
     "text": [
      "Python(90821) MallocStackLogging: can't turn off malloc stack logging because it was not enabled.\n",
      "Python(90822) MallocStackLogging: can't turn off malloc stack logging because it was not enabled.\n",
      "Processing MP3 files:  70%|██████▉   | 279/400 [01:37<00:47,  2.57it/s]"
     ]
    },
    {
     "name": "stdout",
     "output_type": "stream",
     "text": [
      "score: 0.25\n"
     ]
    },
    {
     "name": "stderr",
     "output_type": "stream",
     "text": [
      "Python(90823) MallocStackLogging: can't turn off malloc stack logging because it was not enabled.\n",
      "Python(90824) MallocStackLogging: can't turn off malloc stack logging because it was not enabled.\n",
      "Processing MP3 files:  70%|███████   | 280/400 [01:37<00:43,  2.75it/s]"
     ]
    },
    {
     "name": "stdout",
     "output_type": "stream",
     "text": [
      "score: 0.14285714285714285\n"
     ]
    },
    {
     "name": "stderr",
     "output_type": "stream",
     "text": [
      "Python(90825) MallocStackLogging: can't turn off malloc stack logging because it was not enabled.\n",
      "Python(90826) MallocStackLogging: can't turn off malloc stack logging because it was not enabled.\n",
      "Processing MP3 files:  70%|███████   | 281/400 [01:38<00:43,  2.73it/s]"
     ]
    },
    {
     "name": "stdout",
     "output_type": "stream",
     "text": [
      "score: 0.0\n"
     ]
    },
    {
     "name": "stderr",
     "output_type": "stream",
     "text": [
      "Python(90827) MallocStackLogging: can't turn off malloc stack logging because it was not enabled.\n",
      "Python(90828) MallocStackLogging: can't turn off malloc stack logging because it was not enabled.\n",
      "Processing MP3 files:  70%|███████   | 282/400 [01:38<00:44,  2.64it/s]"
     ]
    },
    {
     "name": "stdout",
     "output_type": "stream",
     "text": [
      "score: 0.3076923076923077\n"
     ]
    },
    {
     "name": "stderr",
     "output_type": "stream",
     "text": [
      "Python(90829) MallocStackLogging: can't turn off malloc stack logging because it was not enabled.\n",
      "Python(90830) MallocStackLogging: can't turn off malloc stack logging because it was not enabled.\n",
      "Processing MP3 files:  71%|███████   | 283/400 [01:38<00:43,  2.70it/s]"
     ]
    },
    {
     "name": "stdout",
     "output_type": "stream",
     "text": [
      "score: 0.5\n"
     ]
    },
    {
     "name": "stderr",
     "output_type": "stream",
     "text": [
      "Python(90831) MallocStackLogging: can't turn off malloc stack logging because it was not enabled.\n",
      "Python(90832) MallocStackLogging: can't turn off malloc stack logging because it was not enabled.\n",
      "Processing MP3 files:  71%|███████   | 284/400 [01:39<00:42,  2.72it/s]"
     ]
    },
    {
     "name": "stdout",
     "output_type": "stream",
     "text": [
      "score: 0.15384615384615385\n"
     ]
    },
    {
     "name": "stderr",
     "output_type": "stream",
     "text": [
      "Python(90834) MallocStackLogging: can't turn off malloc stack logging because it was not enabled.\n",
      "Python(90835) MallocStackLogging: can't turn off malloc stack logging because it was not enabled.\n",
      "Processing MP3 files:  71%|███████▏  | 285/400 [01:39<00:40,  2.87it/s]"
     ]
    },
    {
     "name": "stdout",
     "output_type": "stream",
     "text": [
      "score: 0.6666666666666666\n"
     ]
    },
    {
     "name": "stderr",
     "output_type": "stream",
     "text": [
      "Python(90836) MallocStackLogging: can't turn off malloc stack logging because it was not enabled.\n",
      "Python(90837) MallocStackLogging: can't turn off malloc stack logging because it was not enabled.\n",
      "Processing MP3 files:  72%|███████▏  | 286/400 [01:39<00:39,  2.92it/s]"
     ]
    },
    {
     "name": "stdout",
     "output_type": "stream",
     "text": [
      "score: 0.0\n"
     ]
    },
    {
     "name": "stderr",
     "output_type": "stream",
     "text": [
      "Python(90838) MallocStackLogging: can't turn off malloc stack logging because it was not enabled.\n",
      "Python(90839) MallocStackLogging: can't turn off malloc stack logging because it was not enabled.\n",
      "Processing MP3 files:  72%|███████▏  | 287/400 [01:40<00:35,  3.17it/s]"
     ]
    },
    {
     "name": "stdout",
     "output_type": "stream",
     "text": [
      "score: 0.2\n"
     ]
    },
    {
     "name": "stderr",
     "output_type": "stream",
     "text": [
      "Python(90840) MallocStackLogging: can't turn off malloc stack logging because it was not enabled.\n",
      "Python(90841) MallocStackLogging: can't turn off malloc stack logging because it was not enabled.\n",
      "Processing MP3 files:  72%|███████▏  | 288/400 [01:40<00:42,  2.62it/s]"
     ]
    },
    {
     "name": "stdout",
     "output_type": "stream",
     "text": [
      "score: 0.14285714285714285\n"
     ]
    },
    {
     "name": "stderr",
     "output_type": "stream",
     "text": [
      "Python(90842) MallocStackLogging: can't turn off malloc stack logging because it was not enabled.\n",
      "Python(90843) MallocStackLogging: can't turn off malloc stack logging because it was not enabled.\n",
      "Processing MP3 files:  72%|███████▏  | 289/400 [01:40<00:42,  2.59it/s]"
     ]
    },
    {
     "name": "stdout",
     "output_type": "stream",
     "text": [
      "score: 0.14285714285714285\n"
     ]
    },
    {
     "name": "stderr",
     "output_type": "stream",
     "text": [
      "Python(90844) MallocStackLogging: can't turn off malloc stack logging because it was not enabled.\n",
      "Python(90846) MallocStackLogging: can't turn off malloc stack logging because it was not enabled.\n",
      "Processing MP3 files:  72%|███████▎  | 290/400 [01:41<00:41,  2.62it/s]"
     ]
    },
    {
     "name": "stdout",
     "output_type": "stream",
     "text": [
      "score: 0.38461538461538464\n"
     ]
    },
    {
     "name": "stderr",
     "output_type": "stream",
     "text": [
      "Python(90847) MallocStackLogging: can't turn off malloc stack logging because it was not enabled.\n",
      "Python(90848) MallocStackLogging: can't turn off malloc stack logging because it was not enabled.\n",
      "Processing MP3 files:  73%|███████▎  | 291/400 [01:41<00:40,  2.70it/s]"
     ]
    },
    {
     "name": "stdout",
     "output_type": "stream",
     "text": [
      "score: 0.0\n"
     ]
    },
    {
     "name": "stderr",
     "output_type": "stream",
     "text": [
      "Python(90849) MallocStackLogging: can't turn off malloc stack logging because it was not enabled.\n",
      "Python(90850) MallocStackLogging: can't turn off malloc stack logging because it was not enabled.\n",
      "Processing MP3 files:  73%|███████▎  | 292/400 [01:42<00:40,  2.69it/s]"
     ]
    },
    {
     "name": "stdout",
     "output_type": "stream",
     "text": [
      "score: 0.7857142857142857\n"
     ]
    },
    {
     "name": "stderr",
     "output_type": "stream",
     "text": [
      "Python(90851) MallocStackLogging: can't turn off malloc stack logging because it was not enabled.\n",
      "Python(90852) MallocStackLogging: can't turn off malloc stack logging because it was not enabled.\n",
      "Processing MP3 files:  73%|███████▎  | 293/400 [01:42<00:41,  2.55it/s]"
     ]
    },
    {
     "name": "stdout",
     "output_type": "stream",
     "text": [
      "score: 0.2727272727272727\n"
     ]
    },
    {
     "name": "stderr",
     "output_type": "stream",
     "text": [
      "Python(90853) MallocStackLogging: can't turn off malloc stack logging because it was not enabled.\n",
      "Python(90854) MallocStackLogging: can't turn off malloc stack logging because it was not enabled.\n",
      "Processing MP3 files:  74%|███████▎  | 294/400 [01:42<00:43,  2.45it/s]"
     ]
    },
    {
     "name": "stdout",
     "output_type": "stream",
     "text": [
      "score: 0.09090909090909091\n"
     ]
    },
    {
     "name": "stderr",
     "output_type": "stream",
     "text": [
      "Python(90855) MallocStackLogging: can't turn off malloc stack logging because it was not enabled.\n",
      "Python(90856) MallocStackLogging: can't turn off malloc stack logging because it was not enabled.\n",
      "Processing MP3 files:  74%|███████▍  | 295/400 [01:43<00:43,  2.43it/s]"
     ]
    },
    {
     "name": "stdout",
     "output_type": "stream",
     "text": [
      "score: 0.14285714285714285\n"
     ]
    },
    {
     "name": "stderr",
     "output_type": "stream",
     "text": [
      "Python(90857) MallocStackLogging: can't turn off malloc stack logging because it was not enabled.\n",
      "Python(90858) MallocStackLogging: can't turn off malloc stack logging because it was not enabled.\n",
      "Processing MP3 files:  74%|███████▍  | 296/400 [01:43<00:38,  2.73it/s]"
     ]
    },
    {
     "name": "stdout",
     "output_type": "stream",
     "text": [
      "score: 0.5\n"
     ]
    },
    {
     "name": "stderr",
     "output_type": "stream",
     "text": [
      "Python(90859) MallocStackLogging: can't turn off malloc stack logging because it was not enabled.\n",
      "Python(90860) MallocStackLogging: can't turn off malloc stack logging because it was not enabled.\n",
      "Processing MP3 files:  74%|███████▍  | 297/400 [01:44<00:39,  2.62it/s]"
     ]
    },
    {
     "name": "stdout",
     "output_type": "stream",
     "text": [
      "score: 0.25\n"
     ]
    },
    {
     "name": "stderr",
     "output_type": "stream",
     "text": [
      "Python(90861) MallocStackLogging: can't turn off malloc stack logging because it was not enabled.\n",
      "Python(90862) MallocStackLogging: can't turn off malloc stack logging because it was not enabled.\n",
      "Processing MP3 files:  74%|███████▍  | 298/400 [01:44<00:43,  2.35it/s]"
     ]
    },
    {
     "name": "stdout",
     "output_type": "stream",
     "text": [
      "score: 0.5384615384615384\n"
     ]
    },
    {
     "name": "stderr",
     "output_type": "stream",
     "text": [
      "Python(90863) MallocStackLogging: can't turn off malloc stack logging because it was not enabled.\n",
      "Python(90864) MallocStackLogging: can't turn off malloc stack logging because it was not enabled.\n",
      "Processing MP3 files:  75%|███████▍  | 299/400 [01:44<00:39,  2.55it/s]"
     ]
    },
    {
     "name": "stdout",
     "output_type": "stream",
     "text": [
      "score: 0.0\n"
     ]
    },
    {
     "name": "stderr",
     "output_type": "stream",
     "text": [
      "Python(90865) MallocStackLogging: can't turn off malloc stack logging because it was not enabled.\n",
      "Python(90866) MallocStackLogging: can't turn off malloc stack logging because it was not enabled.\n",
      "Processing MP3 files:  75%|███████▌  | 300/400 [01:45<00:41,  2.40it/s]"
     ]
    },
    {
     "name": "stdout",
     "output_type": "stream",
     "text": [
      "score: 0.5714285714285714\n"
     ]
    },
    {
     "name": "stderr",
     "output_type": "stream",
     "text": [
      "Python(90867) MallocStackLogging: can't turn off malloc stack logging because it was not enabled.\n",
      "Python(90868) MallocStackLogging: can't turn off malloc stack logging because it was not enabled.\n",
      "Processing MP3 files:  75%|███████▌  | 301/400 [01:45<00:37,  2.64it/s]"
     ]
    },
    {
     "name": "stdout",
     "output_type": "stream",
     "text": [
      "score: 0.75\n"
     ]
    },
    {
     "name": "stderr",
     "output_type": "stream",
     "text": [
      "Python(90869) MallocStackLogging: can't turn off malloc stack logging because it was not enabled.\n",
      "Python(90870) MallocStackLogging: can't turn off malloc stack logging because it was not enabled.\n",
      "Processing MP3 files:  76%|███████▌  | 302/400 [01:46<00:36,  2.67it/s]"
     ]
    },
    {
     "name": "stdout",
     "output_type": "stream",
     "text": [
      "score: 0.15384615384615385\n"
     ]
    },
    {
     "name": "stderr",
     "output_type": "stream",
     "text": [
      "Python(90871) MallocStackLogging: can't turn off malloc stack logging because it was not enabled.\n",
      "Python(90872) MallocStackLogging: can't turn off malloc stack logging because it was not enabled.\n",
      "Processing MP3 files:  76%|███████▌  | 303/400 [01:46<00:37,  2.58it/s]"
     ]
    },
    {
     "name": "stdout",
     "output_type": "stream",
     "text": [
      "score: 0.13333333333333333\n"
     ]
    },
    {
     "name": "stderr",
     "output_type": "stream",
     "text": [
      "Python(90873) MallocStackLogging: can't turn off malloc stack logging because it was not enabled.\n",
      "Python(90874) MallocStackLogging: can't turn off malloc stack logging because it was not enabled.\n",
      "Processing MP3 files:  76%|███████▌  | 304/400 [01:46<00:34,  2.77it/s]"
     ]
    },
    {
     "name": "stdout",
     "output_type": "stream",
     "text": [
      "score: 1.0\n"
     ]
    },
    {
     "name": "stderr",
     "output_type": "stream",
     "text": [
      "Python(90875) MallocStackLogging: can't turn off malloc stack logging because it was not enabled.\n",
      "Python(90876) MallocStackLogging: can't turn off malloc stack logging because it was not enabled.\n",
      "Processing MP3 files:  76%|███████▋  | 305/400 [01:47<00:36,  2.58it/s]"
     ]
    },
    {
     "name": "stdout",
     "output_type": "stream",
     "text": [
      "score: 0.09090909090909091\n"
     ]
    },
    {
     "name": "stderr",
     "output_type": "stream",
     "text": [
      "Python(90877) MallocStackLogging: can't turn off malloc stack logging because it was not enabled.\n",
      "Python(90878) MallocStackLogging: can't turn off malloc stack logging because it was not enabled.\n",
      "Processing MP3 files:  76%|███████▋  | 306/400 [01:47<00:35,  2.64it/s]"
     ]
    },
    {
     "name": "stdout",
     "output_type": "stream",
     "text": [
      "score: 0.3333333333333333\n"
     ]
    },
    {
     "name": "stderr",
     "output_type": "stream",
     "text": [
      "Python(90879) MallocStackLogging: can't turn off malloc stack logging because it was not enabled.\n",
      "Python(90880) MallocStackLogging: can't turn off malloc stack logging because it was not enabled.\n",
      "Processing MP3 files:  77%|███████▋  | 307/400 [01:47<00:35,  2.59it/s]"
     ]
    },
    {
     "name": "stdout",
     "output_type": "stream",
     "text": [
      "score: 0.09090909090909091\n"
     ]
    },
    {
     "name": "stderr",
     "output_type": "stream",
     "text": [
      "Python(90881) MallocStackLogging: can't turn off malloc stack logging because it was not enabled.\n",
      "Python(90882) MallocStackLogging: can't turn off malloc stack logging because it was not enabled.\n",
      "Processing MP3 files:  77%|███████▋  | 308/400 [01:48<00:32,  2.79it/s]"
     ]
    },
    {
     "name": "stdout",
     "output_type": "stream",
     "text": [
      "score: 0.0\n"
     ]
    },
    {
     "name": "stderr",
     "output_type": "stream",
     "text": [
      "Python(90883) MallocStackLogging: can't turn off malloc stack logging because it was not enabled.\n",
      "Python(90884) MallocStackLogging: can't turn off malloc stack logging because it was not enabled.\n",
      "Processing MP3 files:  77%|███████▋  | 309/400 [01:48<00:32,  2.77it/s]"
     ]
    },
    {
     "name": "stdout",
     "output_type": "stream",
     "text": [
      "score: 0.36363636363636365\n"
     ]
    },
    {
     "name": "stderr",
     "output_type": "stream",
     "text": [
      "Python(90885) MallocStackLogging: can't turn off malloc stack logging because it was not enabled.\n",
      "Python(90886) MallocStackLogging: can't turn off malloc stack logging because it was not enabled.\n",
      "Processing MP3 files:  78%|███████▊  | 310/400 [01:49<00:34,  2.64it/s]"
     ]
    },
    {
     "name": "stdout",
     "output_type": "stream",
     "text": [
      "score: 0.0\n"
     ]
    },
    {
     "name": "stderr",
     "output_type": "stream",
     "text": [
      "Python(90887) MallocStackLogging: can't turn off malloc stack logging because it was not enabled.\n",
      "Python(90888) MallocStackLogging: can't turn off malloc stack logging because it was not enabled.\n",
      "Processing MP3 files:  78%|███████▊  | 311/400 [01:49<00:32,  2.73it/s]"
     ]
    },
    {
     "name": "stdout",
     "output_type": "stream",
     "text": [
      "score: 0.0\n"
     ]
    },
    {
     "name": "stderr",
     "output_type": "stream",
     "text": [
      "Python(90889) MallocStackLogging: can't turn off malloc stack logging because it was not enabled.\n",
      "Python(90890) MallocStackLogging: can't turn off malloc stack logging because it was not enabled.\n",
      "Processing MP3 files:  78%|███████▊  | 312/400 [01:49<00:31,  2.80it/s]"
     ]
    },
    {
     "name": "stdout",
     "output_type": "stream",
     "text": [
      "score: 1.0\n"
     ]
    },
    {
     "name": "stderr",
     "output_type": "stream",
     "text": [
      "Python(90891) MallocStackLogging: can't turn off malloc stack logging because it was not enabled.\n",
      "Python(90892) MallocStackLogging: can't turn off malloc stack logging because it was not enabled.\n",
      "Processing MP3 files:  78%|███████▊  | 313/400 [01:50<00:29,  2.95it/s]"
     ]
    },
    {
     "name": "stdout",
     "output_type": "stream",
     "text": [
      "score: 0.3333333333333333\n"
     ]
    },
    {
     "name": "stderr",
     "output_type": "stream",
     "text": [
      "Python(90893) MallocStackLogging: can't turn off malloc stack logging because it was not enabled.\n",
      "Python(90894) MallocStackLogging: can't turn off malloc stack logging because it was not enabled.\n",
      "Processing MP3 files:  78%|███████▊  | 314/400 [01:50<00:31,  2.72it/s]"
     ]
    },
    {
     "name": "stdout",
     "output_type": "stream",
     "text": [
      "score: 0.3333333333333333\n"
     ]
    },
    {
     "name": "stderr",
     "output_type": "stream",
     "text": [
      "Python(90896) MallocStackLogging: can't turn off malloc stack logging because it was not enabled.\n",
      "Python(90897) MallocStackLogging: can't turn off malloc stack logging because it was not enabled.\n",
      "Processing MP3 files:  79%|███████▉  | 315/400 [01:50<00:30,  2.79it/s]"
     ]
    },
    {
     "name": "stdout",
     "output_type": "stream",
     "text": [
      "score: 0.5\n"
     ]
    },
    {
     "name": "stderr",
     "output_type": "stream",
     "text": [
      "Python(90898) MallocStackLogging: can't turn off malloc stack logging because it was not enabled.\n",
      "Python(90899) MallocStackLogging: can't turn off malloc stack logging because it was not enabled.\n",
      "Processing MP3 files:  79%|███████▉  | 316/400 [01:51<00:30,  2.75it/s]"
     ]
    },
    {
     "name": "stdout",
     "output_type": "stream",
     "text": [
      "score: 0.46153846153846156\n"
     ]
    },
    {
     "name": "stderr",
     "output_type": "stream",
     "text": [
      "Python(90900) MallocStackLogging: can't turn off malloc stack logging because it was not enabled.\n",
      "Python(90901) MallocStackLogging: can't turn off malloc stack logging because it was not enabled.\n",
      "Processing MP3 files:  79%|███████▉  | 317/400 [01:51<00:28,  2.92it/s]"
     ]
    },
    {
     "name": "stdout",
     "output_type": "stream",
     "text": [
      "score: 0.0\n"
     ]
    },
    {
     "name": "stderr",
     "output_type": "stream",
     "text": [
      "Python(90902) MallocStackLogging: can't turn off malloc stack logging because it was not enabled.\n",
      "Python(90903) MallocStackLogging: can't turn off malloc stack logging because it was not enabled.\n",
      "Processing MP3 files:  80%|███████▉  | 318/400 [01:51<00:30,  2.72it/s]"
     ]
    },
    {
     "name": "stdout",
     "output_type": "stream",
     "text": [
      "score: 0.09090909090909091\n"
     ]
    },
    {
     "name": "stderr",
     "output_type": "stream",
     "text": [
      "Python(90911) MallocStackLogging: can't turn off malloc stack logging because it was not enabled.\n",
      "Python(90912) MallocStackLogging: can't turn off malloc stack logging because it was not enabled.\n",
      "Processing MP3 files:  80%|███████▉  | 319/400 [01:52<00:28,  2.83it/s]"
     ]
    },
    {
     "name": "stdout",
     "output_type": "stream",
     "text": [
      "score: 0.7142857142857143\n"
     ]
    },
    {
     "name": "stderr",
     "output_type": "stream",
     "text": [
      "Python(90913) MallocStackLogging: can't turn off malloc stack logging because it was not enabled.\n",
      "Python(90914) MallocStackLogging: can't turn off malloc stack logging because it was not enabled.\n",
      "Processing MP3 files:  80%|████████  | 320/400 [01:52<00:27,  2.96it/s]"
     ]
    },
    {
     "name": "stdout",
     "output_type": "stream",
     "text": [
      "score: 0.75\n"
     ]
    },
    {
     "name": "stderr",
     "output_type": "stream",
     "text": [
      "Python(90915) MallocStackLogging: can't turn off malloc stack logging because it was not enabled.\n",
      "Python(90916) MallocStackLogging: can't turn off malloc stack logging because it was not enabled.\n",
      "Processing MP3 files:  80%|████████  | 321/400 [01:52<00:24,  3.17it/s]"
     ]
    },
    {
     "name": "stdout",
     "output_type": "stream",
     "text": [
      "score: 0.8\n"
     ]
    },
    {
     "name": "stderr",
     "output_type": "stream",
     "text": [
      "Python(90917) MallocStackLogging: can't turn off malloc stack logging because it was not enabled.\n",
      "Python(90918) MallocStackLogging: can't turn off malloc stack logging because it was not enabled.\n",
      "Processing MP3 files:  80%|████████  | 322/400 [01:53<00:26,  2.94it/s]"
     ]
    },
    {
     "name": "stdout",
     "output_type": "stream",
     "text": [
      "score: 0.1875\n"
     ]
    },
    {
     "name": "stderr",
     "output_type": "stream",
     "text": [
      "Python(90919) MallocStackLogging: can't turn off malloc stack logging because it was not enabled.\n",
      "Python(90920) MallocStackLogging: can't turn off malloc stack logging because it was not enabled.\n",
      "Processing MP3 files:  81%|████████  | 323/400 [01:53<00:25,  3.00it/s]"
     ]
    },
    {
     "name": "stdout",
     "output_type": "stream",
     "text": [
      "score: 0.6666666666666666\n"
     ]
    },
    {
     "name": "stderr",
     "output_type": "stream",
     "text": [
      "Python(90921) MallocStackLogging: can't turn off malloc stack logging because it was not enabled.\n",
      "Python(90922) MallocStackLogging: can't turn off malloc stack logging because it was not enabled.\n",
      "Processing MP3 files:  81%|████████  | 324/400 [01:53<00:24,  3.12it/s]"
     ]
    },
    {
     "name": "stdout",
     "output_type": "stream",
     "text": [
      "score: 0.5\n"
     ]
    },
    {
     "name": "stderr",
     "output_type": "stream",
     "text": [
      "Python(90923) MallocStackLogging: can't turn off malloc stack logging because it was not enabled.\n",
      "Python(90924) MallocStackLogging: can't turn off malloc stack logging because it was not enabled.\n",
      "Processing MP3 files:  81%|████████▏ | 325/400 [01:54<00:27,  2.72it/s]"
     ]
    },
    {
     "name": "stdout",
     "output_type": "stream",
     "text": [
      "score: 0.125\n"
     ]
    },
    {
     "name": "stderr",
     "output_type": "stream",
     "text": [
      "Python(90925) MallocStackLogging: can't turn off malloc stack logging because it was not enabled.\n",
      "Python(90926) MallocStackLogging: can't turn off malloc stack logging because it was not enabled.\n",
      "Processing MP3 files:  82%|████████▏ | 326/400 [01:54<00:25,  2.90it/s]"
     ]
    },
    {
     "name": "stdout",
     "output_type": "stream",
     "text": [
      "score: 0.0\n"
     ]
    },
    {
     "name": "stderr",
     "output_type": "stream",
     "text": [
      "Python(90927) MallocStackLogging: can't turn off malloc stack logging because it was not enabled.\n",
      "Python(90928) MallocStackLogging: can't turn off malloc stack logging because it was not enabled.\n",
      "Processing MP3 files:  82%|████████▏ | 327/400 [01:54<00:24,  2.96it/s]"
     ]
    },
    {
     "name": "stdout",
     "output_type": "stream",
     "text": [
      "score: 0.0\n"
     ]
    },
    {
     "name": "stderr",
     "output_type": "stream",
     "text": [
      "Python(90929) MallocStackLogging: can't turn off malloc stack logging because it was not enabled.\n",
      "Python(90930) MallocStackLogging: can't turn off malloc stack logging because it was not enabled.\n",
      "Processing MP3 files:  82%|████████▏ | 328/400 [01:55<00:25,  2.83it/s]"
     ]
    },
    {
     "name": "stdout",
     "output_type": "stream",
     "text": [
      "score: 0.0\n"
     ]
    },
    {
     "name": "stderr",
     "output_type": "stream",
     "text": [
      "Python(90931) MallocStackLogging: can't turn off malloc stack logging because it was not enabled.\n",
      "Python(90932) MallocStackLogging: can't turn off malloc stack logging because it was not enabled.\n",
      "Processing MP3 files:  82%|████████▏ | 329/400 [01:55<00:22,  3.13it/s]"
     ]
    },
    {
     "name": "stdout",
     "output_type": "stream",
     "text": [
      "score: 0.3333333333333333\n"
     ]
    },
    {
     "name": "stderr",
     "output_type": "stream",
     "text": [
      "Python(90933) MallocStackLogging: can't turn off malloc stack logging because it was not enabled.\n",
      "Python(90934) MallocStackLogging: can't turn off malloc stack logging because it was not enabled.\n",
      "Processing MP3 files:  82%|████████▎ | 330/400 [01:55<00:21,  3.20it/s]"
     ]
    },
    {
     "name": "stdout",
     "output_type": "stream",
     "text": [
      "score: 0.5\n"
     ]
    },
    {
     "name": "stderr",
     "output_type": "stream",
     "text": [
      "Python(90935) MallocStackLogging: can't turn off malloc stack logging because it was not enabled.\n",
      "Python(90936) MallocStackLogging: can't turn off malloc stack logging because it was not enabled.\n",
      "Processing MP3 files:  83%|████████▎ | 331/400 [01:56<00:21,  3.16it/s]"
     ]
    },
    {
     "name": "stdout",
     "output_type": "stream",
     "text": [
      "score: 0.09090909090909091\n"
     ]
    },
    {
     "name": "stderr",
     "output_type": "stream",
     "text": [
      "Python(90937) MallocStackLogging: can't turn off malloc stack logging because it was not enabled.\n",
      "Python(90938) MallocStackLogging: can't turn off malloc stack logging because it was not enabled.\n",
      "Processing MP3 files:  83%|████████▎ | 332/400 [01:56<00:22,  3.06it/s]"
     ]
    },
    {
     "name": "stdout",
     "output_type": "stream",
     "text": [
      "score: 0.25\n"
     ]
    },
    {
     "name": "stderr",
     "output_type": "stream",
     "text": [
      "Python(90939) MallocStackLogging: can't turn off malloc stack logging because it was not enabled.\n",
      "Python(90940) MallocStackLogging: can't turn off malloc stack logging because it was not enabled.\n",
      "Processing MP3 files:  83%|████████▎ | 333/400 [01:56<00:22,  2.98it/s]"
     ]
    },
    {
     "name": "stdout",
     "output_type": "stream",
     "text": [
      "score: 0.07692307692307693\n"
     ]
    },
    {
     "name": "stderr",
     "output_type": "stream",
     "text": [
      "Python(90941) MallocStackLogging: can't turn off malloc stack logging because it was not enabled.\n",
      "Python(90942) MallocStackLogging: can't turn off malloc stack logging because it was not enabled.\n",
      "Processing MP3 files:  84%|████████▎ | 334/400 [01:57<00:21,  3.13it/s]"
     ]
    },
    {
     "name": "stdout",
     "output_type": "stream",
     "text": [
      "score: 0.5\n"
     ]
    },
    {
     "name": "stderr",
     "output_type": "stream",
     "text": [
      "Python(90943) MallocStackLogging: can't turn off malloc stack logging because it was not enabled.\n",
      "Python(90944) MallocStackLogging: can't turn off malloc stack logging because it was not enabled.\n",
      "Processing MP3 files:  84%|████████▍ | 335/400 [01:57<00:20,  3.18it/s]"
     ]
    },
    {
     "name": "stdout",
     "output_type": "stream",
     "text": [
      "score: 0.09090909090909091\n"
     ]
    },
    {
     "name": "stderr",
     "output_type": "stream",
     "text": [
      "Python(90945) MallocStackLogging: can't turn off malloc stack logging because it was not enabled.\n",
      "Python(90946) MallocStackLogging: can't turn off malloc stack logging because it was not enabled.\n",
      "Processing MP3 files:  84%|████████▍ | 336/400 [01:57<00:19,  3.30it/s]"
     ]
    },
    {
     "name": "stdout",
     "output_type": "stream",
     "text": [
      "score: 1.0\n"
     ]
    },
    {
     "name": "stderr",
     "output_type": "stream",
     "text": [
      "Python(90948) MallocStackLogging: can't turn off malloc stack logging because it was not enabled.\n",
      "Python(90949) MallocStackLogging: can't turn off malloc stack logging because it was not enabled.\n",
      "Processing MP3 files:  84%|████████▍ | 337/400 [01:58<00:19,  3.22it/s]"
     ]
    },
    {
     "name": "stdout",
     "output_type": "stream",
     "text": [
      "score: 0.4\n"
     ]
    },
    {
     "name": "stderr",
     "output_type": "stream",
     "text": [
      "Python(90950) MallocStackLogging: can't turn off malloc stack logging because it was not enabled.\n",
      "Python(90951) MallocStackLogging: can't turn off malloc stack logging because it was not enabled.\n",
      "Processing MP3 files:  84%|████████▍ | 338/400 [01:58<00:20,  3.06it/s]"
     ]
    },
    {
     "name": "stdout",
     "output_type": "stream",
     "text": [
      "score: 0.0\n"
     ]
    },
    {
     "name": "stderr",
     "output_type": "stream",
     "text": [
      "Python(90952) MallocStackLogging: can't turn off malloc stack logging because it was not enabled.\n",
      "Python(90953) MallocStackLogging: can't turn off malloc stack logging because it was not enabled.\n",
      "Processing MP3 files:  85%|████████▍ | 339/400 [01:58<00:21,  2.85it/s]"
     ]
    },
    {
     "name": "stdout",
     "output_type": "stream",
     "text": [
      "score: 0.0\n"
     ]
    },
    {
     "name": "stderr",
     "output_type": "stream",
     "text": [
      "Python(90954) MallocStackLogging: can't turn off malloc stack logging because it was not enabled.\n",
      "Python(90955) MallocStackLogging: can't turn off malloc stack logging because it was not enabled.\n",
      "Processing MP3 files:  85%|████████▌ | 340/400 [01:59<00:19,  3.08it/s]"
     ]
    },
    {
     "name": "stdout",
     "output_type": "stream",
     "text": [
      "score: 0.0\n"
     ]
    },
    {
     "name": "stderr",
     "output_type": "stream",
     "text": [
      "Python(90956) MallocStackLogging: can't turn off malloc stack logging because it was not enabled.\n",
      "Python(90957) MallocStackLogging: can't turn off malloc stack logging because it was not enabled.\n",
      "Processing MP3 files:  85%|████████▌ | 341/400 [01:59<00:18,  3.15it/s]"
     ]
    },
    {
     "name": "stdout",
     "output_type": "stream",
     "text": [
      "score: 0.5714285714285714\n"
     ]
    },
    {
     "name": "stderr",
     "output_type": "stream",
     "text": [
      "Python(90958) MallocStackLogging: can't turn off malloc stack logging because it was not enabled.\n",
      "Python(90959) MallocStackLogging: can't turn off malloc stack logging because it was not enabled.\n",
      "Processing MP3 files:  86%|████████▌ | 342/400 [01:59<00:16,  3.44it/s]"
     ]
    },
    {
     "name": "stdout",
     "output_type": "stream",
     "text": [
      "score: 0.5\n"
     ]
    },
    {
     "name": "stderr",
     "output_type": "stream",
     "text": [
      "Python(90960) MallocStackLogging: can't turn off malloc stack logging because it was not enabled.\n",
      "Python(90961) MallocStackLogging: can't turn off malloc stack logging because it was not enabled.\n",
      "Processing MP3 files:  86%|████████▌ | 343/400 [01:59<00:17,  3.28it/s]"
     ]
    },
    {
     "name": "stdout",
     "output_type": "stream",
     "text": [
      "score: 1.0\n"
     ]
    },
    {
     "name": "stderr",
     "output_type": "stream",
     "text": [
      "Python(90962) MallocStackLogging: can't turn off malloc stack logging because it was not enabled.\n",
      "Python(90963) MallocStackLogging: can't turn off malloc stack logging because it was not enabled.\n",
      "Processing MP3 files:  86%|████████▌ | 344/400 [02:00<00:16,  3.34it/s]"
     ]
    },
    {
     "name": "stdout",
     "output_type": "stream",
     "text": [
      "score: 0.5714285714285714\n"
     ]
    },
    {
     "name": "stderr",
     "output_type": "stream",
     "text": [
      "Python(90964) MallocStackLogging: can't turn off malloc stack logging because it was not enabled.\n",
      "Python(90965) MallocStackLogging: can't turn off malloc stack logging because it was not enabled.\n",
      "Processing MP3 files:  86%|████████▋ | 345/400 [02:00<00:17,  3.12it/s]"
     ]
    },
    {
     "name": "stdout",
     "output_type": "stream",
     "text": [
      "score: 1.0\n"
     ]
    },
    {
     "name": "stderr",
     "output_type": "stream",
     "text": [
      "Python(90966) MallocStackLogging: can't turn off malloc stack logging because it was not enabled.\n",
      "Python(90967) MallocStackLogging: can't turn off malloc stack logging because it was not enabled.\n",
      "Processing MP3 files:  86%|████████▋ | 346/400 [02:00<00:17,  3.08it/s]"
     ]
    },
    {
     "name": "stdout",
     "output_type": "stream",
     "text": [
      "score: 0.0\n"
     ]
    },
    {
     "name": "stderr",
     "output_type": "stream",
     "text": [
      "Python(90968) MallocStackLogging: can't turn off malloc stack logging because it was not enabled.\n",
      "Python(90969) MallocStackLogging: can't turn off malloc stack logging because it was not enabled.\n",
      "Processing MP3 files:  87%|████████▋ | 347/400 [02:01<00:17,  3.03it/s]"
     ]
    },
    {
     "name": "stdout",
     "output_type": "stream",
     "text": [
      "score: 0.4444444444444444\n"
     ]
    },
    {
     "name": "stderr",
     "output_type": "stream",
     "text": [
      "Python(90970) MallocStackLogging: can't turn off malloc stack logging because it was not enabled.\n",
      "Python(90971) MallocStackLogging: can't turn off malloc stack logging because it was not enabled.\n",
      "Processing MP3 files:  87%|████████▋ | 348/400 [02:01<00:17,  3.02it/s]"
     ]
    },
    {
     "name": "stdout",
     "output_type": "stream",
     "text": [
      "score: 0.2222222222222222\n"
     ]
    },
    {
     "name": "stderr",
     "output_type": "stream",
     "text": [
      "Python(90972) MallocStackLogging: can't turn off malloc stack logging because it was not enabled.\n",
      "Python(90973) MallocStackLogging: can't turn off malloc stack logging because it was not enabled.\n",
      "Processing MP3 files:  87%|████████▋ | 349/400 [02:01<00:17,  2.95it/s]"
     ]
    },
    {
     "name": "stdout",
     "output_type": "stream",
     "text": [
      "score: 0.0\n"
     ]
    },
    {
     "name": "stderr",
     "output_type": "stream",
     "text": [
      "Python(90974) MallocStackLogging: can't turn off malloc stack logging because it was not enabled.\n",
      "Python(90975) MallocStackLogging: can't turn off malloc stack logging because it was not enabled.\n",
      "Processing MP3 files:  88%|████████▊ | 350/400 [02:02<00:20,  2.50it/s]"
     ]
    },
    {
     "name": "stdout",
     "output_type": "stream",
     "text": [
      "score: 0.125\n"
     ]
    },
    {
     "name": "stderr",
     "output_type": "stream",
     "text": [
      "Python(90976) MallocStackLogging: can't turn off malloc stack logging because it was not enabled.\n",
      "Python(90978) MallocStackLogging: can't turn off malloc stack logging because it was not enabled.\n",
      "Processing MP3 files:  88%|████████▊ | 351/400 [02:02<00:19,  2.56it/s]"
     ]
    },
    {
     "name": "stdout",
     "output_type": "stream",
     "text": [
      "score: 0.46153846153846156\n"
     ]
    },
    {
     "name": "stderr",
     "output_type": "stream",
     "text": [
      "Python(90979) MallocStackLogging: can't turn off malloc stack logging because it was not enabled.\n",
      "Python(90981) MallocStackLogging: can't turn off malloc stack logging because it was not enabled.\n",
      "Processing MP3 files:  88%|████████▊ | 352/400 [02:03<00:17,  2.67it/s]"
     ]
    },
    {
     "name": "stdout",
     "output_type": "stream",
     "text": [
      "score: 0.3125\n"
     ]
    },
    {
     "name": "stderr",
     "output_type": "stream",
     "text": [
      "Python(90982) MallocStackLogging: can't turn off malloc stack logging because it was not enabled.\n",
      "Python(90983) MallocStackLogging: can't turn off malloc stack logging because it was not enabled.\n",
      "Processing MP3 files:  88%|████████▊ | 353/400 [02:03<00:17,  2.73it/s]"
     ]
    },
    {
     "name": "stdout",
     "output_type": "stream",
     "text": [
      "score: 0.2222222222222222\n"
     ]
    },
    {
     "name": "stderr",
     "output_type": "stream",
     "text": [
      "Python(90984) MallocStackLogging: can't turn off malloc stack logging because it was not enabled.\n",
      "Python(90985) MallocStackLogging: can't turn off malloc stack logging because it was not enabled.\n",
      "Processing MP3 files:  88%|████████▊ | 354/400 [02:03<00:15,  2.98it/s]"
     ]
    },
    {
     "name": "stdout",
     "output_type": "stream",
     "text": [
      "score: 0.0\n"
     ]
    },
    {
     "name": "stderr",
     "output_type": "stream",
     "text": [
      "Python(90986) MallocStackLogging: can't turn off malloc stack logging because it was not enabled.\n",
      "Python(90987) MallocStackLogging: can't turn off malloc stack logging because it was not enabled.\n",
      "Processing MP3 files:  89%|████████▉ | 355/400 [02:04<00:14,  3.09it/s]"
     ]
    },
    {
     "name": "stdout",
     "output_type": "stream",
     "text": [
      "score: 0.5555555555555556\n"
     ]
    },
    {
     "name": "stderr",
     "output_type": "stream",
     "text": [
      "Python(90988) MallocStackLogging: can't turn off malloc stack logging because it was not enabled.\n",
      "Python(90990) MallocStackLogging: can't turn off malloc stack logging because it was not enabled.\n",
      "Processing MP3 files:  89%|████████▉ | 356/400 [02:04<00:14,  3.02it/s]"
     ]
    },
    {
     "name": "stdout",
     "output_type": "stream",
     "text": [
      "score: 0.26666666666666666\n"
     ]
    },
    {
     "name": "stderr",
     "output_type": "stream",
     "text": [
      "Python(90991) MallocStackLogging: can't turn off malloc stack logging because it was not enabled.\n",
      "Python(90992) MallocStackLogging: can't turn off malloc stack logging because it was not enabled.\n",
      "Processing MP3 files:  89%|████████▉ | 357/400 [02:04<00:13,  3.17it/s]"
     ]
    },
    {
     "name": "stdout",
     "output_type": "stream",
     "text": [
      "score: 0.6666666666666666\n"
     ]
    },
    {
     "name": "stderr",
     "output_type": "stream",
     "text": [
      "Python(90994) MallocStackLogging: can't turn off malloc stack logging because it was not enabled.\n",
      "Python(90995) MallocStackLogging: can't turn off malloc stack logging because it was not enabled.\n",
      "Processing MP3 files:  90%|████████▉ | 358/400 [02:05<00:12,  3.26it/s]"
     ]
    },
    {
     "name": "stdout",
     "output_type": "stream",
     "text": [
      "score: 0.1\n"
     ]
    },
    {
     "name": "stderr",
     "output_type": "stream",
     "text": [
      "Python(90996) MallocStackLogging: can't turn off malloc stack logging because it was not enabled.\n",
      "Python(90998) MallocStackLogging: can't turn off malloc stack logging because it was not enabled.\n",
      "Processing MP3 files:  90%|████████▉ | 359/400 [02:05<00:12,  3.30it/s]"
     ]
    },
    {
     "name": "stdout",
     "output_type": "stream",
     "text": [
      "score: 0.0\n"
     ]
    },
    {
     "name": "stderr",
     "output_type": "stream",
     "text": [
      "Python(90999) MallocStackLogging: can't turn off malloc stack logging because it was not enabled.\n",
      "Python(91000) MallocStackLogging: can't turn off malloc stack logging because it was not enabled.\n",
      "Processing MP3 files:  90%|█████████ | 360/400 [02:05<00:11,  3.36it/s]"
     ]
    },
    {
     "name": "stdout",
     "output_type": "stream",
     "text": [
      "score: 0.3333333333333333\n"
     ]
    },
    {
     "name": "stderr",
     "output_type": "stream",
     "text": [
      "Python(91001) MallocStackLogging: can't turn off malloc stack logging because it was not enabled.\n",
      "Python(91003) MallocStackLogging: can't turn off malloc stack logging because it was not enabled.\n",
      "Processing MP3 files:  90%|█████████ | 361/400 [02:05<00:12,  3.08it/s]"
     ]
    },
    {
     "name": "stdout",
     "output_type": "stream",
     "text": [
      "score: 0.0\n"
     ]
    },
    {
     "name": "stderr",
     "output_type": "stream",
     "text": [
      "Python(91004) MallocStackLogging: can't turn off malloc stack logging because it was not enabled.\n",
      "Python(91005) MallocStackLogging: can't turn off malloc stack logging because it was not enabled.\n",
      "Processing MP3 files:  90%|█████████ | 362/400 [02:06<00:12,  3.06it/s]"
     ]
    },
    {
     "name": "stdout",
     "output_type": "stream",
     "text": [
      "score: 0.38461538461538464\n"
     ]
    },
    {
     "name": "stderr",
     "output_type": "stream",
     "text": [
      "Python(91006) MallocStackLogging: can't turn off malloc stack logging because it was not enabled.\n",
      "Python(91007) MallocStackLogging: can't turn off malloc stack logging because it was not enabled.\n",
      "Processing MP3 files:  91%|█████████ | 363/400 [02:06<00:12,  2.98it/s]"
     ]
    },
    {
     "name": "stdout",
     "output_type": "stream",
     "text": [
      "score: 0.0\n"
     ]
    },
    {
     "name": "stderr",
     "output_type": "stream",
     "text": [
      "Python(91008) MallocStackLogging: can't turn off malloc stack logging because it was not enabled.\n",
      "Python(91009) MallocStackLogging: can't turn off malloc stack logging because it was not enabled.\n",
      "Processing MP3 files:  91%|█████████ | 364/400 [02:06<00:11,  3.15it/s]"
     ]
    },
    {
     "name": "stdout",
     "output_type": "stream",
     "text": [
      "score: 0.16666666666666666\n"
     ]
    },
    {
     "name": "stderr",
     "output_type": "stream",
     "text": [
      "Python(91010) MallocStackLogging: can't turn off malloc stack logging because it was not enabled.\n",
      "Python(91011) MallocStackLogging: can't turn off malloc stack logging because it was not enabled.\n",
      "Processing MP3 files:  91%|█████████▏| 365/400 [02:07<00:11,  2.92it/s]"
     ]
    },
    {
     "name": "stdout",
     "output_type": "stream",
     "text": [
      "score: 0.42857142857142855\n"
     ]
    },
    {
     "name": "stderr",
     "output_type": "stream",
     "text": [
      "Python(91012) MallocStackLogging: can't turn off malloc stack logging because it was not enabled.\n",
      "Python(91013) MallocStackLogging: can't turn off malloc stack logging because it was not enabled.\n",
      "Processing MP3 files:  92%|█████████▏| 366/400 [02:07<00:11,  2.95it/s]"
     ]
    },
    {
     "name": "stdout",
     "output_type": "stream",
     "text": [
      "score: 0.1\n"
     ]
    },
    {
     "name": "stderr",
     "output_type": "stream",
     "text": [
      "Python(91014) MallocStackLogging: can't turn off malloc stack logging because it was not enabled.\n",
      "Python(91015) MallocStackLogging: can't turn off malloc stack logging because it was not enabled.\n",
      "Processing MP3 files:  92%|█████████▏| 367/400 [02:07<00:10,  3.08it/s]"
     ]
    },
    {
     "name": "stdout",
     "output_type": "stream",
     "text": [
      "score: 0.0\n"
     ]
    },
    {
     "name": "stderr",
     "output_type": "stream",
     "text": [
      "Python(91016) MallocStackLogging: can't turn off malloc stack logging because it was not enabled.\n",
      "Python(91017) MallocStackLogging: can't turn off malloc stack logging because it was not enabled.\n",
      "Processing MP3 files:  92%|█████████▏| 368/400 [02:08<00:11,  2.79it/s]"
     ]
    },
    {
     "name": "stdout",
     "output_type": "stream",
     "text": [
      "score: 0.15384615384615385\n"
     ]
    },
    {
     "name": "stderr",
     "output_type": "stream",
     "text": [
      "Python(91018) MallocStackLogging: can't turn off malloc stack logging because it was not enabled.\n",
      "Python(91019) MallocStackLogging: can't turn off malloc stack logging because it was not enabled.\n",
      "Processing MP3 files:  92%|█████████▏| 369/400 [02:08<00:10,  2.82it/s]"
     ]
    },
    {
     "name": "stdout",
     "output_type": "stream",
     "text": [
      "score: 0.25\n"
     ]
    },
    {
     "name": "stderr",
     "output_type": "stream",
     "text": [
      "Python(91020) MallocStackLogging: can't turn off malloc stack logging because it was not enabled.\n",
      "Python(91021) MallocStackLogging: can't turn off malloc stack logging because it was not enabled.\n",
      "Processing MP3 files:  92%|█████████▎| 370/400 [02:09<00:10,  2.99it/s]"
     ]
    },
    {
     "name": "stdout",
     "output_type": "stream",
     "text": [
      "score: 0.2\n"
     ]
    },
    {
     "name": "stderr",
     "output_type": "stream",
     "text": [
      "Python(91022) MallocStackLogging: can't turn off malloc stack logging because it was not enabled.\n",
      "Python(91023) MallocStackLogging: can't turn off malloc stack logging because it was not enabled.\n",
      "Processing MP3 files:  93%|█████████▎| 371/400 [02:09<00:09,  3.06it/s]"
     ]
    },
    {
     "name": "stdout",
     "output_type": "stream",
     "text": [
      "score: 0.25\n"
     ]
    },
    {
     "name": "stderr",
     "output_type": "stream",
     "text": [
      "Python(91024) MallocStackLogging: can't turn off malloc stack logging because it was not enabled.\n",
      "Python(91025) MallocStackLogging: can't turn off malloc stack logging because it was not enabled.\n",
      "Processing MP3 files:  93%|█████████▎| 372/400 [02:09<00:08,  3.15it/s]"
     ]
    },
    {
     "name": "stdout",
     "output_type": "stream",
     "text": [
      "score: 0.375\n"
     ]
    },
    {
     "name": "stderr",
     "output_type": "stream",
     "text": [
      "Python(91026) MallocStackLogging: can't turn off malloc stack logging because it was not enabled.\n",
      "Python(91027) MallocStackLogging: can't turn off malloc stack logging because it was not enabled.\n",
      "Processing MP3 files:  93%|█████████▎| 373/400 [02:09<00:08,  3.22it/s]"
     ]
    },
    {
     "name": "stdout",
     "output_type": "stream",
     "text": [
      "score: 0.4\n"
     ]
    },
    {
     "name": "stderr",
     "output_type": "stream",
     "text": [
      "Python(91028) MallocStackLogging: can't turn off malloc stack logging because it was not enabled.\n",
      "Python(91029) MallocStackLogging: can't turn off malloc stack logging because it was not enabled.\n",
      "Processing MP3 files:  94%|█████████▎| 374/400 [02:10<00:08,  3.12it/s]"
     ]
    },
    {
     "name": "stdout",
     "output_type": "stream",
     "text": [
      "score: 0.3076923076923077\n"
     ]
    },
    {
     "name": "stderr",
     "output_type": "stream",
     "text": [
      "Python(91034) MallocStackLogging: can't turn off malloc stack logging because it was not enabled.\n",
      "Python(91035) MallocStackLogging: can't turn off malloc stack logging because it was not enabled.\n",
      "Processing MP3 files:  94%|█████████▍| 375/400 [02:10<00:07,  3.32it/s]"
     ]
    },
    {
     "name": "stdout",
     "output_type": "stream",
     "text": [
      "score: 0.7777777777777778\n"
     ]
    },
    {
     "name": "stderr",
     "output_type": "stream",
     "text": [
      "Python(91037) MallocStackLogging: can't turn off malloc stack logging because it was not enabled.\n",
      "Python(91038) MallocStackLogging: can't turn off malloc stack logging because it was not enabled.\n",
      "Processing MP3 files:  94%|█████████▍| 376/400 [02:11<00:09,  2.48it/s]"
     ]
    },
    {
     "name": "stdout",
     "output_type": "stream",
     "text": [
      "score: 0.045454545454545456\n"
     ]
    },
    {
     "name": "stderr",
     "output_type": "stream",
     "text": [
      "Python(91042) MallocStackLogging: can't turn off malloc stack logging because it was not enabled.\n",
      "Python(91043) MallocStackLogging: can't turn off malloc stack logging because it was not enabled.\n",
      "Processing MP3 files:  94%|█████████▍| 377/400 [02:12<00:12,  1.78it/s]"
     ]
    },
    {
     "name": "stdout",
     "output_type": "stream",
     "text": [
      "score: 0.4375\n"
     ]
    },
    {
     "name": "stderr",
     "output_type": "stream",
     "text": [
      "Python(91049) MallocStackLogging: can't turn off malloc stack logging because it was not enabled.\n",
      "Python(91050) MallocStackLogging: can't turn off malloc stack logging because it was not enabled.\n",
      "Processing MP3 files:  94%|█████████▍| 378/400 [02:12<00:10,  2.00it/s]"
     ]
    },
    {
     "name": "stdout",
     "output_type": "stream",
     "text": [
      "score: 0.13333333333333333\n"
     ]
    },
    {
     "name": "stderr",
     "output_type": "stream",
     "text": [
      "Python(91051) MallocStackLogging: can't turn off malloc stack logging because it was not enabled.\n",
      "Python(91052) MallocStackLogging: can't turn off malloc stack logging because it was not enabled.\n",
      "Processing MP3 files:  95%|█████████▍| 379/400 [02:12<00:09,  2.33it/s]"
     ]
    },
    {
     "name": "stdout",
     "output_type": "stream",
     "text": [
      "score: 0.5\n"
     ]
    },
    {
     "name": "stderr",
     "output_type": "stream",
     "text": [
      "Python(91053) MallocStackLogging: can't turn off malloc stack logging because it was not enabled.\n",
      "Python(91054) MallocStackLogging: can't turn off malloc stack logging because it was not enabled.\n",
      "Processing MP3 files:  95%|█████████▌| 380/400 [02:13<00:07,  2.57it/s]"
     ]
    },
    {
     "name": "stdout",
     "output_type": "stream",
     "text": [
      "score: 0.5\n"
     ]
    },
    {
     "name": "stderr",
     "output_type": "stream",
     "text": [
      "Python(91055) MallocStackLogging: can't turn off malloc stack logging because it was not enabled.\n",
      "Python(91056) MallocStackLogging: can't turn off malloc stack logging because it was not enabled.\n",
      "Processing MP3 files:  95%|█████████▌| 381/400 [02:13<00:07,  2.61it/s]"
     ]
    },
    {
     "name": "stdout",
     "output_type": "stream",
     "text": [
      "score: 0.058823529411764705\n"
     ]
    },
    {
     "name": "stderr",
     "output_type": "stream",
     "text": [
      "Python(91057) MallocStackLogging: can't turn off malloc stack logging because it was not enabled.\n",
      "Python(91058) MallocStackLogging: can't turn off malloc stack logging because it was not enabled.\n",
      "Processing MP3 files:  96%|█████████▌| 382/400 [02:13<00:06,  2.74it/s]"
     ]
    },
    {
     "name": "stdout",
     "output_type": "stream",
     "text": [
      "score: 0.3333333333333333\n"
     ]
    },
    {
     "name": "stderr",
     "output_type": "stream",
     "text": [
      "Python(91059) MallocStackLogging: can't turn off malloc stack logging because it was not enabled.\n",
      "Python(91060) MallocStackLogging: can't turn off malloc stack logging because it was not enabled.\n",
      "Processing MP3 files:  96%|█████████▌| 383/400 [02:14<00:05,  2.92it/s]"
     ]
    },
    {
     "name": "stdout",
     "output_type": "stream",
     "text": [
      "score: 0.6\n"
     ]
    },
    {
     "name": "stderr",
     "output_type": "stream",
     "text": [
      "Python(91061) MallocStackLogging: can't turn off malloc stack logging because it was not enabled.\n",
      "Python(91062) MallocStackLogging: can't turn off malloc stack logging because it was not enabled.\n",
      "Processing MP3 files:  96%|█████████▌| 384/400 [02:14<00:04,  3.21it/s]"
     ]
    },
    {
     "name": "stdout",
     "output_type": "stream",
     "text": [
      "score: 0.5\n"
     ]
    },
    {
     "name": "stderr",
     "output_type": "stream",
     "text": [
      "Python(91063) MallocStackLogging: can't turn off malloc stack logging because it was not enabled.\n",
      "Python(91064) MallocStackLogging: can't turn off malloc stack logging because it was not enabled.\n",
      "Processing MP3 files:  96%|█████████▋| 385/400 [02:14<00:04,  3.25it/s]"
     ]
    },
    {
     "name": "stdout",
     "output_type": "stream",
     "text": [
      "score: 0.6\n"
     ]
    },
    {
     "name": "stderr",
     "output_type": "stream",
     "text": [
      "Python(91065) MallocStackLogging: can't turn off malloc stack logging because it was not enabled.\n",
      "Python(91066) MallocStackLogging: can't turn off malloc stack logging because it was not enabled.\n",
      "Processing MP3 files:  96%|█████████▋| 386/400 [02:14<00:03,  3.51it/s]"
     ]
    },
    {
     "name": "stdout",
     "output_type": "stream",
     "text": [
      "score: 0.2\n"
     ]
    },
    {
     "name": "stderr",
     "output_type": "stream",
     "text": [
      "Python(91067) MallocStackLogging: can't turn off malloc stack logging because it was not enabled.\n",
      "Python(91068) MallocStackLogging: can't turn off malloc stack logging because it was not enabled.\n",
      "Processing MP3 files:  97%|█████████▋| 387/400 [02:15<00:03,  3.42it/s]"
     ]
    },
    {
     "name": "stdout",
     "output_type": "stream",
     "text": [
      "score: 0.16666666666666666\n"
     ]
    },
    {
     "name": "stderr",
     "output_type": "stream",
     "text": [
      "Python(91069) MallocStackLogging: can't turn off malloc stack logging because it was not enabled.\n",
      "Python(91070) MallocStackLogging: can't turn off malloc stack logging because it was not enabled.\n",
      "Processing MP3 files:  97%|█████████▋| 388/400 [02:15<00:03,  3.41it/s]"
     ]
    },
    {
     "name": "stdout",
     "output_type": "stream",
     "text": [
      "score: 0.0\n"
     ]
    },
    {
     "name": "stderr",
     "output_type": "stream",
     "text": [
      "Python(91071) MallocStackLogging: can't turn off malloc stack logging because it was not enabled.\n",
      "Python(91072) MallocStackLogging: can't turn off malloc stack logging because it was not enabled.\n",
      "Processing MP3 files:  97%|█████████▋| 389/400 [02:15<00:02,  3.73it/s]"
     ]
    },
    {
     "name": "stdout",
     "output_type": "stream",
     "text": [
      "score: 0.5\n"
     ]
    },
    {
     "name": "stderr",
     "output_type": "stream",
     "text": [
      "Python(91073) MallocStackLogging: can't turn off malloc stack logging because it was not enabled.\n",
      "Python(91074) MallocStackLogging: can't turn off malloc stack logging because it was not enabled.\n",
      "Processing MP3 files:  98%|█████████▊| 390/400 [02:15<00:02,  3.72it/s]"
     ]
    },
    {
     "name": "stdout",
     "output_type": "stream",
     "text": [
      "score: 0.14285714285714285\n"
     ]
    },
    {
     "name": "stderr",
     "output_type": "stream",
     "text": [
      "Python(91075) MallocStackLogging: can't turn off malloc stack logging because it was not enabled.\n",
      "Python(91076) MallocStackLogging: can't turn off malloc stack logging because it was not enabled.\n",
      "Processing MP3 files:  98%|█████████▊| 391/400 [02:16<00:02,  3.78it/s]"
     ]
    },
    {
     "name": "stdout",
     "output_type": "stream",
     "text": [
      "score: 0.2\n"
     ]
    },
    {
     "name": "stderr",
     "output_type": "stream",
     "text": [
      "Python(91077) MallocStackLogging: can't turn off malloc stack logging because it was not enabled.\n",
      "Python(91078) MallocStackLogging: can't turn off malloc stack logging because it was not enabled.\n",
      "Processing MP3 files:  98%|█████████▊| 392/400 [02:16<00:02,  3.47it/s]"
     ]
    },
    {
     "name": "stdout",
     "output_type": "stream",
     "text": [
      "score: 0.15384615384615385\n"
     ]
    },
    {
     "name": "stderr",
     "output_type": "stream",
     "text": [
      "Python(91079) MallocStackLogging: can't turn off malloc stack logging because it was not enabled.\n",
      "Python(91080) MallocStackLogging: can't turn off malloc stack logging because it was not enabled.\n",
      "Processing MP3 files:  98%|█████████▊| 393/400 [02:16<00:01,  3.56it/s]"
     ]
    },
    {
     "name": "stdout",
     "output_type": "stream",
     "text": [
      "score: 0.4\n"
     ]
    },
    {
     "name": "stderr",
     "output_type": "stream",
     "text": [
      "Python(91081) MallocStackLogging: can't turn off malloc stack logging because it was not enabled.\n",
      "Python(91082) MallocStackLogging: can't turn off malloc stack logging because it was not enabled.\n",
      "Processing MP3 files:  98%|█████████▊| 394/400 [02:17<00:01,  3.53it/s]"
     ]
    },
    {
     "name": "stdout",
     "output_type": "stream",
     "text": [
      "score: 0.375\n"
     ]
    },
    {
     "name": "stderr",
     "output_type": "stream",
     "text": [
      "Python(91083) MallocStackLogging: can't turn off malloc stack logging because it was not enabled.\n",
      "Python(91084) MallocStackLogging: can't turn off malloc stack logging because it was not enabled.\n",
      "Processing MP3 files:  99%|█████████▉| 395/400 [02:17<00:01,  3.31it/s]"
     ]
    },
    {
     "name": "stdout",
     "output_type": "stream",
     "text": [
      "score: 0.07142857142857142\n"
     ]
    },
    {
     "name": "stderr",
     "output_type": "stream",
     "text": [
      "Python(91085) MallocStackLogging: can't turn off malloc stack logging because it was not enabled.\n",
      "Python(91086) MallocStackLogging: can't turn off malloc stack logging because it was not enabled.\n",
      "Processing MP3 files:  99%|█████████▉| 396/400 [02:17<00:01,  2.94it/s]"
     ]
    },
    {
     "name": "stdout",
     "output_type": "stream",
     "text": [
      "score: 0.375\n"
     ]
    },
    {
     "name": "stderr",
     "output_type": "stream",
     "text": [
      "Python(91087) MallocStackLogging: can't turn off malloc stack logging because it was not enabled.\n",
      "Python(91088) MallocStackLogging: can't turn off malloc stack logging because it was not enabled.\n",
      "Processing MP3 files:  99%|█████████▉| 397/400 [02:18<00:00,  3.15it/s]"
     ]
    },
    {
     "name": "stdout",
     "output_type": "stream",
     "text": [
      "score: 0.0\n"
     ]
    },
    {
     "name": "stderr",
     "output_type": "stream",
     "text": [
      "Python(91089) MallocStackLogging: can't turn off malloc stack logging because it was not enabled.\n",
      "Python(91090) MallocStackLogging: can't turn off malloc stack logging because it was not enabled.\n",
      "Processing MP3 files: 100%|█████████▉| 398/400 [02:18<00:00,  3.27it/s]"
     ]
    },
    {
     "name": "stdout",
     "output_type": "stream",
     "text": [
      "score: 0.9\n"
     ]
    },
    {
     "name": "stderr",
     "output_type": "stream",
     "text": [
      "Python(91091) MallocStackLogging: can't turn off malloc stack logging because it was not enabled.\n",
      "Python(91092) MallocStackLogging: can't turn off malloc stack logging because it was not enabled.\n",
      "Processing MP3 files: 100%|█████████▉| 399/400 [02:18<00:00,  3.35it/s]"
     ]
    },
    {
     "name": "stdout",
     "output_type": "stream",
     "text": [
      "score: 0.2\n"
     ]
    },
    {
     "name": "stderr",
     "output_type": "stream",
     "text": [
      "Python(91093) MallocStackLogging: can't turn off malloc stack logging because it was not enabled.\n",
      "Python(91094) MallocStackLogging: can't turn off malloc stack logging because it was not enabled.\n",
      "Processing MP3 files: 100%|██████████| 400/400 [02:18<00:00,  2.88it/s]"
     ]
    },
    {
     "name": "stdout",
     "output_type": "stream",
     "text": [
      "score: 0.75\n"
     ]
    },
    {
     "name": "stderr",
     "output_type": "stream",
     "text": [
      "\n"
     ]
    }
   ],
   "source": [
    "from tqdm import tqdm\n",
    "from jiwer import wer\n",
    "from datasets import Dataset\n",
    "\n",
    "cv_valid_test_directory = '/Users/allen/Documents/Wav2vec_Project/asr/common_voice/cv-valid-test/cv-valid-test'\n",
    "cv_valid_test_csv = '/Users/allen/Documents/Wav2vec_Project/asr/common_voice/cv-valid-test.csv'\n",
    "finetuned_model = AutoModelForCTC.from_pretrained(\"./wav2vec2-large-960h-cv-backup\")\n",
    "cv_valid_test_df = pd.read_csv(cv_valid_test_csv)\n",
    "cv_valid_test_df = cv_valid_test_df.sample(frac=0.1, random_state=42)\n",
    "ground_truth = {row['filename']: row['text'] for _, row in cv_valid_test_df.iterrows()}\n",
    "mp3_files = [f for f in os.listdir(cv_valid_test_directory) if f.endswith('.mp3')]\n",
    "wer_scores = []\n",
    "\n",
    "# print (cv_valid_test_df)\n",
    "# print (ground_truth)\n",
    "\n",
    "for filepath in tqdm(cv_valid_test_df['filename'], desc=\"Processing MP3 files\"):\n",
    "    # print (filepath)\n",
    "    # Load the MP3 file using pydub\n",
    "    mp3_path = '/Users/allen/Documents/Wav2vec_Project/asr/common_voice/cv-valid-test/'+filepath\n",
    "    # print (mp3_path)\n",
    "    audio = AudioSegment.from_mp3(mp3_path)\n",
    "    \n",
    "    audio = audio.set_frame_rate(16000).set_channels(1)\n",
    "\n",
    "    # print(\"Audio converted\")\n",
    "    \n",
    "    # Load audio data from file into a format compatible with datasets\n",
    "    audio_data = np.array(audio.get_array_of_samples(), dtype=np.float32)  # Ensure float32 type\n",
    "\n",
    "    # Create a dataset from the audio data\n",
    "    ds = Dataset.from_dict({\n",
    "        \"audio\": [{\"array\": audio_data, \"sampling_rate\": 16000}]\n",
    "    })\n",
    "\n",
    "    # Tokenize input\n",
    "    input_values = processor(ds[0][\"audio\"][\"array\"], return_tensors=\"pt\", padding=\"longest\", sampling_rate=16000).input_values  # Batch size 1\n",
    "    \n",
    "    # Make the prediction\n",
    "    with torch.no_grad():\n",
    "        logits = finetuned_model(input_values).logits\n",
    "    \n",
    "    # Decode the logits to text\n",
    "    predicted_ids = torch.argmax(logits, dim=-1)\n",
    "    transcription = processor.decode(predicted_ids[0])\n",
    "    # print (transcription)\n",
    "    \n",
    "    # Retrieve the ground truth transcription\n",
    "    ground_truth_text = ground_truth.get(filepath, None)\n",
    "    # print (ground_truth_text)\n",
    "    \n",
    "    # Calculate WER if ground truth is available\n",
    "    if ground_truth_text:\n",
    "        score = wer(str(ground_truth_text).lower(), str(transcription).lower())\n",
    "        print (\"score:\", score)\n",
    "        wer_scores.append(score)\n",
    "\n",
    "# Calculate the average WER\n",
    "average_wer = sum(wer_scores) / len(wer_scores) if wer_scores else 0\n",
    "\n",
    "# # Print the average WER\n",
    "# print(f\"Average WER: {average_wer:.4f}\")"
   ]
  },
  {
   "cell_type": "code",
   "execution_count": 35,
   "metadata": {},
   "outputs": [
    {
     "name": "stdout",
     "output_type": "stream",
     "text": [
      "Average WER: 0.2915\n"
     ]
    }
   ],
   "source": [
    "# Print the average WER\n",
    "print(f\"Average WER: {average_wer:.4f}\")"
   ]
  },
  {
   "cell_type": "markdown",
   "metadata": {},
   "source": [
    "Question 4: Compare with Original Model for cv-valid-dev mp3 files."
   ]
  },
  {
   "cell_type": "code",
   "execution_count": 41,
   "metadata": {},
   "outputs": [
    {
     "name": "stderr",
     "output_type": "stream",
     "text": [
      "Processing MP3 files:   0%|          | 0/408 [00:00<?, ?it/s]Python(92071) MallocStackLogging: can't turn off malloc stack logging because it was not enabled.\n",
      "Python(92072) MallocStackLogging: can't turn off malloc stack logging because it was not enabled.\n",
      "Processing MP3 files:   0%|          | 1/408 [00:03<26:18,  3.88s/it]"
     ]
    },
    {
     "name": "stdout",
     "output_type": "stream",
     "text": [
      "Finetuned score: 0.14285714285714285\n",
      "Original score: 0.2857142857142857\n"
     ]
    },
    {
     "name": "stderr",
     "output_type": "stream",
     "text": [
      "Python(92083) MallocStackLogging: can't turn off malloc stack logging because it was not enabled.\n",
      "Python(92084) MallocStackLogging: can't turn off malloc stack logging because it was not enabled.\n",
      "Processing MP3 files:   0%|          | 2/408 [00:04<12:51,  1.90s/it]"
     ]
    },
    {
     "name": "stdout",
     "output_type": "stream",
     "text": [
      "Finetuned score: 0.25\n",
      "Original score: 0.25\n"
     ]
    },
    {
     "name": "stderr",
     "output_type": "stream",
     "text": [
      "Python(92086) MallocStackLogging: can't turn off malloc stack logging because it was not enabled.\n",
      "Python(92087) MallocStackLogging: can't turn off malloc stack logging because it was not enabled.\n",
      "Processing MP3 files:   1%|          | 3/408 [00:05<08:51,  1.31s/it]"
     ]
    },
    {
     "name": "stdout",
     "output_type": "stream",
     "text": [
      "Finetuned score: 0.3333333333333333\n",
      "Original score: 0.3333333333333333\n"
     ]
    },
    {
     "name": "stderr",
     "output_type": "stream",
     "text": [
      "Python(92088) MallocStackLogging: can't turn off malloc stack logging because it was not enabled.\n",
      "Python(92089) MallocStackLogging: can't turn off malloc stack logging because it was not enabled.\n",
      "Processing MP3 files:   1%|          | 4/408 [00:05<06:47,  1.01s/it]"
     ]
    },
    {
     "name": "stdout",
     "output_type": "stream",
     "text": [
      "Finetuned score: 0.0\n",
      "Original score: 0.14285714285714285\n"
     ]
    },
    {
     "name": "stderr",
     "output_type": "stream",
     "text": [
      "Python(92090) MallocStackLogging: can't turn off malloc stack logging because it was not enabled.\n",
      "Python(92091) MallocStackLogging: can't turn off malloc stack logging because it was not enabled.\n",
      "Processing MP3 files:   1%|          | 5/408 [00:06<05:52,  1.14it/s]"
     ]
    },
    {
     "name": "stdout",
     "output_type": "stream",
     "text": [
      "Finetuned score: 0.0\n",
      "Original score: 0.0\n"
     ]
    },
    {
     "name": "stderr",
     "output_type": "stream",
     "text": [
      "Python(92092) MallocStackLogging: can't turn off malloc stack logging because it was not enabled.\n",
      "Python(92093) MallocStackLogging: can't turn off malloc stack logging because it was not enabled.\n",
      "Processing MP3 files:   1%|▏         | 6/408 [00:06<05:22,  1.25it/s]"
     ]
    },
    {
     "name": "stdout",
     "output_type": "stream",
     "text": [
      "Finetuned score: 0.14285714285714285\n",
      "Original score: 0.14285714285714285\n"
     ]
    },
    {
     "name": "stderr",
     "output_type": "stream",
     "text": [
      "Python(92094) MallocStackLogging: can't turn off malloc stack logging because it was not enabled.\n",
      "Python(92095) MallocStackLogging: can't turn off malloc stack logging because it was not enabled.\n",
      "Processing MP3 files:   2%|▏         | 7/408 [00:07<04:48,  1.39it/s]"
     ]
    },
    {
     "name": "stdout",
     "output_type": "stream",
     "text": [
      "Finetuned score: 0.4\n",
      "Original score: 0.6\n"
     ]
    },
    {
     "name": "stderr",
     "output_type": "stream",
     "text": [
      "Python(92096) MallocStackLogging: can't turn off malloc stack logging because it was not enabled.\n",
      "Python(92097) MallocStackLogging: can't turn off malloc stack logging because it was not enabled.\n",
      "Processing MP3 files:   2%|▏         | 8/408 [00:08<04:35,  1.45it/s]"
     ]
    },
    {
     "name": "stdout",
     "output_type": "stream",
     "text": [
      "Finetuned score: 0.0\n",
      "Original score: 0.3333333333333333\n"
     ]
    },
    {
     "name": "stderr",
     "output_type": "stream",
     "text": [
      "Python(92098) MallocStackLogging: can't turn off malloc stack logging because it was not enabled.\n",
      "Python(92099) MallocStackLogging: can't turn off malloc stack logging because it was not enabled.\n",
      "Processing MP3 files:   2%|▏         | 9/408 [00:08<04:14,  1.57it/s]"
     ]
    },
    {
     "name": "stdout",
     "output_type": "stream",
     "text": [
      "Finetuned score: 0.25\n",
      "Original score: 0.25\n"
     ]
    },
    {
     "name": "stderr",
     "output_type": "stream",
     "text": [
      "Python(92100) MallocStackLogging: can't turn off malloc stack logging because it was not enabled.\n",
      "Python(92101) MallocStackLogging: can't turn off malloc stack logging because it was not enabled.\n",
      "Processing MP3 files:   2%|▏         | 10/408 [00:09<04:09,  1.59it/s]"
     ]
    },
    {
     "name": "stdout",
     "output_type": "stream",
     "text": [
      "Finetuned score: 0.0\n",
      "Original score: 0.18181818181818182\n"
     ]
    },
    {
     "name": "stderr",
     "output_type": "stream",
     "text": [
      "Python(92102) MallocStackLogging: can't turn off malloc stack logging because it was not enabled.\n",
      "Python(92103) MallocStackLogging: can't turn off malloc stack logging because it was not enabled.\n",
      "Processing MP3 files:   3%|▎         | 11/408 [00:09<04:11,  1.58it/s]"
     ]
    },
    {
     "name": "stdout",
     "output_type": "stream",
     "text": [
      "Finetuned score: 0.375\n",
      "Original score: 0.375\n"
     ]
    },
    {
     "name": "stderr",
     "output_type": "stream",
     "text": [
      "Python(92105) MallocStackLogging: can't turn off malloc stack logging because it was not enabled.\n",
      "Python(92106) MallocStackLogging: can't turn off malloc stack logging because it was not enabled.\n",
      "Processing MP3 files:   3%|▎         | 12/408 [00:10<04:15,  1.55it/s]"
     ]
    },
    {
     "name": "stdout",
     "output_type": "stream",
     "text": [
      "Finetuned score: 0.1\n",
      "Original score: 0.1\n"
     ]
    },
    {
     "name": "stderr",
     "output_type": "stream",
     "text": [
      "Python(92108) MallocStackLogging: can't turn off malloc stack logging because it was not enabled.\n",
      "Python(92109) MallocStackLogging: can't turn off malloc stack logging because it was not enabled.\n",
      "Processing MP3 files:   3%|▎         | 13/408 [00:11<04:31,  1.46it/s]"
     ]
    },
    {
     "name": "stdout",
     "output_type": "stream",
     "text": [
      "Finetuned score: 0.045454545454545456\n",
      "Original score: 0.36363636363636365\n"
     ]
    },
    {
     "name": "stderr",
     "output_type": "stream",
     "text": [
      "Python(92110) MallocStackLogging: can't turn off malloc stack logging because it was not enabled.\n",
      "Python(92111) MallocStackLogging: can't turn off malloc stack logging because it was not enabled.\n",
      "Processing MP3 files:   3%|▎         | 14/408 [00:11<04:21,  1.51it/s]"
     ]
    },
    {
     "name": "stdout",
     "output_type": "stream",
     "text": [
      "Finetuned score: 0.0\n",
      "Original score: 0.2\n"
     ]
    },
    {
     "name": "stderr",
     "output_type": "stream",
     "text": [
      "Python(92112) MallocStackLogging: can't turn off malloc stack logging because it was not enabled.\n",
      "Python(92113) MallocStackLogging: can't turn off malloc stack logging because it was not enabled.\n",
      "Processing MP3 files:   4%|▎         | 15/408 [00:12<04:15,  1.54it/s]"
     ]
    },
    {
     "name": "stdout",
     "output_type": "stream",
     "text": [
      "Finetuned score: 0.25\n",
      "Original score: 0.3333333333333333\n"
     ]
    },
    {
     "name": "stderr",
     "output_type": "stream",
     "text": [
      "Python(92114) MallocStackLogging: can't turn off malloc stack logging because it was not enabled.\n",
      "Python(92115) MallocStackLogging: can't turn off malloc stack logging because it was not enabled.\n",
      "Processing MP3 files:   4%|▍         | 16/408 [00:13<04:55,  1.33it/s]"
     ]
    },
    {
     "name": "stdout",
     "output_type": "stream",
     "text": [
      "Finetuned score: 0.0\n",
      "Original score: 0.0\n"
     ]
    },
    {
     "name": "stderr",
     "output_type": "stream",
     "text": [
      "Python(92116) MallocStackLogging: can't turn off malloc stack logging because it was not enabled.\n",
      "Python(92117) MallocStackLogging: can't turn off malloc stack logging because it was not enabled.\n",
      "Processing MP3 files:   4%|▍         | 17/408 [00:14<04:58,  1.31it/s]"
     ]
    },
    {
     "name": "stdout",
     "output_type": "stream",
     "text": [
      "Finetuned score: 0.07692307692307693\n",
      "Original score: 0.15384615384615385\n"
     ]
    },
    {
     "name": "stderr",
     "output_type": "stream",
     "text": [
      "Python(92118) MallocStackLogging: can't turn off malloc stack logging because it was not enabled.\n",
      "Python(92119) MallocStackLogging: can't turn off malloc stack logging because it was not enabled.\n",
      "Processing MP3 files:   4%|▍         | 18/408 [00:15<05:20,  1.22it/s]"
     ]
    },
    {
     "name": "stdout",
     "output_type": "stream",
     "text": [
      "Finetuned score: 0.6923076923076923\n",
      "Original score: 0.7692307692307693\n"
     ]
    },
    {
     "name": "stderr",
     "output_type": "stream",
     "text": [
      "Python(92120) MallocStackLogging: can't turn off malloc stack logging because it was not enabled.\n",
      "Python(92122) MallocStackLogging: can't turn off malloc stack logging because it was not enabled.\n",
      "Processing MP3 files:   5%|▍         | 19/408 [00:15<04:55,  1.31it/s]"
     ]
    },
    {
     "name": "stdout",
     "output_type": "stream",
     "text": [
      "Finetuned score: 0.2222222222222222\n",
      "Original score: 0.2222222222222222\n"
     ]
    },
    {
     "name": "stderr",
     "output_type": "stream",
     "text": [
      "Python(92123) MallocStackLogging: can't turn off malloc stack logging because it was not enabled.\n",
      "Python(92124) MallocStackLogging: can't turn off malloc stack logging because it was not enabled.\n",
      "Processing MP3 files:   5%|▍         | 20/408 [00:16<04:35,  1.41it/s]"
     ]
    },
    {
     "name": "stdout",
     "output_type": "stream",
     "text": [
      "Finetuned score: 0.1111111111111111\n",
      "Original score: 0.3333333333333333\n"
     ]
    },
    {
     "name": "stderr",
     "output_type": "stream",
     "text": [
      "Python(92126) MallocStackLogging: can't turn off malloc stack logging because it was not enabled.\n",
      "Python(92127) MallocStackLogging: can't turn off malloc stack logging because it was not enabled.\n",
      "Processing MP3 files:   5%|▌         | 21/408 [00:16<04:07,  1.56it/s]"
     ]
    },
    {
     "name": "stdout",
     "output_type": "stream",
     "text": [
      "Finetuned score: 0.625\n",
      "Original score: 0.875\n"
     ]
    },
    {
     "name": "stderr",
     "output_type": "stream",
     "text": [
      "Python(92128) MallocStackLogging: can't turn off malloc stack logging because it was not enabled.\n",
      "Python(92129) MallocStackLogging: can't turn off malloc stack logging because it was not enabled.\n",
      "Processing MP3 files:   5%|▌         | 22/408 [00:17<03:51,  1.67it/s]"
     ]
    },
    {
     "name": "stdout",
     "output_type": "stream",
     "text": [
      "Finetuned score: 0.0\n",
      "Original score: 0.0\n"
     ]
    },
    {
     "name": "stderr",
     "output_type": "stream",
     "text": [
      "Python(92130) MallocStackLogging: can't turn off malloc stack logging because it was not enabled.\n",
      "Python(92131) MallocStackLogging: can't turn off malloc stack logging because it was not enabled.\n",
      "Processing MP3 files:   6%|▌         | 23/408 [00:17<03:40,  1.75it/s]"
     ]
    },
    {
     "name": "stdout",
     "output_type": "stream",
     "text": [
      "Finetuned score: 0.0\n",
      "Original score: 0.0\n"
     ]
    },
    {
     "name": "stderr",
     "output_type": "stream",
     "text": [
      "Python(92132) MallocStackLogging: can't turn off malloc stack logging because it was not enabled.\n",
      "Python(92133) MallocStackLogging: can't turn off malloc stack logging because it was not enabled.\n",
      "Processing MP3 files:   6%|▌         | 24/408 [00:18<03:31,  1.82it/s]"
     ]
    },
    {
     "name": "stdout",
     "output_type": "stream",
     "text": [
      "Finetuned score: 0.5\n",
      "Original score: 0.5\n"
     ]
    },
    {
     "name": "stderr",
     "output_type": "stream",
     "text": [
      "Python(92134) MallocStackLogging: can't turn off malloc stack logging because it was not enabled.\n",
      "Python(92135) MallocStackLogging: can't turn off malloc stack logging because it was not enabled.\n",
      "Processing MP3 files:   6%|▌         | 25/408 [00:18<03:24,  1.87it/s]"
     ]
    },
    {
     "name": "stdout",
     "output_type": "stream",
     "text": [
      "Finetuned score: 0.5\n",
      "Original score: 0.5\n"
     ]
    },
    {
     "name": "stderr",
     "output_type": "stream",
     "text": [
      "Python(92136) MallocStackLogging: can't turn off malloc stack logging because it was not enabled.\n",
      "Python(92137) MallocStackLogging: can't turn off malloc stack logging because it was not enabled.\n",
      "Processing MP3 files:   6%|▋         | 26/408 [00:19<03:23,  1.88it/s]"
     ]
    },
    {
     "name": "stdout",
     "output_type": "stream",
     "text": [
      "Finetuned score: 0.0\n",
      "Original score: 1.0\n"
     ]
    },
    {
     "name": "stderr",
     "output_type": "stream",
     "text": [
      "Python(92138) MallocStackLogging: can't turn off malloc stack logging because it was not enabled.\n",
      "Python(92139) MallocStackLogging: can't turn off malloc stack logging because it was not enabled.\n",
      "Processing MP3 files:   7%|▋         | 27/408 [00:20<03:32,  1.79it/s]"
     ]
    },
    {
     "name": "stdout",
     "output_type": "stream",
     "text": [
      "Finetuned score: 0.6\n",
      "Original score: 0.6\n"
     ]
    },
    {
     "name": "stderr",
     "output_type": "stream",
     "text": [
      "Python(92140) MallocStackLogging: can't turn off malloc stack logging because it was not enabled.\n",
      "Python(92141) MallocStackLogging: can't turn off malloc stack logging because it was not enabled.\n",
      "Processing MP3 files:   7%|▋         | 28/408 [00:20<03:43,  1.70it/s]"
     ]
    },
    {
     "name": "stdout",
     "output_type": "stream",
     "text": [
      "Finetuned score: 0.4\n",
      "Original score: 0.4\n"
     ]
    },
    {
     "name": "stderr",
     "output_type": "stream",
     "text": [
      "Python(92142) MallocStackLogging: can't turn off malloc stack logging because it was not enabled.\n",
      "Python(92143) MallocStackLogging: can't turn off malloc stack logging because it was not enabled.\n",
      "Processing MP3 files:   7%|▋         | 29/408 [00:21<03:29,  1.81it/s]"
     ]
    },
    {
     "name": "stdout",
     "output_type": "stream",
     "text": [
      "Finetuned score: 0.0\n",
      "Original score: 0.0\n"
     ]
    },
    {
     "name": "stderr",
     "output_type": "stream",
     "text": [
      "Python(92144) MallocStackLogging: can't turn off malloc stack logging because it was not enabled.\n",
      "Python(92145) MallocStackLogging: can't turn off malloc stack logging because it was not enabled.\n",
      "Processing MP3 files:   7%|▋         | 30/408 [00:21<03:32,  1.78it/s]"
     ]
    },
    {
     "name": "stdout",
     "output_type": "stream",
     "text": [
      "Finetuned score: 0.375\n",
      "Original score: 0.375\n"
     ]
    },
    {
     "name": "stderr",
     "output_type": "stream",
     "text": [
      "Python(92146) MallocStackLogging: can't turn off malloc stack logging because it was not enabled.\n",
      "Python(92147) MallocStackLogging: can't turn off malloc stack logging because it was not enabled.\n",
      "Processing MP3 files:   8%|▊         | 31/408 [00:22<03:29,  1.80it/s]"
     ]
    },
    {
     "name": "stdout",
     "output_type": "stream",
     "text": [
      "Finetuned score: 0.0\n",
      "Original score: 0.08333333333333333\n"
     ]
    },
    {
     "name": "stderr",
     "output_type": "stream",
     "text": [
      "Python(92148) MallocStackLogging: can't turn off malloc stack logging because it was not enabled.\n",
      "Python(92149) MallocStackLogging: can't turn off malloc stack logging because it was not enabled.\n",
      "Processing MP3 files:   8%|▊         | 32/408 [00:22<03:34,  1.75it/s]"
     ]
    },
    {
     "name": "stdout",
     "output_type": "stream",
     "text": [
      "Finetuned score: 0.0\n",
      "Original score: 0.0\n"
     ]
    },
    {
     "name": "stderr",
     "output_type": "stream",
     "text": [
      "Python(92150) MallocStackLogging: can't turn off malloc stack logging because it was not enabled.\n",
      "Python(92151) MallocStackLogging: can't turn off malloc stack logging because it was not enabled.\n",
      "Processing MP3 files:   8%|▊         | 33/408 [00:23<03:37,  1.72it/s]"
     ]
    },
    {
     "name": "stdout",
     "output_type": "stream",
     "text": [
      "Finetuned score: 0.18181818181818182\n",
      "Original score: 0.2727272727272727\n"
     ]
    },
    {
     "name": "stderr",
     "output_type": "stream",
     "text": [
      "Python(92152) MallocStackLogging: can't turn off malloc stack logging because it was not enabled.\n",
      "Python(92153) MallocStackLogging: can't turn off malloc stack logging because it was not enabled.\n",
      "Processing MP3 files:   8%|▊         | 34/408 [00:24<03:28,  1.79it/s]"
     ]
    },
    {
     "name": "stdout",
     "output_type": "stream",
     "text": [
      "Finetuned score: 0.25\n",
      "Original score: 0.5\n"
     ]
    },
    {
     "name": "stderr",
     "output_type": "stream",
     "text": [
      "Python(92154) MallocStackLogging: can't turn off malloc stack logging because it was not enabled.\n",
      "Python(92155) MallocStackLogging: can't turn off malloc stack logging because it was not enabled.\n",
      "Processing MP3 files:   9%|▊         | 35/408 [00:24<03:23,  1.83it/s]"
     ]
    },
    {
     "name": "stdout",
     "output_type": "stream",
     "text": [
      "Finetuned score: 0.5714285714285714\n",
      "Original score: 0.5714285714285714\n"
     ]
    },
    {
     "name": "stderr",
     "output_type": "stream",
     "text": [
      "Python(92156) MallocStackLogging: can't turn off malloc stack logging because it was not enabled.\n",
      "Python(92157) MallocStackLogging: can't turn off malloc stack logging because it was not enabled.\n",
      "Processing MP3 files:   9%|▉         | 36/408 [00:25<03:31,  1.76it/s]"
     ]
    },
    {
     "name": "stdout",
     "output_type": "stream",
     "text": [
      "Finetuned score: 0.2727272727272727\n",
      "Original score: 0.45454545454545453\n"
     ]
    },
    {
     "name": "stderr",
     "output_type": "stream",
     "text": [
      "Python(92158) MallocStackLogging: can't turn off malloc stack logging because it was not enabled.\n",
      "Python(92159) MallocStackLogging: can't turn off malloc stack logging because it was not enabled.\n",
      "Processing MP3 files:   9%|▉         | 37/408 [00:25<03:34,  1.73it/s]"
     ]
    },
    {
     "name": "stdout",
     "output_type": "stream",
     "text": [
      "Finetuned score: 0.7272727272727273\n",
      "Original score: 0.7272727272727273\n"
     ]
    },
    {
     "name": "stderr",
     "output_type": "stream",
     "text": [
      "Python(92160) MallocStackLogging: can't turn off malloc stack logging because it was not enabled.\n",
      "Python(92161) MallocStackLogging: can't turn off malloc stack logging because it was not enabled.\n",
      "Processing MP3 files:   9%|▉         | 38/408 [00:26<03:54,  1.58it/s]"
     ]
    },
    {
     "name": "stdout",
     "output_type": "stream",
     "text": [
      "Finetuned score: 0.07692307692307693\n",
      "Original score: 0.23076923076923078\n"
     ]
    },
    {
     "name": "stderr",
     "output_type": "stream",
     "text": [
      "Python(92162) MallocStackLogging: can't turn off malloc stack logging because it was not enabled.\n",
      "Python(92163) MallocStackLogging: can't turn off malloc stack logging because it was not enabled.\n",
      "Processing MP3 files:  10%|▉         | 39/408 [00:27<03:37,  1.70it/s]"
     ]
    },
    {
     "name": "stdout",
     "output_type": "stream",
     "text": [
      "Finetuned score: 0.0\n",
      "Original score: 0.25\n"
     ]
    },
    {
     "name": "stderr",
     "output_type": "stream",
     "text": [
      "Python(92164) MallocStackLogging: can't turn off malloc stack logging because it was not enabled.\n",
      "Python(92165) MallocStackLogging: can't turn off malloc stack logging because it was not enabled.\n",
      "Processing MP3 files:  10%|▉         | 40/408 [00:27<03:40,  1.67it/s]"
     ]
    },
    {
     "name": "stdout",
     "output_type": "stream",
     "text": [
      "Finetuned score: 0.1111111111111111\n",
      "Original score: 0.1111111111111111\n"
     ]
    },
    {
     "name": "stderr",
     "output_type": "stream",
     "text": [
      "Python(92166) MallocStackLogging: can't turn off malloc stack logging because it was not enabled.\n",
      "Python(92167) MallocStackLogging: can't turn off malloc stack logging because it was not enabled.\n",
      "Processing MP3 files:  10%|█         | 41/408 [00:28<03:50,  1.59it/s]"
     ]
    },
    {
     "name": "stdout",
     "output_type": "stream",
     "text": [
      "Finetuned score: 0.09090909090909091\n",
      "Original score: 0.18181818181818182\n"
     ]
    },
    {
     "name": "stderr",
     "output_type": "stream",
     "text": [
      "Python(92168) MallocStackLogging: can't turn off malloc stack logging because it was not enabled.\n",
      "Python(92169) MallocStackLogging: can't turn off malloc stack logging because it was not enabled.\n",
      "Processing MP3 files:  10%|█         | 42/408 [00:28<03:48,  1.60it/s]"
     ]
    },
    {
     "name": "stdout",
     "output_type": "stream",
     "text": [
      "Finetuned score: 0.0\n",
      "Original score: 0.18181818181818182\n"
     ]
    },
    {
     "name": "stderr",
     "output_type": "stream",
     "text": [
      "Python(92170) MallocStackLogging: can't turn off malloc stack logging because it was not enabled.\n",
      "Python(92171) MallocStackLogging: can't turn off malloc stack logging because it was not enabled.\n",
      "Processing MP3 files:  11%|█         | 43/408 [00:29<04:22,  1.39it/s]"
     ]
    },
    {
     "name": "stdout",
     "output_type": "stream",
     "text": [
      "Finetuned score: 0.0\n",
      "Original score: 0.14285714285714285\n"
     ]
    },
    {
     "name": "stderr",
     "output_type": "stream",
     "text": [
      "Python(92172) MallocStackLogging: can't turn off malloc stack logging because it was not enabled.\n",
      "Python(92173) MallocStackLogging: can't turn off malloc stack logging because it was not enabled.\n",
      "Processing MP3 files:  11%|█         | 44/408 [00:30<04:20,  1.40it/s]"
     ]
    },
    {
     "name": "stdout",
     "output_type": "stream",
     "text": [
      "Finetuned score: 0.23076923076923078\n",
      "Original score: 0.23076923076923078\n"
     ]
    },
    {
     "name": "stderr",
     "output_type": "stream",
     "text": [
      "Python(92174) MallocStackLogging: can't turn off malloc stack logging because it was not enabled.\n",
      "Python(92175) MallocStackLogging: can't turn off malloc stack logging because it was not enabled.\n",
      "Processing MP3 files:  11%|█         | 45/408 [00:31<04:13,  1.43it/s]"
     ]
    },
    {
     "name": "stdout",
     "output_type": "stream",
     "text": [
      "Finetuned score: 0.0\n",
      "Original score: 0.13333333333333333\n"
     ]
    },
    {
     "name": "stderr",
     "output_type": "stream",
     "text": [
      "Python(92177) MallocStackLogging: can't turn off malloc stack logging because it was not enabled.\n",
      "Python(92178) MallocStackLogging: can't turn off malloc stack logging because it was not enabled.\n",
      "Processing MP3 files:  11%|█▏        | 46/408 [00:31<03:44,  1.61it/s]"
     ]
    },
    {
     "name": "stdout",
     "output_type": "stream",
     "text": [
      "Finetuned score: 0.75\n",
      "Original score: 1.0\n"
     ]
    },
    {
     "name": "stderr",
     "output_type": "stream",
     "text": [
      "Python(92179) MallocStackLogging: can't turn off malloc stack logging because it was not enabled.\n",
      "Python(92180) MallocStackLogging: can't turn off malloc stack logging because it was not enabled.\n",
      "Processing MP3 files:  12%|█▏        | 47/408 [00:32<03:50,  1.57it/s]"
     ]
    },
    {
     "name": "stdout",
     "output_type": "stream",
     "text": [
      "Finetuned score: 0.0\n",
      "Original score: 0.07142857142857142\n"
     ]
    },
    {
     "name": "stderr",
     "output_type": "stream",
     "text": [
      "Python(92181) MallocStackLogging: can't turn off malloc stack logging because it was not enabled.\n",
      "Python(92182) MallocStackLogging: can't turn off malloc stack logging because it was not enabled.\n",
      "Processing MP3 files:  12%|█▏        | 48/408 [00:33<04:11,  1.43it/s]"
     ]
    },
    {
     "name": "stdout",
     "output_type": "stream",
     "text": [
      "Finetuned score: 0.08333333333333333\n",
      "Original score: 0.08333333333333333\n"
     ]
    },
    {
     "name": "stderr",
     "output_type": "stream",
     "text": [
      "Python(92183) MallocStackLogging: can't turn off malloc stack logging because it was not enabled.\n",
      "Python(92184) MallocStackLogging: can't turn off malloc stack logging because it was not enabled.\n",
      "Processing MP3 files:  12%|█▏        | 49/408 [00:33<03:43,  1.61it/s]"
     ]
    },
    {
     "name": "stdout",
     "output_type": "stream",
     "text": [
      "Finetuned score: 0.0\n",
      "Original score: 0.0\n"
     ]
    },
    {
     "name": "stderr",
     "output_type": "stream",
     "text": [
      "Python(92185) MallocStackLogging: can't turn off malloc stack logging because it was not enabled.\n",
      "Python(92186) MallocStackLogging: can't turn off malloc stack logging because it was not enabled.\n",
      "Processing MP3 files:  12%|█▏        | 50/408 [00:34<03:21,  1.78it/s]"
     ]
    },
    {
     "name": "stdout",
     "output_type": "stream",
     "text": [
      "Finetuned score: 0.0\n",
      "Original score: 0.0\n"
     ]
    },
    {
     "name": "stderr",
     "output_type": "stream",
     "text": [
      "Python(92187) MallocStackLogging: can't turn off malloc stack logging because it was not enabled.\n",
      "Python(92188) MallocStackLogging: can't turn off malloc stack logging because it was not enabled.\n",
      "Processing MP3 files:  12%|█▎        | 51/408 [00:34<03:30,  1.70it/s]"
     ]
    },
    {
     "name": "stdout",
     "output_type": "stream",
     "text": [
      "Finetuned score: 0.0\n",
      "Original score: 0.1\n"
     ]
    },
    {
     "name": "stderr",
     "output_type": "stream",
     "text": [
      "Python(92189) MallocStackLogging: can't turn off malloc stack logging because it was not enabled.\n",
      "Python(92190) MallocStackLogging: can't turn off malloc stack logging because it was not enabled.\n",
      "Processing MP3 files:  13%|█▎        | 52/408 [00:35<03:24,  1.74it/s]"
     ]
    },
    {
     "name": "stdout",
     "output_type": "stream",
     "text": [
      "Finetuned score: 0.0\n",
      "Original score: 0.2\n"
     ]
    },
    {
     "name": "stderr",
     "output_type": "stream",
     "text": [
      "Python(92191) MallocStackLogging: can't turn off malloc stack logging because it was not enabled.\n",
      "Python(92192) MallocStackLogging: can't turn off malloc stack logging because it was not enabled.\n",
      "Processing MP3 files:  13%|█▎        | 53/408 [00:36<03:42,  1.60it/s]"
     ]
    },
    {
     "name": "stdout",
     "output_type": "stream",
     "text": [
      "Finetuned score: 0.0\n",
      "Original score: 0.0\n"
     ]
    },
    {
     "name": "stderr",
     "output_type": "stream",
     "text": [
      "Python(92193) MallocStackLogging: can't turn off malloc stack logging because it was not enabled.\n",
      "Python(92194) MallocStackLogging: can't turn off malloc stack logging because it was not enabled.\n",
      "Processing MP3 files:  13%|█▎        | 54/408 [00:36<03:25,  1.72it/s]"
     ]
    },
    {
     "name": "stdout",
     "output_type": "stream",
     "text": [
      "Finetuned score: 0.14285714285714285\n",
      "Original score: 0.2857142857142857\n"
     ]
    },
    {
     "name": "stderr",
     "output_type": "stream",
     "text": [
      "Python(92195) MallocStackLogging: can't turn off malloc stack logging because it was not enabled.\n",
      "Python(92196) MallocStackLogging: can't turn off malloc stack logging because it was not enabled.\n",
      "Processing MP3 files:  13%|█▎        | 55/408 [00:37<03:38,  1.62it/s]"
     ]
    },
    {
     "name": "stdout",
     "output_type": "stream",
     "text": [
      "Finetuned score: 0.058823529411764705\n",
      "Original score: 0.058823529411764705\n"
     ]
    },
    {
     "name": "stderr",
     "output_type": "stream",
     "text": [
      "Python(92197) MallocStackLogging: can't turn off malloc stack logging because it was not enabled.\n",
      "Python(92198) MallocStackLogging: can't turn off malloc stack logging because it was not enabled.\n",
      "Processing MP3 files:  14%|█▎        | 56/408 [00:37<03:18,  1.78it/s]"
     ]
    },
    {
     "name": "stdout",
     "output_type": "stream",
     "text": [
      "Finetuned score: 0.0\n",
      "Original score: 0.25\n"
     ]
    },
    {
     "name": "stderr",
     "output_type": "stream",
     "text": [
      "Python(92199) MallocStackLogging: can't turn off malloc stack logging because it was not enabled.\n",
      "Python(92200) MallocStackLogging: can't turn off malloc stack logging because it was not enabled.\n",
      "Processing MP3 files:  14%|█▍        | 57/408 [00:38<03:26,  1.70it/s]"
     ]
    },
    {
     "name": "stdout",
     "output_type": "stream",
     "text": [
      "Finetuned score: 0.06666666666666667\n",
      "Original score: 0.26666666666666666\n"
     ]
    },
    {
     "name": "stderr",
     "output_type": "stream",
     "text": [
      "Python(92201) MallocStackLogging: can't turn off malloc stack logging because it was not enabled.\n",
      "Python(92202) MallocStackLogging: can't turn off malloc stack logging because it was not enabled.\n",
      "Processing MP3 files:  14%|█▍        | 58/408 [00:38<03:15,  1.79it/s]"
     ]
    },
    {
     "name": "stdout",
     "output_type": "stream",
     "text": [
      "Finetuned score: 0.0\n",
      "Original score: 0.125\n"
     ]
    },
    {
     "name": "stderr",
     "output_type": "stream",
     "text": [
      "Python(92203) MallocStackLogging: can't turn off malloc stack logging because it was not enabled.\n",
      "Python(92204) MallocStackLogging: can't turn off malloc stack logging because it was not enabled.\n",
      "Processing MP3 files:  14%|█▍        | 59/408 [00:39<03:13,  1.80it/s]"
     ]
    },
    {
     "name": "stdout",
     "output_type": "stream",
     "text": [
      "Finetuned score: 0.1111111111111111\n",
      "Original score: 0.1111111111111111\n"
     ]
    },
    {
     "name": "stderr",
     "output_type": "stream",
     "text": [
      "Python(92205) MallocStackLogging: can't turn off malloc stack logging because it was not enabled.\n",
      "Python(92206) MallocStackLogging: can't turn off malloc stack logging because it was not enabled.\n",
      "Processing MP3 files:  15%|█▍        | 60/408 [00:39<03:25,  1.69it/s]"
     ]
    },
    {
     "name": "stdout",
     "output_type": "stream",
     "text": [
      "Finetuned score: 0.0\n",
      "Original score: 0.0\n"
     ]
    },
    {
     "name": "stderr",
     "output_type": "stream",
     "text": [
      "Python(92208) MallocStackLogging: can't turn off malloc stack logging because it was not enabled.\n",
      "Python(92209) MallocStackLogging: can't turn off malloc stack logging because it was not enabled.\n",
      "Processing MP3 files:  15%|█▍        | 61/408 [00:40<03:26,  1.68it/s]"
     ]
    },
    {
     "name": "stdout",
     "output_type": "stream",
     "text": [
      "Finetuned score: 0.38461538461538464\n",
      "Original score: 0.46153846153846156\n"
     ]
    },
    {
     "name": "stderr",
     "output_type": "stream",
     "text": [
      "Python(92210) MallocStackLogging: can't turn off malloc stack logging because it was not enabled.\n",
      "Python(92211) MallocStackLogging: can't turn off malloc stack logging because it was not enabled.\n",
      "Processing MP3 files:  15%|█▌        | 62/408 [00:41<03:19,  1.73it/s]"
     ]
    },
    {
     "name": "stdout",
     "output_type": "stream",
     "text": [
      "Finetuned score: 0.42857142857142855\n",
      "Original score: 0.42857142857142855\n"
     ]
    },
    {
     "name": "stderr",
     "output_type": "stream",
     "text": [
      "Python(92212) MallocStackLogging: can't turn off malloc stack logging because it was not enabled.\n",
      "Python(92213) MallocStackLogging: can't turn off malloc stack logging because it was not enabled.\n",
      "Processing MP3 files:  15%|█▌        | 63/408 [00:41<03:04,  1.87it/s]"
     ]
    },
    {
     "name": "stdout",
     "output_type": "stream",
     "text": [
      "Finetuned score: 0.8333333333333334\n",
      "Original score: 1.0\n"
     ]
    },
    {
     "name": "stderr",
     "output_type": "stream",
     "text": [
      "Python(92214) MallocStackLogging: can't turn off malloc stack logging because it was not enabled.\n",
      "Python(92215) MallocStackLogging: can't turn off malloc stack logging because it was not enabled.\n",
      "Processing MP3 files:  16%|█▌        | 64/408 [00:42<03:03,  1.88it/s]"
     ]
    },
    {
     "name": "stdout",
     "output_type": "stream",
     "text": [
      "Finetuned score: 0.09090909090909091\n",
      "Original score: 0.2727272727272727\n"
     ]
    },
    {
     "name": "stderr",
     "output_type": "stream",
     "text": [
      "Python(92216) MallocStackLogging: can't turn off malloc stack logging because it was not enabled.\n",
      "Python(92217) MallocStackLogging: can't turn off malloc stack logging because it was not enabled.\n",
      "Processing MP3 files:  16%|█▌        | 65/408 [00:42<03:00,  1.90it/s]"
     ]
    },
    {
     "name": "stdout",
     "output_type": "stream",
     "text": [
      "Finetuned score: 0.0\n",
      "Original score: 0.0\n"
     ]
    },
    {
     "name": "stderr",
     "output_type": "stream",
     "text": [
      "Python(92218) MallocStackLogging: can't turn off malloc stack logging because it was not enabled.\n",
      "Python(92219) MallocStackLogging: can't turn off malloc stack logging because it was not enabled.\n",
      "Processing MP3 files:  16%|█▌        | 66/408 [00:43<02:52,  1.98it/s]"
     ]
    },
    {
     "name": "stdout",
     "output_type": "stream",
     "text": [
      "Finetuned score: 0.14285714285714285\n",
      "Original score: 0.14285714285714285\n"
     ]
    },
    {
     "name": "stderr",
     "output_type": "stream",
     "text": [
      "Python(92220) MallocStackLogging: can't turn off malloc stack logging because it was not enabled.\n",
      "Python(92221) MallocStackLogging: can't turn off malloc stack logging because it was not enabled.\n",
      "Processing MP3 files:  16%|█▋        | 67/408 [00:43<03:18,  1.72it/s]"
     ]
    },
    {
     "name": "stdout",
     "output_type": "stream",
     "text": [
      "Finetuned score: 0.0\n",
      "Original score: 0.0\n"
     ]
    },
    {
     "name": "stderr",
     "output_type": "stream",
     "text": [
      "Python(92222) MallocStackLogging: can't turn off malloc stack logging because it was not enabled.\n",
      "Python(92223) MallocStackLogging: can't turn off malloc stack logging because it was not enabled.\n",
      "Processing MP3 files:  17%|█▋        | 68/408 [00:44<03:18,  1.72it/s]"
     ]
    },
    {
     "name": "stdout",
     "output_type": "stream",
     "text": [
      "Finetuned score: 0.0\n",
      "Original score: 0.0\n"
     ]
    },
    {
     "name": "stderr",
     "output_type": "stream",
     "text": [
      "Python(92224) MallocStackLogging: can't turn off malloc stack logging because it was not enabled.\n",
      "Python(92225) MallocStackLogging: can't turn off malloc stack logging because it was not enabled.\n",
      "Processing MP3 files:  17%|█▋        | 69/408 [00:44<03:16,  1.73it/s]"
     ]
    },
    {
     "name": "stdout",
     "output_type": "stream",
     "text": [
      "Finetuned score: 0.0\n",
      "Original score: 0.15384615384615385\n"
     ]
    },
    {
     "name": "stderr",
     "output_type": "stream",
     "text": [
      "Python(92226) MallocStackLogging: can't turn off malloc stack logging because it was not enabled.\n",
      "Python(92227) MallocStackLogging: can't turn off malloc stack logging because it was not enabled.\n",
      "Processing MP3 files:  17%|█▋        | 70/408 [00:46<04:07,  1.37it/s]"
     ]
    },
    {
     "name": "stdout",
     "output_type": "stream",
     "text": [
      "Finetuned score: 0.0\n",
      "Original score: 0.18181818181818182\n"
     ]
    },
    {
     "name": "stderr",
     "output_type": "stream",
     "text": [
      "Python(92228) MallocStackLogging: can't turn off malloc stack logging because it was not enabled.\n",
      "Python(92229) MallocStackLogging: can't turn off malloc stack logging because it was not enabled.\n",
      "Processing MP3 files:  17%|█▋        | 71/408 [00:46<04:01,  1.40it/s]"
     ]
    },
    {
     "name": "stdout",
     "output_type": "stream",
     "text": [
      "Finetuned score: 0.14285714285714285\n",
      "Original score: 0.35714285714285715\n"
     ]
    },
    {
     "name": "stderr",
     "output_type": "stream",
     "text": [
      "Python(92230) MallocStackLogging: can't turn off malloc stack logging because it was not enabled.\n",
      "Python(92231) MallocStackLogging: can't turn off malloc stack logging because it was not enabled.\n",
      "Processing MP3 files:  18%|█▊        | 72/408 [00:47<03:36,  1.55it/s]"
     ]
    },
    {
     "name": "stdout",
     "output_type": "stream",
     "text": [
      "Finetuned score: 0.0\n",
      "Original score: 0.5\n"
     ]
    },
    {
     "name": "stderr",
     "output_type": "stream",
     "text": [
      "Python(92232) MallocStackLogging: can't turn off malloc stack logging because it was not enabled.\n",
      "Python(92233) MallocStackLogging: can't turn off malloc stack logging because it was not enabled.\n",
      "Processing MP3 files:  18%|█▊        | 73/408 [00:47<03:27,  1.61it/s]"
     ]
    },
    {
     "name": "stdout",
     "output_type": "stream",
     "text": [
      "Finetuned score: 0.3333333333333333\n",
      "Original score: 0.4\n"
     ]
    },
    {
     "name": "stderr",
     "output_type": "stream",
     "text": [
      "Python(92234) MallocStackLogging: can't turn off malloc stack logging because it was not enabled.\n",
      "Python(92235) MallocStackLogging: can't turn off malloc stack logging because it was not enabled.\n",
      "Processing MP3 files:  18%|█▊        | 74/408 [00:48<03:18,  1.68it/s]"
     ]
    },
    {
     "name": "stdout",
     "output_type": "stream",
     "text": [
      "Finetuned score: 0.16666666666666666\n",
      "Original score: 0.5833333333333334\n"
     ]
    },
    {
     "name": "stderr",
     "output_type": "stream",
     "text": [
      "Python(92236) MallocStackLogging: can't turn off malloc stack logging because it was not enabled.\n",
      "Python(92237) MallocStackLogging: can't turn off malloc stack logging because it was not enabled.\n",
      "Processing MP3 files:  18%|█▊        | 75/408 [00:48<03:10,  1.75it/s]"
     ]
    },
    {
     "name": "stdout",
     "output_type": "stream",
     "text": [
      "Finetuned score: 0.0\n",
      "Original score: 0.5\n"
     ]
    },
    {
     "name": "stderr",
     "output_type": "stream",
     "text": [
      "Python(92238) MallocStackLogging: can't turn off malloc stack logging because it was not enabled.\n",
      "Python(92239) MallocStackLogging: can't turn off malloc stack logging because it was not enabled.\n",
      "Processing MP3 files:  19%|█▊        | 76/408 [00:49<03:06,  1.78it/s]"
     ]
    },
    {
     "name": "stdout",
     "output_type": "stream",
     "text": [
      "Finetuned score: 0.0\n",
      "Original score: 0.16666666666666666\n"
     ]
    },
    {
     "name": "stderr",
     "output_type": "stream",
     "text": [
      "Python(92240) MallocStackLogging: can't turn off malloc stack logging because it was not enabled.\n",
      "Python(92241) MallocStackLogging: can't turn off malloc stack logging because it was not enabled.\n",
      "Processing MP3 files:  19%|█▉        | 77/408 [00:49<03:06,  1.78it/s]"
     ]
    },
    {
     "name": "stdout",
     "output_type": "stream",
     "text": [
      "Finetuned score: 0.08333333333333333\n",
      "Original score: 0.5833333333333334\n"
     ]
    },
    {
     "name": "stderr",
     "output_type": "stream",
     "text": [
      "Python(92242) MallocStackLogging: can't turn off malloc stack logging because it was not enabled.\n",
      "Python(92243) MallocStackLogging: can't turn off malloc stack logging because it was not enabled.\n",
      "Processing MP3 files:  19%|█▉        | 78/408 [00:50<03:03,  1.80it/s]"
     ]
    },
    {
     "name": "stdout",
     "output_type": "stream",
     "text": [
      "Finetuned score: 0.0\n",
      "Original score: 0.16666666666666666\n"
     ]
    },
    {
     "name": "stderr",
     "output_type": "stream",
     "text": [
      "Python(92244) MallocStackLogging: can't turn off malloc stack logging because it was not enabled.\n",
      "Python(92245) MallocStackLogging: can't turn off malloc stack logging because it was not enabled.\n",
      "Processing MP3 files:  19%|█▉        | 79/408 [00:50<02:50,  1.93it/s]"
     ]
    },
    {
     "name": "stdout",
     "output_type": "stream",
     "text": [
      "Finetuned score: 0.0\n",
      "Original score: 0.2\n"
     ]
    },
    {
     "name": "stderr",
     "output_type": "stream",
     "text": [
      "Python(92246) MallocStackLogging: can't turn off malloc stack logging because it was not enabled.\n",
      "Python(92247) MallocStackLogging: can't turn off malloc stack logging because it was not enabled.\n",
      "Processing MP3 files:  20%|█▉        | 80/408 [00:51<03:03,  1.78it/s]"
     ]
    },
    {
     "name": "stdout",
     "output_type": "stream",
     "text": [
      "Finetuned score: 0.08333333333333333\n",
      "Original score: 0.08333333333333333\n"
     ]
    },
    {
     "name": "stderr",
     "output_type": "stream",
     "text": [
      "Python(92248) MallocStackLogging: can't turn off malloc stack logging because it was not enabled.\n",
      "Python(92249) MallocStackLogging: can't turn off malloc stack logging because it was not enabled.\n",
      "Processing MP3 files:  20%|█▉        | 81/408 [00:52<03:11,  1.71it/s]"
     ]
    },
    {
     "name": "stdout",
     "output_type": "stream",
     "text": [
      "Finetuned score: 0.46153846153846156\n",
      "Original score: 0.46153846153846156\n"
     ]
    },
    {
     "name": "stderr",
     "output_type": "stream",
     "text": [
      "Python(92250) MallocStackLogging: can't turn off malloc stack logging because it was not enabled.\n",
      "Python(92251) MallocStackLogging: can't turn off malloc stack logging because it was not enabled.\n",
      "Processing MP3 files:  20%|██        | 82/408 [00:52<03:21,  1.62it/s]"
     ]
    },
    {
     "name": "stdout",
     "output_type": "stream",
     "text": [
      "Finetuned score: 0.23076923076923078\n",
      "Original score: 0.23076923076923078\n"
     ]
    },
    {
     "name": "stderr",
     "output_type": "stream",
     "text": [
      "Python(92252) MallocStackLogging: can't turn off malloc stack logging because it was not enabled.\n",
      "Python(92253) MallocStackLogging: can't turn off malloc stack logging because it was not enabled.\n",
      "Processing MP3 files:  20%|██        | 83/408 [00:53<03:15,  1.66it/s]"
     ]
    },
    {
     "name": "stdout",
     "output_type": "stream",
     "text": [
      "Finetuned score: 0.1111111111111111\n",
      "Original score: 0.6666666666666666\n"
     ]
    },
    {
     "name": "stderr",
     "output_type": "stream",
     "text": [
      "Python(92254) MallocStackLogging: can't turn off malloc stack logging because it was not enabled.\n",
      "Python(92255) MallocStackLogging: can't turn off malloc stack logging because it was not enabled.\n",
      "Processing MP3 files:  21%|██        | 84/408 [00:53<03:06,  1.74it/s]"
     ]
    },
    {
     "name": "stdout",
     "output_type": "stream",
     "text": [
      "Finetuned score: 0.1111111111111111\n",
      "Original score: 0.2222222222222222\n"
     ]
    },
    {
     "name": "stderr",
     "output_type": "stream",
     "text": [
      "Python(92256) MallocStackLogging: can't turn off malloc stack logging because it was not enabled.\n",
      "Python(92257) MallocStackLogging: can't turn off malloc stack logging because it was not enabled.\n",
      "Processing MP3 files:  21%|██        | 85/408 [00:54<03:03,  1.76it/s]"
     ]
    },
    {
     "name": "stdout",
     "output_type": "stream",
     "text": [
      "Finetuned score: 0.0\n",
      "Original score: 0.4444444444444444\n"
     ]
    },
    {
     "name": "stderr",
     "output_type": "stream",
     "text": [
      "Python(92258) MallocStackLogging: can't turn off malloc stack logging because it was not enabled.\n",
      "Python(92259) MallocStackLogging: can't turn off malloc stack logging because it was not enabled.\n",
      "Processing MP3 files:  21%|██        | 86/408 [00:54<02:45,  1.94it/s]"
     ]
    },
    {
     "name": "stdout",
     "output_type": "stream",
     "text": [
      "Finetuned score: 0.5\n",
      "Original score: 0.5\n"
     ]
    },
    {
     "name": "stderr",
     "output_type": "stream",
     "text": [
      "Python(92260) MallocStackLogging: can't turn off malloc stack logging because it was not enabled.\n",
      "Python(92261) MallocStackLogging: can't turn off malloc stack logging because it was not enabled.\n",
      "Processing MP3 files:  21%|██▏       | 87/408 [00:55<02:32,  2.10it/s]"
     ]
    },
    {
     "name": "stdout",
     "output_type": "stream",
     "text": [
      "Finetuned score: 0.3333333333333333\n",
      "Original score: 0.3333333333333333\n"
     ]
    },
    {
     "name": "stderr",
     "output_type": "stream",
     "text": [
      "Python(92262) MallocStackLogging: can't turn off malloc stack logging because it was not enabled.\n",
      "Python(92263) MallocStackLogging: can't turn off malloc stack logging because it was not enabled.\n",
      "Processing MP3 files:  22%|██▏       | 88/408 [00:55<02:36,  2.04it/s]"
     ]
    },
    {
     "name": "stdout",
     "output_type": "stream",
     "text": [
      "Finetuned score: 0.125\n",
      "Original score: 0.125\n"
     ]
    },
    {
     "name": "stderr",
     "output_type": "stream",
     "text": [
      "Python(92264) MallocStackLogging: can't turn off malloc stack logging because it was not enabled.\n",
      "Python(92265) MallocStackLogging: can't turn off malloc stack logging because it was not enabled.\n",
      "Processing MP3 files:  22%|██▏       | 89/408 [00:56<02:50,  1.87it/s]"
     ]
    },
    {
     "name": "stdout",
     "output_type": "stream",
     "text": [
      "Finetuned score: 0.3076923076923077\n",
      "Original score: 0.5384615384615384\n"
     ]
    },
    {
     "name": "stderr",
     "output_type": "stream",
     "text": [
      "Python(92266) MallocStackLogging: can't turn off malloc stack logging because it was not enabled.\n",
      "Python(92267) MallocStackLogging: can't turn off malloc stack logging because it was not enabled.\n",
      "Processing MP3 files:  22%|██▏       | 90/408 [00:56<02:47,  1.89it/s]"
     ]
    },
    {
     "name": "stdout",
     "output_type": "stream",
     "text": [
      "Finetuned score: 0.0\n",
      "Original score: 0.0\n"
     ]
    },
    {
     "name": "stderr",
     "output_type": "stream",
     "text": [
      "Python(92268) MallocStackLogging: can't turn off malloc stack logging because it was not enabled.\n",
      "Python(92269) MallocStackLogging: can't turn off malloc stack logging because it was not enabled.\n",
      "Processing MP3 files:  22%|██▏       | 91/408 [00:57<02:50,  1.86it/s]"
     ]
    },
    {
     "name": "stdout",
     "output_type": "stream",
     "text": [
      "Finetuned score: 0.0\n",
      "Original score: 0.125\n"
     ]
    },
    {
     "name": "stderr",
     "output_type": "stream",
     "text": [
      "Python(92270) MallocStackLogging: can't turn off malloc stack logging because it was not enabled.\n",
      "Python(92271) MallocStackLogging: can't turn off malloc stack logging because it was not enabled.\n",
      "Processing MP3 files:  23%|██▎       | 92/408 [00:58<02:54,  1.81it/s]"
     ]
    },
    {
     "name": "stdout",
     "output_type": "stream",
     "text": [
      "Finetuned score: 0.16666666666666666\n",
      "Original score: 0.5\n"
     ]
    },
    {
     "name": "stderr",
     "output_type": "stream",
     "text": [
      "Python(92272) MallocStackLogging: can't turn off malloc stack logging because it was not enabled.\n",
      "Python(92273) MallocStackLogging: can't turn off malloc stack logging because it was not enabled.\n",
      "Processing MP3 files:  23%|██▎       | 93/408 [00:58<02:49,  1.86it/s]"
     ]
    },
    {
     "name": "stdout",
     "output_type": "stream",
     "text": [
      "Finetuned score: 0.6363636363636364\n",
      "Original score: 0.8181818181818182\n"
     ]
    },
    {
     "name": "stderr",
     "output_type": "stream",
     "text": [
      "Python(92274) MallocStackLogging: can't turn off malloc stack logging because it was not enabled.\n",
      "Python(92275) MallocStackLogging: can't turn off malloc stack logging because it was not enabled.\n",
      "Processing MP3 files:  23%|██▎       | 94/408 [00:59<02:46,  1.89it/s]"
     ]
    },
    {
     "name": "stdout",
     "output_type": "stream",
     "text": [
      "Finetuned score: 0.0\n",
      "Original score: 0.18181818181818182\n"
     ]
    },
    {
     "name": "stderr",
     "output_type": "stream",
     "text": [
      "Python(92276) MallocStackLogging: can't turn off malloc stack logging because it was not enabled.\n",
      "Python(92277) MallocStackLogging: can't turn off malloc stack logging because it was not enabled.\n",
      "Processing MP3 files:  23%|██▎       | 95/408 [00:59<03:00,  1.74it/s]"
     ]
    },
    {
     "name": "stdout",
     "output_type": "stream",
     "text": [
      "Finetuned score: 0.0\n",
      "Original score: 0.16666666666666666\n"
     ]
    },
    {
     "name": "stderr",
     "output_type": "stream",
     "text": [
      "Python(92278) MallocStackLogging: can't turn off malloc stack logging because it was not enabled.\n",
      "Python(92279) MallocStackLogging: can't turn off malloc stack logging because it was not enabled.\n",
      "Processing MP3 files:  24%|██▎       | 96/408 [01:00<02:53,  1.79it/s]"
     ]
    },
    {
     "name": "stdout",
     "output_type": "stream",
     "text": [
      "Finetuned score: 0.4\n",
      "Original score: 0.6\n"
     ]
    },
    {
     "name": "stderr",
     "output_type": "stream",
     "text": [
      "Python(92280) MallocStackLogging: can't turn off malloc stack logging because it was not enabled.\n",
      "Python(92281) MallocStackLogging: can't turn off malloc stack logging because it was not enabled.\n",
      "Processing MP3 files:  24%|██▍       | 97/408 [01:01<03:10,  1.63it/s]"
     ]
    },
    {
     "name": "stdout",
     "output_type": "stream",
     "text": [
      "Finetuned score: 0.23076923076923078\n",
      "Original score: 0.38461538461538464\n"
     ]
    },
    {
     "name": "stderr",
     "output_type": "stream",
     "text": [
      "Python(92282) MallocStackLogging: can't turn off malloc stack logging because it was not enabled.\n",
      "Python(92283) MallocStackLogging: can't turn off malloc stack logging because it was not enabled.\n",
      "Processing MP3 files:  24%|██▍       | 98/408 [01:01<02:57,  1.75it/s]"
     ]
    },
    {
     "name": "stdout",
     "output_type": "stream",
     "text": [
      "Finetuned score: 0.125\n",
      "Original score: 0.125\n"
     ]
    },
    {
     "name": "stderr",
     "output_type": "stream",
     "text": [
      "Python(92284) MallocStackLogging: can't turn off malloc stack logging because it was not enabled.\n",
      "Python(92285) MallocStackLogging: can't turn off malloc stack logging because it was not enabled.\n",
      "Processing MP3 files:  24%|██▍       | 99/408 [01:02<03:03,  1.69it/s]"
     ]
    },
    {
     "name": "stdout",
     "output_type": "stream",
     "text": [
      "Finetuned score: 0.0\n",
      "Original score: 0.2\n"
     ]
    },
    {
     "name": "stderr",
     "output_type": "stream",
     "text": [
      "Python(92286) MallocStackLogging: can't turn off malloc stack logging because it was not enabled.\n",
      "Python(92287) MallocStackLogging: can't turn off malloc stack logging because it was not enabled.\n",
      "Processing MP3 files:  25%|██▍       | 100/408 [01:02<02:51,  1.79it/s]"
     ]
    },
    {
     "name": "stdout",
     "output_type": "stream",
     "text": [
      "Finetuned score: 0.5\n",
      "Original score: 0.5\n"
     ]
    },
    {
     "name": "stderr",
     "output_type": "stream",
     "text": [
      "Python(92289) MallocStackLogging: can't turn off malloc stack logging because it was not enabled.\n",
      "Python(92290) MallocStackLogging: can't turn off malloc stack logging because it was not enabled.\n",
      "Processing MP3 files:  25%|██▍       | 101/408 [01:03<02:51,  1.79it/s]"
     ]
    },
    {
     "name": "stdout",
     "output_type": "stream",
     "text": [
      "Finetuned score: 0.25\n",
      "Original score: 0.25\n"
     ]
    },
    {
     "name": "stderr",
     "output_type": "stream",
     "text": [
      "Python(92291) MallocStackLogging: can't turn off malloc stack logging because it was not enabled.\n",
      "Python(92292) MallocStackLogging: can't turn off malloc stack logging because it was not enabled.\n",
      "Processing MP3 files:  25%|██▌       | 102/408 [01:03<02:57,  1.72it/s]"
     ]
    },
    {
     "name": "stdout",
     "output_type": "stream",
     "text": [
      "Finetuned score: 0.0\n",
      "Original score: 0.09090909090909091\n"
     ]
    },
    {
     "name": "stderr",
     "output_type": "stream",
     "text": [
      "Python(92293) MallocStackLogging: can't turn off malloc stack logging because it was not enabled.\n",
      "Python(92294) MallocStackLogging: can't turn off malloc stack logging because it was not enabled.\n",
      "Processing MP3 files:  25%|██▌       | 103/408 [01:04<03:04,  1.66it/s]"
     ]
    },
    {
     "name": "stdout",
     "output_type": "stream",
     "text": [
      "Finetuned score: 0.16666666666666666\n",
      "Original score: 0.6666666666666666\n"
     ]
    },
    {
     "name": "stderr",
     "output_type": "stream",
     "text": [
      "Python(92295) MallocStackLogging: can't turn off malloc stack logging because it was not enabled.\n",
      "Python(92296) MallocStackLogging: can't turn off malloc stack logging because it was not enabled.\n",
      "Processing MP3 files:  25%|██▌       | 104/408 [01:05<02:55,  1.74it/s]"
     ]
    },
    {
     "name": "stdout",
     "output_type": "stream",
     "text": [
      "Finetuned score: 0.0\n",
      "Original score: 0.2857142857142857\n"
     ]
    },
    {
     "name": "stderr",
     "output_type": "stream",
     "text": [
      "Python(92297) MallocStackLogging: can't turn off malloc stack logging because it was not enabled.\n",
      "Python(92298) MallocStackLogging: can't turn off malloc stack logging because it was not enabled.\n",
      "Processing MP3 files:  26%|██▌       | 105/408 [01:05<03:00,  1.68it/s]"
     ]
    },
    {
     "name": "stdout",
     "output_type": "stream",
     "text": [
      "Finetuned score: 0.21428571428571427\n",
      "Original score: 0.2857142857142857\n"
     ]
    },
    {
     "name": "stderr",
     "output_type": "stream",
     "text": [
      "Python(92299) MallocStackLogging: can't turn off malloc stack logging because it was not enabled.\n",
      "Python(92300) MallocStackLogging: can't turn off malloc stack logging because it was not enabled.\n",
      "Processing MP3 files:  26%|██▌       | 106/408 [01:06<02:53,  1.74it/s]"
     ]
    },
    {
     "name": "stdout",
     "output_type": "stream",
     "text": [
      "Finetuned score: 0.125\n",
      "Original score: 0.125\n"
     ]
    },
    {
     "name": "stderr",
     "output_type": "stream",
     "text": [
      "Python(92301) MallocStackLogging: can't turn off malloc stack logging because it was not enabled.\n",
      "Python(92302) MallocStackLogging: can't turn off malloc stack logging because it was not enabled.\n",
      "Processing MP3 files:  26%|██▌       | 107/408 [01:06<03:02,  1.65it/s]"
     ]
    },
    {
     "name": "stdout",
     "output_type": "stream",
     "text": [
      "Finetuned score: 0.058823529411764705\n",
      "Original score: 0.23529411764705882\n"
     ]
    },
    {
     "name": "stderr",
     "output_type": "stream",
     "text": [
      "Python(92303) MallocStackLogging: can't turn off malloc stack logging because it was not enabled.\n",
      "Python(92304) MallocStackLogging: can't turn off malloc stack logging because it was not enabled.\n",
      "Processing MP3 files:  26%|██▋       | 108/408 [01:07<02:56,  1.70it/s]"
     ]
    },
    {
     "name": "stdout",
     "output_type": "stream",
     "text": [
      "Finetuned score: 0.42857142857142855\n",
      "Original score: 0.5714285714285714\n"
     ]
    },
    {
     "name": "stderr",
     "output_type": "stream",
     "text": [
      "Python(92305) MallocStackLogging: can't turn off malloc stack logging because it was not enabled.\n",
      "Python(92306) MallocStackLogging: can't turn off malloc stack logging because it was not enabled.\n",
      "Processing MP3 files:  27%|██▋       | 109/408 [01:08<03:17,  1.51it/s]"
     ]
    },
    {
     "name": "stdout",
     "output_type": "stream",
     "text": [
      "Finetuned score: 0.1875\n",
      "Original score: 0.375\n"
     ]
    },
    {
     "name": "stderr",
     "output_type": "stream",
     "text": [
      "Python(92307) MallocStackLogging: can't turn off malloc stack logging because it was not enabled.\n",
      "Python(92308) MallocStackLogging: can't turn off malloc stack logging because it was not enabled.\n",
      "Processing MP3 files:  27%|██▋       | 110/408 [01:08<03:16,  1.52it/s]"
     ]
    },
    {
     "name": "stdout",
     "output_type": "stream",
     "text": [
      "Finetuned score: 0.0\n",
      "Original score: 0.25\n"
     ]
    },
    {
     "name": "stderr",
     "output_type": "stream",
     "text": [
      "Python(92309) MallocStackLogging: can't turn off malloc stack logging because it was not enabled.\n",
      "Python(92310) MallocStackLogging: can't turn off malloc stack logging because it was not enabled.\n",
      "Processing MP3 files:  27%|██▋       | 111/408 [01:09<03:10,  1.56it/s]"
     ]
    },
    {
     "name": "stdout",
     "output_type": "stream",
     "text": [
      "Finetuned score: 0.125\n",
      "Original score: 0.25\n"
     ]
    },
    {
     "name": "stderr",
     "output_type": "stream",
     "text": [
      "Python(92311) MallocStackLogging: can't turn off malloc stack logging because it was not enabled.\n",
      "Python(92312) MallocStackLogging: can't turn off malloc stack logging because it was not enabled.\n",
      "Processing MP3 files:  27%|██▋       | 112/408 [01:10<03:30,  1.40it/s]"
     ]
    },
    {
     "name": "stdout",
     "output_type": "stream",
     "text": [
      "Finetuned score: 0.5333333333333333\n",
      "Original score: 0.6\n"
     ]
    },
    {
     "name": "stderr",
     "output_type": "stream",
     "text": [
      "Python(92313) MallocStackLogging: can't turn off malloc stack logging because it was not enabled.\n",
      "Python(92314) MallocStackLogging: can't turn off malloc stack logging because it was not enabled.\n",
      "Processing MP3 files:  28%|██▊       | 113/408 [01:11<03:33,  1.38it/s]"
     ]
    },
    {
     "name": "stdout",
     "output_type": "stream",
     "text": [
      "Finetuned score: 0.2\n",
      "Original score: 0.5\n"
     ]
    },
    {
     "name": "stderr",
     "output_type": "stream",
     "text": [
      "Python(92315) MallocStackLogging: can't turn off malloc stack logging because it was not enabled.\n",
      "Python(92316) MallocStackLogging: can't turn off malloc stack logging because it was not enabled.\n",
      "Processing MP3 files:  28%|██▊       | 114/408 [01:11<03:23,  1.44it/s]"
     ]
    },
    {
     "name": "stdout",
     "output_type": "stream",
     "text": [
      "Finetuned score: 0.0\n",
      "Original score: 0.0\n"
     ]
    },
    {
     "name": "stderr",
     "output_type": "stream",
     "text": [
      "Python(92317) MallocStackLogging: can't turn off malloc stack logging because it was not enabled.\n",
      "Python(92318) MallocStackLogging: can't turn off malloc stack logging because it was not enabled.\n",
      "Processing MP3 files:  28%|██▊       | 115/408 [01:12<03:15,  1.50it/s]"
     ]
    },
    {
     "name": "stdout",
     "output_type": "stream",
     "text": [
      "Finetuned score: 0.0\n",
      "Original score: 0.2222222222222222\n"
     ]
    },
    {
     "name": "stderr",
     "output_type": "stream",
     "text": [
      "Python(92319) MallocStackLogging: can't turn off malloc stack logging because it was not enabled.\n",
      "Python(92320) MallocStackLogging: can't turn off malloc stack logging because it was not enabled.\n",
      "Processing MP3 files:  28%|██▊       | 116/408 [01:12<03:06,  1.56it/s]"
     ]
    },
    {
     "name": "stdout",
     "output_type": "stream",
     "text": [
      "Finetuned score: 0.23076923076923078\n",
      "Original score: 0.5384615384615384\n"
     ]
    },
    {
     "name": "stderr",
     "output_type": "stream",
     "text": [
      "Python(92322) MallocStackLogging: can't turn off malloc stack logging because it was not enabled.\n",
      "Python(92323) MallocStackLogging: can't turn off malloc stack logging because it was not enabled.\n",
      "Processing MP3 files:  29%|██▊       | 117/408 [01:13<03:12,  1.51it/s]"
     ]
    },
    {
     "name": "stdout",
     "output_type": "stream",
     "text": [
      "Finetuned score: 0.0\n",
      "Original score: 0.0\n"
     ]
    },
    {
     "name": "stderr",
     "output_type": "stream",
     "text": [
      "Python(92326) MallocStackLogging: can't turn off malloc stack logging because it was not enabled.\n",
      "Python(92327) MallocStackLogging: can't turn off malloc stack logging because it was not enabled.\n",
      "Processing MP3 files:  29%|██▉       | 118/408 [01:14<03:11,  1.52it/s]"
     ]
    },
    {
     "name": "stdout",
     "output_type": "stream",
     "text": [
      "Finetuned score: 0.0\n",
      "Original score: 0.0\n"
     ]
    },
    {
     "name": "stderr",
     "output_type": "stream",
     "text": [
      "Python(92328) MallocStackLogging: can't turn off malloc stack logging because it was not enabled.\n",
      "Python(92329) MallocStackLogging: can't turn off malloc stack logging because it was not enabled.\n",
      "Processing MP3 files:  29%|██▉       | 119/408 [01:14<03:06,  1.55it/s]"
     ]
    },
    {
     "name": "stdout",
     "output_type": "stream",
     "text": [
      "Finetuned score: 0.2727272727272727\n",
      "Original score: 0.2727272727272727\n"
     ]
    },
    {
     "name": "stderr",
     "output_type": "stream",
     "text": [
      "Python(92330) MallocStackLogging: can't turn off malloc stack logging because it was not enabled.\n",
      "Python(92331) MallocStackLogging: can't turn off malloc stack logging because it was not enabled.\n",
      "Processing MP3 files:  29%|██▉       | 120/408 [01:15<02:55,  1.65it/s]"
     ]
    },
    {
     "name": "stdout",
     "output_type": "stream",
     "text": [
      "Finetuned score: 0.0\n",
      "Original score: 0.4\n"
     ]
    },
    {
     "name": "stderr",
     "output_type": "stream",
     "text": [
      "Python(92332) MallocStackLogging: can't turn off malloc stack logging because it was not enabled.\n",
      "Python(92333) MallocStackLogging: can't turn off malloc stack logging because it was not enabled.\n",
      "Processing MP3 files:  30%|██▉       | 121/408 [01:16<03:21,  1.43it/s]"
     ]
    },
    {
     "name": "stdout",
     "output_type": "stream",
     "text": [
      "Finetuned score: 0.0\n",
      "Original score: 0.2857142857142857\n"
     ]
    },
    {
     "name": "stderr",
     "output_type": "stream",
     "text": [
      "Python(92334) MallocStackLogging: can't turn off malloc stack logging because it was not enabled.\n",
      "Python(92335) MallocStackLogging: can't turn off malloc stack logging because it was not enabled.\n",
      "Processing MP3 files:  30%|██▉       | 122/408 [01:16<03:01,  1.58it/s]"
     ]
    },
    {
     "name": "stdout",
     "output_type": "stream",
     "text": [
      "Finetuned score: 0.0\n",
      "Original score: 0.25\n"
     ]
    },
    {
     "name": "stderr",
     "output_type": "stream",
     "text": [
      "Python(92336) MallocStackLogging: can't turn off malloc stack logging because it was not enabled.\n",
      "Python(92337) MallocStackLogging: can't turn off malloc stack logging because it was not enabled.\n",
      "Processing MP3 files:  30%|███       | 123/408 [01:17<03:00,  1.58it/s]"
     ]
    },
    {
     "name": "stdout",
     "output_type": "stream",
     "text": [
      "Finetuned score: 0.06666666666666667\n",
      "Original score: 0.13333333333333333\n"
     ]
    },
    {
     "name": "stderr",
     "output_type": "stream",
     "text": [
      "Python(92338) MallocStackLogging: can't turn off malloc stack logging because it was not enabled.\n",
      "Python(92339) MallocStackLogging: can't turn off malloc stack logging because it was not enabled.\n",
      "Processing MP3 files:  30%|███       | 124/408 [01:18<03:00,  1.58it/s]"
     ]
    },
    {
     "name": "stdout",
     "output_type": "stream",
     "text": [
      "Finetuned score: 0.0\n",
      "Original score: 0.07692307692307693\n"
     ]
    },
    {
     "name": "stderr",
     "output_type": "stream",
     "text": [
      "Python(92340) MallocStackLogging: can't turn off malloc stack logging because it was not enabled.\n",
      "Python(92341) MallocStackLogging: can't turn off malloc stack logging because it was not enabled.\n",
      "Processing MP3 files:  31%|███       | 125/408 [01:18<03:15,  1.45it/s]"
     ]
    },
    {
     "name": "stdout",
     "output_type": "stream",
     "text": [
      "Finetuned score: 0.0625\n",
      "Original score: 0.0625\n"
     ]
    },
    {
     "name": "stderr",
     "output_type": "stream",
     "text": [
      "Python(92342) MallocStackLogging: can't turn off malloc stack logging because it was not enabled.\n",
      "Python(92343) MallocStackLogging: can't turn off malloc stack logging because it was not enabled.\n",
      "Processing MP3 files:  31%|███       | 126/408 [01:19<02:57,  1.59it/s]"
     ]
    },
    {
     "name": "stdout",
     "output_type": "stream",
     "text": [
      "Finetuned score: 0.5\n",
      "Original score: 1.0\n"
     ]
    },
    {
     "name": "stderr",
     "output_type": "stream",
     "text": [
      "Python(92344) MallocStackLogging: can't turn off malloc stack logging because it was not enabled.\n",
      "Python(92345) MallocStackLogging: can't turn off malloc stack logging because it was not enabled.\n",
      "Processing MP3 files:  31%|███       | 127/408 [01:19<02:47,  1.68it/s]"
     ]
    },
    {
     "name": "stdout",
     "output_type": "stream",
     "text": [
      "Finetuned score: 0.0\n",
      "Original score: 0.0\n"
     ]
    },
    {
     "name": "stderr",
     "output_type": "stream",
     "text": [
      "Python(92346) MallocStackLogging: can't turn off malloc stack logging because it was not enabled.\n",
      "Python(92347) MallocStackLogging: can't turn off malloc stack logging because it was not enabled.\n",
      "Processing MP3 files:  31%|███▏      | 128/408 [01:20<03:04,  1.52it/s]"
     ]
    },
    {
     "name": "stdout",
     "output_type": "stream",
     "text": [
      "Finetuned score: 0.0\n",
      "Original score: 0.26666666666666666\n"
     ]
    },
    {
     "name": "stderr",
     "output_type": "stream",
     "text": [
      "Python(92348) MallocStackLogging: can't turn off malloc stack logging because it was not enabled.\n",
      "Python(92349) MallocStackLogging: can't turn off malloc stack logging because it was not enabled.\n",
      "Processing MP3 files:  32%|███▏      | 129/408 [01:21<02:56,  1.58it/s]"
     ]
    },
    {
     "name": "stdout",
     "output_type": "stream",
     "text": [
      "Finetuned score: 0.0\n",
      "Original score: 0.16666666666666666\n"
     ]
    },
    {
     "name": "stderr",
     "output_type": "stream",
     "text": [
      "Python(92350) MallocStackLogging: can't turn off malloc stack logging because it was not enabled.\n",
      "Python(92351) MallocStackLogging: can't turn off malloc stack logging because it was not enabled.\n",
      "Processing MP3 files:  32%|███▏      | 130/408 [01:21<02:57,  1.56it/s]"
     ]
    },
    {
     "name": "stdout",
     "output_type": "stream",
     "text": [
      "Finetuned score: 0.2222222222222222\n",
      "Original score: 0.3333333333333333\n"
     ]
    },
    {
     "name": "stderr",
     "output_type": "stream",
     "text": [
      "Python(92352) MallocStackLogging: can't turn off malloc stack logging because it was not enabled.\n",
      "Python(92353) MallocStackLogging: can't turn off malloc stack logging because it was not enabled.\n",
      "Processing MP3 files:  32%|███▏      | 131/408 [01:22<02:44,  1.68it/s]"
     ]
    },
    {
     "name": "stdout",
     "output_type": "stream",
     "text": [
      "Finetuned score: 0.0\n",
      "Original score: 0.0\n"
     ]
    },
    {
     "name": "stderr",
     "output_type": "stream",
     "text": [
      "Python(92354) MallocStackLogging: can't turn off malloc stack logging because it was not enabled.\n",
      "Python(92355) MallocStackLogging: can't turn off malloc stack logging because it was not enabled.\n",
      "Processing MP3 files:  32%|███▏      | 132/408 [01:23<02:49,  1.63it/s]"
     ]
    },
    {
     "name": "stdout",
     "output_type": "stream",
     "text": [
      "Finetuned score: 0.2\n",
      "Original score: 0.2\n"
     ]
    },
    {
     "name": "stderr",
     "output_type": "stream",
     "text": [
      "Python(92356) MallocStackLogging: can't turn off malloc stack logging because it was not enabled.\n",
      "Python(92357) MallocStackLogging: can't turn off malloc stack logging because it was not enabled.\n",
      "Processing MP3 files:  33%|███▎      | 133/408 [01:23<02:35,  1.77it/s]"
     ]
    },
    {
     "name": "stdout",
     "output_type": "stream",
     "text": [
      "Finetuned score: 0.25\n",
      "Original score: 0.0\n"
     ]
    },
    {
     "name": "stderr",
     "output_type": "stream",
     "text": [
      "Python(92358) MallocStackLogging: can't turn off malloc stack logging because it was not enabled.\n",
      "Python(92359) MallocStackLogging: can't turn off malloc stack logging because it was not enabled.\n",
      "Processing MP3 files:  33%|███▎      | 134/408 [01:24<02:30,  1.82it/s]"
     ]
    },
    {
     "name": "stdout",
     "output_type": "stream",
     "text": [
      "Finetuned score: 0.0\n",
      "Original score: 0.2857142857142857\n"
     ]
    },
    {
     "name": "stderr",
     "output_type": "stream",
     "text": [
      "Python(92360) MallocStackLogging: can't turn off malloc stack logging because it was not enabled.\n",
      "Python(92361) MallocStackLogging: can't turn off malloc stack logging because it was not enabled.\n",
      "Processing MP3 files:  33%|███▎      | 135/408 [01:24<02:31,  1.80it/s]"
     ]
    },
    {
     "name": "stdout",
     "output_type": "stream",
     "text": [
      "Finetuned score: 0.0\n",
      "Original score: 0.2\n"
     ]
    },
    {
     "name": "stderr",
     "output_type": "stream",
     "text": [
      "Python(92362) MallocStackLogging: can't turn off malloc stack logging because it was not enabled.\n",
      "Python(92363) MallocStackLogging: can't turn off malloc stack logging because it was not enabled.\n",
      "Processing MP3 files:  33%|███▎      | 136/408 [01:25<02:36,  1.74it/s]"
     ]
    },
    {
     "name": "stdout",
     "output_type": "stream",
     "text": [
      "Finetuned score: 0.46153846153846156\n",
      "Original score: 0.38461538461538464\n"
     ]
    },
    {
     "name": "stderr",
     "output_type": "stream",
     "text": [
      "Python(92364) MallocStackLogging: can't turn off malloc stack logging because it was not enabled.\n",
      "Python(92365) MallocStackLogging: can't turn off malloc stack logging because it was not enabled.\n",
      "Processing MP3 files:  34%|███▎      | 137/408 [01:25<02:34,  1.75it/s]"
     ]
    },
    {
     "name": "stdout",
     "output_type": "stream",
     "text": [
      "Finetuned score: 0.5\n",
      "Original score: 0.5\n"
     ]
    },
    {
     "name": "stderr",
     "output_type": "stream",
     "text": [
      "Python(92366) MallocStackLogging: can't turn off malloc stack logging because it was not enabled.\n",
      "Python(92367) MallocStackLogging: can't turn off malloc stack logging because it was not enabled.\n",
      "Processing MP3 files:  34%|███▍      | 138/408 [01:26<02:19,  1.94it/s]"
     ]
    },
    {
     "name": "stdout",
     "output_type": "stream",
     "text": [
      "Finetuned score: 0.6\n",
      "Original score: 0.8\n"
     ]
    },
    {
     "name": "stderr",
     "output_type": "stream",
     "text": [
      "Python(92368) MallocStackLogging: can't turn off malloc stack logging because it was not enabled.\n",
      "Python(92369) MallocStackLogging: can't turn off malloc stack logging because it was not enabled.\n",
      "Processing MP3 files:  34%|███▍      | 139/408 [01:26<02:22,  1.89it/s]"
     ]
    },
    {
     "name": "stdout",
     "output_type": "stream",
     "text": [
      "Finetuned score: 0.0\n",
      "Original score: 0.08333333333333333\n"
     ]
    },
    {
     "name": "stderr",
     "output_type": "stream",
     "text": [
      "Python(92370) MallocStackLogging: can't turn off malloc stack logging because it was not enabled.\n",
      "Python(92371) MallocStackLogging: can't turn off malloc stack logging because it was not enabled.\n",
      "Processing MP3 files:  34%|███▍      | 140/408 [01:27<02:22,  1.89it/s]"
     ]
    },
    {
     "name": "stdout",
     "output_type": "stream",
     "text": [
      "Finetuned score: 0.0\n",
      "Original score: 0.3333333333333333\n"
     ]
    },
    {
     "name": "stderr",
     "output_type": "stream",
     "text": [
      "Python(92372) MallocStackLogging: can't turn off malloc stack logging because it was not enabled.\n",
      "Python(92373) MallocStackLogging: can't turn off malloc stack logging because it was not enabled.\n",
      "Processing MP3 files:  35%|███▍      | 141/408 [01:27<02:21,  1.88it/s]"
     ]
    },
    {
     "name": "stdout",
     "output_type": "stream",
     "text": [
      "Finetuned score: 0.0\n",
      "Original score: 0.0\n"
     ]
    },
    {
     "name": "stderr",
     "output_type": "stream",
     "text": [
      "Python(92374) MallocStackLogging: can't turn off malloc stack logging because it was not enabled.\n",
      "Python(92375) MallocStackLogging: can't turn off malloc stack logging because it was not enabled.\n",
      "Processing MP3 files:  35%|███▍      | 142/408 [01:28<02:18,  1.92it/s]"
     ]
    },
    {
     "name": "stdout",
     "output_type": "stream",
     "text": [
      "Finetuned score: 0.4\n",
      "Original score: 0.8\n"
     ]
    },
    {
     "name": "stderr",
     "output_type": "stream",
     "text": [
      "Python(92376) MallocStackLogging: can't turn off malloc stack logging because it was not enabled.\n",
      "Python(92377) MallocStackLogging: can't turn off malloc stack logging because it was not enabled.\n",
      "Processing MP3 files:  35%|███▌      | 143/408 [01:29<02:57,  1.49it/s]"
     ]
    },
    {
     "name": "stdout",
     "output_type": "stream",
     "text": [
      "Finetuned score: 0.5\n",
      "Original score: 0.875\n"
     ]
    },
    {
     "name": "stderr",
     "output_type": "stream",
     "text": [
      "Python(92378) MallocStackLogging: can't turn off malloc stack logging because it was not enabled.\n",
      "Python(92380) MallocStackLogging: can't turn off malloc stack logging because it was not enabled.\n",
      "Processing MP3 files:  35%|███▌      | 144/408 [01:30<03:28,  1.27it/s]"
     ]
    },
    {
     "name": "stdout",
     "output_type": "stream",
     "text": [
      "Finetuned score: 0.0\n",
      "Original score: 0.08333333333333333\n"
     ]
    },
    {
     "name": "stderr",
     "output_type": "stream",
     "text": [
      "Python(92381) MallocStackLogging: can't turn off malloc stack logging because it was not enabled.\n",
      "Python(92382) MallocStackLogging: can't turn off malloc stack logging because it was not enabled.\n",
      "Processing MP3 files:  36%|███▌      | 145/408 [01:31<03:13,  1.36it/s]"
     ]
    },
    {
     "name": "stdout",
     "output_type": "stream",
     "text": [
      "Finetuned score: 0.0\n",
      "Original score: 0.375\n"
     ]
    },
    {
     "name": "stderr",
     "output_type": "stream",
     "text": [
      "Python(92383) MallocStackLogging: can't turn off malloc stack logging because it was not enabled.\n",
      "Python(92384) MallocStackLogging: can't turn off malloc stack logging because it was not enabled.\n",
      "Processing MP3 files:  36%|███▌      | 146/408 [01:31<02:55,  1.49it/s]"
     ]
    },
    {
     "name": "stdout",
     "output_type": "stream",
     "text": [
      "Finetuned score: 0.1111111111111111\n",
      "Original score: 0.2222222222222222\n"
     ]
    },
    {
     "name": "stderr",
     "output_type": "stream",
     "text": [
      "Python(92386) MallocStackLogging: can't turn off malloc stack logging because it was not enabled.\n",
      "Python(92387) MallocStackLogging: can't turn off malloc stack logging because it was not enabled.\n",
      "Processing MP3 files:  36%|███▌      | 147/408 [01:32<02:43,  1.60it/s]"
     ]
    },
    {
     "name": "stdout",
     "output_type": "stream",
     "text": [
      "Finetuned score: 0.16666666666666666\n",
      "Original score: 0.6666666666666666\n"
     ]
    },
    {
     "name": "stderr",
     "output_type": "stream",
     "text": [
      "Python(92388) MallocStackLogging: can't turn off malloc stack logging because it was not enabled.\n",
      "Python(92389) MallocStackLogging: can't turn off malloc stack logging because it was not enabled.\n",
      "Processing MP3 files:  36%|███▋      | 148/408 [01:32<02:34,  1.68it/s]"
     ]
    },
    {
     "name": "stdout",
     "output_type": "stream",
     "text": [
      "Finetuned score: 0.0\n",
      "Original score: 0.0\n"
     ]
    },
    {
     "name": "stderr",
     "output_type": "stream",
     "text": [
      "Python(92390) MallocStackLogging: can't turn off malloc stack logging because it was not enabled.\n",
      "Python(92391) MallocStackLogging: can't turn off malloc stack logging because it was not enabled.\n",
      "Processing MP3 files:  37%|███▋      | 149/408 [01:33<02:34,  1.67it/s]"
     ]
    },
    {
     "name": "stdout",
     "output_type": "stream",
     "text": [
      "Finetuned score: 0.0\n",
      "Original score: 0.09090909090909091\n"
     ]
    },
    {
     "name": "stderr",
     "output_type": "stream",
     "text": [
      "Python(92395) MallocStackLogging: can't turn off malloc stack logging because it was not enabled.\n",
      "Python(92396) MallocStackLogging: can't turn off malloc stack logging because it was not enabled.\n",
      "Processing MP3 files:  37%|███▋      | 150/408 [01:33<02:34,  1.67it/s]"
     ]
    },
    {
     "name": "stdout",
     "output_type": "stream",
     "text": [
      "Finetuned score: 0.0\n",
      "Original score: 0.06666666666666667\n"
     ]
    },
    {
     "name": "stderr",
     "output_type": "stream",
     "text": [
      "Python(92397) MallocStackLogging: can't turn off malloc stack logging because it was not enabled.\n",
      "Python(92398) MallocStackLogging: can't turn off malloc stack logging because it was not enabled.\n",
      "Processing MP3 files:  37%|███▋      | 151/408 [01:34<02:23,  1.79it/s]"
     ]
    },
    {
     "name": "stdout",
     "output_type": "stream",
     "text": [
      "Finetuned score: 0.375\n",
      "Original score: 0.375\n"
     ]
    },
    {
     "name": "stderr",
     "output_type": "stream",
     "text": [
      "Python(92399) MallocStackLogging: can't turn off malloc stack logging because it was not enabled.\n",
      "Python(92400) MallocStackLogging: can't turn off malloc stack logging because it was not enabled.\n",
      "Processing MP3 files:  37%|███▋      | 152/408 [01:34<02:33,  1.67it/s]"
     ]
    },
    {
     "name": "stdout",
     "output_type": "stream",
     "text": [
      "Finetuned score: 0.0\n",
      "Original score: 0.0\n"
     ]
    },
    {
     "name": "stderr",
     "output_type": "stream",
     "text": [
      "Python(92401) MallocStackLogging: can't turn off malloc stack logging because it was not enabled.\n",
      "Python(92402) MallocStackLogging: can't turn off malloc stack logging because it was not enabled.\n",
      "Processing MP3 files:  38%|███▊      | 153/408 [01:35<02:30,  1.69it/s]"
     ]
    },
    {
     "name": "stdout",
     "output_type": "stream",
     "text": [
      "Finetuned score: 0.0\n",
      "Original score: 0.0\n"
     ]
    },
    {
     "name": "stderr",
     "output_type": "stream",
     "text": [
      "Python(92403) MallocStackLogging: can't turn off malloc stack logging because it was not enabled.\n",
      "Python(92404) MallocStackLogging: can't turn off malloc stack logging because it was not enabled.\n",
      "Processing MP3 files:  38%|███▊      | 154/408 [01:36<02:25,  1.75it/s]"
     ]
    },
    {
     "name": "stdout",
     "output_type": "stream",
     "text": [
      "Finetuned score: 0.375\n",
      "Original score: 0.5\n"
     ]
    },
    {
     "name": "stderr",
     "output_type": "stream",
     "text": [
      "Python(92405) MallocStackLogging: can't turn off malloc stack logging because it was not enabled.\n",
      "Python(92406) MallocStackLogging: can't turn off malloc stack logging because it was not enabled.\n",
      "Processing MP3 files:  38%|███▊      | 155/408 [01:36<02:25,  1.74it/s]"
     ]
    },
    {
     "name": "stdout",
     "output_type": "stream",
     "text": [
      "Finetuned score: 0.125\n",
      "Original score: 0.25\n"
     ]
    },
    {
     "name": "stderr",
     "output_type": "stream",
     "text": [
      "Python(92407) MallocStackLogging: can't turn off malloc stack logging because it was not enabled.\n",
      "Python(92408) MallocStackLogging: can't turn off malloc stack logging because it was not enabled.\n",
      "Processing MP3 files:  38%|███▊      | 156/408 [01:37<02:22,  1.76it/s]"
     ]
    },
    {
     "name": "stdout",
     "output_type": "stream",
     "text": [
      "Finetuned score: 0.2\n",
      "Original score: 0.5\n"
     ]
    },
    {
     "name": "stderr",
     "output_type": "stream",
     "text": [
      "Python(92409) MallocStackLogging: can't turn off malloc stack logging because it was not enabled.\n",
      "Python(92410) MallocStackLogging: can't turn off malloc stack logging because it was not enabled.\n",
      "Processing MP3 files:  38%|███▊      | 157/408 [01:37<02:25,  1.73it/s]"
     ]
    },
    {
     "name": "stdout",
     "output_type": "stream",
     "text": [
      "Finetuned score: 0.5833333333333334\n",
      "Original score: 0.8333333333333334\n"
     ]
    },
    {
     "name": "stderr",
     "output_type": "stream",
     "text": [
      "Python(92411) MallocStackLogging: can't turn off malloc stack logging because it was not enabled.\n",
      "Python(92412) MallocStackLogging: can't turn off malloc stack logging because it was not enabled.\n",
      "Processing MP3 files:  39%|███▊      | 158/408 [01:38<02:26,  1.70it/s]"
     ]
    },
    {
     "name": "stdout",
     "output_type": "stream",
     "text": [
      "Finetuned score: 0.7142857142857143\n",
      "Original score: 0.8571428571428571\n"
     ]
    },
    {
     "name": "stderr",
     "output_type": "stream",
     "text": [
      "Python(92413) MallocStackLogging: can't turn off malloc stack logging because it was not enabled.\n",
      "Python(92414) MallocStackLogging: can't turn off malloc stack logging because it was not enabled.\n",
      "Processing MP3 files:  39%|███▉      | 159/408 [01:39<02:40,  1.55it/s]"
     ]
    },
    {
     "name": "stdout",
     "output_type": "stream",
     "text": [
      "Finetuned score: 0.42857142857142855\n",
      "Original score: 0.7142857142857143\n"
     ]
    },
    {
     "name": "stderr",
     "output_type": "stream",
     "text": [
      "Python(92415) MallocStackLogging: can't turn off malloc stack logging because it was not enabled.\n",
      "Python(92416) MallocStackLogging: can't turn off malloc stack logging because it was not enabled.\n",
      "Processing MP3 files:  39%|███▉      | 160/408 [01:39<02:29,  1.66it/s]"
     ]
    },
    {
     "name": "stdout",
     "output_type": "stream",
     "text": [
      "Finetuned score: 0.8\n",
      "Original score: 0.8\n"
     ]
    },
    {
     "name": "stderr",
     "output_type": "stream",
     "text": [
      "Python(92420) MallocStackLogging: can't turn off malloc stack logging because it was not enabled.\n",
      "Python(92421) MallocStackLogging: can't turn off malloc stack logging because it was not enabled.\n",
      "Processing MP3 files:  39%|███▉      | 161/408 [01:40<02:27,  1.67it/s]"
     ]
    },
    {
     "name": "stdout",
     "output_type": "stream",
     "text": [
      "Finetuned score: 0.07142857142857142\n",
      "Original score: 0.21428571428571427\n"
     ]
    },
    {
     "name": "stderr",
     "output_type": "stream",
     "text": [
      "Python(92422) MallocStackLogging: can't turn off malloc stack logging because it was not enabled.\n",
      "Python(92423) MallocStackLogging: can't turn off malloc stack logging because it was not enabled.\n",
      "Processing MP3 files:  40%|███▉      | 162/408 [01:41<02:36,  1.57it/s]"
     ]
    },
    {
     "name": "stdout",
     "output_type": "stream",
     "text": [
      "Finetuned score: 0.5\n",
      "Original score: 0.6428571428571429\n"
     ]
    },
    {
     "name": "stderr",
     "output_type": "stream",
     "text": [
      "Python(92424) MallocStackLogging: can't turn off malloc stack logging because it was not enabled.\n",
      "Python(92425) MallocStackLogging: can't turn off malloc stack logging because it was not enabled.\n",
      "Processing MP3 files:  40%|███▉      | 163/408 [01:41<02:29,  1.63it/s]"
     ]
    },
    {
     "name": "stdout",
     "output_type": "stream",
     "text": [
      "Finetuned score: 0.42857142857142855\n",
      "Original score: 0.5714285714285714\n"
     ]
    },
    {
     "name": "stderr",
     "output_type": "stream",
     "text": [
      "Python(92426) MallocStackLogging: can't turn off malloc stack logging because it was not enabled.\n",
      "Python(92427) MallocStackLogging: can't turn off malloc stack logging because it was not enabled.\n",
      "Processing MP3 files:  40%|████      | 164/408 [01:42<02:25,  1.68it/s]"
     ]
    },
    {
     "name": "stdout",
     "output_type": "stream",
     "text": [
      "Finetuned score: 0.0\n",
      "Original score: 0.3333333333333333\n"
     ]
    },
    {
     "name": "stderr",
     "output_type": "stream",
     "text": [
      "Python(92428) MallocStackLogging: can't turn off malloc stack logging because it was not enabled.\n",
      "Python(92429) MallocStackLogging: can't turn off malloc stack logging because it was not enabled.\n",
      "Processing MP3 files:  40%|████      | 165/408 [01:42<02:33,  1.59it/s]"
     ]
    },
    {
     "name": "stdout",
     "output_type": "stream",
     "text": [
      "Finetuned score: 0.375\n",
      "Original score: 0.375\n"
     ]
    },
    {
     "name": "stderr",
     "output_type": "stream",
     "text": [
      "Python(92430) MallocStackLogging: can't turn off malloc stack logging because it was not enabled.\n",
      "Python(92431) MallocStackLogging: can't turn off malloc stack logging because it was not enabled.\n",
      "Processing MP3 files:  41%|████      | 166/408 [01:43<02:52,  1.41it/s]"
     ]
    },
    {
     "name": "stdout",
     "output_type": "stream",
     "text": [
      "Finetuned score: 0.15384615384615385\n",
      "Original score: 0.23076923076923078\n"
     ]
    },
    {
     "name": "stderr",
     "output_type": "stream",
     "text": [
      "Python(92432) MallocStackLogging: can't turn off malloc stack logging because it was not enabled.\n",
      "Python(92433) MallocStackLogging: can't turn off malloc stack logging because it was not enabled.\n",
      "Processing MP3 files:  41%|████      | 167/408 [01:44<02:46,  1.45it/s]"
     ]
    },
    {
     "name": "stdout",
     "output_type": "stream",
     "text": [
      "Finetuned score: 0.0625\n",
      "Original score: 0.0625\n"
     ]
    },
    {
     "name": "stderr",
     "output_type": "stream",
     "text": [
      "Python(92434) MallocStackLogging: can't turn off malloc stack logging because it was not enabled.\n",
      "Python(92435) MallocStackLogging: can't turn off malloc stack logging because it was not enabled.\n",
      "Processing MP3 files:  41%|████      | 168/408 [01:44<02:39,  1.51it/s]"
     ]
    },
    {
     "name": "stdout",
     "output_type": "stream",
     "text": [
      "Finetuned score: 0.1111111111111111\n",
      "Original score: 0.3333333333333333\n"
     ]
    },
    {
     "name": "stderr",
     "output_type": "stream",
     "text": [
      "Python(92437) MallocStackLogging: can't turn off malloc stack logging because it was not enabled.\n",
      "Python(92438) MallocStackLogging: can't turn off malloc stack logging because it was not enabled.\n",
      "Processing MP3 files:  41%|████▏     | 169/408 [01:45<02:34,  1.55it/s]"
     ]
    },
    {
     "name": "stdout",
     "output_type": "stream",
     "text": [
      "Finetuned score: 0.14285714285714285\n",
      "Original score: 0.0\n"
     ]
    },
    {
     "name": "stderr",
     "output_type": "stream",
     "text": [
      "Python(92439) MallocStackLogging: can't turn off malloc stack logging because it was not enabled.\n",
      "Python(92440) MallocStackLogging: can't turn off malloc stack logging because it was not enabled.\n",
      "Processing MP3 files:  42%|████▏     | 170/408 [01:46<02:24,  1.64it/s]"
     ]
    },
    {
     "name": "stdout",
     "output_type": "stream",
     "text": [
      "Finetuned score: 0.0\n",
      "Original score: 0.1\n"
     ]
    },
    {
     "name": "stderr",
     "output_type": "stream",
     "text": [
      "Python(92441) MallocStackLogging: can't turn off malloc stack logging because it was not enabled.\n",
      "Python(92442) MallocStackLogging: can't turn off malloc stack logging because it was not enabled.\n",
      "Processing MP3 files:  42%|████▏     | 171/408 [01:46<02:13,  1.78it/s]"
     ]
    },
    {
     "name": "stdout",
     "output_type": "stream",
     "text": [
      "Finetuned score: 0.2857142857142857\n",
      "Original score: 0.42857142857142855\n"
     ]
    },
    {
     "name": "stderr",
     "output_type": "stream",
     "text": [
      "Python(92443) MallocStackLogging: can't turn off malloc stack logging because it was not enabled.\n",
      "Python(92444) MallocStackLogging: can't turn off malloc stack logging because it was not enabled.\n",
      "Processing MP3 files:  42%|████▏     | 172/408 [01:47<02:07,  1.84it/s]"
     ]
    },
    {
     "name": "stdout",
     "output_type": "stream",
     "text": [
      "Finetuned score: 0.5\n",
      "Original score: 0.3333333333333333\n"
     ]
    },
    {
     "name": "stderr",
     "output_type": "stream",
     "text": [
      "Python(92445) MallocStackLogging: can't turn off malloc stack logging because it was not enabled.\n",
      "Python(92446) MallocStackLogging: can't turn off malloc stack logging because it was not enabled.\n",
      "Processing MP3 files:  42%|████▏     | 173/408 [01:47<02:06,  1.85it/s]"
     ]
    },
    {
     "name": "stdout",
     "output_type": "stream",
     "text": [
      "Finetuned score: 0.0\n",
      "Original score: 0.1\n"
     ]
    },
    {
     "name": "stderr",
     "output_type": "stream",
     "text": [
      "Python(92447) MallocStackLogging: can't turn off malloc stack logging because it was not enabled.\n",
      "Python(92448) MallocStackLogging: can't turn off malloc stack logging because it was not enabled.\n",
      "Processing MP3 files:  43%|████▎     | 174/408 [01:48<02:06,  1.84it/s]"
     ]
    },
    {
     "name": "stdout",
     "output_type": "stream",
     "text": [
      "Finetuned score: 0.25\n",
      "Original score: 0.25\n"
     ]
    },
    {
     "name": "stderr",
     "output_type": "stream",
     "text": [
      "Python(92449) MallocStackLogging: can't turn off malloc stack logging because it was not enabled.\n",
      "Python(92450) MallocStackLogging: can't turn off malloc stack logging because it was not enabled.\n",
      "Processing MP3 files:  43%|████▎     | 175/408 [01:48<02:07,  1.82it/s]"
     ]
    },
    {
     "name": "stdout",
     "output_type": "stream",
     "text": [
      "Finetuned score: 0.0\n",
      "Original score: 0.45454545454545453\n"
     ]
    },
    {
     "name": "stderr",
     "output_type": "stream",
     "text": [
      "Python(92451) MallocStackLogging: can't turn off malloc stack logging because it was not enabled.\n",
      "Python(92452) MallocStackLogging: can't turn off malloc stack logging because it was not enabled.\n",
      "Processing MP3 files:  43%|████▎     | 176/408 [01:49<02:09,  1.80it/s]"
     ]
    },
    {
     "name": "stdout",
     "output_type": "stream",
     "text": [
      "Finetuned score: 0.0\n",
      "Original score: 0.0\n"
     ]
    },
    {
     "name": "stderr",
     "output_type": "stream",
     "text": [
      "Python(92453) MallocStackLogging: can't turn off malloc stack logging because it was not enabled.\n",
      "Python(92454) MallocStackLogging: can't turn off malloc stack logging because it was not enabled.\n",
      "Processing MP3 files:  43%|████▎     | 177/408 [01:49<02:12,  1.74it/s]"
     ]
    },
    {
     "name": "stdout",
     "output_type": "stream",
     "text": [
      "Finetuned score: 0.09090909090909091\n",
      "Original score: 0.45454545454545453\n"
     ]
    },
    {
     "name": "stderr",
     "output_type": "stream",
     "text": [
      "Python(92455) MallocStackLogging: can't turn off malloc stack logging because it was not enabled.\n",
      "Python(92456) MallocStackLogging: can't turn off malloc stack logging because it was not enabled.\n",
      "Processing MP3 files:  44%|████▎     | 178/408 [01:50<02:18,  1.66it/s]"
     ]
    },
    {
     "name": "stdout",
     "output_type": "stream",
     "text": [
      "Finetuned score: 0.07692307692307693\n",
      "Original score: 0.15384615384615385\n"
     ]
    },
    {
     "name": "stderr",
     "output_type": "stream",
     "text": [
      "Python(92457) MallocStackLogging: can't turn off malloc stack logging because it was not enabled.\n",
      "Python(92458) MallocStackLogging: can't turn off malloc stack logging because it was not enabled.\n",
      "Processing MP3 files:  44%|████▍     | 179/408 [01:51<02:24,  1.59it/s]"
     ]
    },
    {
     "name": "stdout",
     "output_type": "stream",
     "text": [
      "Finetuned score: 0.1\n",
      "Original score: 0.2\n"
     ]
    },
    {
     "name": "stderr",
     "output_type": "stream",
     "text": [
      "Python(92459) MallocStackLogging: can't turn off malloc stack logging because it was not enabled.\n",
      "Python(92460) MallocStackLogging: can't turn off malloc stack logging because it was not enabled.\n",
      "Processing MP3 files:  44%|████▍     | 180/408 [01:51<02:25,  1.56it/s]"
     ]
    },
    {
     "name": "stdout",
     "output_type": "stream",
     "text": [
      "Finetuned score: 0.2\n",
      "Original score: 0.2\n"
     ]
    },
    {
     "name": "stderr",
     "output_type": "stream",
     "text": [
      "Python(92461) MallocStackLogging: can't turn off malloc stack logging because it was not enabled.\n",
      "Python(92462) MallocStackLogging: can't turn off malloc stack logging because it was not enabled.\n",
      "Processing MP3 files:  44%|████▍     | 181/408 [01:52<02:14,  1.69it/s]"
     ]
    },
    {
     "name": "stdout",
     "output_type": "stream",
     "text": [
      "Finetuned score: 0.2\n",
      "Original score: 0.2\n"
     ]
    },
    {
     "name": "stderr",
     "output_type": "stream",
     "text": [
      "Python(92463) MallocStackLogging: can't turn off malloc stack logging because it was not enabled.\n",
      "Python(92464) MallocStackLogging: can't turn off malloc stack logging because it was not enabled.\n",
      "Processing MP3 files:  45%|████▍     | 182/408 [01:52<02:07,  1.78it/s]"
     ]
    },
    {
     "name": "stdout",
     "output_type": "stream",
     "text": [
      "Finetuned score: 0.0\n",
      "Original score: 0.125\n"
     ]
    },
    {
     "name": "stderr",
     "output_type": "stream",
     "text": [
      "Python(92467) MallocStackLogging: can't turn off malloc stack logging because it was not enabled.\n",
      "Python(92468) MallocStackLogging: can't turn off malloc stack logging because it was not enabled.\n",
      "Processing MP3 files:  45%|████▍     | 183/408 [01:53<01:56,  1.93it/s]"
     ]
    },
    {
     "name": "stdout",
     "output_type": "stream",
     "text": [
      "Finetuned score: 0.6666666666666666\n",
      "Original score: 1.0\n"
     ]
    },
    {
     "name": "stderr",
     "output_type": "stream",
     "text": [
      "Python(92469) MallocStackLogging: can't turn off malloc stack logging because it was not enabled.\n",
      "Python(92470) MallocStackLogging: can't turn off malloc stack logging because it was not enabled.\n",
      "Processing MP3 files:  45%|████▌     | 184/408 [01:53<02:02,  1.83it/s]"
     ]
    },
    {
     "name": "stdout",
     "output_type": "stream",
     "text": [
      "Finetuned score: 0.4\n",
      "Original score: 0.5\n"
     ]
    },
    {
     "name": "stderr",
     "output_type": "stream",
     "text": [
      "Python(92471) MallocStackLogging: can't turn off malloc stack logging because it was not enabled.\n",
      "Python(92472) MallocStackLogging: can't turn off malloc stack logging because it was not enabled.\n",
      "Processing MP3 files:  45%|████▌     | 185/408 [01:54<02:02,  1.81it/s]"
     ]
    },
    {
     "name": "stdout",
     "output_type": "stream",
     "text": [
      "Finetuned score: 0.0\n",
      "Original score: 0.0\n"
     ]
    },
    {
     "name": "stderr",
     "output_type": "stream",
     "text": [
      "Python(92473) MallocStackLogging: can't turn off malloc stack logging because it was not enabled.\n",
      "Python(92474) MallocStackLogging: can't turn off malloc stack logging because it was not enabled.\n",
      "Processing MP3 files:  46%|████▌     | 186/408 [01:55<02:23,  1.55it/s]"
     ]
    },
    {
     "name": "stdout",
     "output_type": "stream",
     "text": [
      "Finetuned score: 0.07692307692307693\n",
      "Original score: 0.15384615384615385\n"
     ]
    },
    {
     "name": "stderr",
     "output_type": "stream",
     "text": [
      "Python(92475) MallocStackLogging: can't turn off malloc stack logging because it was not enabled.\n",
      "Python(92476) MallocStackLogging: can't turn off malloc stack logging because it was not enabled.\n",
      "Processing MP3 files:  46%|████▌     | 187/408 [01:56<02:26,  1.51it/s]"
     ]
    },
    {
     "name": "stdout",
     "output_type": "stream",
     "text": [
      "Finetuned score: 0.07142857142857142\n",
      "Original score: 0.5\n"
     ]
    },
    {
     "name": "stderr",
     "output_type": "stream",
     "text": [
      "Python(92477) MallocStackLogging: can't turn off malloc stack logging because it was not enabled.\n",
      "Python(92478) MallocStackLogging: can't turn off malloc stack logging because it was not enabled.\n",
      "Processing MP3 files:  46%|████▌     | 188/408 [01:56<02:14,  1.63it/s]"
     ]
    },
    {
     "name": "stdout",
     "output_type": "stream",
     "text": [
      "Finetuned score: 0.0\n",
      "Original score: 0.16666666666666666\n"
     ]
    },
    {
     "name": "stderr",
     "output_type": "stream",
     "text": [
      "Python(92479) MallocStackLogging: can't turn off malloc stack logging because it was not enabled.\n",
      "Python(92480) MallocStackLogging: can't turn off malloc stack logging because it was not enabled.\n",
      "Processing MP3 files:  46%|████▋     | 189/408 [01:57<02:06,  1.74it/s]"
     ]
    },
    {
     "name": "stdout",
     "output_type": "stream",
     "text": [
      "Finetuned score: 0.5\n",
      "Original score: 0.5\n"
     ]
    },
    {
     "name": "stderr",
     "output_type": "stream",
     "text": [
      "Python(92481) MallocStackLogging: can't turn off malloc stack logging because it was not enabled.\n",
      "Python(92482) MallocStackLogging: can't turn off malloc stack logging because it was not enabled.\n",
      "Processing MP3 files:  47%|████▋     | 190/408 [01:57<02:25,  1.50it/s]"
     ]
    },
    {
     "name": "stdout",
     "output_type": "stream",
     "text": [
      "Finetuned score: 0.15384615384615385\n",
      "Original score: 0.3076923076923077\n"
     ]
    },
    {
     "name": "stderr",
     "output_type": "stream",
     "text": [
      "Python(92483) MallocStackLogging: can't turn off malloc stack logging because it was not enabled.\n",
      "Python(92484) MallocStackLogging: can't turn off malloc stack logging because it was not enabled.\n",
      "Processing MP3 files:  47%|████▋     | 191/408 [01:58<02:26,  1.48it/s]"
     ]
    },
    {
     "name": "stdout",
     "output_type": "stream",
     "text": [
      "Finetuned score: 0.1111111111111111\n",
      "Original score: 0.7777777777777778\n"
     ]
    },
    {
     "name": "stderr",
     "output_type": "stream",
     "text": [
      "Python(92485) MallocStackLogging: can't turn off malloc stack logging because it was not enabled.\n",
      "Python(92486) MallocStackLogging: can't turn off malloc stack logging because it was not enabled.\n",
      "Processing MP3 files:  47%|████▋     | 192/408 [01:59<02:14,  1.61it/s]"
     ]
    },
    {
     "name": "stdout",
     "output_type": "stream",
     "text": [
      "Finetuned score: 0.125\n",
      "Original score: 0.125\n"
     ]
    },
    {
     "name": "stderr",
     "output_type": "stream",
     "text": [
      "Python(92487) MallocStackLogging: can't turn off malloc stack logging because it was not enabled.\n",
      "Python(92488) MallocStackLogging: can't turn off malloc stack logging because it was not enabled.\n",
      "Processing MP3 files:  47%|████▋     | 193/408 [01:59<02:11,  1.63it/s]"
     ]
    },
    {
     "name": "stdout",
     "output_type": "stream",
     "text": [
      "Finetuned score: 0.16666666666666666\n",
      "Original score: 0.16666666666666666\n"
     ]
    },
    {
     "name": "stderr",
     "output_type": "stream",
     "text": [
      "Python(92489) MallocStackLogging: can't turn off malloc stack logging because it was not enabled.\n",
      "Python(92490) MallocStackLogging: can't turn off malloc stack logging because it was not enabled.\n",
      "Processing MP3 files:  48%|████▊     | 194/408 [02:00<02:04,  1.72it/s]"
     ]
    },
    {
     "name": "stdout",
     "output_type": "stream",
     "text": [
      "Finetuned score: 0.0\n",
      "Original score: 0.125\n"
     ]
    },
    {
     "name": "stderr",
     "output_type": "stream",
     "text": [
      "Python(92491) MallocStackLogging: can't turn off malloc stack logging because it was not enabled.\n",
      "Python(92492) MallocStackLogging: can't turn off malloc stack logging because it was not enabled.\n",
      "Processing MP3 files:  48%|████▊     | 195/408 [02:00<01:56,  1.82it/s]"
     ]
    },
    {
     "name": "stdout",
     "output_type": "stream",
     "text": [
      "Finetuned score: 0.0\n",
      "Original score: 0.0\n"
     ]
    },
    {
     "name": "stderr",
     "output_type": "stream",
     "text": [
      "Python(92493) MallocStackLogging: can't turn off malloc stack logging because it was not enabled.\n",
      "Python(92494) MallocStackLogging: can't turn off malloc stack logging because it was not enabled.\n",
      "Processing MP3 files:  48%|████▊     | 196/408 [02:01<01:55,  1.84it/s]"
     ]
    },
    {
     "name": "stdout",
     "output_type": "stream",
     "text": [
      "Finetuned score: 0.14285714285714285\n",
      "Original score: 0.2857142857142857\n"
     ]
    },
    {
     "name": "stderr",
     "output_type": "stream",
     "text": [
      "Python(92495) MallocStackLogging: can't turn off malloc stack logging because it was not enabled.\n",
      "Python(92496) MallocStackLogging: can't turn off malloc stack logging because it was not enabled.\n",
      "Processing MP3 files:  48%|████▊     | 197/408 [02:01<01:54,  1.84it/s]"
     ]
    },
    {
     "name": "stdout",
     "output_type": "stream",
     "text": [
      "Finetuned score: 0.16666666666666666\n",
      "Original score: 0.5\n"
     ]
    },
    {
     "name": "stderr",
     "output_type": "stream",
     "text": [
      "Python(92497) MallocStackLogging: can't turn off malloc stack logging because it was not enabled.\n",
      "Python(92498) MallocStackLogging: can't turn off malloc stack logging because it was not enabled.\n",
      "Processing MP3 files:  49%|████▊     | 198/408 [02:02<01:51,  1.88it/s]"
     ]
    },
    {
     "name": "stdout",
     "output_type": "stream",
     "text": [
      "Finetuned score: 0.0\n",
      "Original score: 0.0\n"
     ]
    },
    {
     "name": "stderr",
     "output_type": "stream",
     "text": [
      "Python(92499) MallocStackLogging: can't turn off malloc stack logging because it was not enabled.\n",
      "Python(92500) MallocStackLogging: can't turn off malloc stack logging because it was not enabled.\n",
      "Processing MP3 files:  49%|████▉     | 199/408 [02:02<01:49,  1.91it/s]"
     ]
    },
    {
     "name": "stdout",
     "output_type": "stream",
     "text": [
      "Finetuned score: 0.3333333333333333\n",
      "Original score: 0.3333333333333333\n"
     ]
    },
    {
     "name": "stderr",
     "output_type": "stream",
     "text": [
      "Python(92501) MallocStackLogging: can't turn off malloc stack logging because it was not enabled.\n",
      "Python(92502) MallocStackLogging: can't turn off malloc stack logging because it was not enabled.\n",
      "Processing MP3 files:  49%|████▉     | 200/408 [02:03<01:52,  1.86it/s]"
     ]
    },
    {
     "name": "stdout",
     "output_type": "stream",
     "text": [
      "Finetuned score: 0.6666666666666666\n",
      "Original score: 0.6666666666666666\n"
     ]
    },
    {
     "name": "stderr",
     "output_type": "stream",
     "text": [
      "Python(92503) MallocStackLogging: can't turn off malloc stack logging because it was not enabled.\n",
      "Python(92504) MallocStackLogging: can't turn off malloc stack logging because it was not enabled.\n",
      "Processing MP3 files:  49%|████▉     | 201/408 [02:03<01:58,  1.75it/s]"
     ]
    },
    {
     "name": "stdout",
     "output_type": "stream",
     "text": [
      "Finetuned score: 0.0\n",
      "Original score: 0.14285714285714285\n"
     ]
    },
    {
     "name": "stderr",
     "output_type": "stream",
     "text": [
      "Python(92505) MallocStackLogging: can't turn off malloc stack logging because it was not enabled.\n",
      "Python(92506) MallocStackLogging: can't turn off malloc stack logging because it was not enabled.\n",
      "Processing MP3 files:  50%|████▉     | 202/408 [02:04<02:01,  1.70it/s]"
     ]
    },
    {
     "name": "stdout",
     "output_type": "stream",
     "text": [
      "Finetuned score: 0.13333333333333333\n",
      "Original score: 0.3333333333333333\n"
     ]
    },
    {
     "name": "stderr",
     "output_type": "stream",
     "text": [
      "Python(92507) MallocStackLogging: can't turn off malloc stack logging because it was not enabled.\n",
      "Python(92508) MallocStackLogging: can't turn off malloc stack logging because it was not enabled.\n",
      "Processing MP3 files:  50%|████▉     | 203/408 [02:05<02:00,  1.70it/s]"
     ]
    },
    {
     "name": "stdout",
     "output_type": "stream",
     "text": [
      "Finetuned score: 0.21428571428571427\n",
      "Original score: 0.2857142857142857\n"
     ]
    },
    {
     "name": "stderr",
     "output_type": "stream",
     "text": [
      "Python(92509) MallocStackLogging: can't turn off malloc stack logging because it was not enabled.\n",
      "Python(92510) MallocStackLogging: can't turn off malloc stack logging because it was not enabled.\n",
      "Processing MP3 files:  50%|█████     | 204/408 [02:05<01:56,  1.75it/s]"
     ]
    },
    {
     "name": "stdout",
     "output_type": "stream",
     "text": [
      "Finetuned score: 1.25\n",
      "Original score: 1.25\n"
     ]
    },
    {
     "name": "stderr",
     "output_type": "stream",
     "text": [
      "Python(92511) MallocStackLogging: can't turn off malloc stack logging because it was not enabled.\n",
      "Python(92512) MallocStackLogging: can't turn off malloc stack logging because it was not enabled.\n",
      "Processing MP3 files:  50%|█████     | 205/408 [02:06<01:50,  1.84it/s]"
     ]
    },
    {
     "name": "stdout",
     "output_type": "stream",
     "text": [
      "Finetuned score: 0.0\n",
      "Original score: 0.25\n"
     ]
    },
    {
     "name": "stderr",
     "output_type": "stream",
     "text": [
      "Python(92513) MallocStackLogging: can't turn off malloc stack logging because it was not enabled.\n",
      "Python(92514) MallocStackLogging: can't turn off malloc stack logging because it was not enabled.\n",
      "Processing MP3 files:  50%|█████     | 206/408 [02:06<01:47,  1.89it/s]"
     ]
    },
    {
     "name": "stdout",
     "output_type": "stream",
     "text": [
      "Finetuned score: 0.0\n",
      "Original score: 0.16666666666666666\n"
     ]
    },
    {
     "name": "stderr",
     "output_type": "stream",
     "text": [
      "Python(92515) MallocStackLogging: can't turn off malloc stack logging because it was not enabled.\n",
      "Python(92516) MallocStackLogging: can't turn off malloc stack logging because it was not enabled.\n",
      "Processing MP3 files:  51%|█████     | 207/408 [02:07<01:42,  1.96it/s]"
     ]
    },
    {
     "name": "stdout",
     "output_type": "stream",
     "text": [
      "Finetuned score: 0.16666666666666666\n",
      "Original score: 0.5\n"
     ]
    },
    {
     "name": "stderr",
     "output_type": "stream",
     "text": [
      "Python(92517) MallocStackLogging: can't turn off malloc stack logging because it was not enabled.\n",
      "Python(92518) MallocStackLogging: can't turn off malloc stack logging because it was not enabled.\n",
      "Processing MP3 files:  51%|█████     | 208/408 [02:07<01:53,  1.77it/s]"
     ]
    },
    {
     "name": "stdout",
     "output_type": "stream",
     "text": [
      "Finetuned score: 0.0\n",
      "Original score: 0.07692307692307693\n"
     ]
    },
    {
     "name": "stderr",
     "output_type": "stream",
     "text": [
      "Python(92519) MallocStackLogging: can't turn off malloc stack logging because it was not enabled.\n",
      "Python(92520) MallocStackLogging: can't turn off malloc stack logging because it was not enabled.\n",
      "Processing MP3 files:  51%|█████     | 209/408 [02:08<01:54,  1.74it/s]"
     ]
    },
    {
     "name": "stdout",
     "output_type": "stream",
     "text": [
      "Finetuned score: 0.0\n",
      "Original score: 0.0\n"
     ]
    },
    {
     "name": "stderr",
     "output_type": "stream",
     "text": [
      "Python(92521) MallocStackLogging: can't turn off malloc stack logging because it was not enabled.\n",
      "Python(92522) MallocStackLogging: can't turn off malloc stack logging because it was not enabled.\n",
      "Processing MP3 files:  51%|█████▏    | 210/408 [02:08<01:50,  1.78it/s]"
     ]
    },
    {
     "name": "stdout",
     "output_type": "stream",
     "text": [
      "Finetuned score: 0.14285714285714285\n",
      "Original score: 0.14285714285714285\n"
     ]
    },
    {
     "name": "stderr",
     "output_type": "stream",
     "text": [
      "Python(92523) MallocStackLogging: can't turn off malloc stack logging because it was not enabled.\n",
      "Python(92524) MallocStackLogging: can't turn off malloc stack logging because it was not enabled.\n",
      "Processing MP3 files:  52%|█████▏    | 211/408 [02:09<01:46,  1.85it/s]"
     ]
    },
    {
     "name": "stdout",
     "output_type": "stream",
     "text": [
      "Finetuned score: 0.0\n",
      "Original score: 0.0\n"
     ]
    },
    {
     "name": "stderr",
     "output_type": "stream",
     "text": [
      "Python(92525) MallocStackLogging: can't turn off malloc stack logging because it was not enabled.\n",
      "Python(92526) MallocStackLogging: can't turn off malloc stack logging because it was not enabled.\n",
      "Processing MP3 files:  52%|█████▏    | 212/408 [02:10<01:47,  1.82it/s]"
     ]
    },
    {
     "name": "stdout",
     "output_type": "stream",
     "text": [
      "Finetuned score: 0.0\n",
      "Original score: 0.0\n"
     ]
    },
    {
     "name": "stderr",
     "output_type": "stream",
     "text": [
      "Python(92527) MallocStackLogging: can't turn off malloc stack logging because it was not enabled.\n",
      "Python(92528) MallocStackLogging: can't turn off malloc stack logging because it was not enabled.\n",
      "Processing MP3 files:  52%|█████▏    | 213/408 [02:10<01:51,  1.74it/s]"
     ]
    },
    {
     "name": "stdout",
     "output_type": "stream",
     "text": [
      "Finetuned score: 0.0625\n",
      "Original score: 0.1875\n"
     ]
    },
    {
     "name": "stderr",
     "output_type": "stream",
     "text": [
      "Python(92529) MallocStackLogging: can't turn off malloc stack logging because it was not enabled.\n",
      "Python(92530) MallocStackLogging: can't turn off malloc stack logging because it was not enabled.\n",
      "Processing MP3 files:  52%|█████▏    | 214/408 [02:11<01:54,  1.69it/s]"
     ]
    },
    {
     "name": "stdout",
     "output_type": "stream",
     "text": [
      "Finetuned score: 0.0\n",
      "Original score: 0.18181818181818182\n"
     ]
    },
    {
     "name": "stderr",
     "output_type": "stream",
     "text": [
      "Python(92532) MallocStackLogging: can't turn off malloc stack logging because it was not enabled.\n",
      "Python(92533) MallocStackLogging: can't turn off malloc stack logging because it was not enabled.\n",
      "Processing MP3 files:  53%|█████▎    | 215/408 [02:11<01:53,  1.70it/s]"
     ]
    },
    {
     "name": "stdout",
     "output_type": "stream",
     "text": [
      "Finetuned score: 0.2222222222222222\n",
      "Original score: 0.6666666666666666\n"
     ]
    },
    {
     "name": "stderr",
     "output_type": "stream",
     "text": [
      "Python(92534) MallocStackLogging: can't turn off malloc stack logging because it was not enabled.\n",
      "Python(92535) MallocStackLogging: can't turn off malloc stack logging because it was not enabled.\n",
      "Processing MP3 files:  53%|█████▎    | 216/408 [02:12<01:54,  1.68it/s]"
     ]
    },
    {
     "name": "stdout",
     "output_type": "stream",
     "text": [
      "Finetuned score: 0.14285714285714285\n",
      "Original score: 0.35714285714285715\n"
     ]
    },
    {
     "name": "stderr",
     "output_type": "stream",
     "text": [
      "Python(92536) MallocStackLogging: can't turn off malloc stack logging because it was not enabled.\n",
      "Python(92537) MallocStackLogging: can't turn off malloc stack logging because it was not enabled.\n",
      "Processing MP3 files:  53%|█████▎    | 217/408 [02:13<01:48,  1.75it/s]"
     ]
    },
    {
     "name": "stdout",
     "output_type": "stream",
     "text": [
      "Finetuned score: 0.2\n",
      "Original score: 0.2\n"
     ]
    },
    {
     "name": "stderr",
     "output_type": "stream",
     "text": [
      "Python(92538) MallocStackLogging: can't turn off malloc stack logging because it was not enabled.\n",
      "Python(92539) MallocStackLogging: can't turn off malloc stack logging because it was not enabled.\n",
      "Processing MP3 files:  53%|█████▎    | 218/408 [02:13<01:51,  1.71it/s]"
     ]
    },
    {
     "name": "stdout",
     "output_type": "stream",
     "text": [
      "Finetuned score: 0.3\n",
      "Original score: 0.5\n"
     ]
    },
    {
     "name": "stderr",
     "output_type": "stream",
     "text": [
      "Python(92540) MallocStackLogging: can't turn off malloc stack logging because it was not enabled.\n",
      "Python(92541) MallocStackLogging: can't turn off malloc stack logging because it was not enabled.\n",
      "Processing MP3 files:  54%|█████▎    | 219/408 [02:14<01:50,  1.71it/s]"
     ]
    },
    {
     "name": "stdout",
     "output_type": "stream",
     "text": [
      "Finetuned score: 0.0\n",
      "Original score: 0.3333333333333333\n"
     ]
    },
    {
     "name": "stderr",
     "output_type": "stream",
     "text": [
      "Python(92542) MallocStackLogging: can't turn off malloc stack logging because it was not enabled.\n",
      "Python(92543) MallocStackLogging: can't turn off malloc stack logging because it was not enabled.\n",
      "Processing MP3 files:  54%|█████▍    | 220/408 [02:14<01:54,  1.65it/s]"
     ]
    },
    {
     "name": "stdout",
     "output_type": "stream",
     "text": [
      "Finetuned score: 0.0\n",
      "Original score: 0.0\n"
     ]
    },
    {
     "name": "stderr",
     "output_type": "stream",
     "text": [
      "Python(92544) MallocStackLogging: can't turn off malloc stack logging because it was not enabled.\n",
      "Python(92545) MallocStackLogging: can't turn off malloc stack logging because it was not enabled.\n",
      "Processing MP3 files:  54%|█████▍    | 221/408 [02:15<01:51,  1.68it/s]"
     ]
    },
    {
     "name": "stdout",
     "output_type": "stream",
     "text": [
      "Finetuned score: 0.8\n",
      "Original score: 0.4\n"
     ]
    },
    {
     "name": "stderr",
     "output_type": "stream",
     "text": [
      "Python(92546) MallocStackLogging: can't turn off malloc stack logging because it was not enabled.\n",
      "Python(92547) MallocStackLogging: can't turn off malloc stack logging because it was not enabled.\n",
      "Processing MP3 files:  54%|█████▍    | 222/408 [02:16<01:53,  1.64it/s]"
     ]
    },
    {
     "name": "stdout",
     "output_type": "stream",
     "text": [
      "Finetuned score: 0.1\n",
      "Original score: 0.1\n"
     ]
    },
    {
     "name": "stderr",
     "output_type": "stream",
     "text": [
      "Python(92548) MallocStackLogging: can't turn off malloc stack logging because it was not enabled.\n",
      "Python(92549) MallocStackLogging: can't turn off malloc stack logging because it was not enabled.\n",
      "Processing MP3 files:  55%|█████▍    | 223/408 [02:16<02:00,  1.54it/s]"
     ]
    },
    {
     "name": "stdout",
     "output_type": "stream",
     "text": [
      "Finetuned score: 0.0\n",
      "Original score: 0.0\n"
     ]
    },
    {
     "name": "stderr",
     "output_type": "stream",
     "text": [
      "Python(92550) MallocStackLogging: can't turn off malloc stack logging because it was not enabled.\n",
      "Python(92551) MallocStackLogging: can't turn off malloc stack logging because it was not enabled.\n",
      "Processing MP3 files:  55%|█████▍    | 224/408 [02:17<02:16,  1.35it/s]"
     ]
    },
    {
     "name": "stdout",
     "output_type": "stream",
     "text": [
      "Finetuned score: 0.0\n",
      "Original score: 0.6\n"
     ]
    },
    {
     "name": "stderr",
     "output_type": "stream",
     "text": [
      "Python(92552) MallocStackLogging: can't turn off malloc stack logging because it was not enabled.\n",
      "Python(92553) MallocStackLogging: can't turn off malloc stack logging because it was not enabled.\n",
      "Processing MP3 files:  55%|█████▌    | 225/408 [02:18<02:09,  1.41it/s]"
     ]
    },
    {
     "name": "stdout",
     "output_type": "stream",
     "text": [
      "Finetuned score: 0.14285714285714285\n",
      "Original score: 0.14285714285714285\n"
     ]
    },
    {
     "name": "stderr",
     "output_type": "stream",
     "text": [
      "Python(92554) MallocStackLogging: can't turn off malloc stack logging because it was not enabled.\n",
      "Python(92555) MallocStackLogging: can't turn off malloc stack logging because it was not enabled.\n",
      "Processing MP3 files:  55%|█████▌    | 226/408 [02:18<01:56,  1.57it/s]"
     ]
    },
    {
     "name": "stdout",
     "output_type": "stream",
     "text": [
      "Finetuned score: 0.6\n",
      "Original score: 0.6\n"
     ]
    },
    {
     "name": "stderr",
     "output_type": "stream",
     "text": [
      "Python(92556) MallocStackLogging: can't turn off malloc stack logging because it was not enabled.\n",
      "Python(92557) MallocStackLogging: can't turn off malloc stack logging because it was not enabled.\n",
      "Processing MP3 files:  56%|█████▌    | 227/408 [02:19<01:57,  1.53it/s]"
     ]
    },
    {
     "name": "stdout",
     "output_type": "stream",
     "text": [
      "Finetuned score: 0.06666666666666667\n",
      "Original score: 0.13333333333333333\n"
     ]
    },
    {
     "name": "stderr",
     "output_type": "stream",
     "text": [
      "Python(92558) MallocStackLogging: can't turn off malloc stack logging because it was not enabled.\n",
      "Python(92559) MallocStackLogging: can't turn off malloc stack logging because it was not enabled.\n",
      "Processing MP3 files:  56%|█████▌    | 228/408 [02:20<02:10,  1.38it/s]"
     ]
    },
    {
     "name": "stdout",
     "output_type": "stream",
     "text": [
      "Finetuned score: 0.35714285714285715\n",
      "Original score: 0.5714285714285714\n"
     ]
    },
    {
     "name": "stderr",
     "output_type": "stream",
     "text": [
      "Python(92560) MallocStackLogging: can't turn off malloc stack logging because it was not enabled.\n",
      "Python(92561) MallocStackLogging: can't turn off malloc stack logging because it was not enabled.\n",
      "Processing MP3 files:  56%|█████▌    | 229/408 [02:21<02:09,  1.38it/s]"
     ]
    },
    {
     "name": "stdout",
     "output_type": "stream",
     "text": [
      "Finetuned score: 0.25\n",
      "Original score: 0.4166666666666667\n"
     ]
    },
    {
     "name": "stderr",
     "output_type": "stream",
     "text": [
      "Python(92562) MallocStackLogging: can't turn off malloc stack logging because it was not enabled.\n",
      "Python(92563) MallocStackLogging: can't turn off malloc stack logging because it was not enabled.\n",
      "Processing MP3 files:  56%|█████▋    | 230/408 [02:21<02:03,  1.45it/s]"
     ]
    },
    {
     "name": "stdout",
     "output_type": "stream",
     "text": [
      "Finetuned score: 0.0\n",
      "Original score: 0.0\n"
     ]
    },
    {
     "name": "stderr",
     "output_type": "stream",
     "text": [
      "Python(92564) MallocStackLogging: can't turn off malloc stack logging because it was not enabled.\n",
      "Python(92565) MallocStackLogging: can't turn off malloc stack logging because it was not enabled.\n",
      "Processing MP3 files:  57%|█████▋    | 231/408 [02:22<01:58,  1.50it/s]"
     ]
    },
    {
     "name": "stdout",
     "output_type": "stream",
     "text": [
      "Finetuned score: 0.0\n",
      "Original score: 0.14285714285714285\n"
     ]
    },
    {
     "name": "stderr",
     "output_type": "stream",
     "text": [
      "Python(92566) MallocStackLogging: can't turn off malloc stack logging because it was not enabled.\n",
      "Python(92567) MallocStackLogging: can't turn off malloc stack logging because it was not enabled.\n",
      "Processing MP3 files:  57%|█████▋    | 232/408 [02:22<01:47,  1.63it/s]"
     ]
    },
    {
     "name": "stdout",
     "output_type": "stream",
     "text": [
      "Finetuned score: 0.0\n",
      "Original score: 0.2\n"
     ]
    },
    {
     "name": "stderr",
     "output_type": "stream",
     "text": [
      "Python(92568) MallocStackLogging: can't turn off malloc stack logging because it was not enabled.\n",
      "Python(92570) MallocStackLogging: can't turn off malloc stack logging because it was not enabled.\n",
      "Processing MP3 files:  57%|█████▋    | 233/408 [02:23<01:37,  1.80it/s]"
     ]
    },
    {
     "name": "stdout",
     "output_type": "stream",
     "text": [
      "Finetuned score: 0.0\n",
      "Original score: 0.5\n"
     ]
    },
    {
     "name": "stderr",
     "output_type": "stream",
     "text": [
      "Python(92572) MallocStackLogging: can't turn off malloc stack logging because it was not enabled.\n",
      "Python(92573) MallocStackLogging: can't turn off malloc stack logging because it was not enabled.\n",
      "Processing MP3 files:  57%|█████▋    | 234/408 [02:23<01:36,  1.80it/s]"
     ]
    },
    {
     "name": "stdout",
     "output_type": "stream",
     "text": [
      "Finetuned score: 0.0\n",
      "Original score: 0.4\n"
     ]
    },
    {
     "name": "stderr",
     "output_type": "stream",
     "text": [
      "Python(92574) MallocStackLogging: can't turn off malloc stack logging because it was not enabled.\n",
      "Python(92575) MallocStackLogging: can't turn off malloc stack logging because it was not enabled.\n",
      "Processing MP3 files:  58%|█████▊    | 235/408 [02:24<01:38,  1.76it/s]"
     ]
    },
    {
     "name": "stdout",
     "output_type": "stream",
     "text": [
      "Finetuned score: 0.2222222222222222\n",
      "Original score: 0.3333333333333333\n"
     ]
    },
    {
     "name": "stderr",
     "output_type": "stream",
     "text": [
      "Python(92578) MallocStackLogging: can't turn off malloc stack logging because it was not enabled.\n",
      "Python(92579) MallocStackLogging: can't turn off malloc stack logging because it was not enabled.\n",
      "Processing MP3 files:  58%|█████▊    | 236/408 [02:25<01:46,  1.62it/s]"
     ]
    },
    {
     "name": "stdout",
     "output_type": "stream",
     "text": [
      "Finetuned score: 0.0\n",
      "Original score: 0.0\n"
     ]
    },
    {
     "name": "stderr",
     "output_type": "stream",
     "text": [
      "Python(92594) MallocStackLogging: can't turn off malloc stack logging because it was not enabled.\n",
      "Python(92595) MallocStackLogging: can't turn off malloc stack logging because it was not enabled.\n",
      "Processing MP3 files:  58%|█████▊    | 237/408 [02:25<01:49,  1.57it/s]"
     ]
    },
    {
     "name": "stdout",
     "output_type": "stream",
     "text": [
      "Finetuned score: 0.06666666666666667\n",
      "Original score: 0.06666666666666667\n"
     ]
    },
    {
     "name": "stderr",
     "output_type": "stream",
     "text": [
      "Python(92596) MallocStackLogging: can't turn off malloc stack logging because it was not enabled.\n",
      "Python(92597) MallocStackLogging: can't turn off malloc stack logging because it was not enabled.\n",
      "Processing MP3 files:  58%|█████▊    | 238/408 [02:26<01:51,  1.52it/s]"
     ]
    },
    {
     "name": "stdout",
     "output_type": "stream",
     "text": [
      "Finetuned score: 0.15384615384615385\n",
      "Original score: 0.38461538461538464\n"
     ]
    },
    {
     "name": "stderr",
     "output_type": "stream",
     "text": [
      "Python(92599) MallocStackLogging: can't turn off malloc stack logging because it was not enabled.\n",
      "Python(92601) MallocStackLogging: can't turn off malloc stack logging because it was not enabled.\n",
      "Processing MP3 files:  59%|█████▊    | 239/408 [02:27<01:51,  1.52it/s]"
     ]
    },
    {
     "name": "stdout",
     "output_type": "stream",
     "text": [
      "Finetuned score: 0.0\n",
      "Original score: 0.5714285714285714\n"
     ]
    },
    {
     "name": "stderr",
     "output_type": "stream",
     "text": [
      "Python(92605) MallocStackLogging: can't turn off malloc stack logging because it was not enabled.\n",
      "Python(92607) MallocStackLogging: can't turn off malloc stack logging because it was not enabled.\n",
      "Processing MP3 files:  59%|█████▉    | 240/408 [02:27<01:49,  1.54it/s]"
     ]
    },
    {
     "name": "stdout",
     "output_type": "stream",
     "text": [
      "Finetuned score: 0.2\n",
      "Original score: 0.2\n"
     ]
    },
    {
     "name": "stderr",
     "output_type": "stream",
     "text": [
      "Python(92608) MallocStackLogging: can't turn off malloc stack logging because it was not enabled.\n",
      "Python(92609) MallocStackLogging: can't turn off malloc stack logging because it was not enabled.\n",
      "Processing MP3 files:  59%|█████▉    | 241/408 [02:28<01:55,  1.45it/s]"
     ]
    },
    {
     "name": "stdout",
     "output_type": "stream",
     "text": [
      "Finetuned score: 0.1111111111111111\n",
      "Original score: 0.2222222222222222\n"
     ]
    },
    {
     "name": "stderr",
     "output_type": "stream",
     "text": [
      "Python(92611) MallocStackLogging: can't turn off malloc stack logging because it was not enabled.\n",
      "Python(92612) MallocStackLogging: can't turn off malloc stack logging because it was not enabled.\n",
      "Processing MP3 files:  59%|█████▉    | 242/408 [02:29<01:43,  1.61it/s]"
     ]
    },
    {
     "name": "stdout",
     "output_type": "stream",
     "text": [
      "Finetuned score: 0.0\n",
      "Original score: 0.16666666666666666\n"
     ]
    },
    {
     "name": "stderr",
     "output_type": "stream",
     "text": [
      "Python(92613) MallocStackLogging: can't turn off malloc stack logging because it was not enabled.\n",
      "Python(92614) MallocStackLogging: can't turn off malloc stack logging because it was not enabled.\n",
      "Processing MP3 files:  60%|█████▉    | 243/408 [02:29<01:37,  1.69it/s]"
     ]
    },
    {
     "name": "stdout",
     "output_type": "stream",
     "text": [
      "Finetuned score: 0.0\n",
      "Original score: 0.25\n"
     ]
    },
    {
     "name": "stderr",
     "output_type": "stream",
     "text": [
      "Python(92615) MallocStackLogging: can't turn off malloc stack logging because it was not enabled.\n",
      "Python(92616) MallocStackLogging: can't turn off malloc stack logging because it was not enabled.\n",
      "Processing MP3 files:  60%|█████▉    | 244/408 [02:30<01:34,  1.74it/s]"
     ]
    },
    {
     "name": "stdout",
     "output_type": "stream",
     "text": [
      "Finetuned score: 0.0\n",
      "Original score: 0.3\n"
     ]
    },
    {
     "name": "stderr",
     "output_type": "stream",
     "text": [
      "Python(92619) MallocStackLogging: can't turn off malloc stack logging because it was not enabled.\n",
      "Python(92620) MallocStackLogging: can't turn off malloc stack logging because it was not enabled.\n",
      "Processing MP3 files:  60%|██████    | 245/408 [02:30<01:26,  1.89it/s]"
     ]
    },
    {
     "name": "stdout",
     "output_type": "stream",
     "text": [
      "Finetuned score: 1.0\n",
      "Original score: 0.75\n"
     ]
    },
    {
     "name": "stderr",
     "output_type": "stream",
     "text": [
      "Python(92621) MallocStackLogging: can't turn off malloc stack logging because it was not enabled.\n",
      "Python(92622) MallocStackLogging: can't turn off malloc stack logging because it was not enabled.\n",
      "Processing MP3 files:  60%|██████    | 246/408 [02:31<01:34,  1.71it/s]"
     ]
    },
    {
     "name": "stdout",
     "output_type": "stream",
     "text": [
      "Finetuned score: 0.0\n",
      "Original score: 0.07142857142857142\n"
     ]
    },
    {
     "name": "stderr",
     "output_type": "stream",
     "text": [
      "Python(92623) MallocStackLogging: can't turn off malloc stack logging because it was not enabled.\n",
      "Python(92624) MallocStackLogging: can't turn off malloc stack logging because it was not enabled.\n",
      "Processing MP3 files:  61%|██████    | 247/408 [02:31<01:31,  1.76it/s]"
     ]
    },
    {
     "name": "stdout",
     "output_type": "stream",
     "text": [
      "Finetuned score: 0.5\n",
      "Original score: 0.5\n"
     ]
    },
    {
     "name": "stderr",
     "output_type": "stream",
     "text": [
      "Python(92625) MallocStackLogging: can't turn off malloc stack logging because it was not enabled.\n",
      "Python(92626) MallocStackLogging: can't turn off malloc stack logging because it was not enabled.\n",
      "Processing MP3 files:  61%|██████    | 248/408 [02:32<01:27,  1.83it/s]"
     ]
    },
    {
     "name": "stdout",
     "output_type": "stream",
     "text": [
      "Finetuned score: 0.0\n",
      "Original score: 0.0\n"
     ]
    },
    {
     "name": "stderr",
     "output_type": "stream",
     "text": [
      "Python(92627) MallocStackLogging: can't turn off malloc stack logging because it was not enabled.\n",
      "Python(92628) MallocStackLogging: can't turn off malloc stack logging because it was not enabled.\n",
      "Processing MP3 files:  61%|██████    | 249/408 [02:32<01:25,  1.87it/s]"
     ]
    },
    {
     "name": "stdout",
     "output_type": "stream",
     "text": [
      "Finetuned score: 0.2\n",
      "Original score: 0.3\n"
     ]
    },
    {
     "name": "stderr",
     "output_type": "stream",
     "text": [
      "Python(92629) MallocStackLogging: can't turn off malloc stack logging because it was not enabled.\n",
      "Python(92630) MallocStackLogging: can't turn off malloc stack logging because it was not enabled.\n",
      "Processing MP3 files:  61%|██████▏   | 250/408 [02:33<01:23,  1.89it/s]"
     ]
    },
    {
     "name": "stdout",
     "output_type": "stream",
     "text": [
      "Finetuned score: 0.0\n",
      "Original score: 0.0\n"
     ]
    },
    {
     "name": "stderr",
     "output_type": "stream",
     "text": [
      "Python(92631) MallocStackLogging: can't turn off malloc stack logging because it was not enabled.\n",
      "Python(92632) MallocStackLogging: can't turn off malloc stack logging because it was not enabled.\n",
      "Processing MP3 files:  62%|██████▏   | 251/408 [02:33<01:20,  1.94it/s]"
     ]
    },
    {
     "name": "stdout",
     "output_type": "stream",
     "text": [
      "Finetuned score: 0.16666666666666666\n",
      "Original score: 0.16666666666666666\n"
     ]
    },
    {
     "name": "stderr",
     "output_type": "stream",
     "text": [
      "Python(92633) MallocStackLogging: can't turn off malloc stack logging because it was not enabled.\n",
      "Python(92634) MallocStackLogging: can't turn off malloc stack logging because it was not enabled.\n",
      "Processing MP3 files:  62%|██████▏   | 252/408 [02:34<01:19,  1.96it/s]"
     ]
    },
    {
     "name": "stdout",
     "output_type": "stream",
     "text": [
      "Finetuned score: 0.2222222222222222\n",
      "Original score: 0.5555555555555556\n"
     ]
    },
    {
     "name": "stderr",
     "output_type": "stream",
     "text": [
      "Python(92635) MallocStackLogging: can't turn off malloc stack logging because it was not enabled.\n",
      "Python(92636) MallocStackLogging: can't turn off malloc stack logging because it was not enabled.\n",
      "Processing MP3 files:  62%|██████▏   | 253/408 [02:35<01:39,  1.56it/s]"
     ]
    },
    {
     "name": "stdout",
     "output_type": "stream",
     "text": [
      "Finetuned score: 0.15384615384615385\n",
      "Original score: 0.3076923076923077\n"
     ]
    },
    {
     "name": "stderr",
     "output_type": "stream",
     "text": [
      "Python(92637) MallocStackLogging: can't turn off malloc stack logging because it was not enabled.\n",
      "Python(92638) MallocStackLogging: can't turn off malloc stack logging because it was not enabled.\n",
      "Processing MP3 files:  62%|██████▏   | 254/408 [02:35<01:34,  1.64it/s]"
     ]
    },
    {
     "name": "stdout",
     "output_type": "stream",
     "text": [
      "Finetuned score: 0.15384615384615385\n",
      "Original score: 0.3076923076923077\n"
     ]
    },
    {
     "name": "stderr",
     "output_type": "stream",
     "text": [
      "Python(92639) MallocStackLogging: can't turn off malloc stack logging because it was not enabled.\n",
      "Python(92640) MallocStackLogging: can't turn off malloc stack logging because it was not enabled.\n",
      "Processing MP3 files:  62%|██████▎   | 255/408 [02:36<01:26,  1.77it/s]"
     ]
    },
    {
     "name": "stdout",
     "output_type": "stream",
     "text": [
      "Finetuned score: 0.25\n",
      "Original score: 0.25\n"
     ]
    },
    {
     "name": "stderr",
     "output_type": "stream",
     "text": [
      "Python(92641) MallocStackLogging: can't turn off malloc stack logging because it was not enabled.\n",
      "Python(92642) MallocStackLogging: can't turn off malloc stack logging because it was not enabled.\n",
      "Processing MP3 files:  63%|██████▎   | 256/408 [02:36<01:24,  1.79it/s]"
     ]
    },
    {
     "name": "stdout",
     "output_type": "stream",
     "text": [
      "Finetuned score: 0.1111111111111111\n",
      "Original score: 0.1111111111111111\n"
     ]
    },
    {
     "name": "stderr",
     "output_type": "stream",
     "text": [
      "Python(92643) MallocStackLogging: can't turn off malloc stack logging because it was not enabled.\n",
      "Python(92644) MallocStackLogging: can't turn off malloc stack logging because it was not enabled.\n",
      "Processing MP3 files:  63%|██████▎   | 257/408 [02:37<01:29,  1.69it/s]"
     ]
    },
    {
     "name": "stdout",
     "output_type": "stream",
     "text": [
      "Finetuned score: 0.06666666666666667\n",
      "Original score: 0.2\n"
     ]
    },
    {
     "name": "stderr",
     "output_type": "stream",
     "text": [
      "Python(92645) MallocStackLogging: can't turn off malloc stack logging because it was not enabled.\n",
      "Python(92646) MallocStackLogging: can't turn off malloc stack logging because it was not enabled.\n",
      "Processing MP3 files:  63%|██████▎   | 258/408 [02:37<01:23,  1.80it/s]"
     ]
    },
    {
     "name": "stdout",
     "output_type": "stream",
     "text": [
      "Finetuned score: 0.0\n",
      "Original score: 0.4\n"
     ]
    },
    {
     "name": "stderr",
     "output_type": "stream",
     "text": [
      "Python(92647) MallocStackLogging: can't turn off malloc stack logging because it was not enabled.\n",
      "Python(92648) MallocStackLogging: can't turn off malloc stack logging because it was not enabled.\n",
      "Processing MP3 files:  63%|██████▎   | 259/408 [02:38<01:25,  1.74it/s]"
     ]
    },
    {
     "name": "stdout",
     "output_type": "stream",
     "text": [
      "Finetuned score: 0.125\n",
      "Original score: 0.125\n"
     ]
    },
    {
     "name": "stderr",
     "output_type": "stream",
     "text": [
      "Python(92649) MallocStackLogging: can't turn off malloc stack logging because it was not enabled.\n",
      "Python(92650) MallocStackLogging: can't turn off malloc stack logging because it was not enabled.\n",
      "Processing MP3 files:  64%|██████▎   | 260/408 [02:39<01:22,  1.80it/s]"
     ]
    },
    {
     "name": "stdout",
     "output_type": "stream",
     "text": [
      "Finetuned score: 0.0\n",
      "Original score: 0.1\n"
     ]
    },
    {
     "name": "stderr",
     "output_type": "stream",
     "text": [
      "Python(92651) MallocStackLogging: can't turn off malloc stack logging because it was not enabled.\n",
      "Python(92652) MallocStackLogging: can't turn off malloc stack logging because it was not enabled.\n",
      "Processing MP3 files:  64%|██████▍   | 261/408 [02:39<01:24,  1.74it/s]"
     ]
    },
    {
     "name": "stdout",
     "output_type": "stream",
     "text": [
      "Finetuned score: 0.2222222222222222\n",
      "Original score: 0.1111111111111111\n"
     ]
    },
    {
     "name": "stderr",
     "output_type": "stream",
     "text": [
      "Python(92653) MallocStackLogging: can't turn off malloc stack logging because it was not enabled.\n",
      "Python(92654) MallocStackLogging: can't turn off malloc stack logging because it was not enabled.\n",
      "Processing MP3 files:  64%|██████▍   | 262/408 [02:40<01:25,  1.71it/s]"
     ]
    },
    {
     "name": "stdout",
     "output_type": "stream",
     "text": [
      "Finetuned score: 0.6\n",
      "Original score: 0.6\n"
     ]
    },
    {
     "name": "stderr",
     "output_type": "stream",
     "text": [
      "Python(92656) MallocStackLogging: can't turn off malloc stack logging because it was not enabled.\n",
      "Python(92657) MallocStackLogging: can't turn off malloc stack logging because it was not enabled.\n",
      "Processing MP3 files:  64%|██████▍   | 263/408 [02:40<01:26,  1.68it/s]"
     ]
    },
    {
     "name": "stdout",
     "output_type": "stream",
     "text": [
      "Finetuned score: 0.23076923076923078\n",
      "Original score: 0.38461538461538464\n"
     ]
    },
    {
     "name": "stderr",
     "output_type": "stream",
     "text": [
      "Python(92658) MallocStackLogging: can't turn off malloc stack logging because it was not enabled.\n",
      "Python(92659) MallocStackLogging: can't turn off malloc stack logging because it was not enabled.\n",
      "Processing MP3 files:  65%|██████▍   | 264/408 [02:41<01:29,  1.61it/s]"
     ]
    },
    {
     "name": "stdout",
     "output_type": "stream",
     "text": [
      "Finetuned score: 0.06666666666666667\n",
      "Original score: 0.06666666666666667\n"
     ]
    },
    {
     "name": "stderr",
     "output_type": "stream",
     "text": [
      "Python(92660) MallocStackLogging: can't turn off malloc stack logging because it was not enabled.\n",
      "Python(92661) MallocStackLogging: can't turn off malloc stack logging because it was not enabled.\n",
      "Processing MP3 files:  65%|██████▍   | 265/408 [02:42<01:22,  1.74it/s]"
     ]
    },
    {
     "name": "stdout",
     "output_type": "stream",
     "text": [
      "Finetuned score: 0.0\n",
      "Original score: 0.0\n"
     ]
    },
    {
     "name": "stderr",
     "output_type": "stream",
     "text": [
      "Python(92662) MallocStackLogging: can't turn off malloc stack logging because it was not enabled.\n",
      "Python(92663) MallocStackLogging: can't turn off malloc stack logging because it was not enabled.\n",
      "Processing MP3 files:  65%|██████▌   | 266/408 [02:42<01:21,  1.74it/s]"
     ]
    },
    {
     "name": "stdout",
     "output_type": "stream",
     "text": [
      "Finetuned score: 0.0\n",
      "Original score: 0.09090909090909091\n"
     ]
    },
    {
     "name": "stderr",
     "output_type": "stream",
     "text": [
      "Python(92664) MallocStackLogging: can't turn off malloc stack logging because it was not enabled.\n",
      "Python(92665) MallocStackLogging: can't turn off malloc stack logging because it was not enabled.\n",
      "Processing MP3 files:  65%|██████▌   | 267/408 [02:43<01:19,  1.78it/s]"
     ]
    },
    {
     "name": "stdout",
     "output_type": "stream",
     "text": [
      "Finetuned score: 0.0\n",
      "Original score: 0.0\n"
     ]
    },
    {
     "name": "stderr",
     "output_type": "stream",
     "text": [
      "Python(92666) MallocStackLogging: can't turn off malloc stack logging because it was not enabled.\n",
      "Python(92667) MallocStackLogging: can't turn off malloc stack logging because it was not enabled.\n",
      "Processing MP3 files:  66%|██████▌   | 268/408 [02:43<01:17,  1.81it/s]"
     ]
    },
    {
     "name": "stdout",
     "output_type": "stream",
     "text": [
      "Finetuned score: 0.125\n",
      "Original score: 0.125\n"
     ]
    },
    {
     "name": "stderr",
     "output_type": "stream",
     "text": [
      "Python(92668) MallocStackLogging: can't turn off malloc stack logging because it was not enabled.\n",
      "Python(92669) MallocStackLogging: can't turn off malloc stack logging because it was not enabled.\n",
      "Processing MP3 files:  66%|██████▌   | 269/408 [02:44<01:19,  1.76it/s]"
     ]
    },
    {
     "name": "stdout",
     "output_type": "stream",
     "text": [
      "Finetuned score: 0.0\n",
      "Original score: 0.0\n"
     ]
    },
    {
     "name": "stderr",
     "output_type": "stream",
     "text": [
      "Python(92670) MallocStackLogging: can't turn off malloc stack logging because it was not enabled.\n",
      "Python(92671) MallocStackLogging: can't turn off malloc stack logging because it was not enabled.\n",
      "Processing MP3 files:  66%|██████▌   | 270/408 [02:44<01:17,  1.78it/s]"
     ]
    },
    {
     "name": "stdout",
     "output_type": "stream",
     "text": [
      "Finetuned score: 0.5\n",
      "Original score: 0.7\n"
     ]
    },
    {
     "name": "stderr",
     "output_type": "stream",
     "text": [
      "Python(92672) MallocStackLogging: can't turn off malloc stack logging because it was not enabled.\n",
      "Python(92673) MallocStackLogging: can't turn off malloc stack logging because it was not enabled.\n",
      "Processing MP3 files:  66%|██████▋   | 271/408 [02:45<01:17,  1.77it/s]"
     ]
    },
    {
     "name": "stdout",
     "output_type": "stream",
     "text": [
      "Finetuned score: 0.2222222222222222\n",
      "Original score: 0.3333333333333333\n"
     ]
    },
    {
     "name": "stderr",
     "output_type": "stream",
     "text": [
      "Python(92674) MallocStackLogging: can't turn off malloc stack logging because it was not enabled.\n",
      "Python(92675) MallocStackLogging: can't turn off malloc stack logging because it was not enabled.\n",
      "Processing MP3 files:  67%|██████▋   | 272/408 [02:46<01:17,  1.76it/s]"
     ]
    },
    {
     "name": "stdout",
     "output_type": "stream",
     "text": [
      "Finetuned score: 0.15384615384615385\n",
      "Original score: 0.38461538461538464\n"
     ]
    },
    {
     "name": "stderr",
     "output_type": "stream",
     "text": [
      "Python(92676) MallocStackLogging: can't turn off malloc stack logging because it was not enabled.\n",
      "Python(92677) MallocStackLogging: can't turn off malloc stack logging because it was not enabled.\n",
      "Processing MP3 files:  67%|██████▋   | 273/408 [02:46<01:15,  1.78it/s]"
     ]
    },
    {
     "name": "stdout",
     "output_type": "stream",
     "text": [
      "Finetuned score: 0.2222222222222222\n",
      "Original score: 0.3333333333333333\n"
     ]
    },
    {
     "name": "stderr",
     "output_type": "stream",
     "text": [
      "Python(92678) MallocStackLogging: can't turn off malloc stack logging because it was not enabled.\n",
      "Python(92679) MallocStackLogging: can't turn off malloc stack logging because it was not enabled.\n",
      "Processing MP3 files:  67%|██████▋   | 274/408 [02:47<01:13,  1.82it/s]"
     ]
    },
    {
     "name": "stdout",
     "output_type": "stream",
     "text": [
      "Finetuned score: 0.14285714285714285\n",
      "Original score: 0.2857142857142857\n"
     ]
    },
    {
     "name": "stderr",
     "output_type": "stream",
     "text": [
      "Python(92680) MallocStackLogging: can't turn off malloc stack logging because it was not enabled.\n",
      "Python(92681) MallocStackLogging: can't turn off malloc stack logging because it was not enabled.\n",
      "Processing MP3 files:  67%|██████▋   | 275/408 [02:47<01:08,  1.93it/s]"
     ]
    },
    {
     "name": "stdout",
     "output_type": "stream",
     "text": [
      "Finetuned score: 0.2\n",
      "Original score: 0.2\n"
     ]
    },
    {
     "name": "stderr",
     "output_type": "stream",
     "text": [
      "Python(92682) MallocStackLogging: can't turn off malloc stack logging because it was not enabled.\n",
      "Python(92683) MallocStackLogging: can't turn off malloc stack logging because it was not enabled.\n",
      "Processing MP3 files:  68%|██████▊   | 276/408 [02:48<01:10,  1.87it/s]"
     ]
    },
    {
     "name": "stdout",
     "output_type": "stream",
     "text": [
      "Finetuned score: 0.0\n",
      "Original score: 0.14285714285714285\n"
     ]
    },
    {
     "name": "stderr",
     "output_type": "stream",
     "text": [
      "Python(92684) MallocStackLogging: can't turn off malloc stack logging because it was not enabled.\n",
      "Python(92685) MallocStackLogging: can't turn off malloc stack logging because it was not enabled.\n",
      "Processing MP3 files:  68%|██████▊   | 277/408 [02:48<01:06,  1.96it/s]"
     ]
    },
    {
     "name": "stdout",
     "output_type": "stream",
     "text": [
      "Finetuned score: 0.3333333333333333\n",
      "Original score: 0.5\n"
     ]
    },
    {
     "name": "stderr",
     "output_type": "stream",
     "text": [
      "Python(92686) MallocStackLogging: can't turn off malloc stack logging because it was not enabled.\n",
      "Python(92687) MallocStackLogging: can't turn off malloc stack logging because it was not enabled.\n",
      "Processing MP3 files:  68%|██████▊   | 278/408 [02:49<01:11,  1.83it/s]"
     ]
    },
    {
     "name": "stdout",
     "output_type": "stream",
     "text": [
      "Finetuned score: 0.0\n",
      "Original score: 0.3333333333333333\n"
     ]
    },
    {
     "name": "stderr",
     "output_type": "stream",
     "text": [
      "Python(92688) MallocStackLogging: can't turn off malloc stack logging because it was not enabled.\n",
      "Python(92689) MallocStackLogging: can't turn off malloc stack logging because it was not enabled.\n",
      "Processing MP3 files:  68%|██████▊   | 279/408 [02:50<01:26,  1.49it/s]"
     ]
    },
    {
     "name": "stdout",
     "output_type": "stream",
     "text": [
      "Finetuned score: 0.0\n",
      "Original score: 0.09090909090909091\n"
     ]
    },
    {
     "name": "stderr",
     "output_type": "stream",
     "text": [
      "Python(92691) MallocStackLogging: can't turn off malloc stack logging because it was not enabled.\n",
      "Python(92692) MallocStackLogging: can't turn off malloc stack logging because it was not enabled.\n",
      "Processing MP3 files:  69%|██████▊   | 280/408 [02:50<01:25,  1.50it/s]"
     ]
    },
    {
     "name": "stdout",
     "output_type": "stream",
     "text": [
      "Finetuned score: 0.07692307692307693\n",
      "Original score: 0.3076923076923077\n"
     ]
    },
    {
     "name": "stderr",
     "output_type": "stream",
     "text": [
      "Python(92693) MallocStackLogging: can't turn off malloc stack logging because it was not enabled.\n",
      "Python(92694) MallocStackLogging: can't turn off malloc stack logging because it was not enabled.\n",
      "Processing MP3 files:  69%|██████▉   | 281/408 [02:51<01:17,  1.65it/s]"
     ]
    },
    {
     "name": "stdout",
     "output_type": "stream",
     "text": [
      "Finetuned score: 0.0\n",
      "Original score: 0.14285714285714285\n"
     ]
    },
    {
     "name": "stderr",
     "output_type": "stream",
     "text": [
      "Python(92695) MallocStackLogging: can't turn off malloc stack logging because it was not enabled.\n",
      "Python(92696) MallocStackLogging: can't turn off malloc stack logging because it was not enabled.\n",
      "Processing MP3 files:  69%|██████▉   | 282/408 [02:51<01:08,  1.83it/s]"
     ]
    },
    {
     "name": "stdout",
     "output_type": "stream",
     "text": [
      "Finetuned score: 0.0\n",
      "Original score: 0.2\n"
     ]
    },
    {
     "name": "stderr",
     "output_type": "stream",
     "text": [
      "Python(92697) MallocStackLogging: can't turn off malloc stack logging because it was not enabled.\n",
      "Python(92698) MallocStackLogging: can't turn off malloc stack logging because it was not enabled.\n",
      "Processing MP3 files:  69%|██████▉   | 283/408 [02:52<01:06,  1.87it/s]"
     ]
    },
    {
     "name": "stdout",
     "output_type": "stream",
     "text": [
      "Finetuned score: 0.0\n",
      "Original score: 0.25\n"
     ]
    },
    {
     "name": "stderr",
     "output_type": "stream",
     "text": [
      "Python(92699) MallocStackLogging: can't turn off malloc stack logging because it was not enabled.\n",
      "Python(92700) MallocStackLogging: can't turn off malloc stack logging because it was not enabled.\n",
      "Processing MP3 files:  70%|██████▉   | 284/408 [02:52<01:09,  1.80it/s]"
     ]
    },
    {
     "name": "stdout",
     "output_type": "stream",
     "text": [
      "Finetuned score: 0.0\n",
      "Original score: 0.0\n"
     ]
    },
    {
     "name": "stderr",
     "output_type": "stream",
     "text": [
      "Python(92701) MallocStackLogging: can't turn off malloc stack logging because it was not enabled.\n",
      "Python(92702) MallocStackLogging: can't turn off malloc stack logging because it was not enabled.\n",
      "Processing MP3 files:  70%|██████▉   | 285/408 [02:53<01:10,  1.74it/s]"
     ]
    },
    {
     "name": "stdout",
     "output_type": "stream",
     "text": [
      "Finetuned score: 0.1875\n",
      "Original score: 0.25\n"
     ]
    },
    {
     "name": "stderr",
     "output_type": "stream",
     "text": [
      "Python(92703) MallocStackLogging: can't turn off malloc stack logging because it was not enabled.\n",
      "Python(92704) MallocStackLogging: can't turn off malloc stack logging because it was not enabled.\n",
      "Processing MP3 files:  70%|███████   | 286/408 [02:54<01:18,  1.56it/s]"
     ]
    },
    {
     "name": "stdout",
     "output_type": "stream",
     "text": [
      "Finetuned score: 0.125\n",
      "Original score: 0.125\n"
     ]
    },
    {
     "name": "stderr",
     "output_type": "stream",
     "text": [
      "Python(92705) MallocStackLogging: can't turn off malloc stack logging because it was not enabled.\n",
      "Python(92706) MallocStackLogging: can't turn off malloc stack logging because it was not enabled.\n",
      "Processing MP3 files:  70%|███████   | 287/408 [02:54<01:12,  1.66it/s]"
     ]
    },
    {
     "name": "stdout",
     "output_type": "stream",
     "text": [
      "Finetuned score: 0.0\n",
      "Original score: 0.4\n"
     ]
    },
    {
     "name": "stderr",
     "output_type": "stream",
     "text": [
      "Python(92707) MallocStackLogging: can't turn off malloc stack logging because it was not enabled.\n",
      "Python(92708) MallocStackLogging: can't turn off malloc stack logging because it was not enabled.\n",
      "Processing MP3 files:  71%|███████   | 288/408 [02:55<01:11,  1.68it/s]"
     ]
    },
    {
     "name": "stdout",
     "output_type": "stream",
     "text": [
      "Finetuned score: 0.0\n",
      "Original score: 0.0\n"
     ]
    },
    {
     "name": "stderr",
     "output_type": "stream",
     "text": [
      "Python(92709) MallocStackLogging: can't turn off malloc stack logging because it was not enabled.\n",
      "Python(92710) MallocStackLogging: can't turn off malloc stack logging because it was not enabled.\n",
      "Processing MP3 files:  71%|███████   | 289/408 [02:55<01:10,  1.68it/s]"
     ]
    },
    {
     "name": "stdout",
     "output_type": "stream",
     "text": [
      "Finetuned score: 0.14285714285714285\n",
      "Original score: 0.2857142857142857\n"
     ]
    },
    {
     "name": "stderr",
     "output_type": "stream",
     "text": [
      "Python(92711) MallocStackLogging: can't turn off malloc stack logging because it was not enabled.\n",
      "Python(92712) MallocStackLogging: can't turn off malloc stack logging because it was not enabled.\n",
      "Processing MP3 files:  71%|███████   | 290/408 [02:56<01:09,  1.70it/s]"
     ]
    },
    {
     "name": "stdout",
     "output_type": "stream",
     "text": [
      "Finetuned score: 0.0\n",
      "Original score: 0.1\n"
     ]
    },
    {
     "name": "stderr",
     "output_type": "stream",
     "text": [
      "Python(92713) MallocStackLogging: can't turn off malloc stack logging because it was not enabled.\n",
      "Python(92714) MallocStackLogging: can't turn off malloc stack logging because it was not enabled.\n",
      "Processing MP3 files:  71%|███████▏  | 291/408 [02:57<01:06,  1.76it/s]"
     ]
    },
    {
     "name": "stdout",
     "output_type": "stream",
     "text": [
      "Finetuned score: 0.5\n",
      "Original score: 0.5\n"
     ]
    },
    {
     "name": "stderr",
     "output_type": "stream",
     "text": [
      "Python(92715) MallocStackLogging: can't turn off malloc stack logging because it was not enabled.\n",
      "Python(92716) MallocStackLogging: can't turn off malloc stack logging because it was not enabled.\n",
      "Processing MP3 files:  72%|███████▏  | 292/408 [02:57<01:11,  1.62it/s]"
     ]
    },
    {
     "name": "stdout",
     "output_type": "stream",
     "text": [
      "Finetuned score: 0.2\n",
      "Original score: 0.4666666666666667\n"
     ]
    },
    {
     "name": "stderr",
     "output_type": "stream",
     "text": [
      "Python(92717) MallocStackLogging: can't turn off malloc stack logging because it was not enabled.\n",
      "Python(92718) MallocStackLogging: can't turn off malloc stack logging because it was not enabled.\n",
      "Processing MP3 files:  72%|███████▏  | 293/408 [02:58<01:10,  1.62it/s]"
     ]
    },
    {
     "name": "stdout",
     "output_type": "stream",
     "text": [
      "Finetuned score: 0.1111111111111111\n",
      "Original score: 0.3333333333333333\n"
     ]
    },
    {
     "name": "stderr",
     "output_type": "stream",
     "text": [
      "Python(92719) MallocStackLogging: can't turn off malloc stack logging because it was not enabled.\n",
      "Python(92720) MallocStackLogging: can't turn off malloc stack logging because it was not enabled.\n",
      "Processing MP3 files:  72%|███████▏  | 294/408 [02:58<01:07,  1.69it/s]"
     ]
    },
    {
     "name": "stdout",
     "output_type": "stream",
     "text": [
      "Finetuned score: 0.0\n",
      "Original score: 0.1111111111111111\n"
     ]
    },
    {
     "name": "stderr",
     "output_type": "stream",
     "text": [
      "Python(92721) MallocStackLogging: can't turn off malloc stack logging because it was not enabled.\n",
      "Python(92722) MallocStackLogging: can't turn off malloc stack logging because it was not enabled.\n",
      "Processing MP3 files:  72%|███████▏  | 295/408 [02:59<01:10,  1.60it/s]"
     ]
    },
    {
     "name": "stdout",
     "output_type": "stream",
     "text": [
      "Finetuned score: 0.0\n",
      "Original score: 0.21428571428571427\n"
     ]
    },
    {
     "name": "stderr",
     "output_type": "stream",
     "text": [
      "Python(92723) MallocStackLogging: can't turn off malloc stack logging because it was not enabled.\n",
      "Python(92724) MallocStackLogging: can't turn off malloc stack logging because it was not enabled.\n",
      "Processing MP3 files:  73%|███████▎  | 296/408 [03:00<01:07,  1.67it/s]"
     ]
    },
    {
     "name": "stdout",
     "output_type": "stream",
     "text": [
      "Finetuned score: 0.25\n",
      "Original score: 0.5\n"
     ]
    },
    {
     "name": "stderr",
     "output_type": "stream",
     "text": [
      "Python(92725) MallocStackLogging: can't turn off malloc stack logging because it was not enabled.\n",
      "Python(92726) MallocStackLogging: can't turn off malloc stack logging because it was not enabled.\n",
      "Processing MP3 files:  73%|███████▎  | 297/408 [03:00<01:04,  1.73it/s]"
     ]
    },
    {
     "name": "stdout",
     "output_type": "stream",
     "text": [
      "Finetuned score: 0.2222222222222222\n",
      "Original score: 0.5555555555555556\n"
     ]
    },
    {
     "name": "stderr",
     "output_type": "stream",
     "text": [
      "Python(92727) MallocStackLogging: can't turn off malloc stack logging because it was not enabled.\n",
      "Python(92728) MallocStackLogging: can't turn off malloc stack logging because it was not enabled.\n",
      "Processing MP3 files:  73%|███████▎  | 298/408 [03:01<01:04,  1.71it/s]"
     ]
    },
    {
     "name": "stdout",
     "output_type": "stream",
     "text": [
      "Finetuned score: 0.25\n",
      "Original score: 0.25\n"
     ]
    },
    {
     "name": "stderr",
     "output_type": "stream",
     "text": [
      "Python(92729) MallocStackLogging: can't turn off malloc stack logging because it was not enabled.\n",
      "Python(92730) MallocStackLogging: can't turn off malloc stack logging because it was not enabled.\n",
      "Processing MP3 files:  73%|███████▎  | 299/408 [03:02<01:08,  1.58it/s]"
     ]
    },
    {
     "name": "stdout",
     "output_type": "stream",
     "text": [
      "Finetuned score: 0.2857142857142857\n",
      "Original score: 0.35714285714285715\n"
     ]
    },
    {
     "name": "stderr",
     "output_type": "stream",
     "text": [
      "Python(92731) MallocStackLogging: can't turn off malloc stack logging because it was not enabled.\n",
      "Python(92732) MallocStackLogging: can't turn off malloc stack logging because it was not enabled.\n",
      "Processing MP3 files:  74%|███████▎  | 300/408 [03:02<01:06,  1.63it/s]"
     ]
    },
    {
     "name": "stdout",
     "output_type": "stream",
     "text": [
      "Finetuned score: 0.4\n",
      "Original score: 0.7\n"
     ]
    },
    {
     "name": "stderr",
     "output_type": "stream",
     "text": [
      "Python(92733) MallocStackLogging: can't turn off malloc stack logging because it was not enabled.\n",
      "Python(92734) MallocStackLogging: can't turn off malloc stack logging because it was not enabled.\n",
      "Processing MP3 files:  74%|███████▍  | 301/408 [03:03<01:08,  1.56it/s]"
     ]
    },
    {
     "name": "stdout",
     "output_type": "stream",
     "text": [
      "Finetuned score: 0.2857142857142857\n",
      "Original score: 0.35714285714285715\n"
     ]
    },
    {
     "name": "stderr",
     "output_type": "stream",
     "text": [
      "Python(92735) MallocStackLogging: can't turn off malloc stack logging because it was not enabled.\n",
      "Python(92736) MallocStackLogging: can't turn off malloc stack logging because it was not enabled.\n",
      "Processing MP3 files:  74%|███████▍  | 302/408 [03:03<01:00,  1.74it/s]"
     ]
    },
    {
     "name": "stdout",
     "output_type": "stream",
     "text": [
      "Finetuned score: 0.0\n",
      "Original score: 0.0\n"
     ]
    },
    {
     "name": "stderr",
     "output_type": "stream",
     "text": [
      "Python(92737) MallocStackLogging: can't turn off malloc stack logging because it was not enabled.\n",
      "Python(92738) MallocStackLogging: can't turn off malloc stack logging because it was not enabled.\n",
      "Processing MP3 files:  74%|███████▍  | 303/408 [03:04<01:00,  1.73it/s]"
     ]
    },
    {
     "name": "stdout",
     "output_type": "stream",
     "text": [
      "Finetuned score: 0.125\n",
      "Original score: 0.25\n"
     ]
    },
    {
     "name": "stderr",
     "output_type": "stream",
     "text": [
      "Python(92739) MallocStackLogging: can't turn off malloc stack logging because it was not enabled.\n",
      "Python(92740) MallocStackLogging: can't turn off malloc stack logging because it was not enabled.\n",
      "Processing MP3 files:  75%|███████▍  | 304/408 [03:04<00:59,  1.74it/s]"
     ]
    },
    {
     "name": "stdout",
     "output_type": "stream",
     "text": [
      "Finetuned score: 0.0\n",
      "Original score: 0.0\n"
     ]
    },
    {
     "name": "stderr",
     "output_type": "stream",
     "text": [
      "Python(92741) MallocStackLogging: can't turn off malloc stack logging because it was not enabled.\n",
      "Python(92742) MallocStackLogging: can't turn off malloc stack logging because it was not enabled.\n",
      "Processing MP3 files:  75%|███████▍  | 305/408 [03:05<01:00,  1.71it/s]"
     ]
    },
    {
     "name": "stdout",
     "output_type": "stream",
     "text": [
      "Finetuned score: 0.47058823529411764\n",
      "Original score: 0.47058823529411764\n"
     ]
    },
    {
     "name": "stderr",
     "output_type": "stream",
     "text": [
      "Python(92743) MallocStackLogging: can't turn off malloc stack logging because it was not enabled.\n",
      "Python(92744) MallocStackLogging: can't turn off malloc stack logging because it was not enabled.\n",
      "Processing MP3 files:  75%|███████▌  | 306/408 [03:06<01:03,  1.60it/s]"
     ]
    },
    {
     "name": "stdout",
     "output_type": "stream",
     "text": [
      "Finetuned score: 0.4\n",
      "Original score: 0.5\n"
     ]
    },
    {
     "name": "stderr",
     "output_type": "stream",
     "text": [
      "Python(92745) MallocStackLogging: can't turn off malloc stack logging because it was not enabled.\n",
      "Python(92746) MallocStackLogging: can't turn off malloc stack logging because it was not enabled.\n",
      "Processing MP3 files:  75%|███████▌  | 307/408 [03:06<00:58,  1.73it/s]"
     ]
    },
    {
     "name": "stdout",
     "output_type": "stream",
     "text": [
      "Finetuned score: 0.2\n",
      "Original score: 0.8\n"
     ]
    },
    {
     "name": "stderr",
     "output_type": "stream",
     "text": [
      "Python(92747) MallocStackLogging: can't turn off malloc stack logging because it was not enabled.\n",
      "Python(92748) MallocStackLogging: can't turn off malloc stack logging because it was not enabled.\n",
      "Processing MP3 files:  75%|███████▌  | 308/408 [03:07<00:56,  1.77it/s]"
     ]
    },
    {
     "name": "stdout",
     "output_type": "stream",
     "text": [
      "Finetuned score: 0.0\n",
      "Original score: 0.09090909090909091\n"
     ]
    },
    {
     "name": "stderr",
     "output_type": "stream",
     "text": [
      "Python(92749) MallocStackLogging: can't turn off malloc stack logging because it was not enabled.\n",
      "Python(92750) MallocStackLogging: can't turn off malloc stack logging because it was not enabled.\n",
      "Processing MP3 files:  76%|███████▌  | 309/408 [03:07<00:53,  1.87it/s]"
     ]
    },
    {
     "name": "stdout",
     "output_type": "stream",
     "text": [
      "Finetuned score: 0.0\n",
      "Original score: 0.0\n"
     ]
    },
    {
     "name": "stderr",
     "output_type": "stream",
     "text": [
      "Python(92751) MallocStackLogging: can't turn off malloc stack logging because it was not enabled.\n",
      "Python(92752) MallocStackLogging: can't turn off malloc stack logging because it was not enabled.\n",
      "Processing MP3 files:  76%|███████▌  | 310/408 [03:08<00:50,  1.94it/s]"
     ]
    },
    {
     "name": "stdout",
     "output_type": "stream",
     "text": [
      "Finetuned score: 0.0\n",
      "Original score: 0.0\n"
     ]
    },
    {
     "name": "stderr",
     "output_type": "stream",
     "text": [
      "Python(92753) MallocStackLogging: can't turn off malloc stack logging because it was not enabled.\n",
      "Python(92754) MallocStackLogging: can't turn off malloc stack logging because it was not enabled.\n",
      "Processing MP3 files:  76%|███████▌  | 311/408 [03:08<00:51,  1.87it/s]"
     ]
    },
    {
     "name": "stdout",
     "output_type": "stream",
     "text": [
      "Finetuned score: 0.2\n",
      "Original score: 0.3\n"
     ]
    },
    {
     "name": "stderr",
     "output_type": "stream",
     "text": [
      "Python(92755) MallocStackLogging: can't turn off malloc stack logging because it was not enabled.\n",
      "Python(92756) MallocStackLogging: can't turn off malloc stack logging because it was not enabled.\n",
      "Processing MP3 files:  76%|███████▋  | 312/408 [03:09<00:49,  1.95it/s]"
     ]
    },
    {
     "name": "stdout",
     "output_type": "stream",
     "text": [
      "Finetuned score: 0.0\n",
      "Original score: 0.16666666666666666\n"
     ]
    },
    {
     "name": "stderr",
     "output_type": "stream",
     "text": [
      "Python(92757) MallocStackLogging: can't turn off malloc stack logging because it was not enabled.\n",
      "Python(92758) MallocStackLogging: can't turn off malloc stack logging because it was not enabled.\n",
      "Processing MP3 files:  77%|███████▋  | 313/408 [03:09<00:48,  1.94it/s]"
     ]
    },
    {
     "name": "stdout",
     "output_type": "stream",
     "text": [
      "Finetuned score: 0.8\n",
      "Original score: 0.8\n"
     ]
    },
    {
     "name": "stderr",
     "output_type": "stream",
     "text": [
      "Python(92759) MallocStackLogging: can't turn off malloc stack logging because it was not enabled.\n",
      "Python(92760) MallocStackLogging: can't turn off malloc stack logging because it was not enabled.\n",
      "Processing MP3 files:  77%|███████▋  | 314/408 [03:10<00:50,  1.86it/s]"
     ]
    },
    {
     "name": "stdout",
     "output_type": "stream",
     "text": [
      "Finetuned score: 0.6363636363636364\n",
      "Original score: 0.6363636363636364\n"
     ]
    },
    {
     "name": "stderr",
     "output_type": "stream",
     "text": [
      "Python(92761) MallocStackLogging: can't turn off malloc stack logging because it was not enabled.\n",
      "Python(92762) MallocStackLogging: can't turn off malloc stack logging because it was not enabled.\n",
      "Processing MP3 files:  77%|███████▋  | 315/408 [03:11<00:56,  1.65it/s]"
     ]
    },
    {
     "name": "stdout",
     "output_type": "stream",
     "text": [
      "Finetuned score: 0.06666666666666667\n",
      "Original score: 0.2\n"
     ]
    },
    {
     "name": "stderr",
     "output_type": "stream",
     "text": [
      "Python(92763) MallocStackLogging: can't turn off malloc stack logging because it was not enabled.\n",
      "Python(92764) MallocStackLogging: can't turn off malloc stack logging because it was not enabled.\n",
      "Processing MP3 files:  77%|███████▋  | 316/408 [03:11<00:55,  1.65it/s]"
     ]
    },
    {
     "name": "stdout",
     "output_type": "stream",
     "text": [
      "Finetuned score: 0.0\n",
      "Original score: 0.0\n"
     ]
    },
    {
     "name": "stderr",
     "output_type": "stream",
     "text": [
      "Python(92765) MallocStackLogging: can't turn off malloc stack logging because it was not enabled.\n",
      "Python(92766) MallocStackLogging: can't turn off malloc stack logging because it was not enabled.\n",
      "Processing MP3 files:  78%|███████▊  | 317/408 [03:12<00:51,  1.77it/s]"
     ]
    },
    {
     "name": "stdout",
     "output_type": "stream",
     "text": [
      "Finetuned score: 0.0\n",
      "Original score: 0.1\n"
     ]
    },
    {
     "name": "stderr",
     "output_type": "stream",
     "text": [
      "Python(92767) MallocStackLogging: can't turn off malloc stack logging because it was not enabled.\n",
      "Python(92768) MallocStackLogging: can't turn off malloc stack logging because it was not enabled.\n",
      "Processing MP3 files:  78%|███████▊  | 318/408 [03:12<00:47,  1.88it/s]"
     ]
    },
    {
     "name": "stdout",
     "output_type": "stream",
     "text": [
      "Finetuned score: 0.0\n",
      "Original score: 0.5\n"
     ]
    },
    {
     "name": "stderr",
     "output_type": "stream",
     "text": [
      "Python(92769) MallocStackLogging: can't turn off malloc stack logging because it was not enabled.\n",
      "Python(92770) MallocStackLogging: can't turn off malloc stack logging because it was not enabled.\n",
      "Processing MP3 files:  78%|███████▊  | 319/408 [03:13<00:48,  1.82it/s]"
     ]
    },
    {
     "name": "stdout",
     "output_type": "stream",
     "text": [
      "Finetuned score: 0.08333333333333333\n",
      "Original score: 0.16666666666666666\n"
     ]
    },
    {
     "name": "stderr",
     "output_type": "stream",
     "text": [
      "Python(92771) MallocStackLogging: can't turn off malloc stack logging because it was not enabled.\n",
      "Python(92772) MallocStackLogging: can't turn off malloc stack logging because it was not enabled.\n",
      "Processing MP3 files:  78%|███████▊  | 320/408 [03:13<00:50,  1.75it/s]"
     ]
    },
    {
     "name": "stdout",
     "output_type": "stream",
     "text": [
      "Finetuned score: 0.2\n",
      "Original score: 0.2\n"
     ]
    },
    {
     "name": "stderr",
     "output_type": "stream",
     "text": [
      "Python(92773) MallocStackLogging: can't turn off malloc stack logging because it was not enabled.\n",
      "Python(92774) MallocStackLogging: can't turn off malloc stack logging because it was not enabled.\n",
      "Processing MP3 files:  79%|███████▊  | 321/408 [03:14<00:46,  1.86it/s]"
     ]
    },
    {
     "name": "stdout",
     "output_type": "stream",
     "text": [
      "Finetuned score: 0.5\n",
      "Original score: 0.75\n"
     ]
    },
    {
     "name": "stderr",
     "output_type": "stream",
     "text": [
      "Python(92775) MallocStackLogging: can't turn off malloc stack logging because it was not enabled.\n",
      "Python(92776) MallocStackLogging: can't turn off malloc stack logging because it was not enabled.\n",
      "Processing MP3 files:  79%|███████▉  | 322/408 [03:14<00:45,  1.87it/s]"
     ]
    },
    {
     "name": "stdout",
     "output_type": "stream",
     "text": [
      "Finetuned score: 0.0\n",
      "Original score: 0.0\n"
     ]
    },
    {
     "name": "stderr",
     "output_type": "stream",
     "text": [
      "Python(92777) MallocStackLogging: can't turn off malloc stack logging because it was not enabled.\n",
      "Python(92778) MallocStackLogging: can't turn off malloc stack logging because it was not enabled.\n",
      "Processing MP3 files:  79%|███████▉  | 323/408 [03:15<00:49,  1.72it/s]"
     ]
    },
    {
     "name": "stdout",
     "output_type": "stream",
     "text": [
      "Finetuned score: 0.09090909090909091\n",
      "Original score: 0.09090909090909091\n"
     ]
    },
    {
     "name": "stderr",
     "output_type": "stream",
     "text": [
      "Python(92779) MallocStackLogging: can't turn off malloc stack logging because it was not enabled.\n",
      "Python(92780) MallocStackLogging: can't turn off malloc stack logging because it was not enabled.\n",
      "Processing MP3 files:  79%|███████▉  | 324/408 [03:16<00:47,  1.76it/s]"
     ]
    },
    {
     "name": "stdout",
     "output_type": "stream",
     "text": [
      "Finetuned score: 0.1111111111111111\n",
      "Original score: 0.2222222222222222\n"
     ]
    },
    {
     "name": "stderr",
     "output_type": "stream",
     "text": [
      "Python(92781) MallocStackLogging: can't turn off malloc stack logging because it was not enabled.\n",
      "Python(92782) MallocStackLogging: can't turn off malloc stack logging because it was not enabled.\n",
      "Processing MP3 files:  80%|███████▉  | 325/408 [03:16<00:44,  1.85it/s]"
     ]
    },
    {
     "name": "stdout",
     "output_type": "stream",
     "text": [
      "Finetuned score: 0.0\n",
      "Original score: 0.3333333333333333\n"
     ]
    },
    {
     "name": "stderr",
     "output_type": "stream",
     "text": [
      "Python(92783) MallocStackLogging: can't turn off malloc stack logging because it was not enabled.\n",
      "Python(92784) MallocStackLogging: can't turn off malloc stack logging because it was not enabled.\n",
      "Processing MP3 files:  80%|███████▉  | 326/408 [03:16<00:43,  1.90it/s]"
     ]
    },
    {
     "name": "stdout",
     "output_type": "stream",
     "text": [
      "Finetuned score: 0.375\n",
      "Original score: 0.25\n"
     ]
    },
    {
     "name": "stderr",
     "output_type": "stream",
     "text": [
      "Python(92785) MallocStackLogging: can't turn off malloc stack logging because it was not enabled.\n",
      "Python(92786) MallocStackLogging: can't turn off malloc stack logging because it was not enabled.\n",
      "Processing MP3 files:  80%|████████  | 327/408 [03:17<00:41,  1.93it/s]"
     ]
    },
    {
     "name": "stdout",
     "output_type": "stream",
     "text": [
      "Finetuned score: 0.7142857142857143\n",
      "Original score: 1.0\n"
     ]
    },
    {
     "name": "stderr",
     "output_type": "stream",
     "text": [
      "Python(92787) MallocStackLogging: can't turn off malloc stack logging because it was not enabled.\n",
      "Python(92788) MallocStackLogging: can't turn off malloc stack logging because it was not enabled.\n",
      "Processing MP3 files:  80%|████████  | 328/408 [03:17<00:41,  1.93it/s]"
     ]
    },
    {
     "name": "stdout",
     "output_type": "stream",
     "text": [
      "Finetuned score: 0.14285714285714285\n",
      "Original score: 0.14285714285714285\n"
     ]
    },
    {
     "name": "stderr",
     "output_type": "stream",
     "text": [
      "Python(92789) MallocStackLogging: can't turn off malloc stack logging because it was not enabled.\n",
      "Python(92790) MallocStackLogging: can't turn off malloc stack logging because it was not enabled.\n",
      "Processing MP3 files:  81%|████████  | 329/408 [03:18<00:46,  1.71it/s]"
     ]
    },
    {
     "name": "stdout",
     "output_type": "stream",
     "text": [
      "Finetuned score: 0.07692307692307693\n",
      "Original score: 0.46153846153846156\n"
     ]
    },
    {
     "name": "stderr",
     "output_type": "stream",
     "text": [
      "Python(92791) MallocStackLogging: can't turn off malloc stack logging because it was not enabled.\n",
      "Python(92792) MallocStackLogging: can't turn off malloc stack logging because it was not enabled.\n",
      "Processing MP3 files:  81%|████████  | 330/408 [03:19<00:47,  1.63it/s]"
     ]
    },
    {
     "name": "stdout",
     "output_type": "stream",
     "text": [
      "Finetuned score: 0.1875\n",
      "Original score: 0.1875\n"
     ]
    },
    {
     "name": "stderr",
     "output_type": "stream",
     "text": [
      "Python(92793) MallocStackLogging: can't turn off malloc stack logging because it was not enabled.\n",
      "Python(92794) MallocStackLogging: can't turn off malloc stack logging because it was not enabled.\n",
      "Processing MP3 files:  81%|████████  | 331/408 [03:19<00:43,  1.77it/s]"
     ]
    },
    {
     "name": "stdout",
     "output_type": "stream",
     "text": [
      "Finetuned score: 0.0\n",
      "Original score: 0.2\n"
     ]
    },
    {
     "name": "stderr",
     "output_type": "stream",
     "text": [
      "Python(92795) MallocStackLogging: can't turn off malloc stack logging because it was not enabled.\n",
      "Python(92796) MallocStackLogging: can't turn off malloc stack logging because it was not enabled.\n",
      "Processing MP3 files:  81%|████████▏ | 332/408 [03:20<00:44,  1.71it/s]"
     ]
    },
    {
     "name": "stdout",
     "output_type": "stream",
     "text": [
      "Finetuned score: 0.0\n",
      "Original score: 0.08333333333333333\n"
     ]
    },
    {
     "name": "stderr",
     "output_type": "stream",
     "text": [
      "Python(92798) MallocStackLogging: can't turn off malloc stack logging because it was not enabled.\n",
      "Python(92799) MallocStackLogging: can't turn off malloc stack logging because it was not enabled.\n",
      "Processing MP3 files:  82%|████████▏ | 333/408 [03:21<00:42,  1.76it/s]"
     ]
    },
    {
     "name": "stdout",
     "output_type": "stream",
     "text": [
      "Finetuned score: 0.125\n",
      "Original score: 0.125\n"
     ]
    },
    {
     "name": "stderr",
     "output_type": "stream",
     "text": [
      "Python(92800) MallocStackLogging: can't turn off malloc stack logging because it was not enabled.\n",
      "Python(92801) MallocStackLogging: can't turn off malloc stack logging because it was not enabled.\n",
      "Processing MP3 files:  82%|████████▏ | 334/408 [03:21<00:39,  1.86it/s]"
     ]
    },
    {
     "name": "stdout",
     "output_type": "stream",
     "text": [
      "Finetuned score: 0.25\n",
      "Original score: 0.5\n"
     ]
    },
    {
     "name": "stderr",
     "output_type": "stream",
     "text": [
      "Python(92806) MallocStackLogging: can't turn off malloc stack logging because it was not enabled.\n",
      "Python(92807) MallocStackLogging: can't turn off malloc stack logging because it was not enabled.\n",
      "Processing MP3 files:  82%|████████▏ | 335/408 [03:22<00:40,  1.81it/s]"
     ]
    },
    {
     "name": "stdout",
     "output_type": "stream",
     "text": [
      "Finetuned score: 0.2\n",
      "Original score: 0.2\n"
     ]
    },
    {
     "name": "stderr",
     "output_type": "stream",
     "text": [
      "Python(92808) MallocStackLogging: can't turn off malloc stack logging because it was not enabled.\n",
      "Python(92809) MallocStackLogging: can't turn off malloc stack logging because it was not enabled.\n",
      "Processing MP3 files:  82%|████████▏ | 336/408 [03:22<00:41,  1.73it/s]"
     ]
    },
    {
     "name": "stdout",
     "output_type": "stream",
     "text": [
      "Finetuned score: 0.125\n",
      "Original score: 0.1875\n"
     ]
    },
    {
     "name": "stderr",
     "output_type": "stream",
     "text": [
      "Python(92810) MallocStackLogging: can't turn off malloc stack logging because it was not enabled.\n",
      "Python(92811) MallocStackLogging: can't turn off malloc stack logging because it was not enabled.\n",
      "Processing MP3 files:  83%|████████▎ | 337/408 [03:23<00:38,  1.84it/s]"
     ]
    },
    {
     "name": "stdout",
     "output_type": "stream",
     "text": [
      "Finetuned score: 0.2\n",
      "Original score: 1.0\n"
     ]
    },
    {
     "name": "stderr",
     "output_type": "stream",
     "text": [
      "Python(92812) MallocStackLogging: can't turn off malloc stack logging because it was not enabled.\n",
      "Python(92813) MallocStackLogging: can't turn off malloc stack logging because it was not enabled.\n",
      "Processing MP3 files:  83%|████████▎ | 338/408 [03:23<00:39,  1.79it/s]"
     ]
    },
    {
     "name": "stdout",
     "output_type": "stream",
     "text": [
      "Finetuned score: 0.1\n",
      "Original score: 0.3\n"
     ]
    },
    {
     "name": "stderr",
     "output_type": "stream",
     "text": [
      "Python(92814) MallocStackLogging: can't turn off malloc stack logging because it was not enabled.\n",
      "Python(92815) MallocStackLogging: can't turn off malloc stack logging because it was not enabled.\n",
      "Processing MP3 files:  83%|████████▎ | 339/408 [03:24<00:37,  1.86it/s]"
     ]
    },
    {
     "name": "stdout",
     "output_type": "stream",
     "text": [
      "Finetuned score: 0.5\n",
      "Original score: 0.75\n"
     ]
    },
    {
     "name": "stderr",
     "output_type": "stream",
     "text": [
      "Python(92816) MallocStackLogging: can't turn off malloc stack logging because it was not enabled.\n",
      "Python(92817) MallocStackLogging: can't turn off malloc stack logging because it was not enabled.\n",
      "Processing MP3 files:  83%|████████▎ | 340/408 [03:24<00:33,  2.01it/s]"
     ]
    },
    {
     "name": "stdout",
     "output_type": "stream",
     "text": [
      "Finetuned score: 0.0\n",
      "Original score: 0.0\n"
     ]
    },
    {
     "name": "stderr",
     "output_type": "stream",
     "text": [
      "Python(92818) MallocStackLogging: can't turn off malloc stack logging because it was not enabled.\n",
      "Python(92819) MallocStackLogging: can't turn off malloc stack logging because it was not enabled.\n",
      "Processing MP3 files:  84%|████████▎ | 341/408 [03:25<00:38,  1.73it/s]"
     ]
    },
    {
     "name": "stdout",
     "output_type": "stream",
     "text": [
      "Finetuned score: 0.05\n",
      "Original score: 0.15\n"
     ]
    },
    {
     "name": "stderr",
     "output_type": "stream",
     "text": [
      "Python(92820) MallocStackLogging: can't turn off malloc stack logging because it was not enabled.\n",
      "Python(92821) MallocStackLogging: can't turn off malloc stack logging because it was not enabled.\n",
      "Processing MP3 files:  84%|████████▍ | 342/408 [03:25<00:37,  1.76it/s]"
     ]
    },
    {
     "name": "stdout",
     "output_type": "stream",
     "text": [
      "Finetuned score: 0.0\n",
      "Original score: 0.5\n"
     ]
    },
    {
     "name": "stderr",
     "output_type": "stream",
     "text": [
      "Python(92822) MallocStackLogging: can't turn off malloc stack logging because it was not enabled.\n",
      "Python(92823) MallocStackLogging: can't turn off malloc stack logging because it was not enabled.\n",
      "Processing MP3 files:  84%|████████▍ | 343/408 [03:26<00:37,  1.74it/s]"
     ]
    },
    {
     "name": "stdout",
     "output_type": "stream",
     "text": [
      "Finetuned score: 0.0\n",
      "Original score: 0.0\n"
     ]
    },
    {
     "name": "stderr",
     "output_type": "stream",
     "text": [
      "Python(92824) MallocStackLogging: can't turn off malloc stack logging because it was not enabled.\n",
      "Python(92825) MallocStackLogging: can't turn off malloc stack logging because it was not enabled.\n",
      "Processing MP3 files:  84%|████████▍ | 344/408 [03:27<00:38,  1.67it/s]"
     ]
    },
    {
     "name": "stdout",
     "output_type": "stream",
     "text": [
      "Finetuned score: 0.8888888888888888\n",
      "Original score: 1.0\n"
     ]
    },
    {
     "name": "stderr",
     "output_type": "stream",
     "text": [
      "Python(92826) MallocStackLogging: can't turn off malloc stack logging because it was not enabled.\n",
      "Python(92827) MallocStackLogging: can't turn off malloc stack logging because it was not enabled.\n",
      "Processing MP3 files:  85%|████████▍ | 345/408 [03:27<00:34,  1.80it/s]"
     ]
    },
    {
     "name": "stdout",
     "output_type": "stream",
     "text": [
      "Finetuned score: 0.0\n",
      "Original score: 0.42857142857142855\n"
     ]
    },
    {
     "name": "stderr",
     "output_type": "stream",
     "text": [
      "Python(92828) MallocStackLogging: can't turn off malloc stack logging because it was not enabled.\n",
      "Python(92829) MallocStackLogging: can't turn off malloc stack logging because it was not enabled.\n",
      "Processing MP3 files:  85%|████████▍ | 346/408 [03:28<00:32,  1.90it/s]"
     ]
    },
    {
     "name": "stdout",
     "output_type": "stream",
     "text": [
      "Finetuned score: 0.0\n",
      "Original score: 0.16666666666666666\n"
     ]
    },
    {
     "name": "stderr",
     "output_type": "stream",
     "text": [
      "Python(92830) MallocStackLogging: can't turn off malloc stack logging because it was not enabled.\n",
      "Python(92831) MallocStackLogging: can't turn off malloc stack logging because it was not enabled.\n",
      "Processing MP3 files:  85%|████████▌ | 347/408 [03:28<00:37,  1.63it/s]"
     ]
    },
    {
     "name": "stdout",
     "output_type": "stream",
     "text": [
      "Finetuned score: 0.3076923076923077\n",
      "Original score: 0.46153846153846156\n"
     ]
    },
    {
     "name": "stderr",
     "output_type": "stream",
     "text": [
      "Python(92832) MallocStackLogging: can't turn off malloc stack logging because it was not enabled.\n",
      "Python(92833) MallocStackLogging: can't turn off malloc stack logging because it was not enabled.\n",
      "Processing MP3 files:  85%|████████▌ | 348/408 [03:29<00:38,  1.58it/s]"
     ]
    },
    {
     "name": "stdout",
     "output_type": "stream",
     "text": [
      "Finetuned score: 0.26666666666666666\n",
      "Original score: 0.26666666666666666\n"
     ]
    },
    {
     "name": "stderr",
     "output_type": "stream",
     "text": [
      "Python(92834) MallocStackLogging: can't turn off malloc stack logging because it was not enabled.\n",
      "Python(92835) MallocStackLogging: can't turn off malloc stack logging because it was not enabled.\n",
      "Processing MP3 files:  86%|████████▌ | 349/408 [03:30<00:34,  1.69it/s]"
     ]
    },
    {
     "name": "stdout",
     "output_type": "stream",
     "text": [
      "Finetuned score: 0.0\n",
      "Original score: 0.5\n"
     ]
    },
    {
     "name": "stderr",
     "output_type": "stream",
     "text": [
      "Python(92836) MallocStackLogging: can't turn off malloc stack logging because it was not enabled.\n",
      "Python(92837) MallocStackLogging: can't turn off malloc stack logging because it was not enabled.\n",
      "Processing MP3 files:  86%|████████▌ | 350/408 [03:30<00:31,  1.83it/s]"
     ]
    },
    {
     "name": "stdout",
     "output_type": "stream",
     "text": [
      "Finetuned score: 0.14285714285714285\n",
      "Original score: 0.14285714285714285\n"
     ]
    },
    {
     "name": "stderr",
     "output_type": "stream",
     "text": [
      "Python(92838) MallocStackLogging: can't turn off malloc stack logging because it was not enabled.\n",
      "Python(92839) MallocStackLogging: can't turn off malloc stack logging because it was not enabled.\n",
      "Processing MP3 files:  86%|████████▌ | 351/408 [03:31<00:33,  1.69it/s]"
     ]
    },
    {
     "name": "stdout",
     "output_type": "stream",
     "text": [
      "Finetuned score: 0.0\n",
      "Original score: 0.0\n"
     ]
    },
    {
     "name": "stderr",
     "output_type": "stream",
     "text": [
      "Python(92840) MallocStackLogging: can't turn off malloc stack logging because it was not enabled.\n",
      "Python(92841) MallocStackLogging: can't turn off malloc stack logging because it was not enabled.\n",
      "Processing MP3 files:  86%|████████▋ | 352/408 [03:31<00:32,  1.71it/s]"
     ]
    },
    {
     "name": "stdout",
     "output_type": "stream",
     "text": [
      "Finetuned score: 0.125\n",
      "Original score: 0.125\n"
     ]
    },
    {
     "name": "stderr",
     "output_type": "stream",
     "text": [
      "Python(92842) MallocStackLogging: can't turn off malloc stack logging because it was not enabled.\n",
      "Python(92843) MallocStackLogging: can't turn off malloc stack logging because it was not enabled.\n",
      "Processing MP3 files:  87%|████████▋ | 353/408 [03:32<00:30,  1.78it/s]"
     ]
    },
    {
     "name": "stdout",
     "output_type": "stream",
     "text": [
      "Finetuned score: 0.0\n",
      "Original score: 0.0\n"
     ]
    },
    {
     "name": "stderr",
     "output_type": "stream",
     "text": [
      "Python(92844) MallocStackLogging: can't turn off malloc stack logging because it was not enabled.\n",
      "Python(92845) MallocStackLogging: can't turn off malloc stack logging because it was not enabled.\n",
      "Processing MP3 files:  87%|████████▋ | 354/408 [03:33<00:32,  1.67it/s]"
     ]
    },
    {
     "name": "stdout",
     "output_type": "stream",
     "text": [
      "Finetuned score: 0.14285714285714285\n",
      "Original score: 0.42857142857142855\n"
     ]
    },
    {
     "name": "stderr",
     "output_type": "stream",
     "text": [
      "Python(92846) MallocStackLogging: can't turn off malloc stack logging because it was not enabled.\n",
      "Python(92847) MallocStackLogging: can't turn off malloc stack logging because it was not enabled.\n",
      "Processing MP3 files:  87%|████████▋ | 355/408 [03:33<00:32,  1.65it/s]"
     ]
    },
    {
     "name": "stdout",
     "output_type": "stream",
     "text": [
      "Finetuned score: 0.2857142857142857\n",
      "Original score: 0.5714285714285714\n"
     ]
    },
    {
     "name": "stderr",
     "output_type": "stream",
     "text": [
      "Python(92848) MallocStackLogging: can't turn off malloc stack logging because it was not enabled.\n",
      "Python(92849) MallocStackLogging: can't turn off malloc stack logging because it was not enabled.\n",
      "Processing MP3 files:  87%|████████▋ | 356/408 [03:34<00:29,  1.75it/s]"
     ]
    },
    {
     "name": "stdout",
     "output_type": "stream",
     "text": [
      "Finetuned score: 0.16666666666666666\n",
      "Original score: 0.16666666666666666\n"
     ]
    },
    {
     "name": "stderr",
     "output_type": "stream",
     "text": [
      "Python(92850) MallocStackLogging: can't turn off malloc stack logging because it was not enabled.\n",
      "Python(92851) MallocStackLogging: can't turn off malloc stack logging because it was not enabled.\n",
      "Processing MP3 files:  88%|████████▊ | 357/408 [03:34<00:27,  1.84it/s]"
     ]
    },
    {
     "name": "stdout",
     "output_type": "stream",
     "text": [
      "Finetuned score: 0.0\n",
      "Original score: 0.1111111111111111\n"
     ]
    },
    {
     "name": "stderr",
     "output_type": "stream",
     "text": [
      "Python(92852) MallocStackLogging: can't turn off malloc stack logging because it was not enabled.\n",
      "Python(92853) MallocStackLogging: can't turn off malloc stack logging because it was not enabled.\n",
      "Processing MP3 files:  88%|████████▊ | 358/408 [03:35<00:29,  1.68it/s]"
     ]
    },
    {
     "name": "stdout",
     "output_type": "stream",
     "text": [
      "Finetuned score: 0.15384615384615385\n",
      "Original score: 0.38461538461538464\n"
     ]
    },
    {
     "name": "stderr",
     "output_type": "stream",
     "text": [
      "Python(92854) MallocStackLogging: can't turn off malloc stack logging because it was not enabled.\n",
      "Python(92855) MallocStackLogging: can't turn off malloc stack logging because it was not enabled.\n",
      "Processing MP3 files:  88%|████████▊ | 359/408 [03:35<00:29,  1.68it/s]"
     ]
    },
    {
     "name": "stdout",
     "output_type": "stream",
     "text": [
      "Finetuned score: 0.0\n",
      "Original score: 0.0\n"
     ]
    },
    {
     "name": "stderr",
     "output_type": "stream",
     "text": [
      "Python(92856) MallocStackLogging: can't turn off malloc stack logging because it was not enabled.\n",
      "Python(92857) MallocStackLogging: can't turn off malloc stack logging because it was not enabled.\n",
      "Processing MP3 files:  88%|████████▊ | 360/408 [03:36<00:29,  1.63it/s]"
     ]
    },
    {
     "name": "stdout",
     "output_type": "stream",
     "text": [
      "Finetuned score: 0.0\n",
      "Original score: 0.15384615384615385\n"
     ]
    },
    {
     "name": "stderr",
     "output_type": "stream",
     "text": [
      "Python(92858) MallocStackLogging: can't turn off malloc stack logging because it was not enabled.\n",
      "Python(92859) MallocStackLogging: can't turn off malloc stack logging because it was not enabled.\n",
      "Processing MP3 files:  88%|████████▊ | 361/408 [03:37<00:27,  1.70it/s]"
     ]
    },
    {
     "name": "stdout",
     "output_type": "stream",
     "text": [
      "Finetuned score: 0.0\n",
      "Original score: 0.14285714285714285\n"
     ]
    },
    {
     "name": "stderr",
     "output_type": "stream",
     "text": [
      "Python(92860) MallocStackLogging: can't turn off malloc stack logging because it was not enabled.\n",
      "Python(92861) MallocStackLogging: can't turn off malloc stack logging because it was not enabled.\n",
      "Processing MP3 files:  89%|████████▊ | 362/408 [03:37<00:28,  1.61it/s]"
     ]
    },
    {
     "name": "stdout",
     "output_type": "stream",
     "text": [
      "Finetuned score: 0.0\n",
      "Original score: 0.0\n"
     ]
    },
    {
     "name": "stderr",
     "output_type": "stream",
     "text": [
      "Python(92862) MallocStackLogging: can't turn off malloc stack logging because it was not enabled.\n",
      "Python(92863) MallocStackLogging: can't turn off malloc stack logging because it was not enabled.\n",
      "Processing MP3 files:  89%|████████▉ | 363/408 [03:38<00:26,  1.68it/s]"
     ]
    },
    {
     "name": "stdout",
     "output_type": "stream",
     "text": [
      "Finetuned score: 0.2\n",
      "Original score: 0.5\n"
     ]
    },
    {
     "name": "stderr",
     "output_type": "stream",
     "text": [
      "Python(92864) MallocStackLogging: can't turn off malloc stack logging because it was not enabled.\n",
      "Python(92865) MallocStackLogging: can't turn off malloc stack logging because it was not enabled.\n",
      "Processing MP3 files:  89%|████████▉ | 364/408 [03:39<00:30,  1.47it/s]"
     ]
    },
    {
     "name": "stdout",
     "output_type": "stream",
     "text": [
      "Finetuned score: 0.0\n",
      "Original score: 0.3\n"
     ]
    },
    {
     "name": "stderr",
     "output_type": "stream",
     "text": [
      "Python(92866) MallocStackLogging: can't turn off malloc stack logging because it was not enabled.\n",
      "Python(92867) MallocStackLogging: can't turn off malloc stack logging because it was not enabled.\n",
      "Processing MP3 files:  89%|████████▉ | 365/408 [03:39<00:28,  1.53it/s]"
     ]
    },
    {
     "name": "stdout",
     "output_type": "stream",
     "text": [
      "Finetuned score: 0.2\n",
      "Original score: 0.2\n"
     ]
    },
    {
     "name": "stderr",
     "output_type": "stream",
     "text": [
      "Python(92868) MallocStackLogging: can't turn off malloc stack logging because it was not enabled.\n",
      "Python(92869) MallocStackLogging: can't turn off malloc stack logging because it was not enabled.\n",
      "Processing MP3 files:  90%|████████▉ | 366/408 [03:40<00:25,  1.64it/s]"
     ]
    },
    {
     "name": "stdout",
     "output_type": "stream",
     "text": [
      "Finetuned score: 0.3333333333333333\n",
      "Original score: 0.3333333333333333\n"
     ]
    },
    {
     "name": "stderr",
     "output_type": "stream",
     "text": [
      "Python(92870) MallocStackLogging: can't turn off malloc stack logging because it was not enabled.\n",
      "Python(92871) MallocStackLogging: can't turn off malloc stack logging because it was not enabled.\n",
      "Processing MP3 files:  90%|████████▉ | 367/408 [03:40<00:23,  1.73it/s]"
     ]
    },
    {
     "name": "stdout",
     "output_type": "stream",
     "text": [
      "Finetuned score: 0.0\n",
      "Original score: 0.1\n"
     ]
    },
    {
     "name": "stderr",
     "output_type": "stream",
     "text": [
      "Python(92873) MallocStackLogging: can't turn off malloc stack logging because it was not enabled.\n",
      "Python(92874) MallocStackLogging: can't turn off malloc stack logging because it was not enabled.\n",
      "Processing MP3 files:  90%|█████████ | 368/408 [03:41<00:22,  1.76it/s]"
     ]
    },
    {
     "name": "stdout",
     "output_type": "stream",
     "text": [
      "Finetuned score: 0.09090909090909091\n",
      "Original score: 0.09090909090909091\n"
     ]
    },
    {
     "name": "stderr",
     "output_type": "stream",
     "text": [
      "Python(92875) MallocStackLogging: can't turn off malloc stack logging because it was not enabled.\n",
      "Python(92876) MallocStackLogging: can't turn off malloc stack logging because it was not enabled.\n",
      "Processing MP3 files:  90%|█████████ | 369/408 [03:41<00:21,  1.79it/s]"
     ]
    },
    {
     "name": "stdout",
     "output_type": "stream",
     "text": [
      "Finetuned score: 0.25\n",
      "Original score: 0.25\n"
     ]
    },
    {
     "name": "stderr",
     "output_type": "stream",
     "text": [
      "Python(92877) MallocStackLogging: can't turn off malloc stack logging because it was not enabled.\n",
      "Python(92878) MallocStackLogging: can't turn off malloc stack logging because it was not enabled.\n",
      "Processing MP3 files:  91%|█████████ | 370/408 [03:42<00:20,  1.85it/s]"
     ]
    },
    {
     "name": "stdout",
     "output_type": "stream",
     "text": [
      "Finetuned score: 0.0\n",
      "Original score: 0.125\n"
     ]
    },
    {
     "name": "stderr",
     "output_type": "stream",
     "text": [
      "Python(92879) MallocStackLogging: can't turn off malloc stack logging because it was not enabled.\n",
      "Python(92880) MallocStackLogging: can't turn off malloc stack logging because it was not enabled.\n",
      "Processing MP3 files:  91%|█████████ | 371/408 [03:42<00:18,  1.95it/s]"
     ]
    },
    {
     "name": "stdout",
     "output_type": "stream",
     "text": [
      "Finetuned score: 0.0\n",
      "Original score: 0.25\n"
     ]
    },
    {
     "name": "stderr",
     "output_type": "stream",
     "text": [
      "Python(92881) MallocStackLogging: can't turn off malloc stack logging because it was not enabled.\n",
      "Python(92882) MallocStackLogging: can't turn off malloc stack logging because it was not enabled.\n",
      "Processing MP3 files:  91%|█████████ | 372/408 [03:43<00:20,  1.79it/s]"
     ]
    },
    {
     "name": "stdout",
     "output_type": "stream",
     "text": [
      "Finetuned score: 0.7142857142857143\n",
      "Original score: 0.8571428571428571\n"
     ]
    },
    {
     "name": "stderr",
     "output_type": "stream",
     "text": [
      "Python(92883) MallocStackLogging: can't turn off malloc stack logging because it was not enabled.\n",
      "Python(92884) MallocStackLogging: can't turn off malloc stack logging because it was not enabled.\n",
      "Processing MP3 files:  91%|█████████▏| 373/408 [03:44<00:20,  1.69it/s]"
     ]
    },
    {
     "name": "stdout",
     "output_type": "stream",
     "text": [
      "Finetuned score: 0.0625\n",
      "Original score: 0.125\n"
     ]
    },
    {
     "name": "stderr",
     "output_type": "stream",
     "text": [
      "Python(92885) MallocStackLogging: can't turn off malloc stack logging because it was not enabled.\n",
      "Python(92886) MallocStackLogging: can't turn off malloc stack logging because it was not enabled.\n",
      "Processing MP3 files:  92%|█████████▏| 374/408 [03:44<00:19,  1.78it/s]"
     ]
    },
    {
     "name": "stdout",
     "output_type": "stream",
     "text": [
      "Finetuned score: 0.09090909090909091\n",
      "Original score: 0.18181818181818182\n"
     ]
    },
    {
     "name": "stderr",
     "output_type": "stream",
     "text": [
      "Python(92887) MallocStackLogging: can't turn off malloc stack logging because it was not enabled.\n",
      "Python(92888) MallocStackLogging: can't turn off malloc stack logging because it was not enabled.\n",
      "Processing MP3 files:  92%|█████████▏| 375/408 [03:45<00:17,  1.86it/s]"
     ]
    },
    {
     "name": "stdout",
     "output_type": "stream",
     "text": [
      "Finetuned score: 0.2\n",
      "Original score: 0.6\n"
     ]
    },
    {
     "name": "stderr",
     "output_type": "stream",
     "text": [
      "Python(92889) MallocStackLogging: can't turn off malloc stack logging because it was not enabled.\n",
      "Python(92890) MallocStackLogging: can't turn off malloc stack logging because it was not enabled.\n",
      "Processing MP3 files:  92%|█████████▏| 376/408 [03:45<00:16,  1.94it/s]"
     ]
    },
    {
     "name": "stdout",
     "output_type": "stream",
     "text": [
      "Finetuned score: 0.4\n",
      "Original score: 0.4\n"
     ]
    },
    {
     "name": "stderr",
     "output_type": "stream",
     "text": [
      "Python(92891) MallocStackLogging: can't turn off malloc stack logging because it was not enabled.\n",
      "Python(92892) MallocStackLogging: can't turn off malloc stack logging because it was not enabled.\n",
      "Processing MP3 files:  92%|█████████▏| 377/408 [03:46<00:17,  1.73it/s]"
     ]
    },
    {
     "name": "stdout",
     "output_type": "stream",
     "text": [
      "Finetuned score: 0.0\n",
      "Original score: 0.06666666666666667\n"
     ]
    },
    {
     "name": "stderr",
     "output_type": "stream",
     "text": [
      "Python(92893) MallocStackLogging: can't turn off malloc stack logging because it was not enabled.\n",
      "Python(92894) MallocStackLogging: can't turn off malloc stack logging because it was not enabled.\n",
      "Processing MP3 files:  93%|█████████▎| 378/408 [03:46<00:16,  1.84it/s]"
     ]
    },
    {
     "name": "stdout",
     "output_type": "stream",
     "text": [
      "Finetuned score: 0.3333333333333333\n",
      "Original score: 0.6666666666666666\n"
     ]
    },
    {
     "name": "stderr",
     "output_type": "stream",
     "text": [
      "Python(92895) MallocStackLogging: can't turn off malloc stack logging because it was not enabled.\n",
      "Python(92896) MallocStackLogging: can't turn off malloc stack logging because it was not enabled.\n",
      "Processing MP3 files:  93%|█████████▎| 379/408 [03:47<00:15,  1.93it/s]"
     ]
    },
    {
     "name": "stdout",
     "output_type": "stream",
     "text": [
      "Finetuned score: 0.0\n",
      "Original score: 1.0\n"
     ]
    },
    {
     "name": "stderr",
     "output_type": "stream",
     "text": [
      "Python(92897) MallocStackLogging: can't turn off malloc stack logging because it was not enabled.\n",
      "Python(92898) MallocStackLogging: can't turn off malloc stack logging because it was not enabled.\n",
      "Processing MP3 files:  93%|█████████▎| 380/408 [03:47<00:15,  1.77it/s]"
     ]
    },
    {
     "name": "stdout",
     "output_type": "stream",
     "text": [
      "Finetuned score: 0.07142857142857142\n",
      "Original score: 0.07142857142857142\n"
     ]
    },
    {
     "name": "stderr",
     "output_type": "stream",
     "text": [
      "Python(92899) MallocStackLogging: can't turn off malloc stack logging because it was not enabled.\n",
      "Python(92900) MallocStackLogging: can't turn off malloc stack logging because it was not enabled.\n",
      "Processing MP3 files:  93%|█████████▎| 381/408 [03:48<00:14,  1.84it/s]"
     ]
    },
    {
     "name": "stdout",
     "output_type": "stream",
     "text": [
      "Finetuned score: 0.0\n",
      "Original score: 0.0\n"
     ]
    },
    {
     "name": "stderr",
     "output_type": "stream",
     "text": [
      "Python(92902) MallocStackLogging: can't turn off malloc stack logging because it was not enabled.\n",
      "Python(92905) MallocStackLogging: can't turn off malloc stack logging because it was not enabled.\n",
      "Processing MP3 files:  94%|█████████▎| 382/408 [03:49<00:14,  1.80it/s]"
     ]
    },
    {
     "name": "stdout",
     "output_type": "stream",
     "text": [
      "Finetuned score: 0.0\n",
      "Original score: 0.2727272727272727\n"
     ]
    },
    {
     "name": "stderr",
     "output_type": "stream",
     "text": [
      "Python(92906) MallocStackLogging: can't turn off malloc stack logging because it was not enabled.\n",
      "Python(92907) MallocStackLogging: can't turn off malloc stack logging because it was not enabled.\n",
      "Processing MP3 files:  94%|█████████▍| 383/408 [03:49<00:13,  1.84it/s]"
     ]
    },
    {
     "name": "stdout",
     "output_type": "stream",
     "text": [
      "Finetuned score: 0.0\n",
      "Original score: 0.0\n"
     ]
    },
    {
     "name": "stderr",
     "output_type": "stream",
     "text": [
      "Python(92908) MallocStackLogging: can't turn off malloc stack logging because it was not enabled.\n",
      "Python(92909) MallocStackLogging: can't turn off malloc stack logging because it was not enabled.\n",
      "Processing MP3 files:  94%|█████████▍| 384/408 [03:50<00:12,  1.89it/s]"
     ]
    },
    {
     "name": "stdout",
     "output_type": "stream",
     "text": [
      "Finetuned score: 0.0\n",
      "Original score: 0.0\n"
     ]
    },
    {
     "name": "stderr",
     "output_type": "stream",
     "text": [
      "Python(92910) MallocStackLogging: can't turn off malloc stack logging because it was not enabled.\n",
      "Python(92911) MallocStackLogging: can't turn off malloc stack logging because it was not enabled.\n",
      "Processing MP3 files:  94%|█████████▍| 385/408 [03:50<00:12,  1.86it/s]"
     ]
    },
    {
     "name": "stdout",
     "output_type": "stream",
     "text": [
      "Finetuned score: 0.1111111111111111\n",
      "Original score: 0.1111111111111111\n"
     ]
    },
    {
     "name": "stderr",
     "output_type": "stream",
     "text": [
      "Python(92912) MallocStackLogging: can't turn off malloc stack logging because it was not enabled.\n",
      "Python(92913) MallocStackLogging: can't turn off malloc stack logging because it was not enabled.\n",
      "Processing MP3 files:  95%|█████████▍| 386/408 [03:51<00:11,  1.93it/s]"
     ]
    },
    {
     "name": "stdout",
     "output_type": "stream",
     "text": [
      "Finetuned score: 0.125\n",
      "Original score: 0.5\n"
     ]
    },
    {
     "name": "stderr",
     "output_type": "stream",
     "text": [
      "Python(92914) MallocStackLogging: can't turn off malloc stack logging because it was not enabled.\n",
      "Python(92915) MallocStackLogging: can't turn off malloc stack logging because it was not enabled.\n",
      "Processing MP3 files:  95%|█████████▍| 387/408 [03:51<00:09,  2.10it/s]"
     ]
    },
    {
     "name": "stdout",
     "output_type": "stream",
     "text": [
      "Finetuned score: 0.0\n",
      "Original score: 0.25\n"
     ]
    },
    {
     "name": "stderr",
     "output_type": "stream",
     "text": [
      "Python(92916) MallocStackLogging: can't turn off malloc stack logging because it was not enabled.\n",
      "Python(92917) MallocStackLogging: can't turn off malloc stack logging because it was not enabled.\n",
      "Processing MP3 files:  95%|█████████▌| 388/408 [03:51<00:09,  2.22it/s]"
     ]
    },
    {
     "name": "stdout",
     "output_type": "stream",
     "text": [
      "Finetuned score: 0.0\n",
      "Original score: 0.75\n"
     ]
    },
    {
     "name": "stderr",
     "output_type": "stream",
     "text": [
      "Python(92918) MallocStackLogging: can't turn off malloc stack logging because it was not enabled.\n",
      "Python(92919) MallocStackLogging: can't turn off malloc stack logging because it was not enabled.\n",
      "Processing MP3 files:  95%|█████████▌| 389/408 [03:52<00:08,  2.27it/s]"
     ]
    },
    {
     "name": "stdout",
     "output_type": "stream",
     "text": [
      "Finetuned score: 0.14285714285714285\n",
      "Original score: 0.0\n"
     ]
    },
    {
     "name": "stderr",
     "output_type": "stream",
     "text": [
      "Python(92920) MallocStackLogging: can't turn off malloc stack logging because it was not enabled.\n",
      "Python(92921) MallocStackLogging: can't turn off malloc stack logging because it was not enabled.\n",
      "Processing MP3 files:  96%|█████████▌| 390/408 [03:52<00:09,  2.00it/s]"
     ]
    },
    {
     "name": "stdout",
     "output_type": "stream",
     "text": [
      "Finetuned score: 0.21428571428571427\n",
      "Original score: 0.21428571428571427\n"
     ]
    },
    {
     "name": "stderr",
     "output_type": "stream",
     "text": [
      "Python(92922) MallocStackLogging: can't turn off malloc stack logging because it was not enabled.\n",
      "Python(92923) MallocStackLogging: can't turn off malloc stack logging because it was not enabled.\n",
      "Processing MP3 files:  96%|█████████▌| 391/408 [03:53<00:08,  1.98it/s]"
     ]
    },
    {
     "name": "stdout",
     "output_type": "stream",
     "text": [
      "Finetuned score: 0.2\n",
      "Original score: 0.4\n"
     ]
    },
    {
     "name": "stderr",
     "output_type": "stream",
     "text": [
      "Python(92924) MallocStackLogging: can't turn off malloc stack logging because it was not enabled.\n",
      "Python(92925) MallocStackLogging: can't turn off malloc stack logging because it was not enabled.\n",
      "Processing MP3 files:  96%|█████████▌| 392/408 [03:54<00:08,  1.83it/s]"
     ]
    },
    {
     "name": "stdout",
     "output_type": "stream",
     "text": [
      "Finetuned score: 0.1111111111111111\n",
      "Original score: 0.1111111111111111\n"
     ]
    },
    {
     "name": "stderr",
     "output_type": "stream",
     "text": [
      "Python(92926) MallocStackLogging: can't turn off malloc stack logging because it was not enabled.\n",
      "Python(92927) MallocStackLogging: can't turn off malloc stack logging because it was not enabled.\n",
      "Processing MP3 files:  96%|█████████▋| 393/408 [03:54<00:07,  1.99it/s]"
     ]
    },
    {
     "name": "stdout",
     "output_type": "stream",
     "text": [
      "Finetuned score: 0.0\n",
      "Original score: 0.0\n"
     ]
    },
    {
     "name": "stderr",
     "output_type": "stream",
     "text": [
      "Python(92928) MallocStackLogging: can't turn off malloc stack logging because it was not enabled.\n",
      "Python(92929) MallocStackLogging: can't turn off malloc stack logging because it was not enabled.\n",
      "Processing MP3 files:  97%|█████████▋| 394/408 [03:55<00:07,  1.81it/s]"
     ]
    },
    {
     "name": "stdout",
     "output_type": "stream",
     "text": [
      "Finetuned score: 0.2727272727272727\n",
      "Original score: 0.2727272727272727\n"
     ]
    },
    {
     "name": "stderr",
     "output_type": "stream",
     "text": [
      "Python(92930) MallocStackLogging: can't turn off malloc stack logging because it was not enabled.\n",
      "Python(92931) MallocStackLogging: can't turn off malloc stack logging because it was not enabled.\n",
      "Processing MP3 files:  97%|█████████▋| 395/408 [03:55<00:07,  1.79it/s]"
     ]
    },
    {
     "name": "stdout",
     "output_type": "stream",
     "text": [
      "Finetuned score: 0.0\n",
      "Original score: 0.25\n"
     ]
    },
    {
     "name": "stderr",
     "output_type": "stream",
     "text": [
      "Python(92932) MallocStackLogging: can't turn off malloc stack logging because it was not enabled.\n",
      "Python(92933) MallocStackLogging: can't turn off malloc stack logging because it was not enabled.\n",
      "Processing MP3 files:  97%|█████████▋| 396/408 [03:56<00:06,  1.78it/s]"
     ]
    },
    {
     "name": "stdout",
     "output_type": "stream",
     "text": [
      "Finetuned score: 0.2727272727272727\n",
      "Original score: 0.2727272727272727\n"
     ]
    },
    {
     "name": "stderr",
     "output_type": "stream",
     "text": [
      "Python(92934) MallocStackLogging: can't turn off malloc stack logging because it was not enabled.\n",
      "Python(92935) MallocStackLogging: can't turn off malloc stack logging because it was not enabled.\n",
      "Processing MP3 files:  97%|█████████▋| 397/408 [03:56<00:05,  1.88it/s]"
     ]
    },
    {
     "name": "stdout",
     "output_type": "stream",
     "text": [
      "Finetuned score: 0.0\n",
      "Original score: 0.0\n"
     ]
    },
    {
     "name": "stderr",
     "output_type": "stream",
     "text": [
      "Python(92936) MallocStackLogging: can't turn off malloc stack logging because it was not enabled.\n",
      "Python(92937) MallocStackLogging: can't turn off malloc stack logging because it was not enabled.\n",
      "Processing MP3 files:  98%|█████████▊| 398/408 [03:57<00:05,  1.94it/s]"
     ]
    },
    {
     "name": "stdout",
     "output_type": "stream",
     "text": [
      "Finetuned score: 0.0\n",
      "Original score: 0.25\n"
     ]
    },
    {
     "name": "stderr",
     "output_type": "stream",
     "text": [
      "Python(92938) MallocStackLogging: can't turn off malloc stack logging because it was not enabled.\n",
      "Python(92939) MallocStackLogging: can't turn off malloc stack logging because it was not enabled.\n",
      "Processing MP3 files:  98%|█████████▊| 399/408 [03:57<00:04,  1.99it/s]"
     ]
    },
    {
     "name": "stdout",
     "output_type": "stream",
     "text": [
      "Finetuned score: 0.14285714285714285\n",
      "Original score: 0.14285714285714285\n"
     ]
    },
    {
     "name": "stderr",
     "output_type": "stream",
     "text": [
      "Python(92940) MallocStackLogging: can't turn off malloc stack logging because it was not enabled.\n",
      "Python(92941) MallocStackLogging: can't turn off malloc stack logging because it was not enabled.\n",
      "Processing MP3 files:  98%|█████████▊| 400/408 [03:58<00:04,  1.84it/s]"
     ]
    },
    {
     "name": "stdout",
     "output_type": "stream",
     "text": [
      "Finetuned score: 0.1\n",
      "Original score: 0.4\n"
     ]
    },
    {
     "name": "stderr",
     "output_type": "stream",
     "text": [
      "Python(92942) MallocStackLogging: can't turn off malloc stack logging because it was not enabled.\n",
      "Python(92943) MallocStackLogging: can't turn off malloc stack logging because it was not enabled.\n",
      "Processing MP3 files:  98%|█████████▊| 401/408 [03:59<00:04,  1.57it/s]"
     ]
    },
    {
     "name": "stdout",
     "output_type": "stream",
     "text": [
      "Finetuned score: 0.1111111111111111\n",
      "Original score: 0.1111111111111111\n"
     ]
    },
    {
     "name": "stderr",
     "output_type": "stream",
     "text": [
      "Python(92944) MallocStackLogging: can't turn off malloc stack logging because it was not enabled.\n",
      "Python(92945) MallocStackLogging: can't turn off malloc stack logging because it was not enabled.\n",
      "Processing MP3 files:  99%|█████████▊| 402/408 [03:59<00:03,  1.70it/s]"
     ]
    },
    {
     "name": "stdout",
     "output_type": "stream",
     "text": [
      "Finetuned score: 0.6\n",
      "Original score: 0.6\n"
     ]
    },
    {
     "name": "stderr",
     "output_type": "stream",
     "text": [
      "Python(92946) MallocStackLogging: can't turn off malloc stack logging because it was not enabled.\n",
      "Python(92947) MallocStackLogging: can't turn off malloc stack logging because it was not enabled.\n",
      "Processing MP3 files:  99%|█████████▉| 403/408 [04:00<00:03,  1.61it/s]"
     ]
    },
    {
     "name": "stdout",
     "output_type": "stream",
     "text": [
      "Finetuned score: 0.2\n",
      "Original score: 0.2\n"
     ]
    },
    {
     "name": "stderr",
     "output_type": "stream",
     "text": [
      "Python(92948) MallocStackLogging: can't turn off malloc stack logging because it was not enabled.\n",
      "Python(92949) MallocStackLogging: can't turn off malloc stack logging because it was not enabled.\n",
      "Processing MP3 files:  99%|█████████▉| 404/408 [04:00<00:02,  1.59it/s]"
     ]
    },
    {
     "name": "stdout",
     "output_type": "stream",
     "text": [
      "Finetuned score: 0.0\n",
      "Original score: 0.07692307692307693\n"
     ]
    },
    {
     "name": "stderr",
     "output_type": "stream",
     "text": [
      "Python(92950) MallocStackLogging: can't turn off malloc stack logging because it was not enabled.\n",
      "Python(92951) MallocStackLogging: can't turn off malloc stack logging because it was not enabled.\n",
      "Processing MP3 files:  99%|█████████▉| 405/408 [04:01<00:01,  1.55it/s]"
     ]
    },
    {
     "name": "stdout",
     "output_type": "stream",
     "text": [
      "Finetuned score: 0.0\n",
      "Original score: 0.375\n"
     ]
    },
    {
     "name": "stderr",
     "output_type": "stream",
     "text": [
      "Python(92952) MallocStackLogging: can't turn off malloc stack logging because it was not enabled.\n",
      "Python(92953) MallocStackLogging: can't turn off malloc stack logging because it was not enabled.\n",
      "Processing MP3 files: 100%|█████████▉| 406/408 [04:02<00:01,  1.68it/s]"
     ]
    },
    {
     "name": "stdout",
     "output_type": "stream",
     "text": [
      "Finetuned score: 0.0\n",
      "Original score: 0.75\n"
     ]
    },
    {
     "name": "stderr",
     "output_type": "stream",
     "text": [
      "Python(92954) MallocStackLogging: can't turn off malloc stack logging because it was not enabled.\n",
      "Python(92955) MallocStackLogging: can't turn off malloc stack logging because it was not enabled.\n",
      "Processing MP3 files: 100%|█████████▉| 407/408 [04:02<00:00,  1.73it/s]"
     ]
    },
    {
     "name": "stdout",
     "output_type": "stream",
     "text": [
      "Finetuned score: 0.0\n",
      "Original score: 0.26666666666666666\n"
     ]
    },
    {
     "name": "stderr",
     "output_type": "stream",
     "text": [
      "Python(92956) MallocStackLogging: can't turn off malloc stack logging because it was not enabled.\n",
      "Python(92957) MallocStackLogging: can't turn off malloc stack logging because it was not enabled.\n",
      "Processing MP3 files: 100%|██████████| 408/408 [04:03<00:00,  1.68it/s]"
     ]
    },
    {
     "name": "stdout",
     "output_type": "stream",
     "text": [
      "Finetuned score: 0.0\n",
      "Original score: 0.25\n"
     ]
    },
    {
     "name": "stderr",
     "output_type": "stream",
     "text": [
      "\n"
     ]
    }
   ],
   "source": [
    "cv_valid_dev_directory = '/Users/allen/Documents/Wav2vec_Project/asr/common_voice/cv-valid-dev/cv-valid-dev'\n",
    "cv_valid_dev_csv = '/Users/allen/Documents/Wav2vec_Project/asr/common_voice/cv-valid-dev.csv'\n",
    "finetuned_model = AutoModelForCTC.from_pretrained(\"./wav2vec2-large-960h-cv-backup\")\n",
    "original_model = model\n",
    "cv_valid_dev_df = pd.read_csv(cv_valid_dev_csv)\n",
    "cv_valid_dev_df = cv_valid_dev_df.sample(frac=0.1, random_state=42)\n",
    "ground_truth = {row['filename']: row['text'] for _, row in cv_valid_dev_df.iterrows()}\n",
    "mp3_files = [f for f in os.listdir(cv_valid_dev_directory) if f.endswith('.mp3')]\n",
    "wer_scores_finetuned = []\n",
    "wer_scores_original = []\n",
    "\n",
    "# print (cv_valid_test_df)\n",
    "# print (ground_truth)\n",
    "\n",
    "for filepath in tqdm(cv_valid_dev_df['filename'], desc=\"Processing MP3 files\"):\n",
    "    # print (filepath)\n",
    "    # Load the MP3 file using pydub\n",
    "    mp3_path = '/Users/allen/Documents/Wav2vec_Project/asr/common_voice/cv-valid-dev/'+filepath\n",
    "    # print (mp3_path)\n",
    "    audio = AudioSegment.from_mp3(mp3_path)\n",
    "    \n",
    "    audio = audio.set_frame_rate(16000).set_channels(1)\n",
    "\n",
    "    # print(\"Audio converted\")\n",
    "    \n",
    "    # Load audio data from file into a format compatible with datasets\n",
    "    audio_data = np.array(audio.get_array_of_samples(), dtype=np.float32)  # Ensure float32 type\n",
    "\n",
    "    # Create a dataset from the audio data\n",
    "    ds = Dataset.from_dict({\n",
    "        \"audio\": [{\"array\": audio_data, \"sampling_rate\": 16000}]\n",
    "    })\n",
    "\n",
    "    # Tokenize input\n",
    "    input_values = processor(ds[0][\"audio\"][\"array\"], return_tensors=\"pt\", padding=\"longest\", sampling_rate=16000).input_values  # Batch size 1\n",
    "    \n",
    "    # Make the prediction\n",
    "    with torch.no_grad():\n",
    "        logits_finetuned = finetuned_model(input_values).logits\n",
    "        logits_original = original_model(input_values).logits\n",
    "    \n",
    "    # Decode the logits to text\n",
    "    predicted_ids_finetuned = torch.argmax(logits_finetuned, dim=-1)\n",
    "    transcription_finetuned = processor.decode(predicted_ids_finetuned[0])\n",
    "    predicted_ids_original = torch.argmax(logits_original, dim=-1)\n",
    "    transcription_original = processor.decode(predicted_ids_original[0])\n",
    "    # print (transcription)\n",
    "    \n",
    "    # Retrieve the ground truth transcription\n",
    "    ground_truth_text = ground_truth.get(filepath, None)\n",
    "    # print (ground_truth_text)\n",
    "    \n",
    "    # Calculate WER if ground truth is available\n",
    "    if ground_truth_text:\n",
    "        score_finetuned = wer(str(ground_truth_text).lower(), str(transcription_finetuned).lower())\n",
    "        print (\"Finetuned score:\", score_finetuned)\n",
    "        wer_scores_finetuned.append(score_finetuned)\n",
    "        score_original = wer(str(ground_truth_text).lower(), str(transcription_original).lower())\n",
    "        print (\"Original score:\", score_original)\n",
    "        wer_scores_original.append(score_original)\n",
    "\n",
    "# Calculate the average WER\n",
    "average_wer_finetuned = sum(wer_scores_finetuned) / len(wer_scores_finetuned) if wer_scores_finetuned else 0\n",
    "average_wer_original = sum(wer_scores_original) / len(wer_scores_original) if wer_scores_original else 0\n",
    "\n",
    "# # Print the average WER\n",
    "# print(f\"Average WER: {average_wer:.4f}\")"
   ]
  },
  {
   "cell_type": "code",
   "execution_count": 42,
   "metadata": {},
   "outputs": [
    {
     "name": "stdout",
     "output_type": "stream",
     "text": [
      "Average Finetuned WER: 0.1580\n",
      "Average Original WER: 0.2913\n"
     ]
    }
   ],
   "source": [
    "# Print the average WER\n",
    "print(f\"Average Finetuned WER: {average_wer_finetuned:.4f}\")\n",
    "print(f\"Average Original WER: {average_wer_original:.4f}\")"
   ]
  }
 ],
 "metadata": {
  "kernelspec": {
   "display_name": ".venv",
   "language": "python",
   "name": "python3"
  },
  "language_info": {
   "codemirror_mode": {
    "name": "ipython",
    "version": 3
   },
   "file_extension": ".py",
   "mimetype": "text/x-python",
   "name": "python",
   "nbconvert_exporter": "python",
   "pygments_lexer": "ipython3",
   "version": "3.9.6"
  }
 },
 "nbformat": 4,
 "nbformat_minor": 2
}
