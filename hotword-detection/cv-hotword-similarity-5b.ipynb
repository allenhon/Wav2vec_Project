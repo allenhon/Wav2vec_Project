{
 "cells": [
  {
   "cell_type": "code",
   "execution_count": 1,
   "metadata": {},
   "outputs": [
    {
     "name": "stderr",
     "output_type": "stream",
     "text": [
      "/Users/allen/Documents/Wav2vec_Project/.venv/lib/python3.9/site-packages/urllib3/__init__.py:35: NotOpenSSLWarning: urllib3 v2 only supports OpenSSL 1.1.1+, currently the 'ssl' module is compiled with 'LibreSSL 2.8.3'. See: https://github.com/urllib3/urllib3/issues/3020\n",
      "  warnings.warn(\n",
      "/Users/allen/Documents/Wav2vec_Project/.venv/lib/python3.9/site-packages/tqdm/auto.py:21: TqdmWarning: IProgress not found. Please update jupyter and ipywidgets. See https://ipywidgets.readthedocs.io/en/stable/user_install.html\n",
      "  from .autonotebook import tqdm as notebook_tqdm\n"
     ]
    },
    {
     "name": "stdout",
     "output_type": "stream",
     "text": [
      "load INSTRUCTOR_Transformer\n",
      "max_seq_length  512\n"
     ]
    },
    {
     "name": "stderr",
     "output_type": "stream",
     "text": [
      "/Users/allen/Documents/Wav2vec_Project/.venv/lib/python3.9/site-packages/sentence_transformers/models/Dense.py:63: FutureWarning: You are using `torch.load` with `weights_only=False` (the current default value), which uses the default pickle module implicitly. It is possible to construct malicious pickle data which will execute arbitrary code during unpickling (See https://github.com/pytorch/pytorch/blob/main/SECURITY.md#untrusted-models for more details). In a future release, the default value for `weights_only` will be flipped to `True`. This limits the functions that could be executed during unpickling. Arbitrary objects will no longer be allowed to be loaded via this mode unless they are explicitly allowlisted by the user via `torch.serialization.add_safe_globals`. We recommend you start setting `weights_only=True` for any use case where you don't have full control of the loaded file. Please open an issue on GitHub for any issues related to this experimental feature.\n",
      "  model.load_state_dict(torch.load(os.path.join(input_path, 'pytorch_model.bin'), map_location=torch.device('cpu')))\n",
      "Computing Similarity: 100%|██████████| 4076/4076 [05:07<00:00, 13.24it/s]"
     ]
    },
    {
     "name": "stdout",
     "output_type": "stream",
     "text": [
      "                            filename  \\\n",
      "0     cv-valid-dev/sample-000000.mp3   \n",
      "1     cv-valid-dev/sample-000001.mp3   \n",
      "2     cv-valid-dev/sample-000002.mp3   \n",
      "3     cv-valid-dev/sample-000003.mp3   \n",
      "4     cv-valid-dev/sample-000004.mp3   \n",
      "...                              ...   \n",
      "4071  cv-valid-dev/sample-004071.mp3   \n",
      "4072  cv-valid-dev/sample-004072.mp3   \n",
      "4073  cv-valid-dev/sample-004073.mp3   \n",
      "4074  cv-valid-dev/sample-004074.mp3   \n",
      "4075  cv-valid-dev/sample-004075.mp3   \n",
      "\n",
      "                                                   text  up_votes  down_votes  \\\n",
      "0     be careful with your prognostications said the...         1           0   \n",
      "1     then why should they be surprised when they se...         2           0   \n",
      "2     a young arab also loaded down with baggage ent...         2           0   \n",
      "3     i thought that everything i owned would be des...         3           0   \n",
      "4     he moved about invisible but everyone could he...         1           0   \n",
      "...                                                 ...       ...         ...   \n",
      "4071        but they could never have taught him arabic         2           1   \n",
      "4072  he decided to concentrate on more practical ma...         1           0   \n",
      "4073                that's what i'm not supposed to say         2           0   \n",
      "4074            just handling them made him feel better         3           0   \n",
      "4075                           the city sealer's office         1           0   \n",
      "\n",
      "           age  gender   accent  duration  similarity     score  \n",
      "0          NaN     NaN      NaN       NaN        True  0.853811  \n",
      "1          NaN     NaN      NaN       NaN        True  0.799591  \n",
      "2          NaN     NaN      NaN       NaN        True  0.807004  \n",
      "3          NaN     NaN      NaN       NaN        True  0.825755  \n",
      "4     fourties  female  england       NaN        True  0.788937  \n",
      "...        ...     ...      ...       ...         ...       ...  \n",
      "4071       NaN     NaN      NaN       NaN        True  0.762322  \n",
      "4072       NaN     NaN      NaN       NaN        True  0.792228  \n",
      "4073  thirties    male       us       NaN        True  0.826053  \n",
      "4074       NaN     NaN      NaN       NaN        True  0.797175  \n",
      "4075       NaN     NaN      NaN       NaN        True  0.801451  \n",
      "\n",
      "[4076 rows x 10 columns]\n"
     ]
    },
    {
     "name": "stderr",
     "output_type": "stream",
     "text": [
      "\n"
     ]
    }
   ],
   "source": [
    "# Import necessary libraries\n",
    "import pandas as pd\n",
    "from transformers import AutoTokenizer, AutoModel\n",
    "import torch\n",
    "from sklearn.metrics.pairwise import cosine_similarity\n",
    "from InstructorEmbedding import INSTRUCTOR\n",
    "import numpy as np\n",
    "from tqdm import tqdm\n",
    "\n",
    "\n",
    "hot_words = [\"be careful\", \"destroy\", \"stranger\"]  \n",
    "\n",
    "cv_valid_dev_csv = '/Users/allen/Documents/Wav2vec_Project/asr/common_voice/cv-valid-dev.csv'\n",
    "cv_valid_dev_df = pd.read_csv(cv_valid_dev_csv)\n",
    "# print (cv_valid_dev_df)\n",
    "model = INSTRUCTOR(\"hkunlp/instructor-large\")\n",
    "embedding_hot_word=model.encode(hot_words)\n",
    "\n",
    "# embedding_sentence=model.encode([cv_valid_dev_df['text'][0]])\n",
    "# similarities = cosine_similarity(embedding_hot_word,embedding_sentence)\n",
    "# print(similarities)\n",
    "\n",
    "similarity_threshold=0.5\n",
    "similarity_column=[]\n",
    "score_column=[]\n",
    "\n",
    "for sentence in tqdm(cv_valid_dev_df['text'],desc=\"Computing Similarity\"):\n",
    "    # print (sentence)\n",
    "    embedding_sentence=model.encode([sentence])\n",
    "    similarities = cosine_similarity(embedding_hot_word,embedding_sentence)\n",
    "    average = np.mean([x[0] for x in similarities])\n",
    "    score_column.append(average)\n",
    "    if average > similarity_threshold:\n",
    "        similarity_column.append(True)\n",
    "    else:\n",
    "        similarity_column.append(False)\n",
    "\n",
    "cv_valid_dev_df['similarity'] = similarity_column\n",
    "cv_valid_dev_df['score'] = score_column\n",
    "print(cv_valid_dev_df)"
   ]
  },
  {
   "cell_type": "code",
   "execution_count": 2,
   "metadata": {},
   "outputs": [],
   "source": [
    "## Save CSV\n",
    "cv_valid_dev_df.to_csv('cv-valid-dev-similarity.csv', index=False)"
   ]
  },
  {
   "cell_type": "code",
   "execution_count": null,
   "metadata": {},
   "outputs": [],
   "source": []
  }
 ],
 "metadata": {
  "kernelspec": {
   "display_name": ".venv",
   "language": "python",
   "name": "python3"
  },
  "language_info": {
   "codemirror_mode": {
    "name": "ipython",
    "version": 3
   },
   "file_extension": ".py",
   "mimetype": "text/x-python",
   "name": "python",
   "nbconvert_exporter": "python",
   "pygments_lexer": "ipython3",
   "version": "3.9.6"
  }
 },
 "nbformat": 4,
 "nbformat_minor": 2
}
